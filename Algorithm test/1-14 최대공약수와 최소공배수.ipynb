{
 "cells": [
  {
   "cell_type": "markdown",
   "metadata": {},
   "source": [
    "### 내 풀이 (실패)\n",
    "일부분은 성공이지만, 정확도가 너무 떨어져서 코딩테스트를 통과 못함"
   ]
  },
  {
   "cell_type": "markdown",
   "metadata": {},
   "source": [
    "#### 최대공약수와 최소공배수의 순서 고려 X"
   ]
  },
  {
   "cell_type": "code",
   "execution_count": 4,
   "metadata": {},
   "outputs": [
    {
     "data": {
      "text/plain": [
       "[1, 10]"
      ]
     },
     "execution_count": 4,
     "metadata": {},
     "output_type": "execute_result"
    }
   ],
   "source": [
    "def solution(n, m):\n",
    "    answer = []\n",
    "    if m % n == 0:\n",
    "        answer.append(n)\n",
    "        answer.append(m)\n",
    "    else:\n",
    "        answer.append(1)\n",
    "        answer.append(n*m)\n",
    "    return answer\n",
    "\n",
    "solution(3,12)\n",
    "solution(2,5)"
   ]
  },
  {
   "cell_type": "code",
   "execution_count": 5,
   "metadata": {},
   "outputs": [
    {
     "data": {
      "text/plain": [
       "[1, 36]"
      ]
     },
     "execution_count": 5,
     "metadata": {},
     "output_type": "execute_result"
    }
   ],
   "source": [
    "solution(12,3)"
   ]
  },
  {
   "cell_type": "markdown",
   "metadata": {},
   "source": [
    "#### 최대공약수와 최소공배수의 순서 고려함"
   ]
  },
  {
   "cell_type": "code",
   "execution_count": 7,
   "metadata": {},
   "outputs": [
    {
     "data": {
      "text/plain": [
       "[3, 12]"
      ]
     },
     "execution_count": 7,
     "metadata": {},
     "output_type": "execute_result"
    }
   ],
   "source": [
    "def solution(n, m):\n",
    "    answer = []\n",
    "    if m % n == 0:\n",
    "        answer.append(n)\n",
    "        answer.append(m)\n",
    "    elif n % m == 0:\n",
    "        answer.append(m)\n",
    "        answer.append(n)\n",
    "    else:\n",
    "        answer.append(1)\n",
    "        answer.append(n*m)\n",
    "    return answer\n",
    "\n",
    "solution(12,3)"
   ]
  },
  {
   "cell_type": "code",
   "execution_count": 11,
   "metadata": {},
   "outputs": [
    {
     "data": {
      "text/plain": [
       "[10, 100]"
      ]
     },
     "execution_count": 11,
     "metadata": {},
     "output_type": "execute_result"
    }
   ],
   "source": [
    "solution(10,100)"
   ]
  },
  {
   "cell_type": "markdown",
   "metadata": {},
   "source": [
    "### 다른 사람 풀이"
   ]
  },
  {
   "cell_type": "code",
   "execution_count": 12,
   "metadata": {},
   "outputs": [
    {
     "data": {
      "text/plain": [
       "[3, 12]"
      ]
     },
     "execution_count": 12,
     "metadata": {},
     "output_type": "execute_result"
    }
   ],
   "source": [
    "def solution(a, b):\n",
    "    c, d = max(a, b), min(a, b)\n",
    "    t = 1\n",
    "    while t > 0:\n",
    "        t = c % d\n",
    "        c, d = d, t\n",
    "    answer = [c, int(a*b/c)]\n",
    "\n",
    "    return answer\n",
    "\n",
    "solution(3,12)"
   ]
  },
  {
   "cell_type": "markdown",
   "metadata": {},
   "source": [
    "#### 최대공약수와 최소공배수를 따로 구하기"
   ]
  },
  {
   "cell_type": "code",
   "execution_count": 13,
   "metadata": {},
   "outputs": [
    {
     "data": {
      "text/plain": [
       "[3, 12]"
      ]
     },
     "execution_count": 13,
     "metadata": {},
     "output_type": "execute_result"
    }
   ],
   "source": [
    "def gcd(a, b): # 최대 공약수\n",
    "    return b if a % b == 0 else gcd(b, a % b)\n",
    "\n",
    "def lcm(a, b): # 최소 공배수\n",
    "    return int(a * b / gcd(a, b))\n",
    "\n",
    "\n",
    "def gcdlcm(a, b):\n",
    "    answer = [gcd(a,b), lcm(a,b)]\n",
    "\n",
    "    return answer\n",
    "\n",
    "gcdlcm(3,12)"
   ]
  },
  {
   "cell_type": "code",
   "execution_count": 14,
   "metadata": {},
   "outputs": [
    {
     "data": {
      "text/plain": [
       "[3, 12]"
      ]
     },
     "execution_count": 14,
     "metadata": {},
     "output_type": "execute_result"
    }
   ],
   "source": [
    "def gcd(a, b): # 최대 공약수\n",
    "    if a % b == 0:\n",
    "        return b\n",
    "    else:\n",
    "        return gcd(b, a % b)\n",
    "\n",
    "def lcm(a, b): # 최소 공배수\n",
    "    return int(a * b / gcd(a, b))\n",
    "\n",
    "\n",
    "def gcdlcm(a, b):\n",
    "    answer = [gcd(a,b), lcm(a,b)]\n",
    "\n",
    "    return answer\n",
    "\n",
    "gcdlcm(3,12)"
   ]
  },
  {
   "cell_type": "code",
   "execution_count": null,
   "metadata": {},
   "outputs": [],
   "source": []
  }
 ],
 "metadata": {
  "kernelspec": {
   "display_name": "Python 3",
   "language": "python",
   "name": "python3"
  },
  "language_info": {
   "codemirror_mode": {
    "name": "ipython",
    "version": 3
   },
   "file_extension": ".py",
   "mimetype": "text/x-python",
   "name": "python",
   "nbconvert_exporter": "python",
   "pygments_lexer": "ipython3",
   "version": "3.8.3"
  }
 },
 "nbformat": 4,
 "nbformat_minor": 4
}
