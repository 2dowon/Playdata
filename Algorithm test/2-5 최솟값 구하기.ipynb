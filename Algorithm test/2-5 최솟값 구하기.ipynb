{
 "cells": [
  {
   "cell_type": "markdown",
   "metadata": {},
   "source": [
    "## 내 풀이"
   ]
  },
  {
   "cell_type": "markdown",
   "metadata": {},
   "source": [
    "### 정확도는 좋은데, 효율성이 떨어짐"
   ]
  },
  {
   "cell_type": "code",
   "execution_count": 5,
   "metadata": {},
   "outputs": [
    {
     "data": {
      "text/plain": [
       "29"
      ]
     },
     "execution_count": 5,
     "metadata": {},
     "output_type": "execute_result"
    }
   ],
   "source": [
    "def solution(A,B):\n",
    "    answer = 0\n",
    "    answer_list = []\n",
    "    \n",
    "    for i in range(len(A)):\n",
    "        answer_list.append(min(A) * max(B))\n",
    "        A.remove(min(A))\n",
    "        B.remove(max(B))\n",
    "    \n",
    "    answer = sum(answer_list)\n",
    "    \n",
    "    return answer\n",
    "\n",
    "A = [1, 4, 2]\n",
    "B = [5, 4, 4]\n",
    "solution(A,B)"
   ]
  },
  {
   "cell_type": "markdown",
   "metadata": {},
   "source": [
    "### remove를 사용하지 않아서 효율성을 높인 풀이"
   ]
  },
  {
   "cell_type": "code",
   "execution_count": 13,
   "metadata": {},
   "outputs": [
    {
     "data": {
      "text/plain": [
       "29"
      ]
     },
     "execution_count": 13,
     "metadata": {},
     "output_type": "execute_result"
    }
   ],
   "source": [
    "def solution(A,B):\n",
    "    answer = 0\n",
    "    answer_list = []\n",
    "    A.sort()\n",
    "    B.sort(reverse=True)\n",
    "    \n",
    "    for i in range(len(A)):\n",
    "        answer_list.append(A[i] * B[i])\n",
    "    \n",
    "    answer = sum(answer_list)\n",
    "    \n",
    "    return answer\n",
    "\n",
    "A = [1, 4, 2]\n",
    "B = [5, 4, 4]\n",
    "solution(A,B)"
   ]
  },
  {
   "cell_type": "markdown",
   "metadata": {},
   "source": [
    "## 다른 사람 풀이"
   ]
  },
  {
   "cell_type": "code",
   "execution_count": 16,
   "metadata": {},
   "outputs": [
    {
     "data": {
      "text/plain": [
       "29"
      ]
     },
     "execution_count": 16,
     "metadata": {},
     "output_type": "execute_result"
    }
   ],
   "source": [
    "def solution(A,B):\n",
    "    return sum(a*b for a, b in zip(sorted(A), sorted(B, reverse = True)))\n",
    "\n",
    "solution([1, 4, 2],[5, 4, 4])"
   ]
  },
  {
   "cell_type": "code",
   "execution_count": null,
   "metadata": {},
   "outputs": [],
   "source": []
  }
 ],
 "metadata": {
  "kernelspec": {
   "display_name": "Python 3",
   "language": "python",
   "name": "python3"
  },
  "language_info": {
   "codemirror_mode": {
    "name": "ipython",
    "version": 3
   },
   "file_extension": ".py",
   "mimetype": "text/x-python",
   "name": "python",
   "nbconvert_exporter": "python",
   "pygments_lexer": "ipython3",
   "version": "3.8.3"
  }
 },
 "nbformat": 4,
 "nbformat_minor": 4
}
