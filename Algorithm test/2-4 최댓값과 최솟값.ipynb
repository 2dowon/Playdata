{
 "cells": [
  {
   "cell_type": "markdown",
   "metadata": {},
   "source": [
    "## 내 풀이"
   ]
  },
  {
   "cell_type": "markdown",
   "metadata": {},
   "source": [
    "### 처음 생각한 풀이 => 음수에서는 적용이 안됨"
   ]
  },
  {
   "cell_type": "code",
   "execution_count": 30,
   "metadata": {},
   "outputs": [
    {
     "data": {
      "text/plain": [
       "'1 4'"
      ]
     },
     "execution_count": 30,
     "metadata": {},
     "output_type": "execute_result"
    }
   ],
   "source": [
    "def solution(s):\n",
    "    answer_list = []\n",
    "\n",
    "    answer_list.append(min(s.split(\" \")))\n",
    "    answer_list.append(max(s.split(\" \")))\n",
    "  \n",
    "    answer = \" \".join(answer_list)\n",
    "    return answer\n",
    "\n",
    "s = \"1 2 3 4\"\n",
    "solution(s)"
   ]
  },
  {
   "cell_type": "markdown",
   "metadata": {},
   "source": [
    "### 음수 적용을 위해 조건문을 걸었으나 조건이 잘못됨 (리스트의 모든 요소가 음수일 때만 가능한 조건)"
   ]
  },
  {
   "cell_type": "code",
   "execution_count": 28,
   "metadata": {},
   "outputs": [
    {
     "data": {
      "text/plain": [
       "'-4 -1'"
      ]
     },
     "execution_count": 28,
     "metadata": {},
     "output_type": "execute_result"
    }
   ],
   "source": [
    "def solution(s):\n",
    "    answer_list = []\n",
    "\n",
    "    answer_list.append(int(min(s.split(\" \"))))\n",
    "    answer_list.append(int(max(s.split(\" \"))))\n",
    "    \n",
    "    if answer_list[-1] < 0:\n",
    "        answer_list.reverse()\n",
    "        \n",
    "    answer = \" \".join(map(str, answer_list))\n",
    "    return answer\n",
    "\n",
    "s = \"-1 -2 -3 -4\"\n",
    "solution(s)"
   ]
  },
  {
   "cell_type": "markdown",
   "metadata": {},
   "source": [
    "#### 즉, 아래처럼 음수랑 양수가 섞여있으면 안됨"
   ]
  },
  {
   "cell_type": "code",
   "execution_count": 33,
   "metadata": {},
   "outputs": [
    {
     "data": {
      "text/plain": [
       "'-1 100'"
      ]
     },
     "execution_count": 33,
     "metadata": {},
     "output_type": "execute_result"
    }
   ],
   "source": [
    "def solution(s):\n",
    "    answer_list = []\n",
    "\n",
    "    answer_list.append(int(min(s.split(\" \"))))\n",
    "    answer_list.append(int(max(s.split(\" \"))))\n",
    "    \n",
    "    if answer_list[-1] < 0:\n",
    "        answer_list.reverse()\n",
    "        \n",
    "    answer = \" \".join(map(str, answer_list))\n",
    "    return answer\n",
    "\n",
    "s = \"-1 0 10 100 -5\"\n",
    "solution(s)"
   ]
  },
  {
   "cell_type": "markdown",
   "metadata": {},
   "source": [
    "### 제대로 된 풀이"
   ]
  },
  {
   "cell_type": "code",
   "execution_count": 46,
   "metadata": {},
   "outputs": [
    {
     "data": {
      "text/plain": [
       "'-5 100'"
      ]
     },
     "execution_count": 46,
     "metadata": {},
     "output_type": "execute_result"
    }
   ],
   "source": [
    "def solution(s):\n",
    "    s_list = list(map(int, s.split(\" \")))\n",
    "    answer_list = []\n",
    "\n",
    "    answer_list.append(min(s_list))\n",
    "    answer_list.append(max(s_list))\n",
    "    \n",
    "    answer = \" \".join(map(str, answer_list))\n",
    "    return answer\n",
    "\n",
    "s = \"-1 0 10 100 -5\"\n",
    "solution(s)"
   ]
  },
  {
   "cell_type": "code",
   "execution_count": 41,
   "metadata": {},
   "outputs": [
    {
     "data": {
      "text/plain": [
       "-5"
      ]
     },
     "execution_count": 41,
     "metadata": {},
     "output_type": "execute_result"
    }
   ],
   "source": [
    "s = \"-1 0 10 100 -5\"\n",
    "\n",
    "s_list = list(map(int, s.split(\" \")))\n",
    "min(s_list)"
   ]
  },
  {
   "cell_type": "markdown",
   "metadata": {},
   "source": [
    "## 다른 사람 풀이"
   ]
  },
  {
   "cell_type": "code",
   "execution_count": 44,
   "metadata": {},
   "outputs": [
    {
     "data": {
      "text/plain": [
       "'-5 100'"
      ]
     },
     "execution_count": 44,
     "metadata": {},
     "output_type": "execute_result"
    }
   ],
   "source": [
    "def solution(s):\n",
    "    s = list(map(int,s.split()))\n",
    "    return str(min(s)) + \" \" + str(max(s))\n",
    "\n",
    "s = \"-1 0 10 100 -5\"\n",
    "solution(s)"
   ]
  },
  {
   "cell_type": "code",
   "execution_count": null,
   "metadata": {},
   "outputs": [],
   "source": []
  }
 ],
 "metadata": {
  "kernelspec": {
   "display_name": "Python 3",
   "language": "python",
   "name": "python3"
  },
  "language_info": {
   "codemirror_mode": {
    "name": "ipython",
    "version": 3
   },
   "file_extension": ".py",
   "mimetype": "text/x-python",
   "name": "python",
   "nbconvert_exporter": "python",
   "pygments_lexer": "ipython3",
   "version": "3.8.3"
  }
 },
 "nbformat": 4,
 "nbformat_minor": 4
}
