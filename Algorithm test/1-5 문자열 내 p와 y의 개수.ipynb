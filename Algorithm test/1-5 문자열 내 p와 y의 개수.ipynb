{
 "cells": [
  {
   "cell_type": "code",
   "execution_count": 13,
   "metadata": {},
   "outputs": [
    {
     "name": "stdout",
     "output_type": "stream",
     "text": [
      "true\n"
     ]
    }
   ],
   "source": [
    "def solution(s):\n",
    "    # s = list(s)\n",
    "    count_p = s.count(\"p\" or \"P\")\n",
    "    count_y = s.count(\"y\" or \"Y\")\n",
    "    \n",
    "    if count_p == count_y:\n",
    "        return \"true\"\n",
    "    elif count_p == 0 and count_y == 0:\n",
    "        return \"true\"\n",
    "    else:\n",
    "        return \"false\"\n",
    "    \n",
    "s = \"pPoooyY\"\n",
    "answer = solution(s)\n",
    "print(answer)"
   ]
  },
  {
   "cell_type": "code",
   "execution_count": 21,
   "metadata": {},
   "outputs": [
    {
     "name": "stdout",
     "output_type": "stream",
     "text": [
      "True\n"
     ]
    }
   ],
   "source": [
    "def solution(s):\n",
    "    count_p = s.count(\"p\")\n",
    "    count_y = s.count(\"y\")\n",
    "    \n",
    "    if count_p == count_y:\n",
    "        return True\n",
    "    elif count_p == 0 and count_y == 0:\n",
    "        return True\n",
    "    else:\n",
    "        return False\n",
    "    \n",
    "s = \"abcd\"\n",
    "answer = solution(s)\n",
    "print(answer)"
   ]
  },
  {
   "cell_type": "code",
   "execution_count": 30,
   "metadata": {},
   "outputs": [
    {
     "name": "stdout",
     "output_type": "stream",
     "text": [
      "True\n"
     ]
    }
   ],
   "source": [
    "def solution(s):\n",
    "    small_p = s.count(\"p\")\n",
    "    small_y = s.count(\"y\")\n",
    "    capital_p = s.count(\"P\")\n",
    "    capital_y = s.count(\"Y\")\n",
    "    count_all_p = small_p + capital_p\n",
    "    count_all_y = small_y + capital_y\n",
    "    \n",
    "    if count_all_p == count_all_y:\n",
    "        return True\n",
    "    elif count_all_p == 0 and count_all_y == 0:\n",
    "        return True\n",
    "    else:\n",
    "        return False\n",
    "\n",
    "s = \"abPYPycd\"\n",
    "answer = solution(s)\n",
    "print(answer)"
   ]
  },
  {
   "cell_type": "code",
   "execution_count": null,
   "metadata": {},
   "outputs": [],
   "source": []
  }
 ],
 "metadata": {
  "kernelspec": {
   "display_name": "Python 3",
   "language": "python",
   "name": "python3"
  },
  "language_info": {
   "codemirror_mode": {
    "name": "ipython",
    "version": 3
   },
   "file_extension": ".py",
   "mimetype": "text/x-python",
   "name": "python",
   "nbconvert_exporter": "python",
   "pygments_lexer": "ipython3",
   "version": "3.8.3"
  }
 },
 "nbformat": 4,
 "nbformat_minor": 4
}
