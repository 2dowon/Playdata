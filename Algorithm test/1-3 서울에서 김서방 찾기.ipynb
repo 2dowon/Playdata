{
 "cells": [
  {
   "cell_type": "markdown",
   "metadata": {},
   "source": [
    "## 1차 - 값이 틀림"
   ]
  },
  {
   "cell_type": "code",
   "execution_count": 51,
   "metadata": {},
   "outputs": [
    {
     "name": "stdout",
     "output_type": "stream",
     "text": [
      "김서방은  2 에 있다\n"
     ]
    }
   ],
   "source": [
    "def solution(x):\n",
    "    answer = len(x) - 1\n",
    "    for n in range(answer):\n",
    "        if seoul[n] == \"Kim\":\n",
    "            global location\n",
    "            location = n\n",
    "            break\n",
    "        else:\n",
    "            continue\n",
    "    print(\"김서방은 \", location, \"에 있다\")\n",
    "\n",
    "seoul = [\"Jane\", \"1\", \"2\", \"3\", \"Kim\"]\n",
    "solution(seoul)"
   ]
  },
  {
   "cell_type": "markdown",
   "metadata": {},
   "source": [
    "## 2차"
   ]
  },
  {
   "cell_type": "code",
   "execution_count": 55,
   "metadata": {},
   "outputs": [
    {
     "name": "stdout",
     "output_type": "stream",
     "text": [
      "김서방은 6 에 있다\n"
     ]
    }
   ],
   "source": [
    "def solution(n):\n",
    "    answer = len(n)\n",
    "    for n in range(len(n)):\n",
    "        if seoul[n] == \"Kim\":\n",
    "            location = n\n",
    "            break\n",
    "        else:\n",
    "            continue\n",
    "    print(\"김서방은\", location, \"에 있다\")\n",
    "\n",
    "seoul = [\"Jane\", \"1\", \"2\", \"3\", \"Park\", \"Moon\", \"Kim\", \"Lee\"]\n",
    "solution(seoul)"
   ]
  },
  {
   "cell_type": "code",
   "execution_count": 65,
   "metadata": {},
   "outputs": [
    {
     "name": "stdout",
     "output_type": "stream",
     "text": [
      "김서방은 6에 있다\n"
     ]
    }
   ],
   "source": [
    "def solution(n):\n",
    "    answer = len(n)\n",
    "    for n in range(len(n)):\n",
    "        if seoul[n] == \"Kim\":\n",
    "            global location\n",
    "            location = n\n",
    "            return location\n",
    "            break\n",
    "        else:\n",
    "            continue\n",
    "\n",
    "seoul = [\"Jane\", \"1\", \"2\", \"3\", \"Park\", \"Moon\", \"Kim\", \"Lee\"]\n",
    "solution(seoul)\n",
    "print(\"김서방은 \", location, \"에 있다\", sep=\"\")"
   ]
  },
  {
   "cell_type": "markdown",
   "metadata": {},
   "source": [
    "#### \"\" 추가 버전"
   ]
  },
  {
   "cell_type": "code",
   "execution_count": 63,
   "metadata": {},
   "outputs": [
    {
     "name": "stdout",
     "output_type": "stream",
     "text": [
      "\"김서방은 1에 있다\"\n"
     ]
    }
   ],
   "source": [
    "def solution(n):\n",
    "    answer = len(n)\n",
    "    for n in range(len(n)):\n",
    "        if seoul[n] == \"Kim\":\n",
    "            global location\n",
    "            location = n\n",
    "            return location\n",
    "            break\n",
    "        else:\n",
    "            continue\n",
    "\n",
    "seoul = [\"Jane\", \"Kim\"]\n",
    "solution(seoul)\n",
    "print('\"김서방은 ', location, '에 있다\"', sep=\"\")"
   ]
  },
  {
   "cell_type": "code",
   "execution_count": 67,
   "metadata": {},
   "outputs": [
    {
     "name": "stdout",
     "output_type": "stream",
     "text": [
      "김서방은 6에 있다\n"
     ]
    }
   ],
   "source": [
    "def solution(n):\n",
    "    for n in range(len(n)):\n",
    "        if seoul[n] == \"Kim\":\n",
    "            global location\n",
    "            location = n\n",
    "            return location\n",
    "            break\n",
    "        else:\n",
    "            continue\n",
    "\n",
    "seoul = [\"Jane\", \"1\", \"2\", \"3\", \"Park\", \"Moon\", \"Kim\", \"Lee\"]\n",
    "answer = solution(seoul)\n",
    "print(\"김서방은 \", answer, \"에 있다\", sep=\"\")"
   ]
  },
  {
   "cell_type": "code",
   "execution_count": 69,
   "metadata": {},
   "outputs": [
    {
     "name": "stdout",
     "output_type": "stream",
     "text": [
      "김서방은 6에 있다\n"
     ]
    }
   ],
   "source": [
    "def solution(seoul):\n",
    "    for n in range(len(seoul)):\n",
    "        if seoul[n] == \"Kim\":\n",
    "            global location\n",
    "            location = n\n",
    "            return location\n",
    "            break\n",
    "        else:\n",
    "            continue\n",
    "\n",
    "seoul = [\"Jane\", \"1\", \"2\", \"3\", \"Park\", \"Moon\", \"Kim\", \"Lee\"]\n",
    "answer = solution(seoul)\n",
    "print(\"김서방은 \", answer, \"에 있다\", sep=\"\")"
   ]
  },
  {
   "cell_type": "markdown",
   "metadata": {},
   "source": [
    "### 최종 코드"
   ]
  },
  {
   "cell_type": "code",
   "execution_count": 71,
   "metadata": {},
   "outputs": [
    {
     "name": "stdout",
     "output_type": "stream",
     "text": [
      "김서방은 6에 있다\n"
     ]
    }
   ],
   "source": [
    "def solution(seoul):\n",
    "    for n in range(len(seoul)):\n",
    "        if seoul[n] == \"Kim\":\n",
    "            global location\n",
    "            location = str(n)\n",
    "            break\n",
    "        else:\n",
    "            continue\n",
    "    return \"김서방은 \" + location + \"에 있다\"\n",
    "\n",
    "seoul = [\"Jane\", \"1\", \"2\", \"3\", \"Park\", \"Moon\", \"Kim\", \"Lee\"]\n",
    "answer = solution(seoul)\n",
    "print(answer)"
   ]
  },
  {
   "cell_type": "markdown",
   "metadata": {},
   "source": [
    "### 다른 사람이 짠 코드"
   ]
  },
  {
   "cell_type": "code",
   "execution_count": 73,
   "metadata": {},
   "outputs": [
    {
     "name": "stdout",
     "output_type": "stream",
     "text": [
      "김서방은 1에 있다\n"
     ]
    }
   ],
   "source": [
    "def findKim(seoul):\n",
    "    return \"김서방은 {}에 있다\".format(seoul.index('Kim'))\n",
    "\n",
    "seoul = [\"Jane\", \"Kim\"]\n",
    "answer = solution(seoul)\n",
    "print(answer)"
   ]
  },
  {
   "cell_type": "markdown",
   "metadata": {},
   "source": [
    "#### index() 함수 연습"
   ]
  },
  {
   "cell_type": "code",
   "execution_count": 76,
   "metadata": {},
   "outputs": [
    {
     "data": {
      "text/plain": [
       "2"
      ]
     },
     "execution_count": 76,
     "metadata": {},
     "output_type": "execute_result"
    }
   ],
   "source": [
    "a = [1,2,3]\n",
    "a.index(3)"
   ]
  },
  {
   "cell_type": "code",
   "execution_count": 77,
   "metadata": {},
   "outputs": [
    {
     "data": {
      "text/plain": [
       "0"
      ]
     },
     "execution_count": 77,
     "metadata": {},
     "output_type": "execute_result"
    }
   ],
   "source": [
    "a.index(1)"
   ]
  },
  {
   "cell_type": "markdown",
   "metadata": {},
   "source": [
    "---"
   ]
  },
  {
   "cell_type": "markdown",
   "metadata": {},
   "source": [
    "### 다른 사람이 짠 코드 2"
   ]
  },
  {
   "cell_type": "code",
   "execution_count": 4,
   "metadata": {},
   "outputs": [
    {
     "name": "stdout",
     "output_type": "stream",
     "text": [
      "김서방은 1에 있다\n"
     ]
    }
   ],
   "source": [
    "def findKim(seoul):\n",
    "    for i in range(len(seoul)):\n",
    "        if seoul[i]==\"Kim\":\n",
    "            return \"김서방은 {}에 있다\".format(i)\n",
    "\n",
    "seoul = [\"Jane\", \"Kim\"]\n",
    "answer = findKim(seoul)\n",
    "print(answer)"
   ]
  },
  {
   "cell_type": "code",
   "execution_count": null,
   "metadata": {},
   "outputs": [],
   "source": []
  }
 ],
 "metadata": {
  "kernelspec": {
   "display_name": "Python 3",
   "language": "python",
   "name": "python3"
  },
  "language_info": {
   "codemirror_mode": {
    "name": "ipython",
    "version": 3
   },
   "file_extension": ".py",
   "mimetype": "text/x-python",
   "name": "python",
   "nbconvert_exporter": "python",
   "pygments_lexer": "ipython3",
   "version": "3.8.3"
  }
 },
 "nbformat": 4,
 "nbformat_minor": 4
}
