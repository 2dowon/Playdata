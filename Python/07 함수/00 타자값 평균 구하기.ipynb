{
 "cells": [
  {
   "cell_type": "code",
   "execution_count": 7,
   "metadata": {},
   "outputs": [
    {
     "name": "stdout",
     "output_type": "stream",
     "text": [
      "총점 : 3787, 평균 : 180.33333333333334\n"
     ]
    }
   ],
   "source": [
    "scores = [327, 152, 72, 235, 261, 0, 186, 0, 185, 158, 260, 184, 214, 237, 259, 269, 224, 124, 231, 0, 209]\n",
    "\n",
    "score_sum = 0\n",
    "student_num = 0\n",
    "\n",
    "for score in scores:\n",
    "    score_sum = score_sum + score\n",
    "    student_num = student_num + 1\n",
    "\n",
    "average = score_sum / student_num\n",
    "\n",
    "print(f\"총점 : {score_sum}, 평균 : {average}\")"
   ]
  },
  {
   "cell_type": "code",
   "execution_count": 6,
   "metadata": {},
   "outputs": [
    {
     "name": "stdout",
     "output_type": "stream",
     "text": [
      "총점 : 3787, 평균 : 210.38888888888889\n"
     ]
    }
   ],
   "source": [
    "scores = [327, 152, 72, 235, 261, 186, 185, 158, 260, 184, 214, 237, 259, 269, 224, 124, 231, 209]\n",
    "\n",
    "score_sum = 0\n",
    "student_num = 0\n",
    "\n",
    "for score in scores:\n",
    "    score_sum = score_sum + score\n",
    "    student_num = student_num + 1\n",
    "\n",
    "average = score_sum / student_num\n",
    "\n",
    "print(f\"총점 : {score_sum}, 평균 : {average}\")"
   ]
  },
  {
   "cell_type": "code",
   "execution_count": null,
   "metadata": {},
   "outputs": [],
   "source": []
  }
 ],
 "metadata": {
  "kernelspec": {
   "display_name": "Python 3",
   "language": "python",
   "name": "python3"
  },
  "language_info": {
   "codemirror_mode": {
    "name": "ipython",
    "version": 3
   },
   "file_extension": ".py",
   "mimetype": "text/x-python",
   "name": "python",
   "nbconvert_exporter": "python",
   "pygments_lexer": "ipython3",
   "version": "3.8.3"
  }
 },
 "nbformat": 4,
 "nbformat_minor": 4
}
