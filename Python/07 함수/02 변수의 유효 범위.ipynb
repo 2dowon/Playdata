{
 "cells": [
  {
   "cell_type": "code",
   "execution_count": 7,
   "metadata": {},
   "outputs": [],
   "source": [
    "a = 5 # 전역변수\n",
    "\n",
    "def func1():\n",
    "    a = 1 # 지역변수, fun1에서만 사용\n",
    "    print(\"[func1] 지역 변수 a =\", a)\n",
    "    \n",
    "def func2():\n",
    "    a = 2 # 지역변수, fun1에서만 사용\n",
    "    print(\"[func2] 지역 변수 a =\", a)\n",
    "    \n",
    "def func3():\n",
    "    print(\"[func3] 전역 변수 a =\", a)\n",
    "    \n",
    "def func4():\n",
    "    global a # 함수 내에서 전역변수를 변경하기 위해 선언\n",
    "    a = 4 # 전역변수의 값 변경\n",
    "    print(\"[func4] 전역 변수 a =\", a)"
   ]
  },
  {
   "cell_type": "code",
   "execution_count": 8,
   "metadata": {},
   "outputs": [
    {
     "name": "stdout",
     "output_type": "stream",
     "text": [
      "[func1] 지역 변수 a = 1\n",
      "[func2] 지역 변수 a = 2\n",
      "전역 변수 a = 5\n"
     ]
    }
   ],
   "source": [
    "func1() # 함수 func1() 호출\n",
    "func2() # 함수 func2() 호출\n",
    "print(\"전역 변수 a =\",a) # 전역 변수 출력"
   ]
  },
  {
   "cell_type": "code",
   "execution_count": 9,
   "metadata": {},
   "outputs": [
    {
     "name": "stdout",
     "output_type": "stream",
     "text": [
      "[func3] 전역 변수 a = 5\n",
      "[func4] 전역 변수 a = 4\n",
      "[func3] 전역 변수 a = 4\n"
     ]
    }
   ],
   "source": [
    "func3() # 함수 func3() 호출\n",
    "func4() # 함수 func4() 호출\n",
    "func3() # 함수 func3() 호출"
   ]
  },
  {
   "cell_type": "code",
   "execution_count": null,
   "metadata": {},
   "outputs": [],
   "source": []
  }
 ],
 "metadata": {
  "kernelspec": {
   "display_name": "Python 3",
   "language": "python",
   "name": "python3"
  },
  "language_info": {
   "codemirror_mode": {
    "name": "ipython",
    "version": 3
   },
   "file_extension": ".py",
   "mimetype": "text/x-python",
   "name": "python",
   "nbconvert_exporter": "python",
   "pygments_lexer": "ipython3",
   "version": "3.8.3"
  }
 },
 "nbformat": 4,
 "nbformat_minor": 4
}
