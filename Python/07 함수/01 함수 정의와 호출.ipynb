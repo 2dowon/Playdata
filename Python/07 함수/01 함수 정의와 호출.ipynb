{
 "cells": [
  {
   "cell_type": "markdown",
   "metadata": {},
   "source": [
    "### 함수의 기본 구조"
   ]
  },
  {
   "cell_type": "markdown",
   "metadata": {},
   "source": [
    "def my_func(): <br/>\n",
    "&nbsp;&nbsp;&nbsp;&nbsp;print(\"My first function!\") <br/>\n",
    "&nbsp;&nbsp;&nbsp;&nbsp;print(\"첫번 째 함수\")"
   ]
  },
  {
   "cell_type": "markdown",
   "metadata": {},
   "source": [
    "### 인자도 반환 값도 없는 함수"
   ]
  },
  {
   "cell_type": "code",
   "execution_count": 2,
   "metadata": {},
   "outputs": [],
   "source": [
    "def my_func():\n",
    "    print(\"My first function!\")\n",
    "    print(\"This is a function\")"
   ]
  },
  {
   "cell_type": "code",
   "execution_count": 3,
   "metadata": {},
   "outputs": [
    {
     "name": "stdout",
     "output_type": "stream",
     "text": [
      "My first function!\n",
      "This is a function\n"
     ]
    }
   ],
   "source": [
    "def my_func():\n",
    "    print(\"My first function!\")\n",
    "    print(\"This is a function\")\n",
    "    \n",
    "my_func()"
   ]
  },
  {
   "cell_type": "markdown",
   "metadata": {},
   "source": [
    "### 인자는 있으나 반환 값이 없는 함수"
   ]
  },
  {
   "cell_type": "code",
   "execution_count": 4,
   "metadata": {},
   "outputs": [
    {
     "name": "stdout",
     "output_type": "stream",
     "text": [
      "신동욱는 나의 친구입니다.\n",
      "문지현는 나의 친구입니다.\n"
     ]
    }
   ],
   "source": [
    "def my_friend(friendName):\n",
    "    print(\"{}는 나의 친구입니다.\".format(friendName))\n",
    "    \n",
    "my_friend(\"신동욱\")\n",
    "my_friend(\"문지현\")"
   ]
  },
  {
   "cell_type": "code",
   "execution_count": 12,
   "metadata": {},
   "outputs": [
    {
     "name": "stdout",
     "output_type": "stream",
     "text": [
      "I am 이도원. I belong to IT department.\n"
     ]
    }
   ],
   "source": [
    "# f-string (Python 3.6부터 지원)\n",
    "name = \"이도원\"\n",
    "dept = \"IT\"\n",
    "print(f\"I am {name}. I belong to {dept} department.\")"
   ]
  },
  {
   "cell_type": "code",
   "execution_count": 5,
   "metadata": {},
   "outputs": [
    {
     "name": "stdout",
     "output_type": "stream",
     "text": [
      "신동욱는 나의 친구입니다.\n",
      "문지현는 나의 친구입니다.\n"
     ]
    }
   ],
   "source": [
    "def my_friend(friendName):\n",
    "    print(f\"{friendName}는 나의 친구입니다.\")\n",
    "    \n",
    "my_friend(\"신동욱\")\n",
    "my_friend(\"문지현\")"
   ]
  },
  {
   "cell_type": "code",
   "execution_count": 15,
   "metadata": {},
   "outputs": [
    {
     "name": "stdout",
     "output_type": "stream",
     "text": [
      "-----------------------------\n",
      "- 학생이름: 이도원\n",
      "- 학급번호: 2015\n",
      "- 전화번호: 010-3488-1424\n",
      "-----------------------------\n",
      "- 학생이름: 이땡떙\n",
      "- 학급번호: 2020\n",
      "- 전화번호: 010-1234-5678\n"
     ]
    }
   ],
   "source": [
    "def my_student_info(name, school_ID, phoneNumber):\n",
    "    print(\"-----------------------------\")\n",
    "    print(f\"- 학생이름: {name}\")\n",
    "    print(f\"- 학급번호: {school_ID}\")\n",
    "    print(f\"- 전화번호: {phoneNumber}\")\n",
    "    \n",
    "my_student_info(\"이도원\", \"2015\", \"010-3488-1424\")\n",
    "my_student_info(\"이땡떙\", \"2020\", \"010-1234-5678\")"
   ]
  },
  {
   "cell_type": "code",
   "execution_count": 16,
   "metadata": {},
   "outputs": [
    {
     "name": "stdout",
     "output_type": "stream",
     "text": [
      "********************************\n",
      "- 학생이름: 이도원\n",
      "- 학급번호: 2015\n",
      "- 전화번호: 010-3488-1424\n",
      "********************************\n",
      "- 학생이름: 이땡떙\n",
      "- 학급번호: 2020\n",
      "- 전화번호: 010-1234-5678\n"
     ]
    }
   ],
   "source": [
    "def my_student_info(name, school_ID, phoneNumber):\n",
    "    print(\"********************************\")\n",
    "    print(f\"- 학생이름: {name}\")\n",
    "    print(f\"- 학급번호: {school_ID}\")\n",
    "    print(f\"- 전화번호: {phoneNumber}\")\n",
    "    \n",
    "my_student_info(\"이도원\", \"2015\", \"010-3488-1424\")\n",
    "my_student_info(\"이땡떙\", \"2020\", \"010-1234-5678\")"
   ]
  },
  {
   "cell_type": "markdown",
   "metadata": {},
   "source": [
    "### 인자도 있고 반환 값도 있는 함수"
   ]
  },
  {
   "cell_type": "code",
   "execution_count": 17,
   "metadata": {},
   "outputs": [
    {
     "data": {
      "text/plain": [
       "12"
      ]
     },
     "execution_count": 17,
     "metadata": {},
     "output_type": "execute_result"
    }
   ],
   "source": [
    "def my_calc(x,y):\n",
    "    z = x*y\n",
    "    return z\n",
    "\n",
    "my_calc(3,4)"
   ]
  },
  {
   "cell_type": "code",
   "execution_count": 22,
   "metadata": {},
   "outputs": [
    {
     "name": "stdout",
     "output_type": "stream",
     "text": [
      "-----------------------------\n",
      "- 학생이름: 이도원\n",
      "- 학급번호: 2015\n",
      "- 전화번호: 010-3488-1424\n",
      "-----------------------------\n"
     ]
    }
   ],
   "source": [
    "def my_student_info_list(student_info):\n",
    "    print(\"-----------------------------\")\n",
    "    print(\"- 학생이름:\", student_info[0])\n",
    "    print(\"- 학급번호:\", student_info[1])\n",
    "    print(\"- 전화번호:\", student_info[2])\n",
    "    print(\"-----------------------------\")\n",
    "    \n",
    "student_info = [\"이도원\", \"2015\", \"010-3488-1424\"]\n",
    "my_student_info_list(student_info)\n"
   ]
  },
  {
   "cell_type": "code",
   "execution_count": 23,
   "metadata": {},
   "outputs": [
    {
     "name": "stdout",
     "output_type": "stream",
     "text": [
      "-----------------------------\n",
      "- 학생이름: 이땡떙\n",
      "- 학급번호: 2020\n",
      "- 전화번호: 010-1234-5678\n",
      "-----------------------------\n"
     ]
    }
   ],
   "source": [
    "my_student_info_list([\"이땡떙\", \"2020\", \"010-1234-5678\"])"
   ]
  },
  {
   "cell_type": "code",
   "execution_count": null,
   "metadata": {},
   "outputs": [],
   "source": []
  }
 ],
 "metadata": {
  "kernelspec": {
   "display_name": "Python 3",
   "language": "python",
   "name": "python3"
  },
  "language_info": {
   "codemirror_mode": {
    "name": "ipython",
    "version": 3
   },
   "file_extension": ".py",
   "mimetype": "text/x-python",
   "name": "python",
   "nbconvert_exporter": "python",
   "pygments_lexer": "ipython3",
   "version": "3.8.3"
  }
 },
 "nbformat": 4,
 "nbformat_minor": 4
}
