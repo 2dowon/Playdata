{
 "cells": [
  {
   "cell_type": "markdown",
   "metadata": {},
   "source": [
    "# 문자열 만들기"
   ]
  },
  {
   "cell_type": "code",
   "execution_count": 1,
   "metadata": {},
   "outputs": [
    {
     "name": "stdout",
     "output_type": "stream",
     "text": [
      "String Test\n"
     ]
    }
   ],
   "source": [
    "print(\"String Test\")"
   ]
  },
  {
   "cell_type": "code",
   "execution_count": 2,
   "metadata": {},
   "outputs": [
    {
     "name": "stdout",
     "output_type": "stream",
     "text": [
      "string Test\n"
     ]
    }
   ],
   "source": [
    "print('string Test')"
   ]
  },
  {
   "cell_type": "code",
   "execution_count": 3,
   "metadata": {},
   "outputs": [
    {
     "name": "stdout",
     "output_type": "stream",
     "text": [
      "String Test 1\n",
      "String Test 2\n"
     ]
    }
   ],
   "source": [
    "string1 = \"String Test 1\"\n",
    "string2 = 'String Test 2'\n",
    "print(string1)\n",
    "print(string2)"
   ]
  },
  {
   "cell_type": "code",
   "execution_count": 4,
   "metadata": {},
   "outputs": [
    {
     "data": {
      "text/plain": [
       "str"
      ]
     },
     "execution_count": 4,
     "metadata": {},
     "output_type": "execute_result"
    }
   ],
   "source": [
    "type(string1)"
   ]
  },
  {
   "cell_type": "code",
   "execution_count": 7,
   "metadata": {},
   "outputs": [
    {
     "name": "stdout",
     "output_type": "stream",
     "text": [
      "This is a 'single' quotation test\n",
      "This is a \"double\" quotation test\n"
     ]
    }
   ],
   "source": [
    "string3 = \"This is a 'single' quotation test\"\n",
    "string4 = 'This is a \"double\" quotation test'\n",
    "\n",
    "print(string3)\n",
    "print(string4)"
   ]
  },
  {
   "cell_type": "code",
   "execution_count": 8,
   "metadata": {},
   "outputs": [
    {
     "name": "stdout",
     "output_type": "stream",
     "text": [
      "[삼중 큰 따옴표를 사용한 예]\n",
      "파이썬에는 삼중 따옴표로 여러 행의 문자열을 입력할 수 있습니다.\n",
      "큰따옴표(\")와 작은 따옴표(')로 입력할 수 있습니다\n",
      "\n"
     ]
    }
   ],
   "source": [
    "long_string1 = \"\"\"[삼중 큰 따옴표를 사용한 예]\n",
    "파이썬에는 삼중 따옴표로 여러 행의 문자열을 입력할 수 있습니다.\n",
    "큰따옴표(\")와 작은 따옴표(')로 입력할 수 있습니다\n",
    "\"\"\"\n",
    "print(long_string1)"
   ]
  },
  {
   "cell_type": "code",
   "execution_count": 9,
   "metadata": {},
   "outputs": [
    {
     "name": "stdout",
     "output_type": "stream",
     "text": [
      "[삼중 작은 따옴표를 사용한 예]\n",
      "파이썬에는 삼중 따옴표로 여러 행의 문자열을 입력할 수 있습니다.\n",
      "큰따옴표(\")와 작은 따옴표(')로 입력할 수 있습니다\n",
      "\n"
     ]
    }
   ],
   "source": [
    "long_string2 = '''[삼중 작은 따옴표를 사용한 예]\n",
    "파이썬에는 삼중 따옴표로 여러 행의 문자열을 입력할 수 있습니다.\n",
    "큰따옴표(\")와 작은 따옴표(')로 입력할 수 있습니다\n",
    "'''\n",
    "print(long_string2)"
   ]
  },
  {
   "cell_type": "markdown",
   "metadata": {},
   "source": [
    "# 문자열 다루기"
   ]
  },
  {
   "cell_type": "code",
   "execution_count": 10,
   "metadata": {},
   "outputs": [
    {
     "name": "stdout",
     "output_type": "stream",
     "text": [
      "이도원이도원이도원\n"
     ]
    }
   ],
   "source": [
    "name = \"이도원\"\n",
    "print(name*3)"
   ]
  },
  {
   "cell_type": "code",
   "execution_count": 12,
   "metadata": {},
   "outputs": [
    {
     "name": "stdout",
     "output_type": "stream",
     "text": [
      "Enjoy Python\n"
     ]
    }
   ],
   "source": [
    "a = \"Enjoy \"\n",
    "b = \"Python\"\n",
    "c = a + b\n",
    "print(c)"
   ]
  },
  {
   "cell_type": "code",
   "execution_count": null,
   "metadata": {},
   "outputs": [],
   "source": []
  }
 ],
 "metadata": {
  "kernelspec": {
   "display_name": "Python 3",
   "language": "python",
   "name": "python3"
  },
  "language_info": {
   "codemirror_mode": {
    "name": "ipython",
    "version": 3
   },
   "file_extension": ".py",
   "mimetype": "text/x-python",
   "name": "python",
   "nbconvert_exporter": "python",
   "pygments_lexer": "ipython3",
   "version": "3.8.3"
  }
 },
 "nbformat": 4,
 "nbformat_minor": 4
}
