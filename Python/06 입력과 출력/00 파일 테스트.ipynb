{
 "cells": [
  {
   "cell_type": "code",
   "execution_count": 1,
   "metadata": {},
   "outputs": [
    {
     "name": "stdout",
     "output_type": "stream",
     "text": [
      "c:\\myPyCode\n"
     ]
    }
   ],
   "source": [
    "cd c:\\myPyCode"
   ]
  },
  {
   "cell_type": "code",
   "execution_count": 2,
   "metadata": {},
   "outputs": [
    {
     "name": "stdout",
     "output_type": "stream",
     "text": [
      " C 드라이브의 볼륨에는 이름이 없습니다.\n",
      " 볼륨 일련 번호: B66B-82BE\n",
      "\n",
      " c:\\myPyCode 디렉터리\n",
      "\n",
      "2020-10-16  오후 12:23    <DIR>          .\n",
      "2020-10-16  오후 12:23    <DIR>          ..\n",
      "2020-10-07  오후 05:45    <DIR>          .ipynb_checkpoints\n",
      "2020-10-07  오전 11:47    <DIR>          data\n",
      "2020-10-07  오전 11:47    <DIR>          figures\n",
      "2020-10-07  오전 11:56                23 hello_python.py\n",
      "2020-10-07  오후 12:55               118 hello_spyder.py\n",
      "2020-10-07  오전 11:47    <DIR>          modules\n",
      "2020-10-16  오후 12:18                22 myFile.txt\n",
      "2020-10-16  오후 12:26                22 myFile2.txt\n",
      "2020-10-07  오전 11:47    <DIR>          packages\n",
      "2020-10-07  오후 06:00             1,772 python_code.ipynb\n",
      "2020-10-16  오후 12:24                 4 text.txt\n",
      "2020-10-16  오후 12:11                56 two_times_table.txt\n",
      "2020-10-07  오전 11:51                 0 새 텍스트 문서.txt\n",
      "               8개 파일               2,017 바이트\n",
      "               7개 디렉터리  195,258,417,152 바이트 남음\n"
     ]
    }
   ],
   "source": [
    "ls"
   ]
  },
  {
   "cell_type": "code",
   "execution_count": 3,
   "metadata": {},
   "outputs": [],
   "source": [
    "f = open(\"text.txt\", \"w\")\n",
    "f.write(\"test\")\n",
    "f.close()"
   ]
  },
  {
   "cell_type": "code",
   "execution_count": 4,
   "metadata": {},
   "outputs": [
    {
     "name": "stdout",
     "output_type": "stream",
     "text": [
      "test\n"
     ]
    }
   ],
   "source": [
    "!type text.txt"
   ]
  },
  {
   "cell_type": "code",
   "execution_count": null,
   "metadata": {},
   "outputs": [],
   "source": []
  }
 ],
 "metadata": {
  "kernelspec": {
   "display_name": "Python 3",
   "language": "python",
   "name": "python3"
  },
  "language_info": {
   "codemirror_mode": {
    "name": "ipython",
    "version": 3
   },
   "file_extension": ".py",
   "mimetype": "text/x-python",
   "name": "python",
   "nbconvert_exporter": "python",
   "pygments_lexer": "ipython3",
   "version": "3.8.3"
  }
 },
 "nbformat": 4,
 "nbformat_minor": 4
}
