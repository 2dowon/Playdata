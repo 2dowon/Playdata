{
 "cells": [
  {
   "cell_type": "markdown",
   "metadata": {},
   "source": [
    "### with문의 구조"
   ]
  },
  {
   "cell_type": "code",
   "execution_count": 3,
   "metadata": {},
   "outputs": [
    {
     "name": "stdout",
     "output_type": "stream",
     "text": [
      "c:\\myPyCode\n"
     ]
    }
   ],
   "source": [
    "cd c:/myPyCode"
   ]
  },
  {
   "cell_type": "code",
   "execution_count": 4,
   "metadata": {},
   "outputs": [],
   "source": [
    "f = open(\"myTextFile.txt\", \"w\")\n",
    "f.write(\"File write/read test.\")\n",
    "f.close()"
   ]
  },
  {
   "cell_type": "code",
   "execution_count": 5,
   "metadata": {},
   "outputs": [
    {
     "name": "stdout",
     "output_type": "stream",
     "text": [
      "File write/read test.\n"
     ]
    }
   ],
   "source": [
    "f = open(\"myTextFile.txt\", \"r\")\n",
    "test = f.read()\n",
    "f.close()\n",
    "\n",
    "print(test)"
   ]
  },
  {
   "cell_type": "markdown",
   "metadata": {},
   "source": [
    "### with문의 활용"
   ]
  },
  {
   "cell_type": "code",
   "execution_count": 7,
   "metadata": {},
   "outputs": [],
   "source": [
    "with open(\"c:/myPyCode/myTextFile2.txt\", \"w\") as f:\n",
    "    f.write(\"File read/write test2: line1\\n\")\n",
    "    f.write(\"File read/write test2: line2\\n\")\n",
    "    f.write(\"File read/write test2: line3\\n\")"
   ]
  },
  {
   "cell_type": "code",
   "execution_count": 8,
   "metadata": {},
   "outputs": [
    {
     "name": "stdout",
     "output_type": "stream",
     "text": [
      "File read/write test2: line1\n",
      "File read/write test2: line2\n",
      "File read/write test2: line3\n",
      "\n"
     ]
    }
   ],
   "source": [
    "with open(\"c:/myPyCode/myTextFile2.txt\") as f:\n",
    "    file_string = f.read()\n",
    "    print(file_string)"
   ]
  },
  {
   "cell_type": "code",
   "execution_count": 12,
   "metadata": {},
   "outputs": [],
   "source": [
    "with open(\"c:/myPyCode/myTextFile3.txt\", \"w\") as f:\n",
    "    for num in range(1,6): \n",
    "        format_string = \"3 x {0} = {1}\\n\" .format(num, 3*num) \n",
    "        f.write(format_string)"
   ]
  },
  {
   "cell_type": "code",
   "execution_count": 13,
   "metadata": {},
   "outputs": [
    {
     "name": "stdout",
     "output_type": "stream",
     "text": [
      "3 x 1 = 3\n",
      "3 x 2 = 6\n",
      "3 x 3 = 9\n",
      "3 x 4 = 12\n",
      "3 x 5 = 15\n"
     ]
    }
   ],
   "source": [
    "!type myTextFile3.txt"
   ]
  },
  {
   "cell_type": "code",
   "execution_count": 14,
   "metadata": {},
   "outputs": [
    {
     "name": "stdout",
     "output_type": "stream",
     "text": [
      "3 x 1 = 3\n",
      "3 x 2 = 6\n",
      "3 x 3 = 9\n",
      "3 x 4 = 12\n",
      "3 x 5 = 15\n"
     ]
    }
   ],
   "source": [
    "with open(\"c:/myPyCode/myTextFile3.txt\") as f:\n",
    "    for line in f:\n",
    "        print(line, end=\"\")"
   ]
  },
  {
   "cell_type": "code",
   "execution_count": null,
   "metadata": {},
   "outputs": [],
   "source": []
  }
 ],
 "metadata": {
  "kernelspec": {
   "display_name": "Python 3",
   "language": "python",
   "name": "python3"
  },
  "language_info": {
   "codemirror_mode": {
    "name": "ipython",
    "version": 3
   },
   "file_extension": ".py",
   "mimetype": "text/x-python",
   "name": "python",
   "nbconvert_exporter": "python",
   "pygments_lexer": "ipython3",
   "version": "3.8.3"
  }
 },
 "nbformat": 4,
 "nbformat_minor": 4
}
