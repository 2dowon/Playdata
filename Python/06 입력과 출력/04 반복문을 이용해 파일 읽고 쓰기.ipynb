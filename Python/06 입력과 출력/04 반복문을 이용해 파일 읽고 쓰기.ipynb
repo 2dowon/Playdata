{
 "cells": [
  {
   "cell_type": "markdown",
   "metadata": {},
   "source": [
    "### 파일에 문자열 한 줄씩 쓰기"
   ]
  },
  {
   "cell_type": "code",
   "execution_count": 4,
   "metadata": {},
   "outputs": [
    {
     "name": "stdout",
     "output_type": "stream",
     "text": [
      "c:\\myPyCode\n"
     ]
    }
   ],
   "source": [
    "cd c:\\myPyCode"
   ]
  },
  {
   "cell_type": "code",
   "execution_count": 5,
   "metadata": {},
   "outputs": [],
   "source": [
    "f = open(\"two_times_table.txt\", \"w\") # 파일을 쓰기 모드로 열기 = 새로 만든다\n",
    "for num in range(1,6): # for문 : num이 1~5까지 반복\n",
    "    format_string = \"2 x {0} = {1}\\n\".format(num, 2*num) # 저장할 문자열 생성\n",
    "    f.write(format_string) # 파일에 문자열 저장\n",
    "f.close() # 파일 닫기"
   ]
  },
  {
   "cell_type": "code",
   "execution_count": 6,
   "metadata": {},
   "outputs": [
    {
     "name": "stdout",
     "output_type": "stream",
     "text": [
      "2 x 1 = 2\n",
      "2 x 2 = 4\n",
      "2 x 3 = 6\n",
      "2 x 4 = 8\n",
      "2 x 5 = 10\n"
     ]
    }
   ],
   "source": [
    "!type two_times_table.txt"
   ]
  },
  {
   "cell_type": "markdown",
   "metadata": {},
   "source": [
    "### 파일에서 문자열 한 줄씩 읽기"
   ]
  },
  {
   "cell_type": "markdown",
   "metadata": {},
   "source": [
    "#### readline()"
   ]
  },
  {
   "cell_type": "code",
   "execution_count": 1,
   "metadata": {},
   "outputs": [
    {
     "name": "stdout",
     "output_type": "stream",
     "text": [
      "2 x 1 = 2\n",
      "2 x 2 = 4\n"
     ]
    }
   ],
   "source": [
    "f = open(\"two_times_table.txt\")\n",
    "line1 = f.readline()\n",
    "line2 = f.readline()\n",
    "f.close()\n",
    "print(line1, end=\"\")\n",
    "print(line2, end=\"\")"
   ]
  },
  {
   "cell_type": "code",
   "execution_count": 4,
   "metadata": {},
   "outputs": [
    {
     "name": "stdout",
     "output_type": "stream",
     "text": [
      "2 x 1 = 2\n",
      "2 x 2 = 4\n",
      "2 x 3 = 6\n",
      "2 x 4 = 8\n",
      "2 x 5 = 10\n"
     ]
    }
   ],
   "source": [
    "f = open(\"two_times_table.txt\")\n",
    "line = f.readline()\n",
    "\n",
    "while line:\n",
    "    print(line, end=\"\")\n",
    "    line = f.readline()\n",
    "    \n",
    "f.close()"
   ]
  },
  {
   "cell_type": "markdown",
   "metadata": {},
   "source": [
    "#### readlines()"
   ]
  },
  {
   "cell_type": "code",
   "execution_count": 5,
   "metadata": {},
   "outputs": [
    {
     "name": "stdout",
     "output_type": "stream",
     "text": [
      "['2 x 1 = 2\\n', '2 x 2 = 4\\n', '2 x 3 = 6\\n', '2 x 4 = 8\\n', '2 x 5 = 10\\n']\n"
     ]
    }
   ],
   "source": [
    "f = open(\"two_times_table.txt\")\n",
    "lines = f.readlines()\n",
    "f.close()\n",
    "\n",
    "print(lines)"
   ]
  },
  {
   "cell_type": "code",
   "execution_count": 6,
   "metadata": {},
   "outputs": [
    {
     "name": "stdout",
     "output_type": "stream",
     "text": [
      "2 x 1 = 2\n",
      "2 x 2 = 4\n",
      "2 x 3 = 6\n",
      "2 x 4 = 8\n",
      "2 x 5 = 10\n"
     ]
    }
   ],
   "source": [
    "f = open(\"two_times_table.txt\")\n",
    "lines = f.readlines()\n",
    "f.close()\n",
    "\n",
    "for line in lines:\n",
    "    print(line, end=\"\")"
   ]
  },
  {
   "cell_type": "code",
   "execution_count": 7,
   "metadata": {},
   "outputs": [
    {
     "name": "stdout",
     "output_type": "stream",
     "text": [
      "2 x 1 = 2\n",
      "2 x 2 = 4\n",
      "2 x 3 = 6\n",
      "2 x 4 = 8\n",
      "2 x 5 = 10\n"
     ]
    }
   ],
   "source": [
    "f = open(\"two_times_table.txt\")\n",
    "for line in f.readlines():\n",
    "    print(line, end=\"\")\n",
    "    \n",
    "f.close()"
   ]
  },
  {
   "cell_type": "code",
   "execution_count": 8,
   "metadata": {},
   "outputs": [
    {
     "name": "stdout",
     "output_type": "stream",
     "text": [
      "2 x 1 = 2\n",
      "2 x 2 = 4\n",
      "2 x 3 = 6\n",
      "2 x 4 = 8\n",
      "2 x 5 = 10\n"
     ]
    }
   ],
   "source": [
    "f = open(\"two_times_table.txt\")\n",
    "for line in f:\n",
    "    print(line, end=\"\")\n",
    "    \n",
    "f.close()"
   ]
  },
  {
   "cell_type": "code",
   "execution_count": null,
   "metadata": {},
   "outputs": [],
   "source": []
  }
 ],
 "metadata": {
  "kernelspec": {
   "display_name": "Python 3",
   "language": "python",
   "name": "python3"
  },
  "language_info": {
   "codemirror_mode": {
    "name": "ipython",
    "version": 3
   },
   "file_extension": ".py",
   "mimetype": "text/x-python",
   "name": "python",
   "nbconvert_exporter": "python",
   "pygments_lexer": "ipython3",
   "version": "3.8.3"
  }
 },
 "nbformat": 4,
 "nbformat_minor": 4
}
