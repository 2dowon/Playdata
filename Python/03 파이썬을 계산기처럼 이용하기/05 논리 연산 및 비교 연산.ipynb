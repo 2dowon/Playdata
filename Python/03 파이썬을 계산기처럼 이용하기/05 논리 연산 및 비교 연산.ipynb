{
 "cells": [
  {
   "cell_type": "code",
   "execution_count": 2,
   "metadata": {},
   "outputs": [
    {
     "name": "stdout",
     "output_type": "stream",
     "text": [
      "아이의 키를 입력하세요, 숫자로150\n",
      "놀이기구 탑승 가능\n"
     ]
    }
   ],
   "source": [
    "height = int(input(\"아이의 키를 입력하세요, 숫자로\"))\n",
    "\n",
    "if  height >= 100:\n",
    "    print(\"놀이기구 탑승 가능\")\n",
    "else:\n",
    "    print(\"놀이기구 탑승 불가\")"
   ]
  },
  {
   "cell_type": "code",
   "execution_count": 3,
   "metadata": {},
   "outputs": [
    {
     "name": "stdout",
     "output_type": "stream",
     "text": [
      "아이의 키를 입력하세요, 숫자로90\n",
      "놀이기구 탑승 불가\n"
     ]
    }
   ],
   "source": [
    "height = int(input(\"아이의 키를 입력하세요, 숫자로\"))\n",
    "\n",
    "if  height >= 100:\n",
    "    print(\"놀이기구 탑승 가능\")\n",
    "else:\n",
    "    print(\"놀이기구 탑승 불가\")"
   ]
  },
  {
   "cell_type": "code",
   "execution_count": 4,
   "metadata": {},
   "outputs": [
    {
     "name": "stdout",
     "output_type": "stream",
     "text": [
      "아이의 키를 입력하세요, 숫자로100\n",
      "아이의 키는100cm입니다.\n",
      "놀이기구 탑승 가능\n"
     ]
    }
   ],
   "source": [
    "height = int(input(\"아이의 키를 입력하세요, 숫자로\"))\n",
    "\n",
    "if  height >= 100:\n",
    "    print(\"아이의 키는\" + str(height) +\"cm입니다.\")\n",
    "    print(\"놀이기구 탑승 가능\")\n",
    "else:\n",
    "    print(\"놀이기구 탑승 불가\")"
   ]
  },
  {
   "cell_type": "code",
   "execution_count": 5,
   "metadata": {},
   "outputs": [
    {
     "name": "stdout",
     "output_type": "stream",
     "text": [
      "아이의 키를 입력하세요, 숫자로100\n",
      "아이의 키는 100 cm입니다.\n",
      "놀이기구 탑승 가능\n"
     ]
    }
   ],
   "source": [
    "height = int(input(\"아이의 키를 입력하세요, 숫자로\"))\n",
    "\n",
    "if  height >= 100:\n",
    "    print(f\"아이의 키는 {height} cm입니다.\")\n",
    "    print(\"놀이기구 탑승 가능\")\n",
    "else:\n",
    "    print(\"놀이기구 탑승 불가\")"
   ]
  },
  {
   "cell_type": "code",
   "execution_count": 14,
   "metadata": {},
   "outputs": [
    {
     "name": "stdout",
     "output_type": "stream",
     "text": [
      "아이의 키를 입력하세요, 숫자로100\n",
      "아이의 나이를 입력하세요, 숫자로4\n",
      "놀이기구 탑승 불가\n"
     ]
    }
   ],
   "source": [
    "height = int(input(\"아이의 키를 입력하세요, 숫자로\"))\n",
    "age = int(input(\"아이의 나이를 입력하세요, 숫자로\"))\n",
    "\n",
    "if  height >= 100:\n",
    "    if age>= 5:\n",
    "        print(f\"아이의 키는 {height}cm 입니다.\")\n",
    "        print(f\"아이의 나이는 {age}세 입니다.\")\n",
    "        print(\"놀이기구 탑승 가능\")\n",
    "    else:\n",
    "        print(\"놀이기구 탑승 불가\")\n",
    "else:\n",
    "    print(\"놀이기구 탑승 불가\")"
   ]
  },
  {
   "cell_type": "code",
   "execution_count": 15,
   "metadata": {},
   "outputs": [
    {
     "name": "stdout",
     "output_type": "stream",
     "text": [
      "True\n"
     ]
    }
   ],
   "source": [
    "print(True)"
   ]
  },
  {
   "cell_type": "code",
   "execution_count": 16,
   "metadata": {},
   "outputs": [
    {
     "data": {
      "text/plain": [
       "bool"
      ]
     },
     "execution_count": 16,
     "metadata": {},
     "output_type": "execute_result"
    }
   ],
   "source": [
    "type(True)"
   ]
  },
  {
   "cell_type": "code",
   "execution_count": 17,
   "metadata": {},
   "outputs": [
    {
     "data": {
      "text/plain": [
       "str"
      ]
     },
     "execution_count": 17,
     "metadata": {},
     "output_type": "execute_result"
    }
   ],
   "source": [
    "type(\"True\")"
   ]
  },
  {
   "cell_type": "code",
   "execution_count": 18,
   "metadata": {},
   "outputs": [
    {
     "ename": "NameError",
     "evalue": "name 'ture' is not defined",
     "output_type": "error",
     "traceback": [
      "\u001b[1;31m---------------------------------------------------------------------------\u001b[0m",
      "\u001b[1;31mNameError\u001b[0m                                 Traceback (most recent call last)",
      "\u001b[1;32m<ipython-input-18-c6f00ba8ad14>\u001b[0m in \u001b[0;36m<module>\u001b[1;34m\u001b[0m\n\u001b[1;32m----> 1\u001b[1;33m \u001b[0mtype\u001b[0m\u001b[1;33m(\u001b[0m\u001b[0mture\u001b[0m\u001b[1;33m)\u001b[0m\u001b[1;33m\u001b[0m\u001b[1;33m\u001b[0m\u001b[0m\n\u001b[0m",
      "\u001b[1;31mNameError\u001b[0m: name 'ture' is not defined"
     ]
    }
   ],
   "source": [
    "type(ture)"
   ]
  },
  {
   "cell_type": "code",
   "execution_count": 19,
   "metadata": {},
   "outputs": [
    {
     "name": "stdout",
     "output_type": "stream",
     "text": [
      "아이의 키를 입력하세요, 숫자로100\n",
      "아이의 나이를 입력하세요, 숫자로10\n",
      "아이의 키는 100cm 입니다.\n",
      "아이의 나이는 10세 입니다.\n",
      "놀이기구 탑승 가능\n"
     ]
    }
   ],
   "source": [
    "height = int(input(\"아이의 키를 입력하세요, 숫자로\"))\n",
    "age = int(input(\"아이의 나이를 입력하세요, 숫자로\"))\n",
    "\n",
    "if  height >= 100:\n",
    "    if age>= 5:\n",
    "        print(f\"아이의 키는 {height}cm 입니다.\")\n",
    "        print(f\"아이의 나이는 {age}세 입니다.\")\n",
    "        print(\"놀이기구 탑승 가능\")\n",
    "    else:\n",
    "        print(\"놀이기구 탑승 불가\")\n",
    "else:\n",
    "    print(\"놀이기구 탑승 불가\")"
   ]
  },
  {
   "cell_type": "code",
   "execution_count": 22,
   "metadata": {},
   "outputs": [
    {
     "name": "stdout",
     "output_type": "stream",
     "text": [
      "아이의 키를 입력하세요, 숫자로100\n",
      "아이의 나이를 입력하세요, 숫자로4\n",
      "놀이기구 탑승 불가\n"
     ]
    }
   ],
   "source": [
    "height = int(input(\"아이의 키를 입력하세요, 숫자로\"))\n",
    "age = int(input(\"아이의 나이를 입력하세요, 숫자로\"))\n",
    "\n",
    "if  height >= 100 and age>= 5:\n",
    "        print(f\"아이의 키는 {height}cm 입니다.\")\n",
    "        print(f\"아이의 나이는 {age}세 입니다.\")\n",
    "        print(\"놀이기구 탑승 가능\")\n",
    "else:\n",
    "    print(\"놀이기구 탑승 불가\")"
   ]
  },
  {
   "cell_type": "code",
   "execution_count": 23,
   "metadata": {},
   "outputs": [
    {
     "name": "stdout",
     "output_type": "stream",
     "text": [
      "False\n"
     ]
    }
   ],
   "source": [
    "print(True and False)"
   ]
  },
  {
   "cell_type": "code",
   "execution_count": 24,
   "metadata": {},
   "outputs": [
    {
     "name": "stdout",
     "output_type": "stream",
     "text": [
      "True\n"
     ]
    }
   ],
   "source": [
    "print(True or False)"
   ]
  },
  {
   "cell_type": "code",
   "execution_count": 25,
   "metadata": {},
   "outputs": [
    {
     "name": "stdout",
     "output_type": "stream",
     "text": [
      "False\n"
     ]
    }
   ],
   "source": [
    "print(not True)"
   ]
  },
  {
   "cell_type": "code",
   "execution_count": 27,
   "metadata": {},
   "outputs": [
    {
     "name": "stdout",
     "output_type": "stream",
     "text": [
      "학생입니다.\n"
     ]
    }
   ],
   "source": [
    "name = \"이도원\"\n",
    "\n",
    "if name != \"신동욱\":\n",
    "    print(\"학생입니다.\")\n",
    "else:\n",
    "    print(\"강사입니다.\")"
   ]
  },
  {
   "cell_type": "code",
   "execution_count": 28,
   "metadata": {},
   "outputs": [
    {
     "name": "stdout",
     "output_type": "stream",
     "text": [
      "학생입니다.\n"
     ]
    }
   ],
   "source": [
    "name = \"이도원\"\n",
    "\n",
    "if not name == \"신동욱\":\n",
    "    print(\"학생입니다.\")\n",
    "else:\n",
    "    print(\"강사입니다.\")"
   ]
  },
  {
   "cell_type": "code",
   "execution_count": 29,
   "metadata": {},
   "outputs": [
    {
     "name": "stdout",
     "output_type": "stream",
     "text": [
      "False\n"
     ]
    }
   ],
   "source": [
    "print( 5 == 3)"
   ]
  },
  {
   "cell_type": "code",
   "execution_count": 30,
   "metadata": {},
   "outputs": [
    {
     "name": "stdout",
     "output_type": "stream",
     "text": [
      "True\n"
     ]
    }
   ],
   "source": [
    "print (5 != 3)"
   ]
  },
  {
   "cell_type": "code",
   "execution_count": 31,
   "metadata": {},
   "outputs": [
    {
     "name": "stdout",
     "output_type": "stream",
     "text": [
      "True\n"
     ]
    }
   ],
   "source": [
    "print (5 > 3)"
   ]
  },
  {
   "cell_type": "code",
   "execution_count": 32,
   "metadata": {},
   "outputs": [
    {
     "name": "stdout",
     "output_type": "stream",
     "text": [
      "False\n"
     ]
    }
   ],
   "source": [
    "print ( 5 < 3)"
   ]
  },
  {
   "cell_type": "code",
   "execution_count": 33,
   "metadata": {},
   "outputs": [
    {
     "name": "stdout",
     "output_type": "stream",
     "text": [
      "False\n"
     ]
    }
   ],
   "source": [
    "print ((3 < 0) and ((-5 > 0) and (1 > 5)))"
   ]
  },
  {
   "cell_type": "code",
   "execution_count": 36,
   "metadata": {},
   "outputs": [
    {
     "name": "stdout",
     "output_type": "stream",
     "text": [
      "True\n"
     ]
    }
   ],
   "source": [
    "print((3 > 0) or (-5 > 0) and (1 > 5))"
   ]
  },
  {
   "cell_type": "code",
   "execution_count": null,
   "metadata": {},
   "outputs": [],
   "source": []
  }
 ],
 "metadata": {
  "kernelspec": {
   "display_name": "Python 3",
   "language": "python",
   "name": "python3"
  },
  "language_info": {
   "codemirror_mode": {
    "name": "ipython",
    "version": 3
   },
   "file_extension": ".py",
   "mimetype": "text/x-python",
   "name": "python",
   "nbconvert_exporter": "python",
   "pygments_lexer": "ipython3",
   "version": "3.8.3"
  }
 },
 "nbformat": 4,
 "nbformat_minor": 4
}
