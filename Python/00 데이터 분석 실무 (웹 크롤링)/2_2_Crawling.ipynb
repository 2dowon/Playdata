{
 "cells": [
  {
   "cell_type": "markdown",
   "metadata": {},
   "source": [
    "# 2.2. 웹크롤링 맛보기"
   ]
  },
  {
   "cell_type": "markdown",
   "metadata": {},
   "source": [
    "### 2.2.1 selenium과 크롬드라이버 설치"
   ]
  },
  {
   "cell_type": "code",
   "execution_count": null,
   "metadata": {},
   "outputs": [],
   "source": [
    "# 예제 2-34 selenium 라이브러리 불러오기\n",
    "from selenium import webdriver"
   ]
  },
  {
   "cell_type": "markdown",
   "metadata": {},
   "source": [
    "※ import 에러 날 경우 라이브러리 설치:   `!pip install selenium`"
   ]
  },
  {
   "cell_type": "code",
   "execution_count": null,
   "metadata": {},
   "outputs": [],
   "source": [
    "# 예제 2-35 selenium 설치하기 (미설치 된 경우에 진행)\n",
    "# ! pip install selenium"
   ]
  },
  {
   "cell_type": "raw",
   "metadata": {},
   "source": [
    "- 크롬드라이버 다운받기\n",
    "https://sites.google.com/a/chromium.org/chromedriver/downloads"
   ]
  },
  {
   "cell_type": "markdown",
   "metadata": {},
   "source": [
    "### 2.2.2 크롬드라이버 활용하기"
   ]
  },
  {
   "cell_type": "code",
   "execution_count": null,
   "metadata": {},
   "outputs": [],
   "source": [
    "# 예제 2-36 크롬브라우저 실행하기\n",
    "from selenium import webdriver\n",
    "driver = webdriver.Chrome('c:/playwithdata/chromedriver.exe')"
   ]
  },
  {
   "cell_type": "markdown",
   "metadata": {},
   "source": [
    "### 2.2.3 웹 페이지 접속\n"
   ]
  },
  {
   "cell_type": "code",
   "execution_count": null,
   "metadata": {},
   "outputs": [],
   "source": [
    "# 예제 2-37 URL 접속하기\n",
    "url = 'https://www.naver.com/'\n",
    "driver.get(url)\n"
   ]
  },
  {
   "cell_type": "markdown",
   "metadata": {},
   "source": [
    "### 2.2.4 웹 페이지(HTML) 다운로드"
   ]
  },
  {
   "cell_type": "code",
   "execution_count": null,
   "metadata": {},
   "outputs": [],
   "source": [
    "# 예제 2-38 웹페이지 html 다운로드 하기\n",
    "html = driver.page_source"
   ]
  },
  {
   "cell_type": "markdown",
   "metadata": {},
   "source": [
    "### 2.2.5 HTML 구조 살펴보기\n"
   ]
  },
  {
   "cell_type": "code",
   "execution_count": null,
   "metadata": {},
   "outputs": [],
   "source": [
    "# 예제 2-39 HTML 구조\n",
    "<html>\n",
    "    <head>\n",
    "    </head>\n",
    "    <body>\n",
    "        <h1> 우리동네시장</h1>\n",
    "            <div class = 'sale'>\n",
    "                <p id='fruits1' class='fruits'>\n",
    "                    <span class = 'name'> 바나나 </span>\n",
    "                    <span class = 'price'> 3000원 </span>\n",
    "                    <span class = 'inventory'> 500개 </span>\n",
    "                    <span class = 'store'> 가나다상회 </span>\n",
    "                    <a href = 'http://bit.ly/forPlaywithData' > 홈페이지 </a>\n",
    "                </p>\n",
    "            </div>\n",
    "            <div class = 'prepare'>\n",
    "                <p id='fruits2' class='fruits'>\n",
    "                    <span class ='name'> 파인애플 </span>\n",
    "                </p>\n",
    "            </div>\n",
    "    </body>\n",
    "</html>"
   ]
  },
  {
   "cell_type": "markdown",
   "metadata": {},
   "source": [
    "### 2.2.7 BeautifulSoup을 이용한 정보 찾기\n"
   ]
  },
  {
   "cell_type": "code",
   "execution_count": null,
   "metadata": {},
   "outputs": [],
   "source": [
    "# 예제 2-40 실습용 HTML\n",
    "html = '''\n",
    "<html>\n",
    "    <head>\n",
    "    </head>\n",
    "    <body>\n",
    "        <h1> 우리동네시장</h1>\n",
    "            <div class = 'sale'>\n",
    "                <p id='fruits1' class='fruits'>\n",
    "                    <span class = 'name'> 바나나 </span>\n",
    "                    <span class = 'price'> 3000원 </span>\n",
    "                    <span class = 'inventory'> 500개 </span>\n",
    "                    <span class = 'store'> 가나다상회 </span>\n",
    "                    <a href = 'http://bit.ly/forPlaywithData' > 홈페이지 </a>\n",
    "                </p>\n",
    "            </div>\n",
    "            <div class = 'prepare'>\n",
    "                <p id='fruits2' class='fruits'>\n",
    "                    <span class ='name'> 파인애플 </span>\n",
    "                </p>\n",
    "            </div>\n",
    "    </body>\n",
    "</html>\n",
    "'''\n"
   ]
  },
  {
   "cell_type": "code",
   "execution_count": null,
   "metadata": {},
   "outputs": [],
   "source": [
    "# 예제 2-41 HTML 문자열 BeautifulSoup 으로 해석하기\n",
    "from bs4 import BeautifulSoup\n",
    "\n",
    "soup = BeautifulSoup(html, 'html.parser')"
   ]
  },
  {
   "cell_type": "markdown",
   "metadata": {},
   "source": [
    "### 2.2.8 HTML 정보 찾기 ① - 태그 속성 활용\n"
   ]
  },
  {
   "cell_type": "code",
   "execution_count": null,
   "metadata": {},
   "outputs": [],
   "source": [
    "# 예제 2-42 태그명으로 태그 찾기\n",
    "tags_span = soup.select('span')\n",
    "tags_p = soup.select('p')"
   ]
  },
  {
   "cell_type": "code",
   "execution_count": null,
   "metadata": {},
   "outputs": [],
   "source": [
    "# 예제 2-43 id와 class로 태그 찾기\n",
    "ids_fruits1 = soup.select('#fruits1')\n",
    "class_price = soup.select('.price')\n",
    "tags_span_class_price = soup.select('span.price')"
   ]
  },
  {
   "cell_type": "markdown",
   "metadata": {},
   "source": [
    "### 2.2.9 HTML 정보 찾기 ② - 상위 구조 활용"
   ]
  },
  {
   "cell_type": "code",
   "execution_count": null,
   "metadata": {},
   "outputs": [],
   "source": [
    "# 예제 2-44 태그 구조로 위치 찾기①\n",
    "tags_name = soup.select('span.name')\n",
    "print(tags_name)"
   ]
  },
  {
   "cell_type": "code",
   "execution_count": null,
   "metadata": {},
   "outputs": [],
   "source": [
    "# 예제 2-45 태그 구조로 위치 찾기②\n",
    "tags_banana1 = soup.select('#fruits1 > span.name')\n",
    "print(tags_banana1)"
   ]
  },
  {
   "cell_type": "code",
   "execution_count": null,
   "metadata": {},
   "outputs": [],
   "source": [
    "# 예제 2-46 태그 구조로 위치 찾기③\n",
    "tags_banana2 = soup.select('div.sale > #fruits1 > span.name')\n",
    "tags_banana3 = soup.select('div.sale span.name')\n",
    "print(tags_banana2)\n",
    "print(tags_banana3)"
   ]
  },
  {
   "cell_type": "markdown",
   "metadata": {},
   "source": [
    "### 2.2.10 정보 가져오기 ① - 태그 그룹에서 하나의 태그 선택하기\n"
   ]
  },
  {
   "cell_type": "code",
   "execution_count": null,
   "metadata": {},
   "outputs": [],
   "source": [
    "# 예제 2-47 태그 그룹에서 하나의 태그만 선택하기\n",
    "tags = soup.select('span.name')\n",
    "tag_1 = tags[0]    #인덱스 번호로 하나의 태그 지정하기\n",
    "print(tag_1)"
   ]
  },
  {
   "cell_type": "code",
   "execution_count": null,
   "metadata": {},
   "outputs": [],
   "source": [
    "# 예제 2-48 태그 그룹에서 반복문으로 태그 하나씩 선택하기\n",
    "tags = soup.select('span.name')\n",
    "for tag in tags:      # 반복문으로 태그 그룹에서 각각의 태그 선택하여 활용하기\n",
    "    print(tag)"
   ]
  },
  {
   "cell_type": "markdown",
   "metadata": {},
   "source": [
    "### 2.2.11 정보 가져오기 ② - 선택한 태그에서 정보 가져오기"
   ]
  },
  {
   "cell_type": "code",
   "execution_count": null,
   "metadata": {},
   "outputs": [],
   "source": [
    "# 예제 2-49 태그에서 정보 가져오기\n",
    "content = tag.text   # 태그에서 화면에 보이는 텍스트 부분만 가져오기\n",
    "attribute = tag['속성명']  # 태그 내 속성값 가져오기\n"
   ]
  },
  {
   "cell_type": "code",
   "execution_count": null,
   "metadata": {},
   "outputs": [],
   "source": [
    "# 예제 2-50 선택한 태그에서 텍스트, 속성 값 가져오기\n",
    "tags = soup.select('a')\n",
    "tag = tags[0]\n",
    "content = tag.text\n",
    "print(content)\n",
    "link = tag['href']\n",
    "print(link)\n"
   ]
  },
  {
   "cell_type": "markdown",
   "metadata": {},
   "source": [
    "### 2.2.12 멜론 노래 순위 정보 크롤링①"
   ]
  },
  {
   "cell_type": "markdown",
   "metadata": {},
   "source": [
    "※ 경로지정시  `슬러시 (/) 사용` \n",
    "    * 역슬러시(\\) X  : unicode 에러 발생 가능\n",
    "    * 슬러시(/)  O"
   ]
  },
  {
   "cell_type": "markdown",
   "metadata": {},
   "source": [
    "※ 멜론 사이트 개편으로 인해, 크롤링 진행 코드가 변경되었습니다. (updated 2020.07.13)"
   ]
  },
  {
   "cell_type": "code",
   "execution_count": null,
   "metadata": {},
   "outputs": [],
   "source": [
    "# 예제 2-51 크롬드라이버 실행\n",
    "from selenium import webdriver\n",
    "driver = webdriver.Chrome('c:/playwithdata/chromedriver.exe')"
   ]
  },
  {
   "cell_type": "code",
   "execution_count": null,
   "metadata": {},
   "outputs": [],
   "source": [
    "# 예제 2-52 멜론 인기차트 웹페이지 접속하기\n",
    "url = 'http://www.melon.com/chart/index.htm'\n",
    "driver.get(url)"
   ]
  },
  {
   "cell_type": "code",
   "execution_count": null,
   "metadata": {},
   "outputs": [],
   "source": [
    "# 예제 2-53 HTML 다운로드 및 BeautifulSoup으로 읽기\n",
    "from bs4 import BeautifulSoup\n",
    "html = driver.page_source\n",
    "soup = BeautifulSoup(html, 'html.parser')"
   ]
  },
  {
   "cell_type": "code",
   "execution_count": null,
   "metadata": {},
   "outputs": [],
   "source": [
    "# 예제 2-54-1  100개의 노래 태그 찾기  --> 사이트 개편으로 코드 변경됨(updated 2020.07.13)\n",
    "songs = soup.select('tr')  \n",
    "print(len(songs))\n",
    "print(songs[0])"
   ]
  },
  {
   "cell_type": "code",
   "execution_count": null,
   "metadata": {},
   "outputs": [],
   "source": [
    "# 예제 2-54-2  추가내용(updated 2020.07.13)\n",
    "# 100개의 곡을 찾고 싶으나, 101개의 태그 뭉치가 검색됨    len(songs)  -->  101 \n",
    "# 101개 중 첫 번째 태그 뭉치(songs[0]) 을 살펴보니 표에서 컬럼제목(곡정보/앨범/좋아요... )을 나타내고 있음\n",
    "# 101개 중 첫 번째는 컬럼 제목,   두 번째 부터 끝까지,  남은 100개는 노래 정보 일 것으로 예상됨\n",
    "\n",
    "songs = soup.select('tr')[1:]     # 첫 번째는 제외하고, 두 번째(인덱스번호 1) 부터 끝까지만 선택\n",
    "print(len(songs))                 # 100  으로   정리하고 싶은 노래 개수에 맞게 선택됨\n",
    "print(songs[0])                   # 그 중 첫 번째 태그를 보니, 1위 곡으로 조회됨"
   ]
  },
  {
   "cell_type": "code",
   "execution_count": null,
   "metadata": {},
   "outputs": [],
   "source": [
    "# 예제 2-55 한 개의 곡 정보 지정하기\n",
    "song = songs[0]"
   ]
  },
  {
   "cell_type": "code",
   "execution_count": null,
   "metadata": {},
   "outputs": [],
   "source": [
    "# 예제 2-56 곡 제목 찾기 1\n",
    "title = song.select('a')\n",
    "len(title)"
   ]
  },
  {
   "cell_type": "code",
   "execution_count": null,
   "metadata": {},
   "outputs": [],
   "source": [
    "# 예제 2-57 곡 제목 찾기 2\n",
    "title = song.select('span > a')\n",
    "len(title)"
   ]
  },
  {
   "cell_type": "code",
   "execution_count": null,
   "metadata": {},
   "outputs": [],
   "source": [
    "# 예제 2-58 곡 제목 찾기 3\n",
    "title = song.select('div.ellipsis.rank01 > span > a')\n",
    "len(title)"
   ]
  },
  {
   "cell_type": "code",
   "execution_count": null,
   "metadata": {},
   "outputs": [],
   "source": [
    "# 예제 2-59 곡 제목 가져오기\n",
    "title = song.select('div.ellipsis.rank01 > span > a')[0].text\n",
    "title"
   ]
  },
  {
   "cell_type": "code",
   "execution_count": null,
   "metadata": {},
   "outputs": [],
   "source": [
    "# 예제 2-60 가수 찾기\n",
    "singer = song.select('div.ellipsis.rank02 > a')\n",
    "len(singer)"
   ]
  },
  {
   "cell_type": "code",
   "execution_count": null,
   "metadata": {},
   "outputs": [],
   "source": [
    "# 예제 2-61 가수 정보 가져오기\n",
    "singer = song.select('div.ellipsis.rank02 > a')[0].text\n",
    "singer"
   ]
  },
  {
   "cell_type": "code",
   "execution_count": null,
   "metadata": {},
   "outputs": [],
   "source": [
    "# 예제 2-62 멜론 50위 노래순위 정보 가져오기\n",
    "for song in songs:                                        \n",
    "    title = song.select('div.ellipsis.rank01 > span > a')[0].text\n",
    "    singer = song.select ('div.ellipsis.rank02 > a')[0].text  \n",
    "    print(title, singer, sep = ' | ')"
   ]
  },
  {
   "cell_type": "code",
   "execution_count": null,
   "metadata": {},
   "outputs": [],
   "source": [
    "# 예제 2-63 멜론 인기차트 중 상위 50곡 크롤링(정리)  # 멜론 사이트 개편으로 코드 수정(updated 2020.07.13)\n",
    "driver = webdriver.Chrome('c:/playwithdata/chromedriver.exe')     \n",
    "url = 'http://www.melon.com/chart/index.htm'\n",
    "driver.get(url)          \n",
    "html = driver.page_source\n",
    "soup = BeautifulSoup(html, 'html.parser')\n",
    "                               \n",
    "songs = soup.select('tr')[1:]     # 멜론 사이트 개편으로 코드 수정(updated 2020.07.13)\n",
    "for song in songs:                                        \n",
    "    title = song.select('div.ellipsis.rank01 > span > a')[0].text\n",
    "    singer = song.select ('div.ellipsis.rank02 > a')[0].text  \n",
    "    print(title, singer, sep = ' | ')"
   ]
  },
  {
   "cell_type": "markdown",
   "metadata": {},
   "source": [
    "### 2.2.13 selenium을 활용한 크롤링"
   ]
  },
  {
   "cell_type": "code",
   "execution_count": null,
   "metadata": {},
   "outputs": [],
   "source": [
    "# 예제 2-64 멜론 인기차트 중 상위 50곡 크롤링(selenium만 활용)\n",
    "driver = webdriver.Chrome('c:/playwithdata/chromedriver.exe')     \n",
    "url = 'http://www.melon.com/chart/index.htm'\n",
    "driver.get(url)          \n",
    "                                \n",
    "songs = driver.find_elements_by_css_selector('tr')[1:]     # 멜론 사이트 개편으로 코드 수정(updated 2020.07.13)\n",
    "for song in songs:                                        \n",
    "    title = song.find_elements_by_css_selector('div.ellipsis.rank01 > span > a')[0].text\n",
    "    singer = song.find_elements_by_css_selector('div.ellipsis.rank02 > a')[0].text  \n",
    "    print(title, singer, sep = ' | ')"
   ]
  }
 ],
 "metadata": {
  "anaconda-cloud": {},
  "kernelspec": {
   "display_name": "Python 3",
   "language": "python",
   "name": "python3"
  },
  "language_info": {
   "codemirror_mode": {
    "name": "ipython",
    "version": 3
   },
   "file_extension": ".py",
   "mimetype": "text/x-python",
   "name": "python",
   "nbconvert_exporter": "python",
   "pygments_lexer": "ipython3",
   "version": "3.8.3"
  }
 },
 "nbformat": 4,
 "nbformat_minor": 1
}
