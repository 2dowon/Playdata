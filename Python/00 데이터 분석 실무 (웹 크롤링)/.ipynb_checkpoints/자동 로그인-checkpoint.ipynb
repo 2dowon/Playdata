{
 "cells": [
  {
   "cell_type": "markdown",
   "metadata": {},
   "source": [
    "### 네이버 자동 로그인"
   ]
  },
  {
   "cell_type": "markdown",
   "metadata": {},
   "source": [
    "#### 네이버 로그인 창에 들어가서 아이디, 비밀번호를 입력하지만 인증을 해야되는 문제 발생"
   ]
  },
  {
   "cell_type": "code",
   "execution_count": 12,
   "metadata": {},
   "outputs": [],
   "source": [
    "from selenium import webdriver\n",
    "\n",
    "driver = webdriver.Chrome('c:/chromedriver')\n",
    "url = 'https://www.naver.com/'\n",
    "driver.get(url)\n",
    "\n",
    "driver.find_element_by_xpath('//*[@id=\"account\"]/a').click()\n",
    "\n",
    "naver_id = \"\" \n",
    "naver_pw = \"\"\n",
    "\n",
    "driver.find_element_by_id(\"id\").send_keys(naver_id)\n",
    "driver.find_element_by_id(\"pw\").send_keys(naver_pw)\n",
    "\n",
    "driver.find_element_by_xpath('//*[@id=\"log.login\"]').click()"
   ]
  },
  {
   "cell_type": "markdown",
   "metadata": {},
   "source": [
    "#### 네이버 보안을 자바스크립트로 뚫어서 해결"
   ]
  },
  {
   "cell_type": "code",
   "execution_count": null,
   "metadata": {},
   "outputs": [],
   "source": [
    "from selenium import webdriver\n",
    "\n",
    "driver = webdriver.Chrome('c:/chromedriver')\n",
    "url = 'https://www.naver.com/'\n",
    "driver.get(url)\n",
    "\n",
    "driver.find_element_by_xpath('//*[@id=\"account\"]/a').click()\n",
    "\n",
    "naver_id = \"\" \n",
    "naver_pw = \"\"\n",
    "\n",
    "# 일반적으로 사람이 작성하는 형태 => 네이버 보안에서 막힌다\n",
    "# driver.find_element_by_id(\"id\").send_keys(naver_id)\n",
    "# driver.find_element_by_id(\"pw\").send_keys(naver_pw)\n",
    "\n",
    "# 네이버 보안에서 자바 스크립트를 통해서 보안을 뚫습니다 / 해킹이 될 수 있는 ㅇ소\n",
    "driver.execute_script(\"document.getElementsByName('id')[0].value=\\'\"+naver_id+\"\\'\")\n",
    "driver.execute_script(\"document.getElementsByName('pw')[0].value=\\'\"+naver_pw+\"\\'\")\n",
    "\n",
    "driver.find_element_by_xpath('//*[@id=\"log.login\"]').click()"
   ]
  },
  {
   "cell_type": "markdown",
   "metadata": {},
   "source": [
    "### 구글 자동 로그인"
   ]
  },
  {
   "cell_type": "code",
   "execution_count": 44,
   "metadata": {},
   "outputs": [],
   "source": [
    "from selenium import webdriver\n",
    "from time import sleep\n",
    "\n",
    "driver = webdriver.Chrome('c:/chromedriver')\n",
    "url = 'https://www.google.com/'\n",
    "\n",
    "driver.implicitly_wait(3)\n",
    "\n",
    "driver.get(url)\n",
    "\n",
    "google_email = \"\" \n",
    "google_pw = \"\"\n",
    "\n",
    "driver.find_element_by_xpath('//*[@id=\"gb_70\"]').click()\n",
    "driver.find_element_by_xpath('//input[@type=\"email\"]').send_keys(google_email)\n",
    "driver.find_element_by_xpath('//*[@id=\"identifierNext\"]').click()\n",
    "sleep(3)\n",
    "driver.find_element_by_xpath('//input[@type=\"password\"]').send_keys(google_pw)\n",
    "driver.find_element_by_xpath('//*[@id=\"passwordNext\"]').click()\n",
    "sleep(2)"
   ]
  },
  {
   "cell_type": "markdown",
   "metadata": {},
   "source": [
    "#### 구글 로그인 선생님 코드 (gmail로 로그인)"
   ]
  },
  {
   "cell_type": "code",
   "execution_count": 46,
   "metadata": {},
   "outputs": [],
   "source": [
    "# gmail.com\n",
    "# 2단계 인증 중지 : https://support.google.com/accounts/answer/1064203?co=GENIE.Platform%3DDesktop&hl=ko\n",
    "from selenium import webdriver\n",
    "from selenium.webdriver.common.keys import Keys\n",
    "import time\n",
    "\n",
    "driver = webdriver.Chrome('C:/chromedriver')\n",
    "driver.implicitly_wait(3)\n",
    "driver.get('https://accounts.google.com/ServiceLogin/identifier?service=mail&passive=true&rm=false&continue=https%3A%2F%2Fmail.google.com%2Fmail%2F&ss=1&scc=1&ltmpl=default&ltmplcache=2&emr=1&osid=1&flowName=GlifWebSignIn&flowEntry=AddSession')\n",
    "\n",
    "driver.find_element_by_id('identifierId').send_keys('이메일주소') # 본인 이메일 계정을 입력해주세요\n",
    "driver.find_element_by_xpath('//*[@id=\"identifierNext\"]/div/button/div[2]').click()\n",
    "\n",
    "time.sleep(1)\n",
    "\n",
    "driver.find_element_by_name('password').send_keys('비밀번호') # 본인 비밀번호 입력해주세요\n",
    "# driver.find_element_by_xpath('//*[@id=\"passwordNext\"]/span').click() # 안 눌러짐\n",
    "# https://wkdtjsgur100.github.io/selenium-does-not-work-to-click/ 참조!\n",
    "driver.find_element_by_xpath('//*[@id=\"passwordNext\"]/div/button').send_keys(Keys.ENTER)\n",
    "\n",
    "# driver.close()"
   ]
  },
  {
   "cell_type": "markdown",
   "metadata": {},
   "source": [
    "### 다음 자동 로그인"
   ]
  },
  {
   "cell_type": "code",
   "execution_count": 42,
   "metadata": {},
   "outputs": [],
   "source": [
    "from selenium import webdriver\n",
    "from time import sleep\n",
    "\n",
    "driver = webdriver.Chrome('c:/chromedriver')\n",
    "url = 'https://www.daum.net/'\n",
    "\n",
    "driver.implicitly_wait(3)\n",
    "\n",
    "driver.get(url)\n",
    "\n",
    "daum_email = \"\" \n",
    "daum_pw = \"\"\n",
    "\n",
    "driver.find_element_by_xpath('//*[@id=\"inner_login\"]/a[1]').click()\n",
    "sleep(3)\n",
    "driver.find_element_by_xpath('//input[@type=\"email\"]').send_keys(daum_email)\n",
    "driver.find_element_by_xpath('//input[@type=\"password\"]').send_keys(daum_pw)\n",
    "sleep(3)\n",
    "driver.find_element_by_xpath('//*[@id=\"loginBtn\"]').click()"
   ]
  },
  {
   "cell_type": "markdown",
   "metadata": {},
   "source": [
    "---"
   ]
  },
  {
   "cell_type": "markdown",
   "metadata": {},
   "source": [
    "### 선생님 코드 => 복사, 붙여넣기를 이용"
   ]
  },
  {
   "cell_type": "markdown",
   "metadata": {},
   "source": [
    "#### 네이버"
   ]
  },
  {
   "cell_type": "code",
   "execution_count": 48,
   "metadata": {},
   "outputs": [
    {
     "name": "stdout",
     "output_type": "stream",
     "text": [
      "Collecting pyperclip\n",
      "  Downloading pyperclip-1.8.1.tar.gz (20 kB)\n",
      "Building wheels for collected packages: pyperclip\n",
      "  Building wheel for pyperclip (setup.py): started\n",
      "  Building wheel for pyperclip (setup.py): finished with status 'done'\n",
      "  Created wheel for pyperclip: filename=pyperclip-1.8.1-py3-none-any.whl size=11124 sha256=d6a98ee7b26587a3373fe4ec3f3ce6fe95df27d2c74cbf0ad88c7e8101b8faad\n",
      "  Stored in directory: c:\\users\\playdata\\appdata\\local\\pip\\cache\\wheels\\67\\0c\\ba\\1468f38115898442e13f99a19a8dcf1e0ca73488053ef7b388\n",
      "Successfully built pyperclip\n",
      "Installing collected packages: pyperclip\n",
      "Successfully installed pyperclip-1.8.1\n"
     ]
    }
   ],
   "source": [
    "!pip install pyperclip"
   ]
  },
  {
   "cell_type": "code",
   "execution_count": 50,
   "metadata": {},
   "outputs": [
    {
     "name": "stdout",
     "output_type": "stream",
     "text": [
      "네이버 아이디: dwon424\n",
      "네이버 비밀번호: muse_151394\n"
     ]
    }
   ],
   "source": [
    "from selenium import webdriver\n",
    "from selenium.webdriver.common.action_chains import ActionChains\n",
    "from selenium.webdriver.common.keys import Keys\n",
    "\n",
    "# from bs4 import BeautifulSoup\n",
    "import pyperclip \n",
    "import time\n",
    "\n",
    "def clipboard_input(self, user_xpath, user_input):\n",
    "    pyperclip.copy(user_input) # input을 클립보드로 복사\n",
    "    driver.find_element_by_xpath(user_xpath).click() # element focus 설정\n",
    "    ActionChains(driver).key_down(Keys.CONTROL).send_keys('v').key_up(Keys.CONTROL).perform() # ctrl + v 전달\n",
    "\n",
    "driver=webdriver.Chrome('C:\\chromedriver.exe')\n",
    "\n",
    "driver.get(\"https://nid.naver.com/nidlogin.login\")\n",
    "IDxPath='//*[@id=\"id\"]'\n",
    "PasswordxPath='//*[@id=\"pw\"]'\n",
    "\n",
    "ID=input(\"네이버 아이디: \")\n",
    "Password=input(\"네이버 비밀번호: \")\n",
    "\n",
    "clipboard_input(driver, IDxPath, ID)\n",
    "clipboard_input(driver,PasswordxPath,Password)\n",
    "driver.find_element_by_xpath('//*[@value=\"로그인\"]').click()"
   ]
  },
  {
   "cell_type": "markdown",
   "metadata": {},
   "source": [
    "##### 팝업창 안 뜨는 버전 (근데 자동로그인이 확인되는지는..?)"
   ]
  },
  {
   "cell_type": "code",
   "execution_count": 51,
   "metadata": {},
   "outputs": [
    {
     "name": "stdout",
     "output_type": "stream",
     "text": [
      "네이버 아이디: dwon424\n",
      "네이버 비밀번호: muse_151394\n"
     ]
    }
   ],
   "source": [
    "from selenium import webdriver\n",
    "from selenium.webdriver.common.action_chains import ActionChains\n",
    "from selenium.webdriver.common.keys import Keys\n",
    "\n",
    "options = webdriver.ChromeOptions()\n",
    "options.add_argument('headless')\n",
    "options.add_argument('window-size=1920x1080')\n",
    "options.add_argument(\"disable-gpu\")\n",
    "# 혹은 options.add_argument(\"--disable-gpu\")\n",
    "\n",
    "# from bs4 import BeautifulSoup\n",
    "import pyperclip \n",
    "import time\n",
    "\n",
    "def clipboard_input(self, user_xpath, user_input):\n",
    "    pyperclip.copy(user_input) # input을 클립보드로 복사\n",
    "    driver.find_element_by_xpath(user_xpath).click() # element focus 설정\n",
    "    ActionChains(driver).key_down(Keys.CONTROL).send_keys('v').key_up(Keys.CONTROL).perform() # ctrl + v 전달\n",
    "\n",
    "driver = webdriver.Chrome('c:/chromedriver.exe', options=options)\n",
    "\n",
    "driver.get(\"https://nid.naver.com/nidlogin.login\")\n",
    "IDxPath='//*[@id=\"id\"]'\n",
    "PasswordxPath='//*[@id=\"pw\"]'\n",
    "\n",
    "ID=input(\"네이버 아이디: \")\n",
    "Password=input(\"네이버 비밀번호: \")\n",
    "\n",
    "clipboard_input(driver, IDxPath, ID)\n",
    "clipboard_input(driver,PasswordxPath,Password)\n",
    "driver.find_element_by_xpath('//*[@value=\"로그인\"]').click()"
   ]
  },
  {
   "cell_type": "markdown",
   "metadata": {},
   "source": [
    "#### 구글"
   ]
  },
  {
   "cell_type": "code",
   "execution_count": 54,
   "metadata": {},
   "outputs": [],
   "source": [
    "# gmail.com\n",
    "# 2단계 인증 중지 : https://support.google.com/accounts/answer/1064203?co=GENIE.Platform%3DDesktop&hl=ko\n",
    "from selenium import webdriver\n",
    "from selenium.webdriver.common.keys import Keys\n",
    "import time\n",
    "\n",
    "driver = webdriver.Chrome('C:/chromedriver')\n",
    "driver.implicitly_wait(3)\n",
    "driver.get('https://accounts.google.com/ServiceLogin/identifier?service=mail&passive=true&rm=false&continue=https%3A%2F%2Fmail.google.com%2Fmail%2F&ss=1&scc=1&ltmpl=default&ltmplcache=2&emr=1&osid=1&flowName=GlifWebSignIn&flowEntry=AddSession')\n",
    "\n",
    "driver.find_element_by_id('identifierId').send_keys('이메일') # 본인 이메일 계정을 입력해주세요\n",
    "driver.find_element_by_xpath('//*[@id=\"identifierNext\"]/div/button/div[2]').click()\n",
    "\n",
    "time.sleep(1)\n",
    "\n",
    "driver.find_element_by_name('password').send_keys('비밀번호') # 본인 비밀번호 입력해주세요\n",
    "# driver.find_element_by_xpath('//*[@id=\"passwordNext\"]/span').click() # 안 눌러짐\n",
    "# https://wkdtjsgur100.github.io/selenium-does-not-work-to-click/ 참조!\n",
    "driver.find_element_by_xpath('//*[@id=\"passwordNext\"]/div/button').send_keys(Keys.ENTER)\n",
    "\n",
    "# driver.close()"
   ]
  },
  {
   "cell_type": "markdown",
   "metadata": {},
   "source": [
    "#### 다음"
   ]
  },
  {
   "cell_type": "code",
   "execution_count": null,
   "metadata": {},
   "outputs": [],
   "source": [
    "from selenium import webdriver\n",
    "\n",
    "driver = webdriver.Chrome('c:/chromedriver.exe')\n",
    "url = 'https://accounts.kakao.com/login?continue=https%3A%2F%2Flogins.daum.net%2Faccounts%2Fksso.do%3Frescue%3Dtrue%26url%3Dhttps%253A%252F%252Fwww.daum.net%252F'\n",
    "driver.get(url)\n",
    "\n",
    "kakao_id = input('카카오 아이디를 입력하세요 : ')\n",
    "kakao_pw = input('카카오 비밀번호를 입력하세요 : ')\n",
    "\n",
    "# 다음 보안에서 자바 스크립트를 통해서 보안을 뚫습니다. / 해킹이 될 수 있는 요소\n",
    "# 이 코드가 동작하는 조건은 리캡차가 동작하지 않는 홈페이지로 올라 왔을 때는 이 코드로 됨\n",
    "\n",
    "driver.execute_script(\"document.getElementsByName('email')[0].value=\\'\"+kakao_id+\"\\'\")\n",
    "driver.execute_script(\"document.getElementsByName('password')[0].value=\\'\"+kakao_pw+\"\\'\")\n",
    "\n",
    "driver.find_element_by_xpath('//*[@id=\"login-form\"]/fieldset/div[8]/button[1]').click()"
   ]
  },
  {
   "cell_type": "markdown",
   "metadata": {},
   "source": [
    "#### 로봇이 아닙니다 버튼이 생길 경우"
   ]
  },
  {
   "cell_type": "code",
   "execution_count": null,
   "metadata": {},
   "outputs": [],
   "source": [
    "from selenium import webdriver\n",
    "from selenium.webdriver.common.action_chains import ActionChains\n",
    "from selenium.webdriver.common.keys import Keys\n",
    "\n",
    "# from bs4 import BeautifulSoup\n",
    "import pyperclip \n",
    "import time\n",
    "\n",
    "def clipboard_input(self, user_xpath, user_input):\n",
    "    pyperclip.copy(user_input) # input을 클립보드로 복사\n",
    "    driver.find_element_by_xpath(user_xpath).click() # element focus 설정\n",
    "    ActionChains(driver).key_down(Keys.CONTROL).send_keys('v').key_up(Keys.CONTROL).perform() # ctrl + v 전달\n",
    "\n",
    "driver=webdriver.Chrome('C:\\chromedriver.exe')\n",
    "\n",
    "driver.get(\"https://accounts.kakao.com/login?continue=https%3A%2F%2Flogins.daum.net%2Faccounts%2Fksso.do%3Frescue%3Dtrue%26url%3Dhttps%253A%252F%252Fwww.daum.net%252F\")\n",
    "IDxPath='//*[@id=\"id_email_2\"]'\n",
    "PasswordxPath='//*[@id=\"id_password_3\"]'\n",
    "\n",
    "ID=input(\"카카오 아이디: \")\n",
    "Password=input(\"카카오 비밀번호: \")\n",
    "\n",
    "clipboard_input(driver, IDxPath, ID)\n",
    "clipboard_input(driver,PasswordxPath,Password)\n",
    "driver.find_element_by_xpath('//*[@id=\"login-form\"]/fieldset/div[8]/button[1]').click()"
   ]
  },
  {
   "cell_type": "markdown",
   "metadata": {},
   "source": [
    "### 웹 드라이버 자동 설치"
   ]
  },
  {
   "cell_type": "code",
   "execution_count": 55,
   "metadata": {},
   "outputs": [
    {
     "name": "stdout",
     "output_type": "stream",
     "text": [
      "Collecting chromedriver_autoinstaller\n",
      "  Downloading chromedriver_autoinstaller-0.2.2-py3-none-any.whl (5.9 kB)\n",
      "Installing collected packages: chromedriver-autoinstaller\n",
      "Successfully installed chromedriver-autoinstaller-0.2.2\n"
     ]
    }
   ],
   "source": [
    "!pip install chromedriver_autoinstaller"
   ]
  },
  {
   "cell_type": "code",
   "execution_count": 58,
   "metadata": {},
   "outputs": [],
   "source": [
    "# 웹 드라이버 자동 설치 및 동작 확인(네이버 로그인)\n",
    "\n",
    "from selenium import webdriver as wd \n",
    "import chromedriver_autoinstaller\n",
    "import time\n",
    "\n",
    "# 자동으로 chomedriver를 설치 해 줌 (크롬 브라우저 버전에 대해 신경쓰지 않아도 된다)\n",
    "path = chromedriver_autoinstaller.install() \n",
    "driver = wd.Chrome(path)\n",
    "\n",
    "# 접속할 url\n",
    "url = \"https://nid.naver.com/nidlogin.login\"\n",
    "\n",
    "# 접속 시도\n",
    "driver.get(url)\n",
    "\n",
    "# 홈페이지 뜰 때까지 대기\n",
    "time.sleep(1)\n",
    "\n",
    "# 웹 드라이버 닫기\n",
    "driver.close()\n",
    "# driver.quit()"
   ]
  },
  {
   "cell_type": "code",
   "execution_count": null,
   "metadata": {},
   "outputs": [],
   "source": []
  }
 ],
 "metadata": {
  "kernelspec": {
   "display_name": "Python 3",
   "language": "python",
   "name": "python3"
  },
  "language_info": {
   "codemirror_mode": {
    "name": "ipython",
    "version": 3
   },
   "file_extension": ".py",
   "mimetype": "text/x-python",
   "name": "python",
   "nbconvert_exporter": "python",
   "pygments_lexer": "ipython3",
   "version": "3.8.3"
  }
 },
 "nbformat": 4,
 "nbformat_minor": 4
}
