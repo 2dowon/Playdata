{
 "cells": [
  {
   "cell_type": "code",
   "execution_count": 1,
   "metadata": {},
   "outputs": [],
   "source": [
    "import urllib.request\n",
    "client_id = \"oPVEVEuzzTqTkOY3acir\"\n",
    "client_secret =\"z69IwZ6tYa\""
   ]
  },
  {
   "cell_type": "code",
   "execution_count": 2,
   "metadata": {},
   "outputs": [
    {
     "data": {
      "text/plain": [
       "'https://openapi.naver.com/v1/search/blog.json?query=%ED%94%8C%EB%A0%88%EC%9D%B4%EB%8D%B0%EC%9D%B4%ED%84%B0'"
      ]
     },
     "execution_count": 2,
     "metadata": {},
     "output_type": "execute_result"
    }
   ],
   "source": [
    "encText = urllib.parse.quote(\"플레이데이터\")\n",
    "url = \"https://openapi.naver.com/v1/search/blog.json?query=\" + encText\n",
    "url"
   ]
  },
  {
   "cell_type": "code",
   "execution_count": 3,
   "metadata": {},
   "outputs": [],
   "source": [
    "request = urllib.request.Request(url)\n",
    "request.add_header(\"X-Naver-Client-Id\", client_id)\n",
    "request.add_header(\"X-Naver-Client-Secret\", client_secret)"
   ]
  },
  {
   "cell_type": "code",
   "execution_count": 4,
   "metadata": {},
   "outputs": [
    {
     "name": "stdout",
     "output_type": "stream",
     "text": [
      "200\n"
     ]
    }
   ],
   "source": [
    "response = urllib.request.urlopen(request)\n",
    "print(response.getcode()) # 상태코드를 확인하기위해"
   ]
  },
  {
   "cell_type": "code",
   "execution_count": 5,
   "metadata": {},
   "outputs": [
    {
     "data": {
      "text/plain": [
       "http.client.HTTPResponse"
      ]
     },
     "execution_count": 5,
     "metadata": {},
     "output_type": "execute_result"
    }
   ],
   "source": [
    "type(response)"
   ]
  },
  {
   "cell_type": "code",
   "execution_count": 7,
   "metadata": {},
   "outputs": [
    {
     "name": "stdout",
     "output_type": "stream",
     "text": [
      "{\n",
      "\"lastBuildDate\": \"Fri, 06 Nov 2020 15:45:22 +0900\",\n",
      "\"total\": 225397,\n",
      "\"start\": 1,\n",
      "\"display\": 10,\n",
      "\"items\": [\n",
      "{\n",
      "\"title\": \"리뷰) <b>플레이데이터</b> 딥러닝 융합과정 1기 후기\",\n",
      "\"link\": \"https:\\/\\/blog.naver.com\\/deet1107?Redirect=Log&logNo=221400844393\",\n",
      "\"description\": \"<b>플레이데이터</b>는 데이터 컨설팅으로 유명한 엔코아의 교육회사다. 엑셀 반복 작업에 지쳐서 파이썬을 찾아보다가 JAVA알게 되고 커리어 전환을 위해 국비 지원 학원을 찾았다. 장점도 있고, 단점도 있는... \",\n",
      "\"bloggername\": \"난장이의 일상\",\n",
      "\"bloggerlink\": \"https://blog.naver.com/deet1107\",\n",
      "\"postdate\": \"20181118\"\n",
      "\n",
      "},\n",
      "{\n",
      "\"title\": \"샤오미 <b>플레이</b> 무료 <b>데이터</b>와 이 가격 어떻게 가능할까?\",\n",
      "\"link\": \"https://blue2310.tistory.com/4217\",\n",
      "\"description\": \"반응형 10만 원대 10기가 <b>데이터</b> 매월 지원하는 샤오미 플래이(Xiaomi Play) 제2의 포코폰 F1 되나?... 샤오미 <b>플레이</b> (Xiaomi Play)가 크리스마스이브에 선물처럼 공개되었습니다. IoT와 생활용품에 신경 쓰느라... \",\n",
      "\"bloggername\": \"김군의 생각하는노리터\",\n",
      "\"bloggerlink\": \"http://blue2310.tistory.com/\",\n",
      "\"postdate\": \"20181226\"\n",
      "\n",
      "},\n",
      "{\n",
      "\"title\": \"엔코아 IT 전문 교육센터 <b>플레이데이터</b>, 정부주관 교육사업... \",\n",
      "\"link\": \"https:\\/\\/blog.naver.com\\/en_core?Redirect=Log&logNo=221991021985\",\n",
      "\"description\": \"엔코아 IT 전문 교육센터 <b>플레이데이터</b>, 정부주관 교육사업 잇단 선정 - 실전형 ICT 청년 인재 양성을... 엔코아가 선정된 혁신성장 청년인재 집중양성, 4차 산업혁명 선도인력 양성훈련 사업은 빅데이터... \",\n",
      "\"bloggername\": \"엔코아 기업 블로그\",\n",
      "\"bloggerlink\": \"https://blog.naver.com/en_core\",\n",
      "\"postdate\": \"20200605\"\n",
      "\n",
      "},\n",
      "{\n",
      "\"title\": \"휴대폰 요금 줄이는 법 / 알뜰폰 핀<b>플레이</b>(<b>데이터</b> 무제한... \",\n",
      "\"link\": \"https:\\/\\/blog.naver.com\\/wwwmmmwwmmwm?Redirect=Log&logNo=222026636700\",\n",
      "\"description\": \"이렇게 핀<b>플레이</b> 가입 방법에 대해 알아봤는데요. 같은 <b>데이터</b> 무제한인데도 불구하고 두배 가까이 휴대폰 요금 절약이 된 걸 보면 그동안 왜 안 썼을까? 싶네요. 그럼 알뜰폰 단점은 뭘까요??? 보름 정도... \",\n",
      "\"bloggername\": \"그럴싸\",\n",
      "\"bloggerlink\": \"https://blog.naver.com/wwwmmmwwmmwm\",\n",
      "\"postdate\": \"20200710\"\n",
      "\n",
      "},\n",
      "{\n",
      "\"title\": \"2020_핸드폰 요금제 변경_알뜰폰 요금제 핀<b>플레이 데이터</b>... \",\n",
      "\"link\": \"https:\\/\\/blog.naver.com\\/nuri921116?Redirect=Log&logNo=221963710725\",\n",
      "\"description\": \"핀<b>플레이</b>의 <b>데이터</b>자유/음성자유 요금제를 사용하다가 2. 출국 당일 오전에 <b>데이터</b>200MB/음성30분 요금제로 바꾸기 기존 내가 쓰고 있는 SKT의 요금제는 2020년 5월 청구액을 기준으로 보자면 5GX프라임으로... \",\n",
      "\"bloggername\": \"무무라리의 일상 기록장\",\n",
      "\"bloggerlink\": \"https://blog.naver.com/nuri921116\",\n",
      "\"postdate\": \"20200515\"\n",
      "\n",
      "},\n",
      "{\n",
      "\"title\": \"<b>플레이데이터</b> 모의면접 후기\",\n",
      "\"link\": \"https:\\/\\/blog.naver.com\\/fkdjr?Redirect=Log&logNo=222119011812\",\n",
      "\"description\": \"최종 프로젝트를 마치고 얼마 안되서 <b>플레이데이터</b>에서 모의 면접을 볼 수 있는 기회가 있었다. 면접은... 학원 수료가 완료된 이 시점에서, 지금까지 자소서/이력서 코칭까지 봐주실 정도로 <b>플레이데이터</b> 내에서... \",\n",
      "\"bloggername\": \"-\",\n",
      "\"bloggerlink\": \"https://blog.naver.com/fkdjr\",\n",
      "\"postdate\": \"20201018\"\n",
      "\n",
      "},\n",
      "{\n",
      "\"title\": \"대만유심 공항 픽업 가능한 <b>플레이</b>유심 무제한<b>데이터</b> 최고 :)\",\n",
      "\"link\": \"https:\\/\\/blog.naver.com\\/ining01?Redirect=Log&logNo=221762181047\",\n",
      "\"description\": \"유심은 교체된 상황이라 돈이 나올 걱정은 노노~ :) (<b>데이터</b> 폭탄 나올까봐 걱정했던 쫄보 = 나 ㅋㅋㅋㅋㅋㅋㅋ) 3일 무제한<b>데이터</b> 빵~잘 터지는 <b>플레이</b>유심 :) 여행지에서는 필수! ^^ 아 그리고 <b>플레이</b>유심 유심... \",\n",
      "\"bloggername\": \"룰루랄라-♩\",\n",
      "\"bloggerlink\": \"https://blog.naver.com/ining01\",\n",
      "\"postdate\": \"20200106\"\n",
      "\n",
      "},\n",
      "{\n",
      "\"title\": \"<b>플레이</b>되지 않는 동영상 <b>데이터</b>복구\",\n",
      "\"link\": \"https:\\/\\/blog.naver.com\\/archlove?Redirect=Log&logNo=221571878727\",\n",
      "\"description\": \"촬영후 <b>플레이</b>되지 않는 동영상 <b>데이터</b>복구 사례 일요일 유선상으로 상담하여주신 고객님께서 월요일 오후 당사에 <b>데이터</b>복구를 의뢰하여 주셨습니다. 접수된 SD CARD는 SanDisk사의 128GB 메모리로~ SONY... \",\n",
      "\"bloggername\": \"데이터복구전문가 복구사례 - 상담 : 02-3444-4992\",\n",
      "\"bloggerlink\": \"https://blog.naver.com/archlove\",\n",
      "\"postdate\": \"20190627\"\n",
      "\n",
      "},\n",
      "{\n",
      "\"title\": \"<b>플레이</b>유심 <b>데이터</b> 걱정없었던 홍콩마카오 여행\",\n",
      "\"link\": \"https:\\/\\/blog.naver.com\\/km12230?Redirect=Log&logNo=221693916060\",\n",
      "\"description\": \"만족스러웠던 <b>플레이</b>유심 가장 편했던건 핸드폰만 충전하면 된다는 점 그리고 개개인의 보조배터리만... 제공되는 <b>데이터</b>가 7일간 1GB를 사용할수 있다는 소리고 소진시 하루에 2GB씩 추가 그리고 통신사는... \",\n",
      "\"bloggername\": \"Orzl의 세계 나들이\",\n",
      "\"bloggerlink\": \"https://blog.naver.com/km12230\",\n",
      "\"postdate\": \"20191031\"\n",
      "\n",
      "},\n",
      "{\n",
      "\"title\": \"구글<b>플레이</b> 안드로이드앱... 승인, 성공 후기 - (콩콩<b>데이터</b>)\",\n",
      "\"link\": \"https:\\/\\/blog.naver.com\\/rookiego90?Redirect=Log&logNo=222115171949\",\n",
      "\"description\": \"^^ 저와 비슷한 경험을 하시는 분들께 도움이 되길 바랍니다. 감사합니다. #안드로이드. #구글, #구글<b>플레이</b>, #업데이트, #거절, #이의제기, #승인, #코로나19, #공공<b>데이터</b>, #콩콩<b>데이터</b>, #개발\",\n",
      "\"bloggername\": \"최고의 조합! 서핑과 프로그래밍 + ...\",\n",
      "\"bloggerlink\": \"https://blog.naver.com/rookiego90\",\n",
      "\"postdate\": \"20201016\"\n",
      "\n",
      "}\n",
      "]\n",
      "}\n",
      "\n"
     ]
    }
   ],
   "source": [
    "print(response.read().decode(\"utf-8\"))"
   ]
  },
  {
   "cell_type": "code",
   "execution_count": 29,
   "metadata": {},
   "outputs": [
    {
     "name": "stdout",
     "output_type": "stream",
     "text": [
      "{'lastBuildDate': 'Fri, 06 Nov 2020 16:43:35 +0900', 'total': 1152, 'start': 1, 'display': 3, 'items': [{'title': '이것이 취업을 위한 코딩 테스트다 with <b>파이썬</b> (취업과 이직을 결정하는 알고리즘 인터뷰 완벽 가이드, C/C++, 자바 코드 제공)', 'link': 'http://book.naver.com/bookdb/book_detail.php?bid=16439154', 'image': 'https://bookthumb-phinf.pstatic.net/cover/164/391/16439154.jpg?type=m1&udate=20200928', 'author': '나동빈', 'price': '34000', 'discount': '30600', 'publisher': '한빛미디어', 'pubdate': '20200805', 'isbn': '1162243074 9791162243077', 'description': '8가지 핵심 알고리즘 이론을 쉽게 설명하고, 관련 실전 문제를 풀이했다. 출제 유형 분석, 이론 설명, 기출문제 풀이까지! 어떤 코딩 테스트도 이 책 한 권으로 대비할 수 있을 것이다. 코딩 테스트에서 주로 선택하는 <b>파이썬</b>을 기반으로 설명되어 있으며, <b>파이썬</b> 코드 외에도 C/C++, 자바 코드를 추가로 제공한다.'}, {'title': '<b>파이썬</b> 알고리즘 인터뷰 (95가지 알고리즘 문제 풀이로 완성하는 코딩 테스트)', 'link': 'http://book.naver.com/bookdb/book_detail.php?bid=16406247', 'image': 'https://bookthumb-phinf.pstatic.net/cover/164/062/16406247.jpg?type=m1&udate=20201028', 'author': '박상길', 'price': '38000', 'discount': '34200', 'publisher': '책만', 'pubdate': '20200715', 'isbn': '1189909170 9791189909178', 'description': '물론, <b>파이썬</b>으로 구현하는 코드 풀이를 통해 성능 최적화 기법, <b>파이썬</b>의 핵심 문법과 다양한 실용 테크닉까지 배울 수 있는, 초보 개발자와 숙련 개발자... 이 책은 현업과 실무에 유용한 주요 알고리즘 이론을 깊숙이 이해하고, <b>파이썬</b>의 핵심 기능과 문법까지 상세하게 이해할 수 있는 취업용 코딩 테스트를... '}, {'title': '혼자 공부하는 <b>파이썬</b> (<b>파이썬</b> 최신 버전 반영)', 'link': 'http://book.naver.com/bookdb/book_detail.php?bid=15028688', 'image': 'https://bookthumb-phinf.pstatic.net/cover/150/286/15028688.jpg?type=m1&udate=20200915', 'author': '윤인성', 'price': '18000', 'discount': '16200', 'publisher': '한빛미디어', 'pubdate': '20190610', 'isbn': '1162241888 9791162241882', 'description': '1:1 과외하듯 배우는 <b>파이썬</b> 프로그래밍 자습서(<b>파이썬</b> 최신 버전 반영)\\n이 책은 독학으로 프로그래밍 언어를 처음 배우려는 입문자가, 혹은 <b>파이썬</b>을 배우려는 입문자가 ‘꼭 필요한 내용을 제대로’ 학습할 수 있도록 구성했다. ‘무엇을’, ‘어떻게’ 학습해야 할지조차 모르는 입문자의 막연한 마음을 살펴... '}]}\n"
     ]
    }
   ],
   "source": [
    "import json\n",
    "import urllib.request\n",
    "\n",
    "client_id = \"oPVEVEuzzTqTkOY3acir\"\n",
    "client_secret =\"z69IwZ6tYa\"\n",
    "\n",
    "url = create_url(\"book\",\"파이썬\",1,3)\n",
    "\n",
    "request = urllib.request.Request(url)\n",
    "request.add_header(\"X-Naver-Client-Id\", client_id)\n",
    "request.add_header(\"X-Naver-Client-Secret\", client_secret)\n",
    "\n",
    "response = urllib.request.urlopen(request)\n",
    "# print(response.getcode()) # 상태코드를 확인하기위해\n",
    "result = json.loads(response.read().decode(\"utf-8\"))\n",
    "print(result)\n",
    "\n",
    "def create_url(api_node, search_text, start_num, disp_num):\n",
    "    base = \"https://openapi.naver.com/v1/search\"\n",
    "    node = \"/\" + api_node +\".json\"\n",
    "    param_query = \"?query=\" + urllib.parse.quote(search_text)\n",
    "    param_start = \"&start=\" + str(start_num)\n",
    "    param_disp = \"&display=\" + str(disp_num)\n",
    "    \n",
    "    return base + node + param_query + param_start + param_disp"
   ]
  },
  {
   "cell_type": "code",
   "execution_count": 28,
   "metadata": {},
   "outputs": [
    {
     "data": {
      "text/plain": [
       "3"
      ]
     },
     "execution_count": 28,
     "metadata": {},
     "output_type": "execute_result"
    }
   ],
   "source": [
    "result[\"display\"]"
   ]
  },
  {
   "cell_type": "code",
   "execution_count": 30,
   "metadata": {},
   "outputs": [
    {
     "data": {
      "text/plain": [
       "[{'title': '이것이 취업을 위한 코딩 테스트다 with <b>파이썬</b> (취업과 이직을 결정하는 알고리즘 인터뷰 완벽 가이드, C/C++, 자바 코드 제공)',\n",
       "  'link': 'http://book.naver.com/bookdb/book_detail.php?bid=16439154',\n",
       "  'image': 'https://bookthumb-phinf.pstatic.net/cover/164/391/16439154.jpg?type=m1&udate=20200928',\n",
       "  'author': '나동빈',\n",
       "  'price': '34000',\n",
       "  'discount': '30600',\n",
       "  'publisher': '한빛미디어',\n",
       "  'pubdate': '20200805',\n",
       "  'isbn': '1162243074 9791162243077',\n",
       "  'description': '8가지 핵심 알고리즘 이론을 쉽게 설명하고, 관련 실전 문제를 풀이했다. 출제 유형 분석, 이론 설명, 기출문제 풀이까지! 어떤 코딩 테스트도 이 책 한 권으로 대비할 수 있을 것이다. 코딩 테스트에서 주로 선택하는 <b>파이썬</b>을 기반으로 설명되어 있으며, <b>파이썬</b> 코드 외에도 C/C++, 자바 코드를 추가로 제공한다.'},\n",
       " {'title': '<b>파이썬</b> 알고리즘 인터뷰 (95가지 알고리즘 문제 풀이로 완성하는 코딩 테스트)',\n",
       "  'link': 'http://book.naver.com/bookdb/book_detail.php?bid=16406247',\n",
       "  'image': 'https://bookthumb-phinf.pstatic.net/cover/164/062/16406247.jpg?type=m1&udate=20201028',\n",
       "  'author': '박상길',\n",
       "  'price': '38000',\n",
       "  'discount': '34200',\n",
       "  'publisher': '책만',\n",
       "  'pubdate': '20200715',\n",
       "  'isbn': '1189909170 9791189909178',\n",
       "  'description': '물론, <b>파이썬</b>으로 구현하는 코드 풀이를 통해 성능 최적화 기법, <b>파이썬</b>의 핵심 문법과 다양한 실용 테크닉까지 배울 수 있는, 초보 개발자와 숙련 개발자... 이 책은 현업과 실무에 유용한 주요 알고리즘 이론을 깊숙이 이해하고, <b>파이썬</b>의 핵심 기능과 문법까지 상세하게 이해할 수 있는 취업용 코딩 테스트를... '},\n",
       " {'title': '혼자 공부하는 <b>파이썬</b> (<b>파이썬</b> 최신 버전 반영)',\n",
       "  'link': 'http://book.naver.com/bookdb/book_detail.php?bid=15028688',\n",
       "  'image': 'https://bookthumb-phinf.pstatic.net/cover/150/286/15028688.jpg?type=m1&udate=20200915',\n",
       "  'author': '윤인성',\n",
       "  'price': '18000',\n",
       "  'discount': '16200',\n",
       "  'publisher': '한빛미디어',\n",
       "  'pubdate': '20190610',\n",
       "  'isbn': '1162241888 9791162241882',\n",
       "  'description': '1:1 과외하듯 배우는 <b>파이썬</b> 프로그래밍 자습서(<b>파이썬</b> 최신 버전 반영)\\n이 책은 독학으로 프로그래밍 언어를 처음 배우려는 입문자가, 혹은 <b>파이썬</b>을 배우려는 입문자가 ‘꼭 필요한 내용을 제대로’ 학습할 수 있도록 구성했다. ‘무엇을’, ‘어떻게’ 학습해야 할지조차 모르는 입문자의 막연한 마음을 살펴... '}]"
      ]
     },
     "execution_count": 30,
     "metadata": {},
     "output_type": "execute_result"
    }
   ],
   "source": [
    "result[\"items\"]"
   ]
  },
  {
   "cell_type": "code",
   "execution_count": 31,
   "metadata": {},
   "outputs": [
    {
     "data": {
      "text/plain": [
       "3"
      ]
     },
     "execution_count": 31,
     "metadata": {},
     "output_type": "execute_result"
    }
   ],
   "source": [
    "len(result[\"items\"])"
   ]
  },
  {
   "cell_type": "code",
   "execution_count": 33,
   "metadata": {},
   "outputs": [
    {
     "data": {
      "text/plain": [
       "['이것이 취업을 위한 코딩 테스트다 with <b>파이썬</b> (취업과 이직을 결정하는 알고리즘 인터뷰 완벽 가이드, C/C++, 자바 코드 제공)',\n",
       " '<b>파이썬</b> 알고리즘 인터뷰 (95가지 알고리즘 문제 풀이로 완성하는 코딩 테스트)',\n",
       " '혼자 공부하는 <b>파이썬</b> (<b>파이썬</b> 최신 버전 반영)']"
      ]
     },
     "execution_count": 33,
     "metadata": {},
     "output_type": "execute_result"
    }
   ],
   "source": [
    "titles = [result[\"items\"][n][\"title\"] for n in range(3)]\n",
    "titles"
   ]
  },
  {
   "cell_type": "code",
   "execution_count": 34,
   "metadata": {},
   "outputs": [
    {
     "data": {
      "text/plain": [
       "['나동빈', '박상길', '윤인성']"
      ]
     },
     "execution_count": 34,
     "metadata": {},
     "output_type": "execute_result"
    }
   ],
   "source": [
    "authors = [result[\"items\"][n][\"author\"] for n in range(3)]\n",
    "authors"
   ]
  },
  {
   "cell_type": "code",
   "execution_count": 35,
   "metadata": {},
   "outputs": [
    {
     "data": {
      "text/plain": [
       "['20200805', '20200715', '20190610']"
      ]
     },
     "execution_count": 35,
     "metadata": {},
     "output_type": "execute_result"
    }
   ],
   "source": [
    "pubdates = [result[\"items\"][n][\"pubdate\"] for n in range(3)]\n",
    "pubdates"
   ]
  },
  {
   "cell_type": "code",
   "execution_count": 36,
   "metadata": {},
   "outputs": [
    {
     "data": {
      "text/html": [
       "<div>\n",
       "<style scoped>\n",
       "    .dataframe tbody tr th:only-of-type {\n",
       "        vertical-align: middle;\n",
       "    }\n",
       "\n",
       "    .dataframe tbody tr th {\n",
       "        vertical-align: top;\n",
       "    }\n",
       "\n",
       "    .dataframe thead th {\n",
       "        text-align: right;\n",
       "    }\n",
       "</style>\n",
       "<table border=\"1\" class=\"dataframe\">\n",
       "  <thead>\n",
       "    <tr style=\"text-align: right;\">\n",
       "      <th></th>\n",
       "      <th>책 제목</th>\n",
       "      <th>작가</th>\n",
       "      <th>출판일</th>\n",
       "    </tr>\n",
       "  </thead>\n",
       "  <tbody>\n",
       "    <tr>\n",
       "      <th>0</th>\n",
       "      <td>이것이 취업을 위한 코딩 테스트다 with &lt;b&gt;파이썬&lt;/b&gt; (취업과 이직을 결정...</td>\n",
       "      <td>나동빈</td>\n",
       "      <td>20200805</td>\n",
       "    </tr>\n",
       "    <tr>\n",
       "      <th>1</th>\n",
       "      <td>&lt;b&gt;파이썬&lt;/b&gt; 알고리즘 인터뷰 (95가지 알고리즘 문제 풀이로 완성하는 코딩 ...</td>\n",
       "      <td>박상길</td>\n",
       "      <td>20200715</td>\n",
       "    </tr>\n",
       "    <tr>\n",
       "      <th>2</th>\n",
       "      <td>혼자 공부하는 &lt;b&gt;파이썬&lt;/b&gt; (&lt;b&gt;파이썬&lt;/b&gt; 최신 버전 반영)</td>\n",
       "      <td>윤인성</td>\n",
       "      <td>20190610</td>\n",
       "    </tr>\n",
       "  </tbody>\n",
       "</table>\n",
       "</div>"
      ],
      "text/plain": [
       "                                                책 제목   작가       출판일\n",
       "0  이것이 취업을 위한 코딩 테스트다 with <b>파이썬</b> (취업과 이직을 결정...  나동빈  20200805\n",
       "1  <b>파이썬</b> 알고리즘 인터뷰 (95가지 알고리즘 문제 풀이로 완성하는 코딩 ...  박상길  20200715\n",
       "2           혼자 공부하는 <b>파이썬</b> (<b>파이썬</b> 최신 버전 반영)  윤인성  20190610"
      ]
     },
     "execution_count": 36,
     "metadata": {},
     "output_type": "execute_result"
    }
   ],
   "source": [
    "import pandas as pd\n",
    "\n",
    "pd.DataFrame({\"책 제목\":titles,\"작가\":authors,\"출판일\":pubdates})"
   ]
  },
  {
   "cell_type": "code",
   "execution_count": null,
   "metadata": {},
   "outputs": [],
   "source": [
    "def get_dataframe(url):\n",
    "    client_id = \"oPVEVEuzzTqTkOY3acir\"\n",
    "    client_secret =\"z69IwZ6tYa\"\n",
    "    \n",
    "    request = urllib.request.Request(url)\n",
    "    request.add_header(\"X-Naver-Client-Id\", client_id)\n",
    "    request.add_header(\"X-Naver-Client-Secret\", client_secret)\n",
    "    \n",
    "    response = urllib.request.urlopen(request)\n",
    "\n",
    "    result = json.loads(response.read().decode(\"utf-8\"))\n",
    "    \n",
    "    end_num = result[\"display\"]\n",
    "    \n",
    "    titles = [result[\"items\"][n][\"title\"] for n in range(end_num)]\n",
    "    authors = [result[\"items\"][n][\"author\"] for n in range(end_num)]\n",
    "    pubdates = [result[\"items\"][n][\"pubdate\"] for n in range(end_num)]\n",
    "    \n",
    "    return pd.DataFrame({\"책 제목\":titles,\"작가\":authors,\"출판일\":pubdates})\n"
   ]
  },
  {
   "cell_type": "code",
   "execution_count": 39,
   "metadata": {},
   "outputs": [
    {
     "data": {
      "text/html": [
       "<div>\n",
       "<style scoped>\n",
       "    .dataframe tbody tr th:only-of-type {\n",
       "        vertical-align: middle;\n",
       "    }\n",
       "\n",
       "    .dataframe tbody tr th {\n",
       "        vertical-align: top;\n",
       "    }\n",
       "\n",
       "    .dataframe thead th {\n",
       "        text-align: right;\n",
       "    }\n",
       "</style>\n",
       "<table border=\"1\" class=\"dataframe\">\n",
       "  <thead>\n",
       "    <tr style=\"text-align: right;\">\n",
       "      <th></th>\n",
       "      <th>책 제목</th>\n",
       "      <th>작가</th>\n",
       "      <th>출판일</th>\n",
       "    </tr>\n",
       "  </thead>\n",
       "  <tbody>\n",
       "    <tr>\n",
       "      <th>0</th>\n",
       "      <td>이것이 취업을 위한 코딩 테스트다 with 파이썬 (취업과 이직을 결정하는 알고리즘...</td>\n",
       "      <td>나동빈</td>\n",
       "      <td>20200805</td>\n",
       "    </tr>\n",
       "    <tr>\n",
       "      <th>1</th>\n",
       "      <td>파이썬 알고리즘 인터뷰 (95가지 알고리즘 문제 풀이로 완성하는 코딩 테스트)</td>\n",
       "      <td>박상길</td>\n",
       "      <td>20200715</td>\n",
       "    </tr>\n",
       "    <tr>\n",
       "      <th>2</th>\n",
       "      <td>혼자 공부하는 파이썬 (파이썬 최신 버전 반영)</td>\n",
       "      <td>윤인성</td>\n",
       "      <td>20190610</td>\n",
       "    </tr>\n",
       "  </tbody>\n",
       "</table>\n",
       "</div>"
      ],
      "text/plain": [
       "                                                책 제목   작가       출판일\n",
       "0  이것이 취업을 위한 코딩 테스트다 with 파이썬 (취업과 이직을 결정하는 알고리즘...  나동빈  20200805\n",
       "1        파이썬 알고리즘 인터뷰 (95가지 알고리즘 문제 풀이로 완성하는 코딩 테스트)  박상길  20200715\n",
       "2                         혼자 공부하는 파이썬 (파이썬 최신 버전 반영)  윤인성  20190610"
      ]
     },
     "execution_count": 39,
     "metadata": {},
     "output_type": "execute_result"
    }
   ],
   "source": [
    "import json\n",
    "import urllib.request\n",
    "\n",
    "def create_url(api_node, search_text, start_num, disp_num):\n",
    "    base = \"https://openapi.naver.com/v1/search\"\n",
    "    node = \"/\" + api_node +\".json\"\n",
    "    param_query = \"?query=\" + urllib.parse.quote(search_text)\n",
    "    param_start = \"&start=\" + str(start_num)\n",
    "    param_disp = \"&display=\" + str(disp_num)\n",
    "    \n",
    "    return base + node + param_query + param_start + param_disp\n",
    "\n",
    "def delete_tag(input_str):\n",
    "    input_str = input_str.replace(\"<b>\",\"\")\n",
    "    input_str = input_str.replace(\"</b>\",\"\")\n",
    "    return input_str\n",
    "\n",
    "def get_dataframe(url):\n",
    "    client_id = \"oPVEVEuzzTqTkOY3acir\"\n",
    "    client_secret =\"z69IwZ6tYa\"\n",
    "    \n",
    "    request = urllib.request.Request(url)\n",
    "    request.add_header(\"X-Naver-Client-Id\", client_id)\n",
    "    request.add_header(\"X-Naver-Client-Secret\", client_secret)\n",
    "    \n",
    "    response = urllib.request.urlopen(request)\n",
    "\n",
    "    result = json.loads(response.read().decode(\"utf-8\"))\n",
    "    \n",
    "    end_num = result[\"display\"]\n",
    "    \n",
    "    titles = [delete_tag(result[\"items\"][n][\"title\"]) for n in range(end_num)]\n",
    "    authors = [result[\"items\"][n][\"author\"] for n in range(end_num)]\n",
    "    pubdates = [result[\"items\"][n][\"pubdate\"] for n in range(end_num)]\n",
    "    \n",
    "    return pd.DataFrame({\"책 제목\":titles,\"작가\":authors,\"출판일\":pubdates})\n",
    "\n",
    "url = create_url(\"book\",\"파이썬\",1,3)\n",
    "get_dataframe(url)"
   ]
  },
  {
   "cell_type": "code",
   "execution_count": null,
   "metadata": {},
   "outputs": [],
   "source": [
    "def delete_tag(input_str):\n",
    "    input_str = input_str.replace(\"<b>\",\"\")\n",
    "    input_str = input_str.replace(\"</b>\",\"\")\n",
    "    return input_str"
   ]
  }
 ],
 "metadata": {
  "kernelspec": {
   "display_name": "Python 3",
   "language": "python",
   "name": "python3"
  },
  "language_info": {
   "codemirror_mode": {
    "name": "ipython",
    "version": 3
   },
   "file_extension": ".py",
   "mimetype": "text/x-python",
   "name": "python",
   "nbconvert_exporter": "python",
   "pygments_lexer": "ipython3",
   "version": "3.8.3"
  }
 },
 "nbformat": 4,
 "nbformat_minor": 4
}
