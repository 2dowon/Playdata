{
 "cells": [
  {
   "cell_type": "markdown",
   "metadata": {},
   "source": [
    "### 문자열 분리하기"
   ]
  },
  {
   "cell_type": "code",
   "execution_count": 1,
   "metadata": {},
   "outputs": [
    {
     "data": {
      "text/plain": [
       "['에스프레소', '아메리카노', '카페라떼', '카푸치노']"
      ]
     },
     "execution_count": 1,
     "metadata": {},
     "output_type": "execute_result"
    }
   ],
   "source": [
    "coffee_menu_str = \"에스프레소,아메리카노,카페라떼,카푸치노\"\n",
    "coffee_menu_str.split(\",\")"
   ]
  },
  {
   "cell_type": "code",
   "execution_count": 2,
   "metadata": {},
   "outputs": [
    {
     "data": {
      "text/plain": [
       "['에스프레소', '아메리카노', '카페라떼', '카푸치노']"
      ]
     },
     "execution_count": 2,
     "metadata": {},
     "output_type": "execute_result"
    }
   ],
   "source": [
    "\"에스프레소,아메리카노,카페라떼,카푸치노\".split(\",\")"
   ]
  },
  {
   "cell_type": "code",
   "execution_count": 3,
   "metadata": {},
   "outputs": [
    {
     "data": {
      "text/plain": [
       "['에스프레소,아메리카노,카페라떼,카푸치노']"
      ]
     },
     "execution_count": 3,
     "metadata": {},
     "output_type": "execute_result"
    }
   ],
   "source": [
    "\"에스프레소,아메리카노,카페라떼,카푸치노\".split(\":\")"
   ]
  },
  {
   "cell_type": "code",
   "execution_count": 6,
   "metadata": {},
   "outputs": [
    {
     "data": {
      "text/plain": [
       "['에스프레소', '아메리카노', '카페라떼', '카푸치노']"
      ]
     },
     "execution_count": 6,
     "metadata": {},
     "output_type": "execute_result"
    }
   ],
   "source": [
    "\"에스프레소:아메리카노:카페라떼:카푸치노\".split(\":\")"
   ]
  },
  {
   "cell_type": "code",
   "execution_count": 7,
   "metadata": {},
   "outputs": [
    {
     "data": {
      "text/plain": [
       "['에스프레소', '아메리카노', '카페라떼', '카푸치노']"
      ]
     },
     "execution_count": 7,
     "metadata": {},
     "output_type": "execute_result"
    }
   ],
   "source": [
    "\"에스프레소 아메리카노 카페라떼 카푸치노\".split()"
   ]
  },
  {
   "cell_type": "code",
   "execution_count": 11,
   "metadata": {},
   "outputs": [
    {
     "data": {
      "text/plain": [
       "['에스프레소', '아메리카노', '카페라떼 카푸치노']"
      ]
     },
     "execution_count": 11,
     "metadata": {},
     "output_type": "execute_result"
    }
   ],
   "source": [
    "\"에스프레소 아메리카노 카페라떼 카푸치노\".split(maxsplit=2)"
   ]
  },
  {
   "cell_type": "code",
   "execution_count": 13,
   "metadata": {},
   "outputs": [
    {
     "data": {
      "text/plain": [
       "['에스프레소', '아메리카노', '카페라떼 카푸치노']"
      ]
     },
     "execution_count": 13,
     "metadata": {},
     "output_type": "execute_result"
    }
   ],
   "source": [
    "\"에스프레소 아메리카노 카페라떼 카푸치노\".split(\" \",2)"
   ]
  },
  {
   "cell_type": "code",
   "execution_count": 14,
   "metadata": {},
   "outputs": [
    {
     "name": "stdout",
     "output_type": "stream",
     "text": [
      "['+82', '01-2345-6789']\n",
      "국내 전화번호: 01-2345-6789\n",
      "국가번호: +82\n"
     ]
    }
   ],
   "source": [
    "phone_number = \"+82-01-2345-6789\" # 국가번호가 포함된 전화번호\n",
    "split_num = phone_number.split(\"-\", 1) # 국가번호와 나머지 번호 분리\n",
    "\n",
    "print(split_num)\n",
    "print(f\"국내 전화번호: {split_num[1]}\")\n",
    "print(f\"국가번호: {split_num[0]}\")"
   ]
  },
  {
   "cell_type": "code",
   "execution_count": 16,
   "metadata": {},
   "outputs": [
    {
     "name": "stdout",
     "output_type": "stream",
     "text": [
      "['010', '3488', '1424']\n",
      "010\n",
      "3488\n",
      "1424\n",
      "전화번호 중간자리 hidden 처리 : 010-****-1424\n"
     ]
    }
   ],
   "source": [
    "dowon_number = \"010-3488-1424\" # 국가번호가 포함된 전화번호\n",
    "dowon_number_split = dowon_number.split(\"-\", 2) # 국가번호와 나머지 번호 분리\n",
    "print(dowon_number_split)\n",
    "\n",
    "print(dowon_number_split[0])\n",
    "print(dowon_number_split[1])\n",
    "print(dowon_number_split[2])\n",
    "\n",
    "first_num = dowon_number_split[0]\n",
    "middle_num = dowon_number_split[1]\n",
    "last_num = dowon_number_split[2]\n",
    "\n",
    "print(f\"전화번호 중간자리 hidden 처리 : {first_num}-****-{last_num}\")"
   ]
  },
  {
   "cell_type": "markdown",
   "metadata": {},
   "source": [
    "### 필요없는 문자열 삭제하기"
   ]
  },
  {
   "cell_type": "code",
   "execution_count": 17,
   "metadata": {},
   "outputs": [
    {
     "data": {
      "text/plain": [
       "'Python'"
      ]
     },
     "execution_count": 17,
     "metadata": {},
     "output_type": "execute_result"
    }
   ],
   "source": [
    "str = \" Python \"\n",
    "\n",
    "str.strip()"
   ]
  },
  {
   "cell_type": "code",
   "execution_count": 18,
   "metadata": {},
   "outputs": [
    {
     "data": {
      "text/plain": [
       "'Python'"
      ]
     },
     "execution_count": 18,
     "metadata": {},
     "output_type": "execute_result"
    }
   ],
   "source": [
    "\" Python \".strip()"
   ]
  },
  {
   "cell_type": "code",
   "execution_count": 23,
   "metadata": {},
   "outputs": [
    {
     "data": {
      "text/plain": [
       "'Python'"
      ]
     },
     "execution_count": 23,
     "metadata": {},
     "output_type": "execute_result"
    }
   ],
   "source": [
    "\"aaaaaPythonaaaaaaaa\".strip(\"a\")"
   ]
  },
  {
   "cell_type": "code",
   "execution_count": 28,
   "metadata": {},
   "outputs": [
    {
     "data": {
      "text/plain": [
       "'Python'"
      ]
     },
     "execution_count": 28,
     "metadata": {},
     "output_type": "execute_result"
    }
   ],
   "source": [
    "test_str = \"aaabbbPythonbbbaaa\"\n",
    "temp1 = test_str.strip(\"a\")\n",
    "temp1.strip(\"b\")"
   ]
  },
  {
   "cell_type": "code",
   "execution_count": 30,
   "metadata": {},
   "outputs": [
    {
     "data": {
      "text/plain": [
       "'Python'"
      ]
     },
     "execution_count": 30,
     "metadata": {},
     "output_type": "execute_result"
    }
   ],
   "source": [
    "test_str = \"aaabbbPythonbbbaaa\"\n",
    "test_str.strip(\"ab\")"
   ]
  },
  {
   "cell_type": "code",
   "execution_count": 32,
   "metadata": {},
   "outputs": [
    {
     "data": {
      "text/plain": [
       "'Python is powerful'"
      ]
     },
     "execution_count": 32,
     "metadata": {},
     "output_type": "execute_result"
    }
   ],
   "source": [
    "test_str_multi = \"##* *!!... ..!Python is powerful.!%      %!#..\"\n",
    "test_str_multi.strip(\"!# .*%\")\n"
   ]
  },
  {
   "cell_type": "code",
   "execution_count": 33,
   "metadata": {},
   "outputs": [
    {
     "data": {
      "text/plain": [
       "'This is very \\n fast.'"
      ]
     },
     "execution_count": 33,
     "metadata": {},
     "output_type": "execute_result"
    }
   ],
   "source": [
    "(\"\\n This is very \\n fast. \\n \\n\").strip()"
   ]
  },
  {
   "cell_type": "code",
   "execution_count": 34,
   "metadata": {},
   "outputs": [
    {
     "data": {
      "text/plain": [
       "'Ball'"
      ]
     },
     "execution_count": 34,
     "metadata": {},
     "output_type": "execute_result"
    }
   ],
   "source": [
    "\"aaaBallaaa\".strip(\"a\")"
   ]
  },
  {
   "cell_type": "code",
   "execution_count": 36,
   "metadata": {},
   "outputs": [
    {
     "name": "stdout",
     "output_type": "stream",
     "text": [
      "Python is easy to learn.\n",
      "Python is easy to learn.000\n",
      "000Python is easy to learn.\n"
     ]
    }
   ],
   "source": [
    "str_lr = \"000Python is easy to learn.000\"\n",
    "print(str_lr.strip(\"0\"))\n",
    "print(str_lr.lstrip(\"0\"))\n",
    "print(str_lr.rstrip(\"0\"))"
   ]
  },
  {
   "cell_type": "code",
   "execution_count": 40,
   "metadata": {},
   "outputs": [
    {
     "name": "stdout",
     "output_type": "stream",
     "text": [
      "['  에스프레소', ' 아메리카노', '    카페라떼    ', ' 카푸치노']\n"
     ]
    }
   ],
   "source": [
    "coffee_menu= \"  에스프레소, 아메리카노,    카페라떼    , 카푸치노\"\n",
    "coffee_menu_list = coffee_menu.split(\",\")\n",
    "print(coffee_menu_list)"
   ]
  },
  {
   "cell_type": "code",
   "execution_count": 41,
   "metadata": {},
   "outputs": [
    {
     "name": "stdout",
     "output_type": "stream",
     "text": [
      "['에스프레소', '아메리카노', '카페라떼', '카푸치노']\n"
     ]
    }
   ],
   "source": [
    "coffee_list = []\n",
    "for coffee in coffee_menu_list:\n",
    "    temp = coffee.strip()\n",
    "    coffee_list.append(temp)\n",
    "    \n",
    "print(coffee_list)"
   ]
  },
  {
   "cell_type": "markdown",
   "metadata": {},
   "source": [
    "### 문자열 연결하기"
   ]
  },
  {
   "cell_type": "code",
   "execution_count": 2,
   "metadata": {},
   "outputs": [
    {
     "name": "stdout",
     "output_type": "stream",
     "text": [
      "철수님, 주소와 전화번호를 입력해주세요\n",
      "영미님, 주소와 전화번호를 입력해주세요\n"
     ]
    }
   ],
   "source": [
    "name1 = \"철수\"\n",
    "name2 = \"영미\"\n",
    "\n",
    "hello = \"님, 주소와 전화번호를 입력해주세요\"\n",
    "print(name1 + hello)\n",
    "print(name2 + hello)"
   ]
  },
  {
   "cell_type": "code",
   "execution_count": 4,
   "metadata": {},
   "outputs": [
    {
     "data": {
      "text/plain": [
       "['서울시', '서초구', '반포대로', '201(반포동)']"
      ]
     },
     "execution_count": 4,
     "metadata": {},
     "output_type": "execute_result"
    }
   ],
   "source": [
    "address_list = [\"서울시\", \"서초구\", \"반포대로\", \"201(반포동)\"]\n",
    "address_list"
   ]
  },
  {
   "cell_type": "code",
   "execution_count": 6,
   "metadata": {},
   "outputs": [
    {
     "data": {
      "text/plain": [
       "'서울시 서초구 반포대로 201(반포동)'"
      ]
     },
     "execution_count": 6,
     "metadata": {},
     "output_type": "execute_result"
    }
   ],
   "source": [
    "a = \" \"\n",
    "a.join(address_list)"
   ]
  },
  {
   "cell_type": "code",
   "execution_count": 7,
   "metadata": {},
   "outputs": [
    {
     "name": "stdout",
     "output_type": "stream",
     "text": [
      "서울시 서초구 반포대로 201(반포동)\n"
     ]
    }
   ],
   "source": [
    "print(\"서울시\", \"서초구\", \"반포대로\", \"201(반포동)\")"
   ]
  },
  {
   "cell_type": "code",
   "execution_count": 9,
   "metadata": {},
   "outputs": [
    {
     "name": "stdout",
     "output_type": "stream",
     "text": [
      "신동욱 vip 회원님 안녕하세요\n",
      "이도원 vip 회원님 안녕하세요\n"
     ]
    }
   ],
   "source": [
    "vip_list = [\"신동욱\", \"이도원\"]\n",
    "hello = \" vip 회원님 안녕하세요\"\n",
    "for vip in vip_list:\n",
    "    print(vip + hello)"
   ]
  },
  {
   "cell_type": "code",
   "execution_count": 10,
   "metadata": {},
   "outputs": [
    {
     "data": {
      "text/plain": [
       "'서울시-서초구-반포대로-201(반포동)'"
      ]
     },
     "execution_count": 10,
     "metadata": {},
     "output_type": "execute_result"
    }
   ],
   "source": [
    "\"-\".join(address_list)"
   ]
  },
  {
   "cell_type": "markdown",
   "metadata": {},
   "source": [
    "### 문자열 찾기"
   ]
  },
  {
   "cell_type": "code",
   "execution_count": 16,
   "metadata": {},
   "outputs": [
    {
     "name": "stdout",
     "output_type": "stream",
     "text": [
      "찾는 문자열의 위치 : 0\n",
      "찾는 문자열의 위치 : 7\n",
      "찾는 문자열의 위치 : 5\n",
      "찾는 문자열의 위치 : -1\n"
     ]
    }
   ],
   "source": [
    "str_f = \"Python code.\"\n",
    "\n",
    "print(\"찾는 문자열의 위치 :\", str_f.find(\"Python\"))\n",
    "print(\"찾는 문자열의 위치 :\", str_f.find(\"code\"))\n",
    "print(\"찾는 문자열의 위치 :\", str_f.find(\"n\"))\n",
    "print(\"찾는 문자열의 위치 :\", str_f.find(\"easy\"))"
   ]
  },
  {
   "cell_type": "code",
   "execution_count": 17,
   "metadata": {},
   "outputs": [
    {
     "name": "stdout",
     "output_type": "stream",
     "text": [
      "찾는 문자열이 없습니다.\n"
     ]
    }
   ],
   "source": [
    "str_f = \"Python code.\"\n",
    "\n",
    "if str_f.find(\"easy\") == -1:\n",
    "    print(\"찾는 문자열이 없습니다.\")"
   ]
  },
  {
   "cell_type": "code",
   "execution_count": 19,
   "metadata": {},
   "outputs": [
    {
     "name": "stdout",
     "output_type": "stream",
     "text": [
      "20\n",
      "-1\n",
      "-1\n"
     ]
    }
   ],
   "source": [
    "str_f_se = \"Python is powerful. Python is easy to learn\"\n",
    "\n",
    "print(str_f_se.find(\"Python\", 10, 30))\n",
    "print(str_f_se.find(\"Python\", 35))\n",
    "print(str_f_se.find(\"Python\", -1, -30))"
   ]
  },
  {
   "cell_type": "code",
   "execution_count": 1,
   "metadata": {},
   "outputs": [
    {
     "name": "stdout",
     "output_type": "stream",
     "text": [
      "Python의 개수는? 3\n",
      "powerful의 개수는? 1\n",
      "IPython의 개수는? 0\n"
     ]
    }
   ],
   "source": [
    "str_c = \"Python is powerful. Python is easy to learn. Python is open\"\n",
    "\n",
    "print(\"Python의 개수는?\", str_c.count(\"Python\"))\n",
    "print(\"powerful의 개수는?\", str_c.count(\"powerful\"))\n",
    "print(\"IPython의 개수는?\", str_c.count(\"IPython\"))"
   ]
  },
  {
   "cell_type": "code",
   "execution_count": 2,
   "metadata": {},
   "outputs": [
    {
     "name": "stdout",
     "output_type": "stream",
     "text": [
      "Python으로 시작? : True\n",
      "is으로 시작? : False\n",
      ".으로 끝? : True\n",
      "learn으로 끝? : False\n"
     ]
    }
   ],
   "source": [
    "str_se = \"Python is powerful. Python is easy to learn.\"\n",
    "\n",
    "print(\"Python으로 시작? :\", str_se.startswith(\"Python\"))\n",
    "print(\"is으로 시작? :\", str_se.startswith(\"is\"))\n",
    "print(\".으로 끝? :\", str_se.endswith(\".\"))\n",
    "print(\"learn으로 끝? :\", str_se.endswith(\"learn\"))"
   ]
  },
  {
   "cell_type": "markdown",
   "metadata": {},
   "source": [
    "### 문자열 바꾸기"
   ]
  },
  {
   "cell_type": "code",
   "execution_count": 3,
   "metadata": {},
   "outputs": [
    {
     "name": "stdout",
     "output_type": "stream",
     "text": [
      "IPython is fast. IPython is friendly. IPython open\n",
      "IPython is fast. IPython is friendly. Python open\n"
     ]
    }
   ],
   "source": [
    "str_a = \"Python is fast. Python is friendly. Python open\"\n",
    "print(str_a.replace(\"Python\", \"IPython\"))\n",
    "print(str_a.replace(\"Python\", \"IPython\", 2))"
   ]
  },
  {
   "cell_type": "code",
   "execution_count": 6,
   "metadata": {},
   "outputs": [
    {
     "name": "stdout",
     "output_type": "stream",
     "text": [
      "[Python] [is] [fast]\n",
      "Python] is] fast]\n",
      "Python is fast\n"
     ]
    }
   ],
   "source": [
    "str_b = \"[Python] [is] [fast]\"\n",
    "str_b1 = str_b.replace(\"[\",\"\")\n",
    "str_b2 = str_b1.replace(\"]\",\"\")\n",
    "\n",
    "print(str_b)\n",
    "print(str_b1)\n",
    "print(str_b2)"
   ]
  },
  {
   "cell_type": "code",
   "execution_count": 19,
   "metadata": {},
   "outputs": [
    {
     "name": "stdout",
     "output_type": "stream",
     "text": [
      "비밀번호를 입력하세요 : 1234\n",
      "비밀번호 변경이 필요합니다. 새로운 비밀번호를 입력해주세요 : 123456\n",
      "비밀번호가 123456로 변경되었습니다.\n"
     ]
    }
   ],
   "source": [
    "id = \"dwon424@naver.com\"\n",
    "pw = \"1234\"\n",
    "\n",
    "pw_input = input(\"비밀번호를 입력하세요 : \")\n",
    "if pw_input == pw:\n",
    "    pw_new = input(\"비밀번호 변경이 필요합니다. 새로운 비밀번호를 입력해주세요 : \")\n",
    "    pw_clear = pw.replace(pw,\"pw_new\")\n",
    "    print(f\"비밀번호가 {pw_new}로 변경되었습니다.\")\n",
    "else:\n",
    "    print(\"로그인에 실패했습니다.\")"
   ]
  },
  {
   "cell_type": "code",
   "execution_count": 26,
   "metadata": {},
   "outputs": [
    {
     "name": "stdout",
     "output_type": "stream",
     "text": [
      "기존 비밀번호를 입력하세요 : ag\n",
      "1/5회 비밀번호 잘못 입력했습니다\n",
      "기존 비밀번호를 입력하세요 : 1234\n",
      "pw의 값 : 1234\n",
      "pw_input의 값 : 1234\n",
      "pw를 초기화한 값 : \n",
      "비밀번호가 로 초기화 됐습니다\n",
      "신규 비밀번호를 입력해주세요 :1234\n",
      "1234\n"
     ]
    }
   ],
   "source": [
    "id = \"dwon424@naver.com\"\n",
    "pw = \"1234\"\n",
    "\n",
    "for num in range(5):\n",
    "    pw_input = input(\"기존 비밀번호를 입력하세요 : \")\n",
    "    \n",
    "    if pw_input == pw:\n",
    "        print(f\"pw의 값 : {pw}\")\n",
    "        print(f\"pw_input의 값 : {pw_input}\")\n",
    "        pw_clear = pw_input.replace(pw, \"\")\n",
    "        print(f\"pw를 초기화한 값 : {pw_clear}\")\n",
    "        print(f\"비밀번호가 {pw_clear}로 초기화 됐습니다\")\n",
    "        pw = input(\"신규 비밀번호를 입력해주세요 :\")\n",
    "        print(pw)\n",
    "        break\n",
    "    else:\n",
    "        num = num + 1\n",
    "        print(f\"{num}/5회 비밀번호 잘못 입력했습니다\")\n",
    "        if num == 5:\n",
    "            print(\"비밀번호가 5번 틀렸습니다. 영업점에 문의하세요\")\n",
    "        continue"
   ]
  },
  {
   "cell_type": "code",
   "execution_count": 25,
   "metadata": {},
   "outputs": [
    {
     "name": "stdout",
     "output_type": "stream",
     "text": [
      "기존 비밀번호를 입력하세요 : ㅁㅇㄹ\n",
      "1/5회 비밀번호 잘못 입력했습니다\n",
      "기존 비밀번호를 입력하세요 : ㅁㅇㄹ\n",
      "2/5회 비밀번호 잘못 입력했습니다\n",
      "기존 비밀번호를 입력하세요 : 1234\n",
      "비밀번호 변경이 필요합니다. 새로운 비밀번호를 입력해주세요 : 12345\n",
      "비밀번호가 12345로 변경되었습니다.\n"
     ]
    }
   ],
   "source": [
    "id = \"dwon424@naver.com\"\n",
    "pw = \"1234\"\n",
    "\n",
    "for num in range(5):\n",
    "    pw_input = input(\"기존 비밀번호를 입력하세요 : \")\n",
    "    \n",
    "    if pw_input == pw:\n",
    "        pw_new = input(\"비밀번호 변경이 필요합니다. 새로운 비밀번호를 입력해주세요 : \")\n",
    "        pw_clear = pw.replace(pw,\"pw_new\")\n",
    "        print(f\"비밀번호가 {pw_new}로 변경되었습니다.\")\n",
    "        break\n",
    "    else:\n",
    "        num = num + 1\n",
    "        print(f\"{num}/5회 비밀번호 잘못 입력했습니다\")\n",
    "        if num == 5:\n",
    "            print(\"비밀번호가 5번 틀렸습니다. 영업점에 문의하세요\")\n",
    "        continue"
   ]
  },
  {
   "cell_type": "markdown",
   "metadata": {},
   "source": [
    "### 문자열의 구성 확인하기"
   ]
  },
  {
   "cell_type": "code",
   "execution_count": 28,
   "metadata": {},
   "outputs": [
    {
     "name": "stdout",
     "output_type": "stream",
     "text": [
      "True\n",
      "False\n"
     ]
    }
   ],
   "source": [
    "print(\"python\".isalpha()) # 문자열에 공백, 특수 문자, 숫자가 없음\n",
    "print(\"ver. 3.x\".isalpha()) # 공백, 특수문자,숫자 중 하나가 있음"
   ]
  },
  {
   "cell_type": "code",
   "execution_count": 29,
   "metadata": {},
   "outputs": [
    {
     "name": "stdout",
     "output_type": "stream",
     "text": [
      "True\n",
      "False\n"
     ]
    }
   ],
   "source": [
    "print(\"12345\".isdigit())\n",
    "print(\"12345abc\".isdigit())"
   ]
  },
  {
   "cell_type": "code",
   "execution_count": 30,
   "metadata": {},
   "outputs": [
    {
     "name": "stdout",
     "output_type": "stream",
     "text": [
      "True\n",
      "False\n"
     ]
    }
   ],
   "source": [
    "print(\"12345\".isalnum())\n",
    "print(\"       12345abc\".isalnum())"
   ]
  },
  {
   "cell_type": "code",
   "execution_count": 31,
   "metadata": {},
   "outputs": [
    {
     "name": "stdout",
     "output_type": "stream",
     "text": [
      "True\n",
      "False\n"
     ]
    }
   ],
   "source": [
    "print(\"    \".isspace())\n",
    "print(\"  1  \".isspace())"
   ]
  },
  {
   "cell_type": "code",
   "execution_count": 32,
   "metadata": {},
   "outputs": [
    {
     "name": "stdout",
     "output_type": "stream",
     "text": [
      "True\n",
      "False\n",
      "True\n",
      "False\n"
     ]
    }
   ],
   "source": [
    "print(\"PYTHON\".isupper())\n",
    "print(\"Python\".isupper())\n",
    "print(\"python\".islower())\n",
    "print(\"Python\".islower())"
   ]
  },
  {
   "cell_type": "markdown",
   "metadata": {},
   "source": [
    "### 대소문자로 변경하기"
   ]
  },
  {
   "cell_type": "code",
   "execution_count": 33,
   "metadata": {},
   "outputs": [
    {
     "name": "stdout",
     "output_type": "stream",
     "text": [
      "python is powerful. python is easy to learn\n",
      "PYTHON IS POWERFUL. PYTHON IS EASY TO LEARN\n"
     ]
    }
   ],
   "source": [
    "string1 = \"Python is powerful. PYTHON IS EASY TO LEARN\"\n",
    "print(string1.lower())\n",
    "print(string1.upper())"
   ]
  },
  {
   "cell_type": "code",
   "execution_count": 34,
   "metadata": {},
   "outputs": [
    {
     "data": {
      "text/plain": [
       "False"
      ]
     },
     "execution_count": 34,
     "metadata": {},
     "output_type": "execute_result"
    }
   ],
   "source": [
    "\"PYTHON\" == \"python\""
   ]
  },
  {
   "cell_type": "code",
   "execution_count": 35,
   "metadata": {},
   "outputs": [
    {
     "name": "stdout",
     "output_type": "stream",
     "text": [
      "True\n",
      "True\n"
     ]
    }
   ],
   "source": [
    "print(\"Python\".lower() == \"python\".lower())\n",
    "print(\"Python\".upper() == \"python\".upper())"
   ]
  },
  {
   "cell_type": "code",
   "execution_count": 47,
   "metadata": {},
   "outputs": [
    {
     "name": "stdout",
     "output_type": "stream",
     "text": [
      "성을 입력하세요.lee\n",
      "LEE\n",
      "이름을 입력하세요.dowon\n",
      "DOWON\n",
      "LEEDOWON 님 환영합니다.\n"
     ]
    }
   ],
   "source": [
    "first_name = input(\"성을 입력하세요.\")\n",
    "\n",
    "first_name = first_name.upper()\n",
    "print(first_name)\n",
    "\n",
    "last_name = input(\"이름을 입력하세요.\")\n",
    "last_name = last_name.upper() \n",
    "print(last_name)\n",
    "    \n",
    "print(first_name+last_name+\" 님 환영합니다.\")"
   ]
  },
  {
   "cell_type": "code",
   "execution_count": null,
   "metadata": {},
   "outputs": [],
   "source": []
  }
 ],
 "metadata": {
  "kernelspec": {
   "display_name": "Python 3",
   "language": "python",
   "name": "python3"
  },
  "language_info": {
   "codemirror_mode": {
    "name": "ipython",
    "version": 3
   },
   "file_extension": ".py",
   "mimetype": "text/x-python",
   "name": "python",
   "nbconvert_exporter": "python",
   "pygments_lexer": "ipython3",
   "version": "3.8.3"
  }
 },
 "nbformat": 4,
 "nbformat_minor": 4
}
