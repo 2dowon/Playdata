{
 "cells": [
  {
   "cell_type": "code",
   "execution_count": 11,
   "metadata": {},
   "outputs": [
    {
     "ename": "TypeError",
     "evalue": "'dict' object is not callable",
     "output_type": "error",
     "traceback": [
      "\u001b[1;31m---------------------------------------------------------------------------\u001b[0m",
      "\u001b[1;31mTypeError\u001b[0m                                 Traceback (most recent call last)",
      "\u001b[1;32m<ipython-input-11-94965e229e25>\u001b[0m in \u001b[0;36m<module>\u001b[1;34m\u001b[0m\n\u001b[0;32m      1\u001b[0m \u001b[0mmyList_1\u001b[0m \u001b[1;33m=\u001b[0m \u001b[1;33m[\u001b[0m\u001b[1;36m1\u001b[0m\u001b[1;33m,\u001b[0m\u001b[1;36m2\u001b[0m\u001b[1;33m,\u001b[0m\u001b[1;36m3\u001b[0m\u001b[1;33m]\u001b[0m\u001b[1;33m\u001b[0m\u001b[1;33m\u001b[0m\u001b[0m\n\u001b[0;32m      2\u001b[0m \u001b[0mmyList_2\u001b[0m \u001b[1;33m=\u001b[0m \u001b[1;33m[\u001b[0m\u001b[1;34m'a'\u001b[0m\u001b[1;33m,\u001b[0m\u001b[1;34m'b'\u001b[0m\u001b[1;33m,\u001b[0m\u001b[1;34m'c'\u001b[0m\u001b[1;33m]\u001b[0m\u001b[1;33m\u001b[0m\u001b[1;33m\u001b[0m\u001b[0m\n\u001b[1;32m----> 3\u001b[1;33m \u001b[0mnewDict\u001b[0m \u001b[1;33m=\u001b[0m \u001b[0mdict\u001b[0m\u001b[1;33m(\u001b[0m\u001b[0mzip\u001b[0m\u001b[1;33m(\u001b[0m\u001b[0mmyList_1\u001b[0m\u001b[1;33m,\u001b[0m\u001b[0mmyList_2\u001b[0m\u001b[1;33m)\u001b[0m\u001b[1;33m)\u001b[0m\u001b[1;33m\u001b[0m\u001b[1;33m\u001b[0m\u001b[0m\n\u001b[0m",
      "\u001b[1;31mTypeError\u001b[0m: 'dict' object is not callable"
     ]
    }
   ],
   "source": [
    "myList_1 = [1,2,3]\n",
    "myList_2 = ['a','b','c']\n",
    "newDict = dict(zip(myList_1,myList_2))"
   ]
  },
  {
   "cell_type": "code",
   "execution_count": 18,
   "metadata": {},
   "outputs": [
    {
     "name": "stdout",
     "output_type": "stream",
     "text": [
      "[(0, '김승규'), (1, '김정훈'), (2, '마가진'), (3, '문지현'), (4, '신준호'), (5, '신지환'), (6, '오병훈'), (7, '오창환'), (8, '윤경주'), (9, '윤혜수'), (10, '이도원'), (11, '이용주'), (12, '이유록'), (13, '임건우'), (14, '장은진'), (15, '조철호'), (16, '지승배'), (17, '최종준'), (18, '편효범'), (19, '황영범'), (20, '황정현')]\n"
     ]
    }
   ],
   "source": [
    "stu_num = [0, 1, 2, 3, 4, 5, 6, 7, 8, 9, 10, 11, 12, 13, 14, 15, 16, 17, 18, 19, 20]\n",
    "stu_name = [\"김승규\", \"김정훈\", \"마가진\", \"문지현\", \"신준호\", \"신지환\", \"오병훈\", \"오창환\", \"윤경주\", \"윤혜수\", \"이도원\", \"이용주\", \"이유록\", \"임건우\", \"장은진\", \"조철호\", \"지승배\", \"최종준\", \"편효범\", \"황영범\", \"황정현\"]\n",
    "\n",
    "stu_pairs = [stu_pair for stu_pair in zip(stu_num, stu_name)]\n",
    "print(stu_pairs)"
   ]
  },
  {
   "cell_type": "code",
   "execution_count": 19,
   "metadata": {},
   "outputs": [
    {
     "ename": "TypeError",
     "evalue": "'dict' object is not callable",
     "output_type": "error",
     "traceback": [
      "\u001b[1;31m---------------------------------------------------------------------------\u001b[0m",
      "\u001b[1;31mTypeError\u001b[0m                                 Traceback (most recent call last)",
      "\u001b[1;32m<ipython-input-19-dec3b98a7ace>\u001b[0m in \u001b[0;36m<module>\u001b[1;34m\u001b[0m\n\u001b[0;32m      3\u001b[0m \u001b[1;33m\u001b[0m\u001b[0m\n\u001b[0;32m      4\u001b[0m \u001b[0mstu_pairs\u001b[0m \u001b[1;33m=\u001b[0m \u001b[1;33m[\u001b[0m\u001b[0mstu_pair\u001b[0m \u001b[1;32mfor\u001b[0m \u001b[0mstu_pair\u001b[0m \u001b[1;32min\u001b[0m \u001b[0mzip\u001b[0m\u001b[1;33m(\u001b[0m\u001b[0mstu_num\u001b[0m\u001b[1;33m,\u001b[0m \u001b[0mstu_name\u001b[0m\u001b[1;33m)\u001b[0m\u001b[1;33m]\u001b[0m\u001b[1;33m\u001b[0m\u001b[1;33m\u001b[0m\u001b[0m\n\u001b[1;32m----> 5\u001b[1;33m \u001b[0mdict\u001b[0m\u001b[1;33m(\u001b[0m\u001b[0mstu_pairs\u001b[0m\u001b[1;33m)\u001b[0m\u001b[1;33m\u001b[0m\u001b[1;33m\u001b[0m\u001b[0m\n\u001b[0m",
      "\u001b[1;31mTypeError\u001b[0m: 'dict' object is not callable"
     ]
    }
   ],
   "source": [
    "stu_num = [0, 1, 2, 3, 4, 5, 6, 7, 8, 9, 10, 11, 12, 13, 14, 15, 16, 17, 18, 19, 20]\n",
    "stu_name = [\"김승규\", \"김정훈\", \"마가진\", \"문지현\", \"신준호\", \"신지환\", \"오병훈\", \"오창환\", \"윤경주\", \"윤혜수\", \"이도원\", \"이용주\", \"이유록\", \"임건우\", \"장은진\", \"조철호\", \"지승배\", \"최종준\", \"편효범\", \"황영범\", \"황정현\"]\n",
    "\n",
    "stu_pairs = [stu_pair for stu_pair in zip(stu_num, stu_name)]\n",
    "dict(stu_pairs)"
   ]
  },
  {
   "cell_type": "code",
   "execution_count": 5,
   "metadata": {},
   "outputs": [
    {
     "name": "stdout",
     "output_type": "stream",
     "text": [
      "[(0, '최종준'), (1, '이유록'), (3, '윤혜수'), (4, '신준호'), (5, '오창환'), (6, '문지현'), (8, '마가진'), (9, '김정훈'), (11, '윤혜수'), (12, '장은진'), (13, '신준호'), (14, '조철호'), (15, '최종준'), (16, '김정훈'), (17, '마가진'), (18, '임건우'), (19, '황영범'), (20, '김승규'), (21, '김정훈'), (22, '황영범'), (23, '이유록')]\n"
     ]
    }
   ],
   "source": [
    "import random\n",
    "\n",
    "num = [0, 1, 6, 8, 9, 14, 15, 16, 17, 18, 19, 20, 21, 22, 23]\n",
    "num_eye = [3, 4, 5, 11, 12, 13]\n",
    "name = [\"김승규\", \"김정훈\", \"마가진\", \"문지현\", \"신지환\", \"오병훈\", \"윤경주\", \"이유록\", \"임건우\", \"조철호\", \"지승배\", \"최종준\", \"편효범\", \"황영범\", \"황정현\"]\n",
    "name_eye = [\"이도원\", \"장은진\", \"이용주\", \"신준호\", \"윤혜수\", \"오창환\"]\n",
    "random_name = []\n",
    "random_name_eye = []\n",
    "\n",
    "for i in range(len(num)):\n",
    "    x = random.choice(name)\n",
    "    random_name.append(x)\n",
    "    \n",
    "for i in range(len(num_eye)):\n",
    "    y = random.choice(name_eye)\n",
    "    random_name_eye.append(y)\n",
    "\n",
    "seats = [seat for seat in zip(num, random_name)]\n",
    "seats_eye = [seat for seat in zip(num_eye, random_name_eye)]\n",
    "real_seats = seats + seats_eye\n",
    "real_seats.sort()\n",
    "print(real_seats)"
   ]
  },
  {
   "cell_type": "code",
   "execution_count": null,
   "metadata": {},
   "outputs": [],
   "source": []
  }
 ],
 "metadata": {
  "kernelspec": {
   "display_name": "Python 3",
   "language": "python",
   "name": "python3"
  },
  "language_info": {
   "codemirror_mode": {
    "name": "ipython",
    "version": 3
   },
   "file_extension": ".py",
   "mimetype": "text/x-python",
   "name": "python",
   "nbconvert_exporter": "python",
   "pygments_lexer": "ipython3",
   "version": "3.8.3"
  }
 },
 "nbformat": 4,
 "nbformat_minor": 4
}
