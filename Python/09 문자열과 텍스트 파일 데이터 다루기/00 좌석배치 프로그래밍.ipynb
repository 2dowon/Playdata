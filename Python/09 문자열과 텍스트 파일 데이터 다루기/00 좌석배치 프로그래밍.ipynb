{
 "cells": [
  {
   "cell_type": "code",
   "execution_count": 11,
   "metadata": {},
   "outputs": [
    {
     "ename": "TypeError",
     "evalue": "'dict' object is not callable",
     "output_type": "error",
     "traceback": [
      "\u001b[1;31m---------------------------------------------------------------------------\u001b[0m",
      "\u001b[1;31mTypeError\u001b[0m                                 Traceback (most recent call last)",
      "\u001b[1;32m<ipython-input-11-94965e229e25>\u001b[0m in \u001b[0;36m<module>\u001b[1;34m\u001b[0m\n\u001b[0;32m      1\u001b[0m \u001b[0mmyList_1\u001b[0m \u001b[1;33m=\u001b[0m \u001b[1;33m[\u001b[0m\u001b[1;36m1\u001b[0m\u001b[1;33m,\u001b[0m\u001b[1;36m2\u001b[0m\u001b[1;33m,\u001b[0m\u001b[1;36m3\u001b[0m\u001b[1;33m]\u001b[0m\u001b[1;33m\u001b[0m\u001b[1;33m\u001b[0m\u001b[0m\n\u001b[0;32m      2\u001b[0m \u001b[0mmyList_2\u001b[0m \u001b[1;33m=\u001b[0m \u001b[1;33m[\u001b[0m\u001b[1;34m'a'\u001b[0m\u001b[1;33m,\u001b[0m\u001b[1;34m'b'\u001b[0m\u001b[1;33m,\u001b[0m\u001b[1;34m'c'\u001b[0m\u001b[1;33m]\u001b[0m\u001b[1;33m\u001b[0m\u001b[1;33m\u001b[0m\u001b[0m\n\u001b[1;32m----> 3\u001b[1;33m \u001b[0mnewDict\u001b[0m \u001b[1;33m=\u001b[0m \u001b[0mdict\u001b[0m\u001b[1;33m(\u001b[0m\u001b[0mzip\u001b[0m\u001b[1;33m(\u001b[0m\u001b[0mmyList_1\u001b[0m\u001b[1;33m,\u001b[0m\u001b[0mmyList_2\u001b[0m\u001b[1;33m)\u001b[0m\u001b[1;33m)\u001b[0m\u001b[1;33m\u001b[0m\u001b[1;33m\u001b[0m\u001b[0m\n\u001b[0m",
      "\u001b[1;31mTypeError\u001b[0m: 'dict' object is not callable"
     ]
    }
   ],
   "source": [
    "myList_1 = [1,2,3]\n",
    "myList_2 = ['a','b','c']\n",
    "newDict = dict(zip(myList_1,myList_2))"
   ]
  },
  {
   "cell_type": "code",
   "execution_count": 18,
   "metadata": {},
   "outputs": [
    {
     "name": "stdout",
     "output_type": "stream",
     "text": [
      "[(0, '김승규'), (1, '김정훈'), (2, '마가진'), (3, '문지현'), (4, '신준호'), (5, '신지환'), (6, '오병훈'), (7, '오창환'), (8, '윤경주'), (9, '윤혜수'), (10, '이도원'), (11, '이용주'), (12, '이유록'), (13, '임건우'), (14, '장은진'), (15, '조철호'), (16, '지승배'), (17, '최종준'), (18, '편효범'), (19, '황영범'), (20, '황정현')]\n"
     ]
    }
   ],
   "source": [
    "stu_num = [0, 1, 2, 3, 4, 5, 6, 7, 8, 9, 10, 11, 12, 13, 14, 15, 16, 17, 18, 19, 20]\n",
    "stu_name = [\"김승규\", \"김정훈\", \"마가진\", \"문지현\", \"신준호\", \"신지환\", \"오병훈\", \"오창환\", \"윤경주\", \"윤혜수\", \"이도원\", \"이용주\", \"이유록\", \"임건우\", \"장은진\", \"조철호\", \"지승배\", \"최종준\", \"편효범\", \"황영범\", \"황정현\"]\n",
    "\n",
    "stu_pairs = [stu_pair for stu_pair in zip(stu_num, stu_name)]\n",
    "print(stu_pairs)"
   ]
  },
  {
   "cell_type": "code",
   "execution_count": 19,
   "metadata": {},
   "outputs": [
    {
     "ename": "TypeError",
     "evalue": "'dict' object is not callable",
     "output_type": "error",
     "traceback": [
      "\u001b[1;31m---------------------------------------------------------------------------\u001b[0m",
      "\u001b[1;31mTypeError\u001b[0m                                 Traceback (most recent call last)",
      "\u001b[1;32m<ipython-input-19-dec3b98a7ace>\u001b[0m in \u001b[0;36m<module>\u001b[1;34m\u001b[0m\n\u001b[0;32m      3\u001b[0m \u001b[1;33m\u001b[0m\u001b[0m\n\u001b[0;32m      4\u001b[0m \u001b[0mstu_pairs\u001b[0m \u001b[1;33m=\u001b[0m \u001b[1;33m[\u001b[0m\u001b[0mstu_pair\u001b[0m \u001b[1;32mfor\u001b[0m \u001b[0mstu_pair\u001b[0m \u001b[1;32min\u001b[0m \u001b[0mzip\u001b[0m\u001b[1;33m(\u001b[0m\u001b[0mstu_num\u001b[0m\u001b[1;33m,\u001b[0m \u001b[0mstu_name\u001b[0m\u001b[1;33m)\u001b[0m\u001b[1;33m]\u001b[0m\u001b[1;33m\u001b[0m\u001b[1;33m\u001b[0m\u001b[0m\n\u001b[1;32m----> 5\u001b[1;33m \u001b[0mdict\u001b[0m\u001b[1;33m(\u001b[0m\u001b[0mstu_pairs\u001b[0m\u001b[1;33m)\u001b[0m\u001b[1;33m\u001b[0m\u001b[1;33m\u001b[0m\u001b[0m\n\u001b[0m",
      "\u001b[1;31mTypeError\u001b[0m: 'dict' object is not callable"
     ]
    }
   ],
   "source": [
    "stu_num = [0, 1, 2, 3, 4, 5, 6, 7, 8, 9, 10, 11, 12, 13, 14, 15, 16, 17, 18, 19, 20]\n",
    "stu_name = [\"김승규\", \"김정훈\", \"마가진\", \"문지현\", \"신준호\", \"신지환\", \"오병훈\", \"오창환\", \"윤경주\", \"윤혜수\", \"이도원\", \"이용주\", \"이유록\", \"임건우\", \"장은진\", \"조철호\", \"지승배\", \"최종준\", \"편효범\", \"황영범\", \"황정현\"]\n",
    "\n",
    "stu_pairs = [stu_pair for stu_pair in zip(stu_num, stu_name)]\n",
    "dict(stu_pairs)"
   ]
  },
  {
   "cell_type": "markdown",
   "metadata": {},
   "source": [
    "#### 중복이 생기는 문제점"
   ]
  },
  {
   "cell_type": "code",
   "execution_count": 7,
   "metadata": {},
   "outputs": [
    {
     "name": "stdout",
     "output_type": "stream",
     "text": [
      "[(0, '마가진'), (1, '황영범'), (3, '오창환'), (4, '윤혜수'), (5, '오창환'), (6, '황영범'), (8, '문지현'), (9, '윤경주'), (11, '장은진'), (12, '이용주'), (13, '윤혜수'), (14, '윤경주'), (15, '최종준'), (16, '신지환'), (17, '윤경주'), (18, '김승규'), (19, '이유록'), (20, '김정훈'), (21, '문지현'), (22, '오병훈'), (23, '지승배')]\n"
     ]
    }
   ],
   "source": [
    "import random\n",
    "\n",
    "num = [0, 1, 6, 8, 9, 14, 15, 16, 17, 18, 19, 20, 21, 22, 23]\n",
    "num_eye = [3, 4, 5, 11, 12, 13]\n",
    "name = [\"김승규\", \"김정훈\", \"마가진\", \"문지현\", \"신지환\", \"오병훈\", \"윤경주\", \"이유록\", \"임건우\", \"조철호\", \"지승배\", \"최종준\", \"편효범\", \"황영범\", \"황정현\"]\n",
    "name_eye = [\"이도원\", \"장은진\", \"이용주\", \"신준호\", \"윤혜수\", \"오창환\"]\n",
    "random_name = []\n",
    "random_name_eye = []\n",
    "\n",
    "for i in range(len(num)):\n",
    "    x = random.choice(name)\n",
    "    random_name.append(x)\n",
    "    \n",
    "for i in range(len(num_eye)):\n",
    "    y = random.choice(name_eye)\n",
    "    random_name_eye.append(y)\n",
    "\n",
    "seats = [seat for seat in zip(num, random_name)]\n",
    "seats_eye = [seat for seat in zip(num_eye, random_name_eye)]\n",
    "real_seats = seats + seats_eye\n",
    "real_seats.sort()\n",
    "print(real_seats)"
   ]
  },
  {
   "cell_type": "markdown",
   "metadata": {},
   "source": [
    "#### 중복을 해결하기 위해 random.choice 대신 random.sample 사용"
   ]
  },
  {
   "cell_type": "code",
   "execution_count": 22,
   "metadata": {},
   "outputs": [
    {
     "name": "stdout",
     "output_type": "stream",
     "text": [
      "[(0, '지승배'), (1, '최종준'), (3, '장은진'), (4, '이용주'), (5, '오창환'), (6, '황정현'), (8, '김정훈'), (9, '오병훈'), (11, '신준호'), (12, '윤혜수'), (13, '이도원'), (14, '임건우'), (15, '황영범'), (16, '편효범'), (17, '조철호'), (18, '마가진'), (19, '이유록'), (20, '윤경주'), (21, '문지현'), (22, '김승규'), (23, '신지환')]\n"
     ]
    }
   ],
   "source": [
    "import random\n",
    "\n",
    "num = [0, 1, 6, 8, 9, 14, 15, 16, 17, 18, 19, 20, 21, 22, 23]\n",
    "num_eye = [3, 4, 5, 11, 12, 13]\n",
    "name = [\"김승규\", \"김정훈\", \"마가진\", \"문지현\", \"신지환\", \"오병훈\", \"윤경주\", \"이유록\", \"임건우\", \"조철호\", \"지승배\", \"최종준\", \"편효범\", \"황영범\", \"황정현\"]\n",
    "name_eye = [\"이도원\", \"장은진\", \"이용주\", \"신준호\", \"윤혜수\", \"오창환\"]\n",
    "\n",
    "random_name = random.sample(name, 15)\n",
    "random_name_eye = random.sample(name_eye, 6)\n",
    "\n",
    "seats = list(zip(num, random_name))\n",
    "seats_eye = list(zip(num_eye, random_name_eye))\n",
    "real_seats = seats + seats_eye\n",
    "real_seats.sort()\n",
    "\n",
    "print(real_seats)"
   ]
  },
  {
   "cell_type": "code",
   "execution_count": null,
   "metadata": {},
   "outputs": [],
   "source": []
  }
 ],
 "metadata": {
  "kernelspec": {
   "display_name": "Python 3",
   "language": "python",
   "name": "python3"
  },
  "language_info": {
   "codemirror_mode": {
    "name": "ipython",
    "version": 3
   },
   "file_extension": ".py",
   "mimetype": "text/x-python",
   "name": "python",
   "nbconvert_exporter": "python",
   "pygments_lexer": "ipython3",
   "version": "3.8.3"
  }
 },
 "nbformat": 4,
 "nbformat_minor": 4
}
