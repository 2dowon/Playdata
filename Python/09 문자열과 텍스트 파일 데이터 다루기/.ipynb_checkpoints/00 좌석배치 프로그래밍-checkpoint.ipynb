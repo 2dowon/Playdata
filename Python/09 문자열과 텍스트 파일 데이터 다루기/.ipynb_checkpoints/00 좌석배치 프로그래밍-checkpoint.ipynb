{
 "cells": [
  {
   "cell_type": "code",
   "execution_count": 2,
   "metadata": {},
   "outputs": [],
   "source": [
    "myList_1 = [1,2,3]\n",
    "myList_2 = ['a','b','c']\n",
    "newDict = dict(zip(myList_1,myList_2))"
   ]
  },
  {
   "cell_type": "code",
   "execution_count": 3,
   "metadata": {},
   "outputs": [
    {
     "name": "stdout",
     "output_type": "stream",
     "text": [
      "[(0, '김승규'), (1, '김정훈'), (2, '마가진'), (3, '문지현'), (4, '신준호'), (5, '신지환'), (6, '오병훈'), (7, '오창환'), (8, '윤경주'), (9, '윤혜수'), (10, '이도원'), (11, '이용주'), (12, '이유록'), (13, '임건우'), (14, '장은진'), (15, '조철호'), (16, '지승배'), (17, '최종준'), (18, '편효범'), (19, '황영범'), (20, '황정현')]\n"
     ]
    }
   ],
   "source": [
    "stu_num = [0, 1, 2, 3, 4, 5, 6, 7, 8, 9, 10, 11, 12, 13, 14, 15, 16, 17, 18, 19, 20]\n",
    "stu_name = [\"김승규\", \"김정훈\", \"마가진\", \"문지현\", \"신준호\", \"신지환\", \"오병훈\", \"오창환\", \"윤경주\", \"윤혜수\", \"이도원\", \"이용주\", \"이유록\", \"임건우\", \"장은진\", \"조철호\", \"지승배\", \"최종준\", \"편효범\", \"황영범\", \"황정현\"]\n",
    "\n",
    "stu_pairs = [stu_pair for stu_pair in zip(stu_num, stu_name)]\n",
    "print(stu_pairs)"
   ]
  },
  {
   "cell_type": "code",
   "execution_count": 5,
   "metadata": {},
   "outputs": [
    {
     "data": {
      "text/plain": [
       "{0: '김승규',\n",
       " 1: '김정훈',\n",
       " 3: '마가진',\n",
       " 4: '문지현',\n",
       " 5: '신준호',\n",
       " 6: '신지환',\n",
       " 8: '오병훈',\n",
       " 9: '오창환',\n",
       " 11: '윤경주',\n",
       " 12: '윤혜수',\n",
       " 13: '이도원',\n",
       " 14: '이용주',\n",
       " 15: '이유록',\n",
       " 16: '임건우',\n",
       " 17: '장은진',\n",
       " 18: '조철호',\n",
       " 19: '지승배',\n",
       " 20: '최종준',\n",
       " 21: '편효범',\n",
       " 22: '황영범',\n",
       " 23: '황정현'}"
      ]
     },
     "execution_count": 5,
     "metadata": {},
     "output_type": "execute_result"
    }
   ],
   "source": [
    "stu_num = [0, 1, 3, 4, 5, 6, 8, 9, 11, 12, 13, 14, 15, 16, 17, 18, 19, 20, 21, 22, 23]\n",
    "stu_name = [\"김승규\", \"김정훈\", \"마가진\", \"문지현\", \"신준호\", \"신지환\", \"오병훈\", \"오창환\", \"윤경주\", \"윤혜수\", \"이도원\", \"이용주\", \"이유록\", \"임건우\", \"장은진\", \"조철호\", \"지승배\", \"최종준\", \"편효범\", \"황영범\", \"황정현\"]\n",
    "\n",
    "stu_pairs = [stu_pair for stu_pair in zip(stu_num, stu_name)]\n",
    "dict(stu_pairs)"
   ]
  },
  {
   "cell_type": "code",
   "execution_count": 8,
   "metadata": {},
   "outputs": [
    {
     "name": "stdout",
     "output_type": "stream",
     "text": [
      "13\n"
     ]
    }
   ],
   "source": [
    "import random\n",
    "\n",
    "x = random.randint(0,23)\n",
    "print(x)"
   ]
  },
  {
   "cell_type": "code",
   "execution_count": 10,
   "metadata": {},
   "outputs": [
    {
     "name": "stdout",
     "output_type": "stream",
     "text": [
      "신준호\n"
     ]
    }
   ],
   "source": [
    "import random\n",
    "\n",
    "x = random.choice(stu_name)\n",
    "print(x)"
   ]
  },
  {
   "cell_type": "markdown",
   "metadata": {},
   "source": [
    "### 1차 좌석 랜덤 배치"
   ]
  },
  {
   "cell_type": "code",
   "execution_count": 21,
   "metadata": {},
   "outputs": [
    {
     "data": {
      "text/plain": [
       "{0: '임건우',\n",
       " 1: '김승규',\n",
       " 3: '문지현',\n",
       " 4: '신지환',\n",
       " 5: '신준호',\n",
       " 6: '신지환',\n",
       " 8: '이도원',\n",
       " 9: '편효범',\n",
       " 11: '지승배',\n",
       " 12: '신지환',\n",
       " 13: '임건우',\n",
       " 14: '신지환',\n",
       " 15: '장은진',\n",
       " 16: '이도원',\n",
       " 17: '신준호',\n",
       " 18: '이도원',\n",
       " 19: '윤경주',\n",
       " 20: '오창환',\n",
       " 21: '오창환',\n",
       " 22: '황영범',\n",
       " 23: '이용주'}"
      ]
     },
     "execution_count": 21,
     "metadata": {},
     "output_type": "execute_result"
    }
   ],
   "source": [
    "import random\n",
    "\n",
    "stu_num = [0, 1, 3, 4, 5, 6, 8, 9, 11, 12, 13, 14, 15, 16, 17, 18, 19, 20, 21, 22, 23]\n",
    "stu_name = [\"김승규\", \"김정훈\", \"마가진\", \"문지현\", \"신준호\", \"신지환\", \"오병훈\", \"오창환\", \"윤경주\", \"윤혜수\", \"이도원\", \"이용주\", \"이유록\", \"임건우\", \"장은진\", \"조철호\", \"지승배\", \"최종준\", \"편효범\", \"황영범\", \"황정현\"]\n",
    "stu_rename = []\n",
    "\n",
    "for i in range(23):\n",
    "    name = random.choice(stu_name)\n",
    "    stu_rename.append(name)\n",
    "\n",
    "stu_pairs = [stu_pair for stu_pair in zip(stu_num, stu_rename)]\n",
    "dict(stu_pairs)"
   ]
  },
  {
   "cell_type": "markdown",
   "metadata": {},
   "source": [
    "### 눈 안좋은 사람만 자리 따로 설정하기"
   ]
  },
  {
   "cell_type": "code",
   "execution_count": 43,
   "metadata": {},
   "outputs": [
    {
     "data": {
      "text/plain": [
       "{0: '편효범',\n",
       " 1: '조철호',\n",
       " 6: '황정현',\n",
       " 8: '최종준',\n",
       " 9: '황정현',\n",
       " 14: '윤경주',\n",
       " 15: '김정훈',\n",
       " 16: '윤경주',\n",
       " 17: '황영범',\n",
       " 18: '문지현',\n",
       " 19: '편효범',\n",
       " 20: '김승규',\n",
       " 21: '문지현',\n",
       " 22: '김승규',\n",
       " 23: '이유록'}"
      ]
     },
     "execution_count": 43,
     "metadata": {},
     "output_type": "execute_result"
    }
   ],
   "source": [
    "import random\n",
    "\n",
    "num = [0, 1, 6, 8, 9, 14, 15, 16, 17, 18, 19, 20, 21, 22, 23]\n",
    "num_eye = [3, 4, 5, 11, 12, 13]\n",
    "name = [\"김승규\", \"김정훈\", \"마가진\", \"문지현\", \"신지환\", \"오병훈\", \"윤경주\", \"이유록\", \"임건우\", \"조철호\", \"지승배\", \"최종준\", \"편효범\", \"황영범\", \"황정현\"]\n",
    "name_eye = [\"이도원\", \"장은진\", \"이용주\", \"신준호\", \"윤혜수\", \"오창환\"]\n",
    "random_name = []\n",
    "random_name_eye = []\n",
    "\n",
    "for i in range(len(num)):\n",
    "    x = random.choice(name)\n",
    "    random_name.append(x)\n",
    "    \n",
    "for i in range(len(num_eye)):\n",
    "    y = random.choice(name_eye)\n",
    "    random_name_eye.append(y)\n",
    "\n",
    "seats = [seat for seat in zip(num, random_name)]\n",
    "dict(seats)"
   ]
  },
  {
   "cell_type": "code",
   "execution_count": 44,
   "metadata": {},
   "outputs": [
    {
     "data": {
      "text/plain": [
       "{3: '이도원', 4: '이용주', 5: '이용주', 11: '신준호', 12: '윤혜수', 13: '신준호'}"
      ]
     },
     "execution_count": 44,
     "metadata": {},
     "output_type": "execute_result"
    }
   ],
   "source": [
    "seats_eye = [seat for seat in zip(num_eye, random_name_eye)]\n",
    "dict(seats_eye)"
   ]
  },
  {
   "cell_type": "code",
   "execution_count": 45,
   "metadata": {},
   "outputs": [
    {
     "name": "stdout",
     "output_type": "stream",
     "text": [
      "[(0, '편효범'), (1, '조철호'), (3, '이도원'), (4, '이용주'), (5, '이용주'), (6, '황정현'), (8, '최종준'), (9, '황정현'), (11, '신준호'), (12, '윤혜수'), (13, '신준호'), (14, '윤경주'), (15, '김정훈'), (16, '윤경주'), (17, '황영범'), (18, '문지현'), (19, '편효범'), (20, '김승규'), (21, '문지현'), (22, '김승규'), (23, '이유록')]\n"
     ]
    }
   ],
   "source": [
    "seats = [seat for seat in zip(num, random_name)]\n",
    "seats_eye = [seat for seat in zip(num_eye, random_name_eye)]\n",
    "real_seats = seats + seats_eye\n",
    "real_seats.sort()\n",
    "print(real_seats)"
   ]
  },
  {
   "cell_type": "code",
   "execution_count": 51,
   "metadata": {},
   "outputs": [
    {
     "name": "stdout",
     "output_type": "stream",
     "text": [
      "[(0, '조철호'), (1, '신지환'), (3, '이용주'), (4, '신준호'), (5, '이용주'), (6, '편효범'), (8, '문지현'), (9, '조철호'), (11, '이용주'), (12, '오창환'), (13, '윤혜수'), (14, '임건우'), (15, '신지환'), (16, '임건우'), (17, '김승규'), (18, '최종준'), (19, '문지현'), (20, '신지환'), (21, '황정현'), (22, '황영범'), (23, '오병훈')]\n"
     ]
    }
   ],
   "source": [
    "import random\n",
    "\n",
    "num = [0, 1, 6, 8, 9, 14, 15, 16, 17, 18, 19, 20, 21, 22, 23]\n",
    "num_eye = [3, 4, 5, 11, 12, 13]\n",
    "name = [\"김승규\", \"김정훈\", \"마가진\", \"문지현\", \"신지환\", \"오병훈\", \"윤경주\", \"이유록\", \"임건우\", \"조철호\", \"지승배\", \"최종준\", \"편효범\", \"황영범\", \"황정현\"]\n",
    "name_eye = [\"이도원\", \"장은진\", \"이용주\", \"신준호\", \"윤혜수\", \"오창환\"]\n",
    "random_name = []\n",
    "random_name_eye = []\n",
    "\n",
    "for i in range(len(num)):\n",
    "    x = random.choice(name)\n",
    "    random_name.append(x)\n",
    "    \n",
    "for i in range(len(num_eye)):\n",
    "    y = random.choice(name_eye)\n",
    "    random_name_eye.append(y)\n",
    "\n",
    "seats = [seat for seat in zip(num, random_name)]\n",
    "seats_eye = [seat for seat in zip(num_eye, random_name_eye)]\n",
    "real_seats = seats + seats_eye\n",
    "real_seats.sort()\n",
    "print(real_seats)"
   ]
  },
  {
   "cell_type": "code",
   "execution_count": null,
   "metadata": {},
   "outputs": [],
   "source": []
  }
 ],
 "metadata": {
  "kernelspec": {
   "display_name": "Python 3",
   "language": "python",
   "name": "python3"
  },
  "language_info": {
   "codemirror_mode": {
    "name": "ipython",
    "version": 3
   },
   "file_extension": ".py",
   "mimetype": "text/x-python",
   "name": "python",
   "nbconvert_exporter": "python",
   "pygments_lexer": "ipython3",
   "version": "3.8.5"
  }
 },
 "nbformat": 4,
 "nbformat_minor": 4
}
