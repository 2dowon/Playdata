{
 "cells": [
  {
   "cell_type": "code",
   "execution_count": 10,
   "metadata": {},
   "outputs": [
    {
     "name": "stdout",
     "output_type": "stream",
     "text": [
      "비밀번호를 설정해주세요. 반드시 알파벳, 특수문자와 숫자가 포함되어야 합니다.hi\n",
      "알파벳, 특수문자, 숫자를 반드시 포함해주세요.\n",
      "비밀번호를 설정해주세요. 반드시 알파벳, 특수문자와 숫자가 포함되어야 합니다.abc\n",
      "알파벳, 특수문자, 숫자를 반드시 포함해주세요.\n",
      "비밀번호를 설정해주세요. 반드시 알파벳, 특수문자와 숫자가 포함되어야 합니다.abc1234\n",
      "알파벳, 특수문자, 숫자를 반드시 포함해주세요.\n",
      "비밀번호를 설정해주세요. 반드시 알파벳, 특수문자와 숫자가 포함되어야 합니다.abc1234!\n",
      "비밀번호가 설정되었습니다.\n"
     ]
    }
   ],
   "source": [
    "# pw = input(\"비밀번호를 설정해주세요. 반드시 알파벳, 특수문자와 숫자가 포함되어야 합니다.\")\n",
    "\n",
    "while True:\n",
    "    pw = input(\"비밀번호를 설정해주세요. 반드시 알파벳, 특수문자와 숫자가 포함되어야 합니다.\")\n",
    "    \n",
    "    if pw.isalnum() == False :\n",
    "        print(\"비밀번호가 설정되었습니다.\")\n",
    "        break\n",
    "    else:\n",
    "        print(\"알파벳, 특수문자, 숫자를 반드시 포함해주세요.\")\n",
    "        continue"
   ]
  },
  {
   "cell_type": "code",
   "execution_count": 19,
   "metadata": {},
   "outputs": [
    {
     "name": "stdout",
     "output_type": "stream",
     "text": [
      "비밀번호를 설정해주세요. 반드시 알파벳, 특수문자와 숫자가 포함되어야 합니다.abc1234!\n",
      "비밀번호가 설정되었습니다.\n",
      "로그인이 필요합니다.\n",
      "비밀번호를 입력해주세요abc\n",
      "비밀번호가 1번 틀렸습니다. 다시 입력해주세요\n",
      "비밀번호를 입력해주세요df\n",
      "비밀번호가 2번 틀렸습니다. 다시 입력해주세요\n",
      "비밀번호를 입력해주세요adfa\n",
      "비밀번호가 3번 틀렸습니다. 다시 입력해주세요\n",
      "비밀번호를 입력해주세요fa\n",
      "비밀번호가 4번 틀렸습니다. 다시 입력해주세요\n",
      "비밀번호를 입력해주세요sdf\n",
      "비밀번호가 5번이상 틀렸습니다. 관리자에게 문의해주세요.\n"
     ]
    }
   ],
   "source": [
    "while True:\n",
    "    pw = input(\"비밀번호를 설정해주세요. 반드시 알파벳, 특수문자와 숫자가 포함되어야 합니다.\")\n",
    "    \n",
    "    if pw.isalnum() == False :\n",
    "        print(\"비밀번호가 설정되었습니다.\")\n",
    "        break\n",
    "    else:\n",
    "        print(\"알파벳, 특수문자, 숫자를 반드시 포함해주세요.\")\n",
    "        continue\n",
    "        \n",
    "print(\"로그인이 필요합니다.\")\n",
    "\n",
    "for i in range(5):\n",
    "    pw_input = input(\"비밀번호를 입력해주세요\")\n",
    "    \n",
    "    if pw_input == pw:\n",
    "        print(\"로그인에 성공하셨습니다\")\n",
    "        break\n",
    "    else:\n",
    "        i = i + 1\n",
    "        if i == 5:\n",
    "            print(\"비밀번호가 5번이상 틀렸습니다. 관리자에게 문의해주세요.\")\n",
    "        else:\n",
    "            print(f\"비밀번호가 {i}번 틀렸습니다. 다시 입력해주세요\")\n",
    "            continue"
   ]
  },
  {
   "cell_type": "code",
   "execution_count": null,
   "metadata": {},
   "outputs": [],
   "source": []
  },
  {
   "cell_type": "code",
   "execution_count": 18,
   "metadata": {},
   "outputs": [
    {
     "name": "stdout",
     "output_type": "stream",
     "text": [
      "비밀번호를 설정해주세요. 반드시 알파벳, 특수문자와 숫자가 포함되어야 합니다.af\n",
      "알파벳, 특수문자, 숫자를 반드시 포함해주세요.\n",
      "비밀번호를 설정해주세요. 반드시 알파벳, 특수문자와 숫자가 포함되어야 합니다.abc1234!\n",
      "비밀번호가 설정되었습니다.\n",
      "로그인이 필요합니다.\n",
      "비밀번호를 입력해주세요ad\n",
      "비밀번호가 1번 틀렸습니다. 다시 입력해주세요\n",
      "비밀번호를 입력해주세요adf\\\n",
      "비밀번호가 2번 틀렸습니다. 다시 입력해주세요\n",
      "비밀번호를 입력해주세요jlj\n",
      "비밀번호가 3번 틀렸습니다. 다시 입력해주세요\n",
      "비밀번호를 입력해주세요jkk\n",
      "비밀번호가 4번 틀렸습니다. 다시 입력해주세요\n",
      "비밀번호를 입력해주세요jklj\n",
      "비밀번호가 5번 틀렸습니다. 다시 입력해주세요\n",
      "비밀번호가 5번이상 틀렸습니다. 관리자에게 문의해주세요.\n"
     ]
    }
   ],
   "source": [
    "while True:\n",
    "    pw = input(\"비밀번호를 설정해주세요. 반드시 알파벳, 특수문자와 숫자가 포함되어야 합니다.\")\n",
    "    \n",
    "    if pw.isalnum() == False :\n",
    "        print(\"비밀번호가 설정되었습니다.\")\n",
    "        break\n",
    "    else:\n",
    "        print(\"알파벳, 특수문자, 숫자를 반드시 포함해주세요.\")\n",
    "        continue\n",
    "        \n",
    "print(\"로그인이 필요합니다.\")\n",
    "\n",
    "for i in range(5):\n",
    "    pw_input = input(\"비밀번호를 입력해주세요\")\n",
    "\n",
    "    if pw_input == pw:\n",
    "        print(\"로그인에 성공하셨습니다\")\n",
    "        break\n",
    "    else:\n",
    "        i = i + 1\n",
    "        print(f\"비밀번호가 {i}번 틀렸습니다. 다시 입력해주세요\")\n",
    "        if i == 5:\n",
    "            print(\"비밀번호가 5번이상 틀렸습니다. 관리자에게 문의해주세요.\")\n",
    "        continue"
   ]
  },
  {
   "cell_type": "code",
   "execution_count": null,
   "metadata": {},
   "outputs": [],
   "source": []
  }
 ],
 "metadata": {
  "kernelspec": {
   "display_name": "Python 3",
   "language": "python",
   "name": "python3"
  },
  "language_info": {
   "codemirror_mode": {
    "name": "ipython",
    "version": 3
   },
   "file_extension": ".py",
   "mimetype": "text/x-python",
   "name": "python",
   "nbconvert_exporter": "python",
   "pygments_lexer": "ipython3",
   "version": "3.8.3"
  }
 },
 "nbformat": 4,
 "nbformat_minor": 4
}
