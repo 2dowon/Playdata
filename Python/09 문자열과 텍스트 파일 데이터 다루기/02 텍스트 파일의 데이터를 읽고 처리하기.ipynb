{
 "cells": [
  {
   "cell_type": "markdown",
   "metadata": {},
   "source": [
    "### 데이터 파일 준비하기"
   ]
  },
  {
   "cell_type": "code",
   "execution_count": 1,
   "metadata": {},
   "outputs": [
    {
     "name": "stdout",
     "output_type": "stream",
     "text": [
      "날짜    에스프레소  아메리카노  카페라테  카푸치노\n",
      "10.15       10  \t50         45       20   \n",
      "10.16       12\t\t45         41       18\n",
      "10.17       11\t\t53         32       25\n",
      "10.18       15\t\t49         38       22\n"
     ]
    }
   ],
   "source": [
    "!type c:\\myPyCode\\data\\coffeeShopSales.txt"
   ]
  },
  {
   "cell_type": "code",
   "execution_count": 2,
   "metadata": {},
   "outputs": [
    {
     "name": "stdout",
     "output_type": "stream",
     "text": [
      "날짜    에스프레소  아메리카노  카페라테  카푸치노\n",
      "10.15       10  \t50         45       20   \n",
      "10.16       12\t\t45         41       18\n",
      "10.17       11\t\t53         32       25\n",
      "10.18       15\t\t49         38       22"
     ]
    }
   ],
   "source": [
    "file_name = \"c:\\myPyCode\\data\\coffeeShopSales.txt\"\n",
    "\n",
    "f = open(file_name)\n",
    "for line in f:\n",
    "    print(line, end=\"\")\n",
    "f.close()"
   ]
  },
  {
   "cell_type": "markdown",
   "metadata": {},
   "source": [
    "### 파일에서 읽은 문자열 데이터 처리"
   ]
  },
  {
   "cell_type": "code",
   "execution_count": 3,
   "metadata": {},
   "outputs": [
    {
     "name": "stdout",
     "output_type": "stream",
     "text": [
      "날짜    에스프레소  아메리카노  카페라테  카푸치노\n",
      "\n"
     ]
    }
   ],
   "source": [
    "f = open(file_name)\n",
    "header = f.readline()\n",
    "f.close()\n",
    "\n",
    "print(header)"
   ]
  },
  {
   "cell_type": "code",
   "execution_count": 4,
   "metadata": {},
   "outputs": [
    {
     "name": "stdout",
     "output_type": "stream",
     "text": [
      "['날짜', '에스프레소', '아메리카노', '카페라테', '카푸치노']\n"
     ]
    }
   ],
   "source": [
    "header_list = header.split()\n",
    "print(header_list)"
   ]
  },
  {
   "cell_type": "code",
   "execution_count": 5,
   "metadata": {},
   "outputs": [
    {
     "name": "stdout",
     "output_type": "stream",
     "text": [
      "['에스프레소', '아메리카노', '카페라테', '카푸치노']\n"
     ]
    }
   ],
   "source": [
    "coffee_menu = header_list[1:]\n",
    "print(coffee_menu)"
   ]
  },
  {
   "cell_type": "code",
   "execution_count": 8,
   "metadata": {},
   "outputs": [
    {
     "name": "stdout",
     "output_type": "stream",
     "text": [
      "['10.15', '10', '50', '45', '20']\n",
      "['10.16', '12', '45', '41', '18']\n",
      "['10.17', '11', '53', '32', '25']\n",
      "['10.18', '15', '49', '38', '22']\n"
     ]
    }
   ],
   "source": [
    "f = open(file_name)\n",
    "header = f.readline()\n",
    "header_list = header.split()\n",
    "# print(header_list)\n",
    "\n",
    "for line in f:\n",
    "    data_list = line.split()\n",
    "    print(data_list)\n",
    "    \n",
    "f.close()"
   ]
  },
  {
   "cell_type": "code",
   "execution_count": 17,
   "metadata": {},
   "outputs": [
    {
     "name": "stdout",
     "output_type": "stream",
     "text": [
      "<class 'str'>\n",
      "<class 'str'>\n",
      "<class 'str'>\n",
      "<class 'str'>\n",
      "<class 'str'>\n",
      "<class 'str'>\n",
      "<class 'str'>\n",
      "<class 'str'>\n",
      "<class 'str'>\n",
      "<class 'str'>\n",
      "<class 'str'>\n",
      "<class 'str'>\n",
      "<class 'str'>\n",
      "<class 'str'>\n",
      "<class 'str'>\n",
      "<class 'str'>\n",
      "<class 'str'>\n",
      "<class 'str'>\n",
      "<class 'str'>\n",
      "<class 'str'>\n",
      "에스프레소 : [10, 12, 11, 15]\n",
      "아메리카노 : [50, 45, 53, 49]\n",
      "카페라테 : [45, 41, 32, 38]\n",
      "카푸치노 : [20, 18, 25, 22]\n"
     ]
    }
   ],
   "source": [
    "f = open(file_name)\n",
    "header = f.readline()\n",
    "headerList = header.split() # [\"날짜\", \"에스프레소\", \"아메리카노\", \"카페라떼\", \"카푸치노\"]\n",
    "\n",
    "espresso = []\n",
    "americano = []\n",
    "cafelatte = []\n",
    "cappucino = []\n",
    "\n",
    "# f의 현재 상태\n",
    "'''\n",
    "날짜    에스프레소  아메리카노  카페라테  카푸치노\n",
    "10.15       10  \t50         45       20   \n",
    "10.16       12\t\t45         41       18\n",
    "10.17       11\t\t53         32       25\n",
    "10.18       15\t\t49         38       22\n",
    "'''\n",
    "# line 상태\n",
    "# for 구문 1회 : 10.15       10  \t50         45       20   \n",
    "\n",
    "for line in f:\n",
    "    # dataList 상태\n",
    "    # for 구문 1회 : [10.15,10,50,45,20]\n",
    "\n",
    "    print(type(dataList[0]))\n",
    "    print(type(dataList[1]))\n",
    "    print(type(dataList[2]))\n",
    "    print(type(dataList[3]))\n",
    "    print(type(dataList[4]))\n",
    "    \n",
    "    dataList = line.split()\n",
    "\n",
    "    # 커피 종류별로 정수로 변환한 후, 리스트의 항목으로 추가\n",
    "    espresso.append(int(dataList[1]))\n",
    "    americano.append(int(dataList[2]))\n",
    "    cafelatte.append(int(dataList[3]))\n",
    "    cappucino.append(int(dataList[4]))\n",
    "    \n",
    "f.close()\n",
    "\n",
    "print(f\"{headerList[1]} : {espresso}\")\n",
    "print(f\"{headerList[2]} : {americano}\")\n",
    "print(f\"{headerList[3]} : {cafelatte}\")\n",
    "print(f\"{headerList[4]} : {cappucino}\")"
   ]
  },
  {
   "cell_type": "code",
   "execution_count": 18,
   "metadata": {},
   "outputs": [
    {
     "name": "stdout",
     "output_type": "stream",
     "text": [
      "에스프레소 : [10, 12, 11, 15]\n",
      "아메리카노 : [50, 45, 53, 49]\n",
      "카페라테 : [45, 41, 32, 38]\n",
      "카푸치노 : [20, 18, 25, 22]\n"
     ]
    }
   ],
   "source": [
    "f = open(file_name)\n",
    "header = f.readline()\n",
    "headerList = header.split()\n",
    "\n",
    "espresso = []\n",
    "americano = []\n",
    "cafelatte = []\n",
    "cappucino = []\n",
    "\n",
    "for line in f:\n",
    "    dataList = line.split()\n",
    "\n",
    "    # 커피 종류별로 정수로 변환한 후, 리스트의 항목으로 추가\n",
    "    espresso.append(int(dataList[1]))\n",
    "    americano.append(int(dataList[2]))\n",
    "    cafelatte.append(int(dataList[3]))\n",
    "    cappucino.append(int(dataList[4]))\n",
    "    \n",
    "f.close()\n",
    "\n",
    "print(f\"{headerList[1]} : {espresso}\")\n",
    "print(f\"{headerList[2]} : {americano}\")\n",
    "print(f\"{headerList[3]} : {cafelatte}\")\n",
    "print(f\"{headerList[4]} : {cappucino}\")\n"
   ]
  },
  {
   "cell_type": "code",
   "execution_count": 21,
   "metadata": {},
   "outputs": [
    {
     "name": "stdout",
     "output_type": "stream",
     "text": [
      "48\n",
      "197\n",
      "156\n",
      "85\n"
     ]
    }
   ],
   "source": [
    "print(sum(espresso))\n",
    "print(sum(americano))\n",
    "print(sum(cafelatte))\n",
    "print(sum(cappucino))"
   ]
  },
  {
   "cell_type": "code",
   "execution_count": 22,
   "metadata": {},
   "outputs": [
    {
     "name": "stdout",
     "output_type": "stream",
     "text": [
      "48\n",
      "4\n",
      "12.0\n"
     ]
    }
   ],
   "source": [
    "print(sum(espresso))\n",
    "print(len(espresso))\n",
    "\n",
    "print(sum(espresso)/len(espresso))"
   ]
  },
  {
   "cell_type": "code",
   "execution_count": 24,
   "metadata": {},
   "outputs": [
    {
     "name": "stdout",
     "output_type": "stream",
     "text": [
      "['날짜', '에스프레소', '아메리카노', '카페라테', '카푸치노']\n"
     ]
    }
   ],
   "source": [
    "print(headerList)"
   ]
  },
  {
   "cell_type": "code",
   "execution_count": 23,
   "metadata": {},
   "outputs": [
    {
     "name": "stdout",
     "output_type": "stream",
     "text": [
      "에스프레소\n"
     ]
    }
   ],
   "source": [
    "k = 0\n",
    "print(headerList[k+1])"
   ]
  },
  {
   "cell_type": "code",
   "execution_count": 27,
   "metadata": {},
   "outputs": [
    {
     "name": "stdout",
     "output_type": "stream",
     "text": [
      "판매량 : 에스프레소\n",
      "- 나흘 전체 : 48, 하루 평균 : 12.0\n",
      "판매량 : 아메리카노\n",
      "- 나흘 전체 : 197, 하루 평균 : 49.25\n",
      "판매량 : 카페라테\n",
      "- 나흘 전체 : 156, 하루 평균 : 39.0\n",
      "판매량 : 카푸치노\n",
      "- 나흘 전체 : 85, 하루 평균 : 21.25\n"
     ]
    }
   ],
   "source": [
    "total_sum = [sum(espresso),sum(americano),sum(cafelatte),sum(cappucino)]\n",
    "total_mean = [sum(espresso)/len(espresso), sum(americano)/len(americano), sum(cafelatte)/len(cafelatte),sum(cappucino)/len(cappucino)]\n",
    "\n",
    "for k in range(len(total_sum)):\n",
    "    print(f\"판매량 : {headerList[k+1]}\")\n",
    "    print(f\"- 나흘 전체 : {total_sum[k]}, 하루 평균 : {total_mean[k]}\")"
   ]
  },
  {
   "cell_type": "code",
   "execution_count": null,
   "metadata": {},
   "outputs": [],
   "source": []
  }
 ],
 "metadata": {
  "kernelspec": {
   "display_name": "Python 3",
   "language": "python",
   "name": "python3"
  },
  "language_info": {
   "codemirror_mode": {
    "name": "ipython",
    "version": 3
   },
   "file_extension": ".py",
   "mimetype": "text/x-python",
   "name": "python",
   "nbconvert_exporter": "python",
   "pygments_lexer": "ipython3",
   "version": "3.8.3"
  }
 },
 "nbformat": 4,
 "nbformat_minor": 4
}
