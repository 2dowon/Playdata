{
 "cells": [
  {
   "cell_type": "code",
   "execution_count": 2,
   "metadata": {},
   "outputs": [
    {
     "data": {
      "text/plain": [
       "['7', '11', '13', '17', '18', '29', '43']"
      ]
     },
     "execution_count": 2,
     "metadata": {},
     "output_type": "execute_result"
    }
   ],
   "source": [
    "import requests\n",
    "from bs4 import BeautifulSoup\n",
    "\n",
    "url = \"https://dhlottery.co.kr/gameResult.do?method=byWin&drwNo=936\"\n",
    "\n",
    "html = requests.get(url).text\n",
    "soup = BeautifulSoup(html, 'lxml') \n",
    "\n",
    "win_nums = soup.select(\"span.ball_645\")\n",
    "    \n",
    "lotto_936_num = [win_num.get_text() for win_num in win_nums]\n",
    "lotto_936_num"
   ]
  },
  {
   "cell_type": "code",
   "execution_count": 8,
   "metadata": {},
   "outputs": [
    {
     "name": "stdout",
     "output_type": "stream",
     "text": [
      "[10, 9, 11, 14, 16, 14, 2, 8, 2]\n",
      "[23, 13, 16, 27, 24, 15, 9, 19, 4]\n",
      "[29, 21, 19, 30, 29, 26, 16, 25, 16]\n",
      "[33, 25, 21, 31, 40, 27, 25, 34, 17]\n",
      "[37, 32, 27, 40, 41, 40, 26, 37, 36]\n",
      "[40, 42, 31, 42, 42, 42, 40, 39, 39]\n",
      "[16, 2, 30, 2, 3, 34, 42, 9, 14]\n"
     ]
    }
   ],
   "source": [
    "import requests\n",
    "from bs4 import BeautifulSoup\n",
    "\n",
    "one_num = []\n",
    "two_num = []\n",
    "three_num = []\n",
    "four_num = []\n",
    "five_num = []\n",
    "six_num = []\n",
    "bonus_num = []\n",
    "\n",
    "for i in range(1, 10):\n",
    "    url = f\"https://dhlottery.co.kr/gameResult.do?method=byWin&drwNo={i}\"\n",
    "\n",
    "    html = requests.get(url).text\n",
    "    soup = BeautifulSoup(html, 'lxml') \n",
    "\n",
    "    soup_lottos = soup.select(\"span.ball_645\")\n",
    "    lotto_num = [soup_lotto.get_text() for soup_lotto in soup_lottos]\n",
    "\n",
    "    one_num.append(int(lotto_num[0]))\n",
    "    two_num.append(int(lotto_num[1]))\n",
    "    three_num.append(int(lotto_num[2]))\n",
    "    four_num.append(int(lotto_num[3]))\n",
    "    five_num.append(int(lotto_num[4]))\n",
    "    six_num.append(int(lotto_num[5]))\n",
    "    bonus_num.append(int(lotto_num[6]))\n",
    "\n",
    "print(one_num)\n",
    "print(two_num)\n",
    "print(three_num)\n",
    "print(four_num)\n",
    "print(five_num)\n",
    "print(six_num)\n",
    "print(bonus_num)"
   ]
  },
  {
   "cell_type": "code",
   "execution_count": 25,
   "metadata": {},
   "outputs": [
    {
     "name": "stdout",
     "output_type": "stream",
     "text": [
      "[10, 9, 11, 14, 16, 14, 2, 8, 2]\n",
      "[23, 13, 16, 27, 24, 15, 9, 19, 4]\n",
      "[29, 21, 19, 30, 29, 26, 16, 25, 16]\n",
      "[33, 25, 21, 31, 40, 27, 25, 34, 17]\n",
      "[37, 32, 27, 40, 41, 40, 26, 37, 36]\n",
      "[40, 42, 31, 42, 42, 42, 40, 39, 39]\n",
      "[16, 2, 30, 2, 3, 34, 42, 9, 14]\n",
      "[['2002년 12월 07일'], ['2002년 12월 14일'], ['2002년 12월 21일'], ['2002년 12월 28일'], ['2003년 01월 04일'], ['2003년 01월 11일'], ['2003년 01월 18일'], ['2003년 01월 25일'], ['2003년 02월 01일']]\n"
     ]
    }
   ],
   "source": [
    "import requests\n",
    "from bs4 import BeautifulSoup\n",
    "\n",
    "lotto_date = []\n",
    "one_num = []\n",
    "two_num = []\n",
    "three_num = []\n",
    "four_num = []\n",
    "five_num = []\n",
    "six_num = []\n",
    "bonus_num = []\n",
    "lotto_total_prize = []\n",
    "lotto_winner = []\n",
    "lotto_winner_prize = []\n",
    "lotto_winner_num = []\n",
    "\n",
    "for i in range(1, 10):\n",
    "    url = f\"https://dhlottery.co.kr/gameResult.do?method=byWin&drwNo={i}\"\n",
    "\n",
    "    html = requests.get(url).text\n",
    "    soup = BeautifulSoup(html, 'lxml') \n",
    "\n",
    "    soup_lottos = soup.select(\"span.ball_645\")\n",
    "    lotto_num = [soup_lotto.get_text() for soup_lotto in soup_lottos]\n",
    "\n",
    "    one_num.append(int(lotto_num[0]))\n",
    "    two_num.append(int(lotto_num[1]))\n",
    "    three_num.append(int(lotto_num[2]))\n",
    "    four_num.append(int(lotto_num[3]))\n",
    "    five_num.append(int(lotto_num[4]))\n",
    "    six_num.append(int(lotto_num[5]))\n",
    "    bonus_num.append(int(lotto_num[6]))\n",
    "\n",
    "    soup_dates = soup.select(\"p.desc\")\n",
    "    lotto_dates = [soup_date.get_text().replace(\" 추첨)\",\"\").replace(\"(\",\"\") for soup_date in soup_dates ]\n",
    "    lotto_date.append(lotto_dates)\n",
    "    \n",
    "print(one_num)\n",
    "print(two_num)\n",
    "print(three_num)\n",
    "print(four_num)\n",
    "print(five_num)\n",
    "print(six_num)\n",
    "print(bonus_num)\n",
    "print(lotto_date)"
   ]
  },
  {
   "cell_type": "code",
   "execution_count": 17,
   "metadata": {},
   "outputs": [
    {
     "data": {
      "text/plain": [
       "['(2002년 12월 07일 추첨)']"
      ]
     },
     "execution_count": 17,
     "metadata": {},
     "output_type": "execute_result"
    }
   ],
   "source": [
    "import requests\n",
    "from bs4 import BeautifulSoup\n",
    "\n",
    "url = f\"https://dhlottery.co.kr/gameResult.do?method=byWin&drwNo=1\"\n",
    "\n",
    "html = requests.get(url).text\n",
    "soup = BeautifulSoup(html, 'lxml')\n",
    "\n",
    "soup_dates = soup.select(\"p.desc\")\n",
    "lotto_dates = [soup_date.get_text() for soup_date in soup_dates ]\n",
    "lotto_dates"
   ]
  },
  {
   "cell_type": "code",
   "execution_count": null,
   "metadata": {},
   "outputs": [],
   "source": [
    "\n"
   ]
  }
 ],
 "metadata": {
  "kernelspec": {
   "display_name": "Python 3",
   "language": "python",
   "name": "python3"
  },
  "language_info": {
   "codemirror_mode": {
    "name": "ipython",
    "version": 3
   },
   "file_extension": ".py",
   "mimetype": "text/x-python",
   "name": "python",
   "nbconvert_exporter": "python",
   "pygments_lexer": "ipython3",
   "version": "3.8.3"
  }
 },
 "nbformat": 4,
 "nbformat_minor": 4
}
