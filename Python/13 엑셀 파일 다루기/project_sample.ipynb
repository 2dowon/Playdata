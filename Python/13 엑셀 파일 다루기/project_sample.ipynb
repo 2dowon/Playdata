{
 "cells": [
  {
   "cell_type": "code",
   "execution_count": 40,
   "metadata": {},
   "outputs": [
    {
     "data": {
      "text/html": [
       "<div>\n",
       "<style scoped>\n",
       "    .dataframe tbody tr th:only-of-type {\n",
       "        vertical-align: middle;\n",
       "    }\n",
       "\n",
       "    .dataframe tbody tr th {\n",
       "        vertical-align: top;\n",
       "    }\n",
       "\n",
       "    .dataframe thead th {\n",
       "        text-align: right;\n",
       "    }\n",
       "</style>\n",
       "<table border=\"1\" class=\"dataframe\">\n",
       "  <thead>\n",
       "    <tr style=\"text-align: right;\">\n",
       "      <th></th>\n",
       "      <th>2020-10-05</th>\n",
       "      <th>2020-10-06</th>\n",
       "      <th>2020-10-07</th>\n",
       "      <th>2020-10-12</th>\n",
       "      <th>2020-10-13</th>\n",
       "      <th>2020-10-14</th>\n",
       "      <th>2020-10-15</th>\n",
       "      <th>2020-10-16</th>\n",
       "      <th>2020-10-19</th>\n",
       "      <th>2020-10-20</th>\n",
       "      <th>2020-10-21</th>\n",
       "      <th>2020-10-22</th>\n",
       "      <th>2020-10-23</th>\n",
       "      <th>2020-10-26</th>\n",
       "      <th>2020-10-27</th>\n",
       "      <th>2020-10-28</th>\n",
       "    </tr>\n",
       "    <tr>\n",
       "      <th>학생</th>\n",
       "      <th></th>\n",
       "      <th></th>\n",
       "      <th></th>\n",
       "      <th></th>\n",
       "      <th></th>\n",
       "      <th></th>\n",
       "      <th></th>\n",
       "      <th></th>\n",
       "      <th></th>\n",
       "      <th></th>\n",
       "      <th></th>\n",
       "      <th></th>\n",
       "      <th></th>\n",
       "      <th></th>\n",
       "      <th></th>\n",
       "      <th></th>\n",
       "    </tr>\n",
       "  </thead>\n",
       "  <tbody>\n",
       "    <tr>\n",
       "      <th>김승규</th>\n",
       "      <td>336</td>\n",
       "      <td>298</td>\n",
       "      <td>387</td>\n",
       "      <td>317</td>\n",
       "      <td>313</td>\n",
       "      <td>310.0</td>\n",
       "      <td>334.0</td>\n",
       "      <td>324.0</td>\n",
       "      <td>327</td>\n",
       "      <td>308</td>\n",
       "      <td>311</td>\n",
       "      <td>369</td>\n",
       "      <td>318</td>\n",
       "      <td>323</td>\n",
       "      <td>342</td>\n",
       "      <td>348.0</td>\n",
       "    </tr>\n",
       "    <tr>\n",
       "      <th>김정훈</th>\n",
       "      <td>102</td>\n",
       "      <td>120</td>\n",
       "      <td>132</td>\n",
       "      <td>150</td>\n",
       "      <td>125</td>\n",
       "      <td>NaN</td>\n",
       "      <td>143.0</td>\n",
       "      <td>143.0</td>\n",
       "      <td>152</td>\n",
       "      <td>161</td>\n",
       "      <td>148</td>\n",
       "      <td>171</td>\n",
       "      <td>166</td>\n",
       "      <td>160</td>\n",
       "      <td>결석</td>\n",
       "      <td>167.0</td>\n",
       "    </tr>\n",
       "    <tr>\n",
       "      <th>마가진</th>\n",
       "      <td>5</td>\n",
       "      <td>35</td>\n",
       "      <td>87</td>\n",
       "      <td>74</td>\n",
       "      <td>49</td>\n",
       "      <td>56.0</td>\n",
       "      <td>75.0</td>\n",
       "      <td>73.0</td>\n",
       "      <td>72</td>\n",
       "      <td>93</td>\n",
       "      <td>100</td>\n",
       "      <td>85</td>\n",
       "      <td>100</td>\n",
       "      <td>98</td>\n",
       "      <td>97</td>\n",
       "      <td>90.0</td>\n",
       "    </tr>\n",
       "    <tr>\n",
       "      <th>문지현</th>\n",
       "      <td>230</td>\n",
       "      <td>229</td>\n",
       "      <td>229</td>\n",
       "      <td>229</td>\n",
       "      <td>227</td>\n",
       "      <td>221.0</td>\n",
       "      <td>220.0</td>\n",
       "      <td>222.0</td>\n",
       "      <td>235</td>\n",
       "      <td>220</td>\n",
       "      <td>235</td>\n",
       "      <td>236</td>\n",
       "      <td>235</td>\n",
       "      <td>220</td>\n",
       "      <td>229</td>\n",
       "      <td>245.0</td>\n",
       "    </tr>\n",
       "    <tr>\n",
       "      <th>신준호</th>\n",
       "      <td>278</td>\n",
       "      <td>242</td>\n",
       "      <td>256</td>\n",
       "      <td>261</td>\n",
       "      <td>247</td>\n",
       "      <td>249.0</td>\n",
       "      <td>260.0</td>\n",
       "      <td>250.0</td>\n",
       "      <td>261</td>\n",
       "      <td>278</td>\n",
       "      <td>243</td>\n",
       "      <td>249</td>\n",
       "      <td>260</td>\n",
       "      <td>249</td>\n",
       "      <td>247</td>\n",
       "      <td>241.0</td>\n",
       "    </tr>\n",
       "  </tbody>\n",
       "</table>\n",
       "</div>"
      ],
      "text/plain": [
       "     2020-10-05 2020-10-06  2020-10-07 2020-10-12 2020-10-13  2020-10-14  \\\n",
       "학생                                                                         \n",
       "김승규         336        298         387        317        313       310.0   \n",
       "김정훈         102        120         132        150        125         NaN   \n",
       "마가진           5         35          87         74         49        56.0   \n",
       "문지현         230        229         229        229        227       221.0   \n",
       "신준호         278        242         256        261        247       249.0   \n",
       "\n",
       "     2020-10-15  2020-10-16 2020-10-19 2020-10-20 2020-10-21 2020-10-22  \\\n",
       "학생                                                                        \n",
       "김승규       334.0       324.0        327        308        311        369   \n",
       "김정훈       143.0       143.0        152        161        148        171   \n",
       "마가진        75.0        73.0         72         93        100         85   \n",
       "문지현       220.0       222.0        235        220        235        236   \n",
       "신준호       260.0       250.0        261        278        243        249   \n",
       "\n",
       "    2020-10-23 2020-10-26 2020-10-27  2020-10-28  \n",
       "학생                                                \n",
       "김승규        318        323        342       348.0  \n",
       "김정훈        166        160         결석       167.0  \n",
       "마가진        100         98         97        90.0  \n",
       "문지현        235        220        229       245.0  \n",
       "신준호        260        249        247       241.0  "
      ]
     },
     "execution_count": 40,
     "metadata": {},
     "output_type": "execute_result"
    }
   ],
   "source": [
    "import pandas as pd\n",
    "\n",
    "df = pd.read_excel('c:/myPyCode/data/play_typing.xlsx', index_col=\"학생\")\n",
    "df.head()"
   ]
  },
  {
   "cell_type": "code",
   "execution_count": 41,
   "metadata": {},
   "outputs": [
    {
     "name": "stdout",
     "output_type": "stream",
     "text": [
      "2020-10-05    336\n",
      "2020-10-06    298\n",
      "2020-10-07    387\n",
      "2020-10-12    317\n",
      "2020-10-13    313\n",
      "2020-10-14    310\n",
      "2020-10-15    334\n",
      "2020-10-16    324\n",
      "2020-10-19    327\n",
      "2020-10-20    308\n",
      "2020-10-21    311\n",
      "2020-10-22    369\n",
      "2020-10-23    318\n",
      "2020-10-26    323\n",
      "2020-10-27    342\n",
      "2020-10-28    348\n",
      "Name: 김승규, dtype: object\n",
      "\n",
      "DatetimeIndex(['2020-10-05', '2020-10-06', '2020-10-07', '2020-10-12',\n",
      "               '2020-10-13', '2020-10-14', '2020-10-15', '2020-10-16',\n",
      "               '2020-10-19', '2020-10-20', '2020-10-21', '2020-10-22',\n",
      "               '2020-10-23', '2020-10-26', '2020-10-27', '2020-10-28'],\n",
      "              dtype='datetime64[ns]', freq=None)\n"
     ]
    }
   ],
   "source": [
    "name_typing = df.loc[\"김승규\"]\n",
    "print(name_typing)\n",
    "\n",
    "print()\n",
    "\n",
    "date = name_typing.index\n",
    "print(date)"
   ]
  },
  {
   "cell_type": "code",
   "execution_count": 42,
   "metadata": {},
   "outputs": [
    {
     "name": "stdout",
     "output_type": "stream",
     "text": [
      "[336 298 387 317 313 310.0 334.0 324.0 327 308 311 369 318 323 342 348.0]\n",
      "298\n"
     ]
    }
   ],
   "source": [
    "typing = name_typing.values\n",
    "print(typing)\n",
    "print(typing[1])"
   ]
  },
  {
   "cell_type": "code",
   "execution_count": 59,
   "metadata": {},
   "outputs": [
    {
     "name": "stdout",
     "output_type": "stream",
     "text": [
      "본인 이름을 입력해주세요 : 문지현\n",
      "2020-10-05    230\n",
      "2020-10-06    229\n",
      "2020-10-07    229\n",
      "2020-10-12    229\n",
      "2020-10-13    227\n",
      "2020-10-14    221\n",
      "2020-10-15    220\n",
      "2020-10-16    222\n",
      "2020-10-19    235\n",
      "2020-10-20    220\n",
      "2020-10-21    235\n",
      "2020-10-22    236\n",
      "2020-10-23    235\n",
      "2020-10-26    220\n",
      "2020-10-27    229\n",
      "2020-10-28    245\n",
      "Name: 문지현, dtype: object\n",
      "\n",
      "DatetimeIndex(['2020-10-05', '2020-10-06', '2020-10-07', '2020-10-12',\n",
      "               '2020-10-13', '2020-10-14', '2020-10-15', '2020-10-16',\n",
      "               '2020-10-19', '2020-10-20', '2020-10-21', '2020-10-22',\n",
      "               '2020-10-23', '2020-10-26', '2020-10-27', '2020-10-28'],\n",
      "              dtype='datetime64[ns]', freq=None)\n"
     ]
    }
   ],
   "source": [
    "name = input(\"본인 이름을 입력해주세요 : \")\n",
    "\n",
    "name_typing = df.loc[name]\n",
    "print(name_typing)\n",
    "\n",
    "print()\n",
    "\n",
    "date = name_typing.index\n",
    "print(date)"
   ]
  },
  {
   "cell_type": "code",
   "execution_count": 8,
   "metadata": {},
   "outputs": [
    {
     "name": "stdout",
     "output_type": "stream",
     "text": [
      "[175 188 179 '병가' '지각' 190.0 190.0 192.0 237 221 '결석' 243 nan '결석' 192\n",
      " 201.0]\n",
      "[175 188 179 nan nan 190.0 190.0 192.0 237 221 nan 243 nan nan 192 201.0]\n"
     ]
    }
   ],
   "source": [
    "import numpy as np\n",
    "\n",
    "typings = name_typing.values\n",
    "print(typings)\n",
    "\n",
    "# print(typings[3])\n",
    "\n",
    "\n",
    "# if typings[3] == '병가':\n",
    "#     print(\"병가 맞아요\")\n",
    "\n",
    "# if typings[3] == '병가':    \n",
    "#     typing = np.nan\n",
    "\n",
    "if typings[3] == '병가':    \n",
    "    typings[3] = np.nan\n",
    "\n",
    "if typings[4] == '지각':    \n",
    "    typings[4] = np.nan\n",
    "    \n",
    "if typings[-3] == '결석':\n",
    "    typings[-3] = np.nan\n",
    "\n",
    "if typings[-6] == '결석':    \n",
    "    typings[-6] = np.nan\n",
    "    \n",
    "print(typings)\n",
    "\n",
    "# for typing in len(typings):\n",
    "#     print(typing)\n",
    "#     if typings[typing] == '병가':    \n",
    "#         typings[typing] = \"\""
   ]
  },
  {
   "cell_type": "code",
   "execution_count": 60,
   "metadata": {},
   "outputs": [
    {
     "name": "stdout",
     "output_type": "stream",
     "text": [
      "                   날짜  타이핑\n",
      "2020-10-05 2020-10-05  230\n",
      "2020-10-06 2020-10-06  229\n",
      "2020-10-07 2020-10-07  229\n",
      "2020-10-12 2020-10-12  229\n",
      "2020-10-13 2020-10-13  227\n",
      "2020-10-14 2020-10-14  221\n",
      "2020-10-15 2020-10-15  220\n",
      "2020-10-16 2020-10-16  222\n",
      "2020-10-19 2020-10-19  235\n",
      "2020-10-20 2020-10-20  220\n",
      "2020-10-21 2020-10-21  235\n",
      "2020-10-22 2020-10-22  236\n",
      "2020-10-23 2020-10-23  235\n",
      "2020-10-26 2020-10-26  220\n",
      "2020-10-27 2020-10-27  229\n",
      "2020-10-28 2020-10-28  245\n"
     ]
    },
    {
     "data": {
      "text/plain": [
       "pandas.core.frame.DataFrame"
      ]
     },
     "execution_count": 60,
     "metadata": {},
     "output_type": "execute_result"
    }
   ],
   "source": [
    "# 날짜, 타이핑 데이터 프레임으로 만듦\n",
    "# table : 딕셔너리 타입(K:V)\n",
    "# df_typing : 날짜 데이터와 타이핑을 가진 데이터 프레임(열 2개 이상)\n",
    "\n",
    "table = {'날짜':date, '타이핑':name_typing}\n",
    "df_typing = pd.DataFrame(table, columns = ['날짜','타이핑'])\n",
    "\n",
    "print(df_typing)\n",
    "\n",
    "type(df_typing)"
   ]
  },
  {
   "cell_type": "code",
   "execution_count": 47,
   "metadata": {},
   "outputs": [
    {
     "name": "stdout",
     "output_type": "stream",
     "text": [
      "[175 188 179 '병가' '지각' 190.0 190.0 192.0 237 221 '결석' 243 nan '결석' 192\n",
      " 201.0]\n",
      "[175 188 179 190.0 190.0 192.0 237 221 243 192 201.0]\n"
     ]
    }
   ],
   "source": [
    "typings = name_typing.values\n",
    "print(typings)\n",
    "\n",
    "type(typings)\n",
    "\n",
    "index = [3,4,10,12,13]\n",
    "new_typing = np.delete(typings, index)\n",
    "print(new_typing)"
   ]
  },
  {
   "cell_type": "code",
   "execution_count": 70,
   "metadata": {
    "scrolled": true
   },
   "outputs": [
    {
     "name": "stdout",
     "output_type": "stream",
     "text": [
      "                   날짜  타이핑\n",
      "2020-10-05 2020-10-05  230\n",
      "2020-10-06 2020-10-06  229\n",
      "2020-10-07 2020-10-07  229\n",
      "2020-10-12 2020-10-12  229\n",
      "2020-10-13 2020-10-13  227\n",
      "2020-10-14 2020-10-14  221\n",
      "2020-10-15 2020-10-15  220\n",
      "2020-10-16 2020-10-16  222\n",
      "2020-10-19 2020-10-19  235\n",
      "2020-10-20 2020-10-20  220\n",
      "2020-10-21 2020-10-21  235\n",
      "2020-10-22 2020-10-22  236\n",
      "2020-10-23 2020-10-23  235\n",
      "2020-10-26 2020-10-26  220\n",
      "2020-10-27 2020-10-27  229\n",
      "2020-10-28 2020-10-28  245\n"
     ]
    }
   ],
   "source": [
    "print(df_typing)"
   ]
  },
  {
   "cell_type": "code",
   "execution_count": 75,
   "metadata": {},
   "outputs": [
    {
     "name": "stdout",
     "output_type": "stream",
     "text": [
      "2020-10-05   2020-10-05\n",
      "2020-10-06   2020-10-06\n",
      "2020-10-07   2020-10-07\n",
      "2020-10-12   2020-10-12\n",
      "2020-10-13   2020-10-13\n",
      "2020-10-14   2020-10-14\n",
      "2020-10-15   2020-10-15\n",
      "2020-10-16   2020-10-16\n",
      "2020-10-19   2020-10-19\n",
      "2020-10-20   2020-10-20\n",
      "2020-10-21   2020-10-21\n",
      "2020-10-22   2020-10-22\n",
      "2020-10-23   2020-10-23\n",
      "2020-10-26   2020-10-26\n",
      "2020-10-27   2020-10-27\n",
      "2020-10-28   2020-10-28\n",
      "Name: 날짜, dtype: datetime64[ns]\n"
     ]
    },
    {
     "data": {
      "text/plain": [
       "pandas.core.series.Series"
      ]
     },
     "execution_count": 75,
     "metadata": {},
     "output_type": "execute_result"
    }
   ],
   "source": [
    "print(df_typing['날짜'])\n",
    "type(df_typing['날짜'])\n",
    "\n",
    "df_typing['날짜']"
   ]
  },
  {
   "cell_type": "code",
   "execution_count": 55,
   "metadata": {},
   "outputs": [
    {
     "name": "stdout",
     "output_type": "stream",
     "text": [
      "[230 229 229 229 227 221.0 220.0 222.0 235 220 235 236 235 220 229 245.0]\n"
     ]
    }
   ],
   "source": [
    "typings = name_typing.values\n",
    "print(typings)"
   ]
  },
  {
   "cell_type": "code",
   "execution_count": 67,
   "metadata": {},
   "outputs": [],
   "source": [
    "excel = pd.ExcelWriter('c:/myPyCode/data/타이핑결과.xlsx', engine='xlsxwriter')\n",
    "df_typing.to_excel(excel, index=False, sheet_name='선그래프')\n",
    "excel.save()"
   ]
  },
  {
   "cell_type": "code",
   "execution_count": 87,
   "metadata": {},
   "outputs": [
    {
     "data": {
      "image/png": "[encoded data removed]",
      "text/plain": [
       "<Figure size 432x288 with 1 Axes>"
      ]
     },
     "metadata": {
      "needs_background": "light"
     },
     "output_type": "display_data"
    },
    {
     "data": {
      "image/png": "[encoded data removed]",
      "text/plain": [
       "<Figure size 720x720 with 1 Axes>"
      ]
     },
     "metadata": {
      "needs_background": "light"
     },
     "output_type": "display_data"
    }
   ],
   "source": [
    "import matplotlib as plt\n",
    "import matplotlib.pyplot as plt\n",
    "\n",
    "matplotlib.rcParams['font.family'] = 'Malgun Gothic'\n",
    "matplotlib.rcParams['axes.unicode_minus'] = False\n",
    "\n",
    "\n",
    "df_typing.plot(x='날짜',y='타이핑',grid=True,title = name + '의 타이핑')\n",
    "plt.figure(figsize=(10,10))\n",
    "plt.ylabel = \"타자수\"\n",
    "plt.ylim(215, 250)\n",
    "plt.savefig('c:/myPyCode/figures/타이핑차트.png', dpi = 200)\n",
    "plt.show()"
   ]
  },
  {
   "cell_type": "code",
   "execution_count": null,
   "metadata": {},
   "outputs": [],
   "source": []
  }
 ],
 "metadata": {
  "kernelspec": {
   "display_name": "Python 3",
   "language": "python",
   "name": "python3"
  },
  "language_info": {
   "codemirror_mode": {
    "name": "ipython",
    "version": 3
   },
   "file_extension": ".py",
   "mimetype": "text/x-python",
   "name": "python",
   "nbconvert_exporter": "python",
   "pygments_lexer": "ipython3",
   "version": "3.8.3"
  }
 },
 "nbformat": 4,
 "nbformat_minor": 4
}
