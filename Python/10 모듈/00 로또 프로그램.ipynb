{
 "cells": [
  {
   "cell_type": "markdown",
   "metadata": {},
   "source": [
    "### 단순하게 6개의 숫자만 랜덤으로 출력"
   ]
  },
  {
   "cell_type": "code",
   "execution_count": 13,
   "metadata": {},
   "outputs": [
    {
     "name": "stdout",
     "output_type": "stream",
     "text": [
      "[38, 9, 40, 26, 28, 15]\n"
     ]
    }
   ],
   "source": [
    "import random\n",
    "\n",
    "lotto = []\n",
    "\n",
    "for i in range(6):\n",
    "    num = random.randint(1,45)\n",
    "    lotto.append(num)\n",
    "        \n",
    "print(lotto)"
   ]
  },
  {
   "cell_type": "markdown",
   "metadata": {},
   "source": [
    "### 중복 제거 기능 - set 활용"
   ]
  },
  {
   "cell_type": "code",
   "execution_count": 8,
   "metadata": {},
   "outputs": [
    {
     "name": "stdout",
     "output_type": "stream",
     "text": [
      "{5, 38, 20, 24, 30}\n"
     ]
    }
   ],
   "source": [
    "import random\n",
    "\n",
    "lotto = []\n",
    "\n",
    "for i in range(6):\n",
    "    num = random.randint(1,45)\n",
    "    lotto.append(num)\n",
    "\n",
    "set_lotto = set(lotto)\n",
    "print(set_lotto)"
   ]
  },
  {
   "cell_type": "markdown",
   "metadata": {},
   "source": [
    "### set으로 중복을 제거할 경우 총 개수가 6개라는 보장이 없으므로 random.sample 활용하기"
   ]
  },
  {
   "cell_type": "code",
   "execution_count": 14,
   "metadata": {},
   "outputs": [
    {
     "name": "stdout",
     "output_type": "stream",
     "text": [
      "[37, 13, 6, 5, 36, 39]\n"
     ]
    }
   ],
   "source": [
    "import random\n",
    "\n",
    "lotto = random.sample(range(0,46), 6)\n",
    "print(lotto)"
   ]
  },
  {
   "cell_type": "markdown",
   "metadata": {},
   "source": [
    "### 로또 여러장 구매하기"
   ]
  },
  {
   "cell_type": "code",
   "execution_count": 21,
   "metadata": {},
   "outputs": [
    {
     "name": "stdout",
     "output_type": "stream",
     "text": [
      "로또를 몇 장 구매하시겠습니까? : 2\n",
      "랜덤하게 생성된 로또 번호입니다.\n",
      "[1] : [0, 43, 32, 19, 13, 12]\n",
      "[2] : [18, 9, 32, 37, 2, 27]\n"
     ]
    }
   ],
   "source": [
    "import random\n",
    "\n",
    "lotto_count = int(input(\"로또를 몇 장 구매하시겠습니까? : \"))\n",
    "print(\"랜덤하게 생성된 로또 번호입니다.\")\n",
    "\n",
    "for i in range(lotto_count):\n",
    "    lotto = random.sample(range(0,46), 6)\n",
    "    print(f\"[{i+1}] : {lotto}\")"
   ]
  },
  {
   "cell_type": "markdown",
   "metadata": {},
   "source": [
    "##### map 이용해서 로또 번호 리스트로 만들기"
   ]
  },
  {
   "cell_type": "code",
   "execution_count": 39,
   "metadata": {},
   "outputs": [
    {
     "name": "stdout",
     "output_type": "stream",
     "text": [
      "로또를 몇 장 구매하시겠습니까? : 3\n",
      "랜덤하게 생성된 로또 번호입니다.\n",
      "[1] : [25, 10, 41, 21, 3, 40]\n",
      "[2] : [26, 7, 3, 11, 18, 45]\n",
      "[3] : [28, 18, 30, 9, 23, 8]\n",
      "로또 당첨 번호를 입력해주세요(콤마로 숫자 구분) : 34, 45, 19, 2, 42, 40\n",
      "['34', ' 45', ' 19', ' 2', ' 42', ' 40']\n",
      "0\n"
     ]
    }
   ],
   "source": [
    "import random\n",
    "\n",
    "lotto_count = int(input(\"로또를 몇 장 구매하시겠습니까? : \"))\n",
    "print(\"랜덤하게 생성된 로또 번호입니다.\")\n",
    "\n",
    "for i in range(lotto_count):\n",
    "    lotto = random.sample(range(0,46), 6)\n",
    "    print(f\"[{i+1}] : {lotto}\")\n",
    "\n",
    "lotto_num = input(\"로또 당첨 번호를 입력해주세요(콤마로 숫자 구분) : \")\n",
    "# print(lotto_num.split(\",\"))\n",
    "list_lotto_num = lotto_num.split(\",\")\n",
    "print(list_lotto_num)\n",
    "\n",
    "\n",
    "count = 0\n",
    "\n",
    "for i in range(6):\n",
    "    if lotto[i] == list_lotto_num[i]:\n",
    "        count = count + 1\n",
    "        \n",
    "print(count)"
   ]
  },
  {
   "cell_type": "markdown",
   "metadata": {},
   "source": [
    "### 로또 당첨 확인하기2"
   ]
  },
  {
   "cell_type": "code",
   "execution_count": 19,
   "metadata": {},
   "outputs": [
    {
     "name": "stdout",
     "output_type": "stream",
     "text": [
      "오늘의 로또 번호입니다. : [11, 7, 35, 6, 10, 44]\n"
     ]
    },
    {
     "ename": "KeyboardInterrupt",
     "evalue": "Interrupted by user",
     "output_type": "error",
     "traceback": [
      "\u001b[1;31m---------------------------------------------------------------------------\u001b[0m",
      "\u001b[1;31mKeyboardInterrupt\u001b[0m                         Traceback (most recent call last)",
      "\u001b[1;32m<ipython-input-19-04d9b3ce1b33>\u001b[0m in \u001b[0;36m<module>\u001b[1;34m\u001b[0m\n\u001b[0;32m      4\u001b[0m \u001b[0mprint\u001b[0m\u001b[1;33m(\u001b[0m\u001b[1;34mf\"오늘의 로또 번호입니다. : {lotto}\"\u001b[0m\u001b[1;33m)\u001b[0m\u001b[1;33m\u001b[0m\u001b[1;33m\u001b[0m\u001b[0m\n\u001b[0;32m      5\u001b[0m \u001b[1;33m\u001b[0m\u001b[0m\n\u001b[1;32m----> 6\u001b[1;33m \u001b[0mlotto_num\u001b[0m \u001b[1;33m=\u001b[0m \u001b[0mlist\u001b[0m\u001b[1;33m(\u001b[0m\u001b[0mmap\u001b[0m\u001b[1;33m(\u001b[0m\u001b[0mint\u001b[0m\u001b[1;33m,\u001b[0m \u001b[0minput\u001b[0m\u001b[1;33m(\u001b[0m\u001b[1;34m\"로또 당첨 번호를 입력해주세요. 숫자마다 한칸 띄워주세요 : \"\u001b[0m\u001b[1;33m)\u001b[0m\u001b[1;33m.\u001b[0m\u001b[0msplit\u001b[0m\u001b[1;33m(\u001b[0m\u001b[1;33m)\u001b[0m\u001b[1;33m)\u001b[0m\u001b[1;33m)\u001b[0m\u001b[1;33m\u001b[0m\u001b[1;33m\u001b[0m\u001b[0m\n\u001b[0m\u001b[0;32m      7\u001b[0m \u001b[0mprint\u001b[0m\u001b[1;33m(\u001b[0m\u001b[0mlotto_num\u001b[0m\u001b[1;33m)\u001b[0m\u001b[1;33m\u001b[0m\u001b[1;33m\u001b[0m\u001b[0m\n\u001b[0;32m      8\u001b[0m \u001b[1;33m\u001b[0m\u001b[0m\n",
      "\u001b[1;32m~\\anaconda3\\lib\\site-packages\\ipykernel\\kernelbase.py\u001b[0m in \u001b[0;36mraw_input\u001b[1;34m(self, prompt)\u001b[0m\n\u001b[0;32m    858\u001b[0m                 \u001b[1;34m\"raw_input was called, but this frontend does not support input requests.\"\u001b[0m\u001b[1;33m\u001b[0m\u001b[1;33m\u001b[0m\u001b[0m\n\u001b[0;32m    859\u001b[0m             )\n\u001b[1;32m--> 860\u001b[1;33m         return self._input_request(str(prompt),\n\u001b[0m\u001b[0;32m    861\u001b[0m             \u001b[0mself\u001b[0m\u001b[1;33m.\u001b[0m\u001b[0m_parent_ident\u001b[0m\u001b[1;33m,\u001b[0m\u001b[1;33m\u001b[0m\u001b[1;33m\u001b[0m\u001b[0m\n\u001b[0;32m    862\u001b[0m             \u001b[0mself\u001b[0m\u001b[1;33m.\u001b[0m\u001b[0m_parent_header\u001b[0m\u001b[1;33m,\u001b[0m\u001b[1;33m\u001b[0m\u001b[1;33m\u001b[0m\u001b[0m\n",
      "\u001b[1;32m~\\anaconda3\\lib\\site-packages\\ipykernel\\kernelbase.py\u001b[0m in \u001b[0;36m_input_request\u001b[1;34m(self, prompt, ident, parent, password)\u001b[0m\n\u001b[0;32m    902\u001b[0m             \u001b[1;32mexcept\u001b[0m \u001b[0mKeyboardInterrupt\u001b[0m\u001b[1;33m:\u001b[0m\u001b[1;33m\u001b[0m\u001b[1;33m\u001b[0m\u001b[0m\n\u001b[0;32m    903\u001b[0m                 \u001b[1;31m# re-raise KeyboardInterrupt, to truncate traceback\u001b[0m\u001b[1;33m\u001b[0m\u001b[1;33m\u001b[0m\u001b[1;33m\u001b[0m\u001b[0m\n\u001b[1;32m--> 904\u001b[1;33m                 \u001b[1;32mraise\u001b[0m \u001b[0mKeyboardInterrupt\u001b[0m\u001b[1;33m(\u001b[0m\u001b[1;34m\"Interrupted by user\"\u001b[0m\u001b[1;33m)\u001b[0m \u001b[1;32mfrom\u001b[0m \u001b[1;32mNone\u001b[0m\u001b[1;33m\u001b[0m\u001b[1;33m\u001b[0m\u001b[0m\n\u001b[0m\u001b[0;32m    905\u001b[0m             \u001b[1;32mexcept\u001b[0m \u001b[0mException\u001b[0m \u001b[1;32mas\u001b[0m \u001b[0me\u001b[0m\u001b[1;33m:\u001b[0m\u001b[1;33m\u001b[0m\u001b[1;33m\u001b[0m\u001b[0m\n\u001b[0;32m    906\u001b[0m                 \u001b[0mself\u001b[0m\u001b[1;33m.\u001b[0m\u001b[0mlog\u001b[0m\u001b[1;33m.\u001b[0m\u001b[0mwarning\u001b[0m\u001b[1;33m(\u001b[0m\u001b[1;34m\"Invalid Message:\"\u001b[0m\u001b[1;33m,\u001b[0m \u001b[0mexc_info\u001b[0m\u001b[1;33m=\u001b[0m\u001b[1;32mTrue\u001b[0m\u001b[1;33m)\u001b[0m\u001b[1;33m\u001b[0m\u001b[1;33m\u001b[0m\u001b[0m\n",
      "\u001b[1;31mKeyboardInterrupt\u001b[0m: Interrupted by user"
     ]
    }
   ],
   "source": [
    "import random\n",
    "\n",
    "lotto = random.sample(range(0,46), 6)\n",
    "print(f\"오늘의 로또 번호입니다. : {lotto}\")\n",
    "\n",
    "lotto_num = list(map(int, input(\"로또 당첨 번호를 입력해주세요. 숫자마다 한칸 띄워주세요 : \").split()))\n",
    "print(lotto_num)\n",
    "\n",
    "\n",
    "lotto_count = 0\n",
    "\n",
    "for i in range(6):\n",
    "    if lotto[i] == lotto_num[i]:\n",
    "        lotto_count = lotto_count + 1\n",
    "        \n",
    "if lotto_count == 6:\n",
    "    print(f\"🎉{lotto_count}개 맞추셨습니다. 로또 1등에 당첨된 것을 축하드립니다.🎉 \")\n",
    "elif lotto_count == 5:\n",
    "    print(f\"🎉{lotto_count}개 맞추셨습니다. 로또 2등에 당첨된 것을 축하드립니다.🎉 \")\n",
    "else:\n",
    "    print(f\"{lotto_count}개 맞추셨습니다. 다음 기회에~ \")\n",
    "\n"
   ]
  },
  {
   "cell_type": "markdown",
   "metadata": {},
   "source": [
    "### 최종"
   ]
  },
  {
   "cell_type": "code",
   "execution_count": 31,
   "metadata": {},
   "outputs": [
    {
     "name": "stdout",
     "output_type": "stream",
     "text": [
      "로또를 구매하시겠습니까? (y or n) : y\n",
      "오늘의 로또 번호입니다.\n",
      "[22, 25, 35, 11, 37, 4]\n",
      "로또 당첨을 확인하시겠습니까? (y or n) : y\n",
      "오늘의 로또 당첨 번호입니다.\n",
      "[24, 4, 10, 44, 32, 0]\n",
      "0개 맞추셨습니다. 다음 기회에~ \n"
     ]
    }
   ],
   "source": [
    "import random\n",
    "\n",
    "lotto_buy = input(\"로또를 구매하시겠습니까? (y or n) : \")\n",
    "\n",
    "if lotto_buy == \"y\" and \"Y\":\n",
    "    lotto = random.sample(range(0,46), 6)\n",
    "    print(\"오늘의 로또 번호입니다.\")\n",
    "    print(lotto)\n",
    "    \n",
    "    lotto_check = input(\"로또 당첨을 확인하시겠습니까? (y or n) : \")\n",
    "    \n",
    "    if lotto_check == \"y\" and \"Y\":\n",
    "        lotto_num = random.sample(range(0,46), 6)\n",
    "        print(\"오늘의 로또 당첨 번호입니다.\")\n",
    "        print(lotto_num)\n",
    "        \n",
    "        lotto_count = 0\n",
    "\n",
    "        for i in range(6):\n",
    "            if lotto[i] == lotto_num[i]:\n",
    "                lotto_count = lotto_count + 1\n",
    "        \n",
    "        if lotto_count == 6:\n",
    "            print(f\"🎉{lotto_count}개 맞추셨습니다. 로또 1등에 당첨된 것을 축하드립니다.🎉 \")\n",
    "        elif lotto_count == 5:\n",
    "            print(f\"🎉{lotto_count}개 맞추셨습니다. 로또 2등에 당첨된 것을 축하드립니다.🎉 \")\n",
    "        else:\n",
    "            print(f\"{lotto_count}개 맞추셨습니다. 다음 기회에~ \")\n",
    "    \n",
    "    else:\n",
    "        print(\"당첨을 확인하세요. 1등일지도 모릅니다😉\")\n",
    "        \n",
    "else:\n",
    "    print(\"다음에 또 방문해주세요.\")"
   ]
  },
  {
   "cell_type": "code",
   "execution_count": null,
   "metadata": {},
   "outputs": [],
   "source": []
  }
 ],
 "metadata": {
  "kernelspec": {
   "display_name": "Python 3",
   "language": "python",
   "name": "python3"
  },
  "language_info": {
   "codemirror_mode": {
    "name": "ipython",
    "version": 3
   },
   "file_extension": ".py",
   "mimetype": "text/x-python",
   "name": "python",
   "nbconvert_exporter": "python",
   "pygments_lexer": "ipython3",
   "version": "3.8.3"
  }
 },
 "nbformat": 4,
 "nbformat_minor": 4
}
