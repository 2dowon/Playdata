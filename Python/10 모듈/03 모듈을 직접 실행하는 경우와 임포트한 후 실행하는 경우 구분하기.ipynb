{
 "cells": [
  {
   "cell_type": "code",
   "execution_count": 1,
   "metadata": {},
   "outputs": [
    {
     "name": "stdout",
     "output_type": "stream",
     "text": [
      "Writing C:\\myPyCode\\modules\\my_module_test1.py\n"
     ]
    }
   ],
   "source": [
    "%%writefile C:\\myPyCode\\modules\\my_module_test1.py\n",
    "# File name: my_module_test1.py\n",
    "\n",
    "def func(a):\n",
    "    print(\"입력 숫자:\", a)\n",
    "    \n",
    "func(3)"
   ]
  },
  {
   "cell_type": "code",
   "execution_count": 2,
   "metadata": {},
   "outputs": [
    {
     "name": "stdout",
     "output_type": "stream",
     "text": [
      "입력 숫자: 3\n"
     ]
    }
   ],
   "source": [
    "%run C:\\myPyCode\\modules\\my_module_test1.py"
   ]
  },
  {
   "cell_type": "code",
   "execution_count": 3,
   "metadata": {},
   "outputs": [
    {
     "name": "stdout",
     "output_type": "stream",
     "text": [
      "입력 숫자: 3\n"
     ]
    }
   ],
   "source": [
    "import my_module_test1"
   ]
  },
  {
   "cell_type": "code",
   "execution_count": 4,
   "metadata": {},
   "outputs": [],
   "source": [
    "import my_module_test1"
   ]
  },
  {
   "cell_type": "code",
   "execution_count": 5,
   "metadata": {},
   "outputs": [
    {
     "name": "stdout",
     "output_type": "stream",
     "text": [
      "Writing c:\\myPyCode\\modules\\my_module_test2.py\n"
     ]
    }
   ],
   "source": [
    "%%writefile c:\\myPyCode\\modules\\my_module_test2.py\n",
    "    \n",
    "def func(a):\n",
    "    print(a)\n",
    "    \n",
    "if __name__ == \"__main__\":\n",
    "    print(\"모듈을 직접 실행\")\n",
    "    func(3)\n",
    "    func(4)"
   ]
  },
  {
   "cell_type": "code",
   "execution_count": 6,
   "metadata": {},
   "outputs": [
    {
     "name": "stdout",
     "output_type": "stream",
     "text": [
      "모듈을 직접 실행\n",
      "3\n",
      "4\n"
     ]
    }
   ],
   "source": [
    "%run c:\\myPyCode\\modules\\my_module_test2.py"
   ]
  },
  {
   "cell_type": "code",
   "execution_count": 7,
   "metadata": {},
   "outputs": [],
   "source": [
    "import my_module_test2"
   ]
  },
  {
   "cell_type": "code",
   "execution_count": 8,
   "metadata": {},
   "outputs": [
    {
     "name": "stdout",
     "output_type": "stream",
     "text": [
      "2\n"
     ]
    }
   ],
   "source": [
    "import my_module_test2\n",
    "\n",
    "func(2)"
   ]
  },
  {
   "cell_type": "code",
   "execution_count": 9,
   "metadata": {},
   "outputs": [
    {
     "name": "stdout",
     "output_type": "stream",
     "text": [
      "Writing c:\\myPyCode\\modules\\my_module_test3.py\n"
     ]
    }
   ],
   "source": [
    "%%writefile c:\\myPyCode\\modules\\my_module_test3.py\n",
    "    \n",
    "def func(a):\n",
    "    print(a)\n",
    "    \n",
    "if __name__ == \"__main__\":\n",
    "    print(\"모듈을 직접 실행\")\n",
    "    func(3)\n",
    "    func(4)\n",
    "else:\n",
    "    print(\"모듈을 임포트해서 실행\")"
   ]
  },
  {
   "cell_type": "code",
   "execution_count": 10,
   "metadata": {},
   "outputs": [
    {
     "name": "stdout",
     "output_type": "stream",
     "text": [
      "모듈을 직접 실행\n",
      "3\n",
      "4\n"
     ]
    }
   ],
   "source": [
    "%run c:\\myPyCode\\modules\\my_module_test3.py"
   ]
  },
  {
   "cell_type": "code",
   "execution_count": 11,
   "metadata": {},
   "outputs": [
    {
     "name": "stdout",
     "output_type": "stream",
     "text": [
      "모듈을 임포트해서 실행\n"
     ]
    }
   ],
   "source": [
    "import my_module_test3"
   ]
  },
  {
   "cell_type": "code",
   "execution_count": null,
   "metadata": {},
   "outputs": [],
   "source": []
  }
 ],
 "metadata": {
  "kernelspec": {
   "display_name": "Python 3",
   "language": "python",
   "name": "python3"
  },
  "language_info": {
   "codemirror_mode": {
    "name": "ipython",
    "version": 3
   },
   "file_extension": ".py",
   "mimetype": "text/x-python",
   "name": "python",
   "nbconvert_exporter": "python",
   "pygments_lexer": "ipython3",
   "version": "3.8.3"
  }
 },
 "nbformat": 4,
 "nbformat_minor": 4
}
