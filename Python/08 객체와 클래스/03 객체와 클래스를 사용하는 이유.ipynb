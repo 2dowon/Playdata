{
 "cells": [
  {
   "cell_type": "markdown",
   "metadata": {},
   "source": [
    "### 로봇이 여러 대 나오는 컴퓨터 게임"
   ]
  },
  {
   "cell_type": "markdown",
   "metadata": {},
   "source": [
    "#### 클래스와 객체를 사용하지 않은 코드"
   ]
  },
  {
   "cell_type": "code",
   "execution_count": 3,
   "metadata": {},
   "outputs": [
    {
     "name": "stdout",
     "output_type": "stream",
     "text": [
      "R1 position : 1\n"
     ]
    }
   ],
   "source": [
    "robot_name = \"R1\"\n",
    "robot_pos = 0\n",
    "\n",
    "def robot_move():\n",
    "    global robot_pos\n",
    "    robot_pos = robot_pos + 1\n",
    "    print(f\"{robot_name} position : {robot_pos}\")\n",
    "    \n",
    "robot_move()"
   ]
  },
  {
   "cell_type": "code",
   "execution_count": 13,
   "metadata": {},
   "outputs": [
    {
     "name": "stdout",
     "output_type": "stream",
     "text": [
      "R1 position : 1\n",
      "R2 position : 11\n"
     ]
    }
   ],
   "source": [
    "robot1_name = \"R1\"\n",
    "robot1_pos = 0\n",
    "\n",
    "def robot1_move():\n",
    "    global robot1_pos\n",
    "    robot1_pos = robot1_pos + 1\n",
    "    print(f\"{robot1_name} position : {robot1_pos}\")\n",
    "    \n",
    "\n",
    "robot2_name = \"R2\"\n",
    "robot2_pos = 10\n",
    "\n",
    "def robot2_move():\n",
    "    global robot2_pos\n",
    "    robot2_pos = robot2_pos + 1\n",
    "    print(f\"{robot2_name} position : {robot2_pos}\")\n",
    "    \n",
    "robot1_move()\n",
    "robot2_move()"
   ]
  },
  {
   "cell_type": "markdown",
   "metadata": {},
   "source": [
    "#### 클래스와 객체를 사용한 코드"
   ]
  },
  {
   "cell_type": "code",
   "execution_count": 11,
   "metadata": {},
   "outputs": [
    {
     "name": "stdout",
     "output_type": "stream",
     "text": [
      "R1 position : 1\n",
      "R2 position : 11\n"
     ]
    }
   ],
   "source": [
    "class Robot():\n",
    "    def __init__(self, name, pos):\n",
    "        self.name = name # 로봇 객체의 이름\n",
    "        self.pos = pos # 로봇 객체의 위치\n",
    "        \n",
    "    def move(self):\n",
    "        self.pos = self.pos + 1\n",
    "        print(f\"{self.name} position : {self.pos}\")\n",
    "        \n",
    "robot1 = Robot(\"R1\", 0)\n",
    "robot2 = Robot(\"R2\", 10)\n",
    "\n",
    "robot1.move()\n",
    "robot2.move()"
   ]
  },
  {
   "cell_type": "code",
   "execution_count": 14,
   "metadata": {},
   "outputs": [
    {
     "name": "stdout",
     "output_type": "stream",
     "text": [
      "R3 position : 31\n",
      "R4 position : 41\n"
     ]
    }
   ],
   "source": [
    "robot3 = Robot(\"R3\", 30)\n",
    "robot4 = Robot(\"R4\", 40)\n",
    "\n",
    "robot3.move()\n",
    "robot4.move()"
   ]
  },
  {
   "cell_type": "code",
   "execution_count": null,
   "metadata": {},
   "outputs": [],
   "source": []
  }
 ],
 "metadata": {
  "kernelspec": {
   "display_name": "Python 3",
   "language": "python",
   "name": "python3"
  },
  "language_info": {
   "codemirror_mode": {
    "name": "ipython",
    "version": 3
   },
   "file_extension": ".py",
   "mimetype": "text/x-python",
   "name": "python",
   "nbconvert_exporter": "python",
   "pygments_lexer": "ipython3",
   "version": "3.8.3"
  }
 },
 "nbformat": 4,
 "nbformat_minor": 4
}
