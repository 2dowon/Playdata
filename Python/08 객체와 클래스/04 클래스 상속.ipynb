{
 "cells": [
  {
   "cell_type": "code",
   "execution_count": 1,
   "metadata": {},
   "outputs": [],
   "source": [
    "class Bicycle():\n",
    "    \n",
    "    def __init__(self, wheel_size, color):\n",
    "        self.wheel_size = wheel_size\n",
    "        self.color = color\n",
    "    \n",
    "    def move(self, speed):\n",
    "        print(f\"자전거 : 시속 {speed}킬로미터로 직진\")\n",
    "    def turn(self, direction):\n",
    "        print(f\"자전거 : {direction}회전\")\n",
    "    def stop(self):\n",
    "        print(f\"자전거({self.wheel_size}, {self.color}): 정지 \")"
   ]
  },
  {
   "cell_type": "code",
   "execution_count": 6,
   "metadata": {},
   "outputs": [],
   "source": [
    "class FoldingBicycle(Bicycle):\n",
    "        def __init__(self, wheel_size, color, state): #init은 태어난거(초기화)라고 보면 된다.\n",
    "            Bicycle.__init__(self, wheel_size, color)\n",
    "            #super().__init__(wheel_size, color)\n",
    "            self.state = state # 자식 클래스에서 새로 추가한 변수\n",
    "        \n",
    "        def fold(self):\n",
    "            self.state = 'folding'\n",
    "            print(f\"자전거 : 접기, state = {self.state}\")\n",
    "        \n",
    "        def unfold(self):\n",
    "            self.state = 'unfolding'\n",
    "            print(f\"자전거 : 펴기, stae = {self.state}\")\n"
   ]
  },
  {
   "cell_type": "code",
   "execution_count": 7,
   "metadata": {},
   "outputs": [
    {
     "name": "stdout",
     "output_type": "stream",
     "text": [
      "자전거 : 시속 20킬로미터로 직진\n",
      "자전거 : 접기, state = folding\n",
      "자전거 : 펴기, stae = unfolding\n"
     ]
    }
   ],
   "source": [
    "folding_bicycle = FoldingBicycle(27, 'white','unfolding')\n",
    "\n",
    "folding_bicycle.move(20)\n",
    "folding_bicycle.fold()\n",
    "folding_bicycle.unfold()"
   ]
  },
  {
   "cell_type": "code",
   "execution_count": null,
   "metadata": {},
   "outputs": [],
   "source": []
  }
 ],
 "metadata": {
  "kernelspec": {
   "display_name": "Python 3",
   "language": "python",
   "name": "python3"
  },
  "language_info": {
   "codemirror_mode": {
    "name": "ipython",
    "version": 3
   },
   "file_extension": ".py",
   "mimetype": "text/x-python",
   "name": "python",
   "nbconvert_exporter": "python",
   "pygments_lexer": "ipython3",
   "version": "3.8.3"
  }
 },
 "nbformat": 4,
 "nbformat_minor": 4
}
