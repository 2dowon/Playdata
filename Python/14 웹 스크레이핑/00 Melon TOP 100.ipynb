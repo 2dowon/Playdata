{
 "cells": [
  {
   "cell_type": "markdown",
   "metadata": {},
   "source": [
    "### 크롤링이 안될 때 (서버에서 막아서)"
   ]
  },
  {
   "cell_type": "code",
   "execution_count": null,
   "metadata": {},
   "outputs": [],
   "source": [
    "import requests\n",
    "\n",
    "url = \"https://www.melon.com/new/index.htm#params%5BareaFlg%5D=I&po=pageObj&startIndex=1\"    \n",
    "\n",
    "html_music = requests.get(url)\n",
    "html_music"
   ]
  },
  {
   "cell_type": "code",
   "execution_count": null,
   "metadata": {},
   "outputs": [],
   "source": [
    "headers = {'User-Agent':'Mozilla/5.0 (Windows NT 6.3; Win64; x64) AppleWebKit/537.36 (KHTML, like Gecko) Chrome/63.0.3239.132 Safari/537.36'}\n",
    "url ='https://www.melon.com/new/index.htm#params%5BareaFlg%5D=I&po=pageObj&startIndex=1'\n",
    "html = requests.get(url, headers = headers).text"
   ]
  },
  {
   "cell_type": "markdown",
   "metadata": {},
   "source": [
    "### 1위부터 7위까지 추출"
   ]
  },
  {
   "cell_type": "markdown",
   "metadata": {},
   "source": [
    "#### 노래 1곡에 아티스트가 2명인 경우, 아티스트가 한 명씩 뒤로 밀리는 문제 발생"
   ]
  },
  {
   "cell_type": "code",
   "execution_count": null,
   "metadata": {},
   "outputs": [],
   "source": [
    "import requests\n",
    "from bs4 import BeautifulSoup\n",
    "\n",
    "headers = {'User-Agent':'Mozilla/5.0 (Windows NT 6.3; Win64; x64) AppleWebKit/537.36 (KHTML, like Gecko) Chrome/63.0.3239.132 Safari/537.36'}\n",
    "\n",
    "url = \"https://www.melon.com/new/index.htm#params%5BareaFlg%5D=I&po=pageObj&startIndex=1\"    \n",
    "\n",
    "html_music = requests.get(url, headers = headers).text\n",
    "soup_music = BeautifulSoup(html_music, \"lxml\")\n",
    "\n",
    "titles = soup_music.select(\"div.rank01 span a\") \n",
    "artists = soup_music.select('div.rank02 span a')\n",
    "\n",
    "music_titles = [title.get_text() for title in titles]\n",
    "music_artists = [artist.get_text().strip() for artist in artists]\n",
    "\n",
    "for k in range(7):\n",
    "    print(\"{0}: {1} / {2}\".format(k+1, music_titles[k], music_artists[k]))"
   ]
  },
  {
   "cell_type": "markdown",
   "metadata": {},
   "source": [
    "### 1위부터 100위까지 추출하기"
   ]
  },
  {
   "cell_type": "code",
   "execution_count": null,
   "metadata": {},
   "outputs": [],
   "source": [
    "import requests\n",
    "from bs4 import BeautifulSoup\n",
    "\n",
    "headers = {'User-Agent':'Mozilla/5.0 (Windows NT 6.3; Win64; x64) AppleWebKit/537.36 (KHTML, like Gecko) Chrome/63.0.3239.132 Safari/537.36'}\n",
    "\n",
    "melon_music_url = \"https://www.melon.com/new/index.htm#params%5BareaFlg%5D=I&po=pageObj&startIndex=\"\n",
    " \n",
    "# 네이버 music 주소를 입력하면 노래 제목과 아티스트를 반환\n",
    "def melon_music(url):    \n",
    "    html_music = requests.get(url, headers = headers).text\n",
    "    soup_music = BeautifulSoup(html_music, \"lxml\")\n",
    "\n",
    "    titles = soup_music.select(\"div.rank01 span a\") \n",
    "    artists = soup_music.select('div.rank02 span a')\n",
    "\n",
    "    music_titles = [title.get_text() for title in titles]\n",
    "    music_artists = [artist.get_text().strip() for artist in artists]\n",
    "    \n",
    "    return music_titles, music_artists\n",
    "\n",
    "# 각 page에는 50개의 노래 제목과 아티스트가 추출됨\n",
    "for page in range(2):\n",
    "    melon_music_url_page = melon_music_url + str(page*50+1) # page URL\n",
    "    melon_music_titles, melon_music_artists = melon_music(melon_music_url_page)\n",
    "    \n",
    "    # 추출된 노래 제목과 아티스트를 파일에 저장 \n",
    "    for k in range(len(melon_music_titles)):\n",
    "        print(f\"{page*50 + k+1}위 : {melon_music_titles[k]}/{melon_music_artists[k]}\\n\")"
   ]
  },
  {
   "cell_type": "markdown",
   "metadata": {},
   "source": [
    "#### 신지환님 코드"
   ]
  },
  {
   "cell_type": "code",
   "execution_count": null,
   "metadata": {},
   "outputs": [],
   "source": [
    "\n",
    "import openpyxl\n",
    "\n",
    "wb = openpyxl.Workbook()\n",
    "sheet = wb.active\n",
    "sheet.append([\"순위\", \"제목\", \"가수\",\"앨범\"])\n",
    "header = {'User-Agent': 'Mozilla/5.0 (Windows NT 6.3; Trident/7.0; rv:11.0) like Gecko'}\n",
    "url50 = \"https://www.melon.com/new/index.htm#params%5BareaFlg%5D=I&po=pageObj&startIndex=51\"\n",
    "\n",
    "\n",
    "raw = requests.get(url50,headers=header).text\n",
    "html = BeautifulSoup(raw, 'html.parser')\n",
    "onethree = html.select(\"div#songList tbody td div div.wrap_song_info\")\n",
    "onethree\n",
    "\n",
    "i=0\n",
    "rank = 1\n",
    "ls = []\n",
    "for p in onethree:\n",
    "    i+=1\n",
    "    song = p.get_text().strip().split(\"\\n\")\n",
    "    \n",
    "    if i%2==0:\n",
    "        ls.append(song[0])\n",
    "        sheet.append(ls)\n",
    "        print(ls)\n",
    "        ls.clear()\n",
    "    else:\n",
    "        ls.append(rank)\n",
    "        ls.append(song[0])\n",
    "        ls.append(song[3][:int(len(song[3])/2)])\n",
    "        rank+=1\n",
    "        \n",
    "\n",
    "wb.save(\"C:/Users/Playdata/Desktop/melon.xlsx\")"
   ]
  },
  {
   "cell_type": "markdown",
   "metadata": {},
   "source": [
    "#### 가수 중복 문제 해결\n",
    "##### artists = soup_music.select('div.rank02 span')"
   ]
  },
  {
   "cell_type": "code",
   "execution_count": null,
   "metadata": {},
   "outputs": [],
   "source": [
    "import requests\n",
    "from bs4 import BeautifulSoup\n",
    "\n",
    "headers = {'User-Agent':'Mozilla/5.0 (Windows NT 6.3; Win64; x64) AppleWebKit/537.36 (KHTML, like Gecko) Chrome/63.0.3239.132 Safari/537.36'}\n",
    "\n",
    "melon_music_url = \"https://www.melon.com/new/index.htm#params%5BareaFlg%5D=I&po=pageObj&startIndex=\"\n",
    " \n",
    "# 네이버 music 주소를 입력하면 노래 제목과 아티스트를 반환\n",
    "def melon_music(url):    \n",
    "    html_music = requests.get(url, headers = headers).text\n",
    "    soup_music = BeautifulSoup(html_music, \"lxml\")\n",
    "\n",
    "    titles = soup_music.select(\"div.rank01 span a\") \n",
    "    artists = soup_music.select('div.rank02 span')\n",
    "\n",
    "    music_titles = [title.get_text() for title in titles]\n",
    "    music_artists = [artist.get_text().strip() for artist in artists]\n",
    "    \n",
    "    return music_titles, music_artists\n",
    "\n",
    "# 각 page에는 50개의 노래 제목과 아티스트가 추출됨\n",
    "for page in range(2):\n",
    "    melon_music_url_page = melon_music_url + str(page*50+1) # page URL\n",
    "    melon_music_titles, melon_music_artists = melon_music(melon_music_url_page)\n",
    "    \n",
    "    # 추출된 노래 제목과 아티스트를 파일에 저장 \n",
    "    for k in range(len(melon_music_titles)):\n",
    "        print(f\"{page*50 + k+1}위 : {melon_music_titles[k]}/{melon_music_artists[k]}\\n\")"
   ]
  },
  {
   "cell_type": "markdown",
   "metadata": {},
   "source": [
    "### 엑셀에 넣기"
   ]
  },
  {
   "cell_type": "code",
   "execution_count": null,
   "metadata": {},
   "outputs": [],
   "source": [
    "import requests\n",
    "from bs4 import BeautifulSoup\n",
    "import openpyxl\n",
    "\n",
    "wb = openpyxl.Workbook()\n",
    "sheet = wb.active\n",
    "sheet.append([\"순위\", \"노래 제목\", \"아티스트\"])\n",
    "\n",
    "headers = {'User-Agent':'Mozilla/5.0 (Windows NT 6.3; Win64; x64) AppleWebKit/537.36 (KHTML, like Gecko) Chrome/63.0.3239.132 Safari/537.36'}\n",
    "\n",
    "melon_music_url = \"https://www.melon.com/new/index.htm#params%5BareaFlg%5D=I&po=pageObj&startIndex=\"\n",
    "\n",
    "# 네이버 music 주소를 입력하면 노래 제목과 아티스트를 반환\n",
    "def melon_music(url):    \n",
    "    html_music = requests.get(url, headers = headers).text\n",
    "    soup_music = BeautifulSoup(html_music, \"lxml\")\n",
    "    \n",
    "    titles = soup_music.select(\"div.rank01 span a\") \n",
    "    artists = soup_music.select('div.rank02 span')\n",
    "\n",
    "    music_titles = [title.get_text() for title in titles]\n",
    "    music_artists = [artist.get_text().strip() for artist in artists]\n",
    "    \n",
    "    return music_titles, music_artists\n",
    "\n",
    "# 각 page에는 50개의 노래 제목과 아티스트가 추출됨\n",
    "for page in range(2):\n",
    "    melon_music_url_page = melon_music_url + str(page*50+1) # page URL\n",
    "    melon_music_titles, melon_music_artists = melon_music(melon_music_url_page)\n",
    "    \n",
    "    for k in range(len(naver_music_titles)):\n",
    "        sheet.append([page*50 + k+1,melon_music_titles[k], melon_music_artists[k]])\n",
    "    \n",
    "wb.save(\"MelonMusicNew100.xlsx\")"
   ]
  },
  {
   "cell_type": "code",
   "execution_count": null,
   "metadata": {},
   "outputs": [],
   "source": []
  }
 ],
 "metadata": {
  "kernelspec": {
   "display_name": "Python 3",
   "language": "python",
   "name": "python3"
  },
  "language_info": {
   "codemirror_mode": {
    "name": "ipython",
    "version": 3
   },
   "file_extension": ".py",
   "mimetype": "text/x-python",
   "name": "python",
   "nbconvert_exporter": "python",
   "pygments_lexer": "ipython3",
   "version": "3.8.3"
  }
 },
 "nbformat": 4,
 "nbformat_minor": 4
}
