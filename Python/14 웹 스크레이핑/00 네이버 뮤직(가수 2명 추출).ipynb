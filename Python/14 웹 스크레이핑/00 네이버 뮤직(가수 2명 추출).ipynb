{
 "cells": [
  {
   "cell_type": "code",
   "execution_count": 1,
   "metadata": {},
   "outputs": [
    {
     "name": "stdout",
     "output_type": "stream",
     "text": [
      "1: 눈 (Feat. 이문세) / Zion.T\n",
      "2: 기억의 빈자리 / 나얼\n",
      "3: 선물 / 멜로망스(Melomance)\n",
      "4: Beautiful / Wanna One(워너원)\n",
      "5: 좋아 / 민서\n",
      "6: 피카부 (Peek-A-Boo) / Red Velvet (레드벨벳)\n",
      "7: 좋니 / 윤종신\n"
     ]
    }
   ],
   "source": [
    "import requests\n",
    "from bs4 import BeautifulSoup\n",
    "\n",
    "url = \"http://music.naver.com/listen/history/index.nhn?type=TOTAL&year=2017&month=12&week=1\"\n",
    "html_music = requests.get(url).text\n",
    "soup_music = BeautifulSoup(html_music, \"lxml\")\n",
    "\n",
    "# a 태그의 요소 중에서 class 속성값이 \"_title\" 인 것을 찾고\n",
    "# 그 안에서 span 태그의 요소 중에서 class 속성값이 \"ellipsis\"인 요소를 추출\n",
    "titles = soup_music.select('a._title span.ellipsis') \n",
    "artists = soup_music.select('td._artist a')\n",
    "\n",
    "music_titles = [title.get_text() for title in titles]\n",
    "music_artists = [artist.get_text().strip() for artist in artists]\n",
    "\n",
    "for k in range(7):\n",
    "    print(\"{0}: {1} / {2}\".format(k+1, music_titles[k], music_artists[k]))"
   ]
  },
  {
   "cell_type": "code",
   "execution_count": 17,
   "metadata": {},
   "outputs": [
    {
     "data": {
      "text/plain": [
       "[<a alt=\"\" class=\"NPI=a:layerbtn,r:5\" href=\"javascript:void(0);\" title=\"\">민서</a>,\n",
       " <a alt=\"\" class=\"NPI=a:layerbtn,r:12\" href=\"javascript:void(0);\" title=\"\">소유 (SOYOU..</a>]"
      ]
     },
     "execution_count": 17,
     "metadata": {},
     "output_type": "execute_result"
    }
   ],
   "source": [
    "artists = soup_music.select('td.no_ell2 a')\n",
    "artists"
   ]
  },
  {
   "cell_type": "code",
   "execution_count": 18,
   "metadata": {},
   "outputs": [
    {
     "data": {
      "text/plain": [
       "[<a class=\"_a_year\" href=\"#\"><span class=\"_s_year\">2007년</span></a>,\n",
       " <a class=\"_a_year\" href=\"#\"><span class=\"_s_year\">2008년</span></a>,\n",
       " <a class=\"_a_year\" href=\"#\"><span class=\"_s_year\">2009년</span></a>,\n",
       " <a class=\"_a_year\" href=\"#\"><span class=\"_s_year\">2010년</span></a>,\n",
       " <a class=\"_a_year\" href=\"#\"><span class=\"_s_year\">2011년</span></a>,\n",
       " <a class=\"_a_year\" href=\"#\"><span class=\"_s_year\">2012년</span></a>,\n",
       " <a class=\"_a_year\" href=\"#\"><span class=\"_s_year\">2013년</span></a>,\n",
       " <a class=\"_a_year\" href=\"#\"><span class=\"_s_year\">2014년</span></a>,\n",
       " <a class=\"_a_year\" href=\"#\"><span class=\"_s_year\">2015년</span></a>,\n",
       " <a class=\"_a_year\" href=\"#\"><span class=\"_s_year\">2016년</span></a>,\n",
       " <a class=\"_a_year\" href=\"#\"><span class=\"_s_year\">2017년</span></a>,\n",
       " <a class=\"_a_year\" href=\"#\"><span class=\"_s_year\">2018년</span></a>,\n",
       " <a class=\"_a_year\" href=\"#\"><span class=\"_s_year\">2019년</span></a>,\n",
       " <a class=\"_a_year\" href=\"#\"><span class=\"_s_year\">2020년</span></a>,\n",
       " <a class=\"_ok\" href=\"#\">확인</a>,\n",
       " <a class=\"_cancel\" href=\"#\">취소</a>,\n",
       " <a href=\"#\" id=\"{=ID}\">{=VALUE}</a>,\n",
       " <a class=\"_ok\" href=\"#\">확인</a>,\n",
       " <a class=\"_cancel\" href=\"#\">취소</a>]"
      ]
     },
     "execution_count": 18,
     "metadata": {},
     "output_type": "execute_result"
    }
   ],
   "source": [
    "artists = soup_music.select('div.scrollbar-content ul li a')\n",
    "artists"
   ]
  },
  {
   "cell_type": "code",
   "execution_count": 21,
   "metadata": {},
   "outputs": [
    {
     "name": "stdout",
     "output_type": "stream",
     "text": [
      "Requirement already satisfied: selenium in c:\\users\\playdata\\anaconda3\\lib\\site-packages (3.141.0)\n",
      "Requirement already satisfied: urllib3 in c:\\users\\playdata\\anaconda3\\lib\\site-packages (from selenium) (1.25.9)\n"
     ]
    }
   ],
   "source": [
    "!pip install selenium"
   ]
  },
  {
   "cell_type": "code",
   "execution_count": 23,
   "metadata": {},
   "outputs": [
    {
     "name": "stdout",
     "output_type": "stream",
     "text": [
      "\n",
      "민서, 윤종신\n",
      "\n"
     ]
    }
   ],
   "source": [
    "from selenium import webdriver\n",
    "from bs4 import BeautifulSoup\n",
    "\n",
    "driver = webdriver.Chrome('c:/chromedriver')\n",
    "driver.implicitly_wait(3)\n",
    "driver.get('http://music.naver.com/listen/history/index.nhn?type=DOMESTIC&year=2017&month=12&week=1&page=1')\n",
    "\n",
    "driver.find_element_by_xpath('//*[@id=\"content\"]/div[3]/div[2]/div[1]/table/tbody/tr[6]/td[5]/a').click()\n",
    "html = driver.page_source\n",
    "\n",
    "soup = BeautifulSoup(html, 'lxml')\n",
    "result = soup.select('div.scrollbar-content')\n",
    "\n",
    "artists = result[3].get_text()\n",
    "artists_first = artists[0:3]\n",
    "artists_second = artists[3:]\n",
    "\n",
    "print(artists_first+\", \"+ artists_second)\n",
    "\n",
    "rank5 = artists_first+\", \"+ artists_second\n",
    "\n",
    "driver.close()"
   ]
  },
  {
   "cell_type": "code",
   "execution_count": null,
   "metadata": {},
   "outputs": [],
   "source": []
  }
 ],
 "metadata": {
  "kernelspec": {
   "display_name": "Python 3",
   "language": "python",
   "name": "python3"
  },
  "language_info": {
   "codemirror_mode": {
    "name": "ipython",
    "version": 3
   },
   "file_extension": ".py",
   "mimetype": "text/x-python",
   "name": "python",
   "nbconvert_exporter": "python",
   "pygments_lexer": "ipython3",
   "version": "3.8.3"
  }
 },
 "nbformat": 4,
 "nbformat_minor": 4
}
