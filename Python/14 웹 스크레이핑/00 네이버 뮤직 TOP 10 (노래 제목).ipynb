{
 "cells": [
  {
   "cell_type": "code",
   "execution_count": 24,
   "metadata": {},
   "outputs": [
    {
     "name": "stdout",
     "output_type": "stream",
     "text": [
      "[Top 10 in Naver Music]\n",
      "1 : Dynamite\n",
      "2 : Lovesick Girls\n",
      "3 : DON'T TOUCH ME\n",
      "4 : 잠이 오질 않네요\n",
      "5 : 취기를 빌려 (취향저격 그녀 X 산들)\n",
      "6 : 힘든 건 사랑이 아니다\n",
      "7 : I CAN'T STOP ME\n",
      "8 : Savage Love (Laxed - Siren Beat) (BTS Remix)\n",
      "9 : 딩가딩가 (Dingga)\n",
      "10 : 마리아 (Maria)\n"
     ]
    }
   ],
   "source": [
    "import requests  \n",
    "from bs4 import BeautifulSoup \n",
    "\n",
    "url = \"https://music.naver.com/listen/top100.nhn?domain=TOTAL_V2\"\n",
    "\n",
    "html_music_ranking = requests.get(url).text\n",
    "soup_music_ranking = BeautifulSoup(html_music_ranking, \"lxml\")\n",
    "\n",
    "music_ranking = soup_music_ranking.select('a._title')\n",
    "music_ranking_address = [music_ranking_element.get_text() for music_ranking_element in music_ranking]\n",
    "\n",
    "print(\"[Top 10 in Naver Music]\")\n",
    "for k in range(10):\n",
    "    # print(\"{0}: {1}\".format(k+1, music_ranking_address[k]))\n",
    "    print(f\"{k+1} : {music_ranking_address[k]}\")"
   ]
  },
  {
   "cell_type": "code",
   "execution_count": 22,
   "metadata": {},
   "outputs": [
    {
     "name": "stdout",
     "output_type": "stream",
     "text": [
      "[Top 10 in Naver Music]\n",
      "1 Dynamite\n",
      "2 Lovesick Girls\n",
      "3 DON'T TOUCH ME\n",
      "4 잠이 오질 않네요\n",
      "5 취기를 빌려 (취향저격 그녀 X 산들)\n",
      "6 힘든 건 사랑이 아니다\n",
      "7 I CAN'T STOP ME\n",
      "8 Savage Love (Laxed - Siren Beat) (BTS Remix)\n",
      "9 딩가딩가 (Dingga)\n",
      "10 마리아 (Maria)\n"
     ]
    }
   ],
   "source": [
    "import requests  \n",
    "from bs4 import BeautifulSoup \n",
    "\n",
    "url = \"https://music.naver.com/listen/top100.nhn?domain=TOTAL_V2\"\n",
    "\n",
    "html_music_ranking = requests.get(url).text\n",
    "soup_music_ranking = BeautifulSoup(html_music_ranking, \"lxml\")\n",
    "\n",
    "music_ranking = soup_music_ranking.select('a._title')\n",
    "\n",
    "music_ranking_address = []\n",
    "\n",
    "for music_ranking_element in music_ranking:\n",
    "    music_ranking_address.append(music_ranking_element.get_text())\n",
    "\n",
    "print(\"[Top 10 in Naver Music]\")\n",
    "for k in range(10):\n",
    "    # print(\"{0}: {1}\".format(k+1, music_ranking_address[k]))\n",
    "    print(f\"{k+1} {music_ranking_address[k]}\")"
   ]
  },
  {
   "cell_type": "code",
   "execution_count": null,
   "metadata": {},
   "outputs": [],
   "source": []
  }
 ],
 "metadata": {
  "kernelspec": {
   "display_name": "Python 3",
   "language": "python",
   "name": "python3"
  },
  "language_info": {
   "codemirror_mode": {
    "name": "ipython",
    "version": 3
   },
   "file_extension": ".py",
   "mimetype": "text/x-python",
   "name": "python",
   "nbconvert_exporter": "python",
   "pygments_lexer": "ipython3",
   "version": "3.8.3"
  }
 },
 "nbformat": 4,
 "nbformat_minor": 4
}
