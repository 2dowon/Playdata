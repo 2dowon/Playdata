{
 "cells": [
  {
   "cell_type": "markdown",
   "metadata": {},
   "source": [
    "# 학점 계산기"
   ]
  },
  {
   "cell_type": "code",
   "execution_count": 2,
   "metadata": {},
   "outputs": [],
   "source": [
    "# A+ : 97이상~100이하\n",
    "# A0 : 93이상~97미만\n",
    "# A- : 90이상~93미만\n",
    "# B+ : 87이상~90미만\n",
    "# B0 : 83이상~87미만\n",
    "# B- : 80이상~83미만\n",
    "# C+ : 77이상~80미만\n",
    "# C0 : 73이상~77미만\n",
    "# C- : 70이상~73미만\n",
    "# D : 50이상~70미만\n",
    "# F : 50미만 \n",
    "\n",
    "# A~C의 경우에서는 ex) \"귀하의 학점은 A+ 입니다.\"\n",
    "# D,F의 경우 ex) 귀하의 학점은 D이니 재수강하시기 바랍니다. "
   ]
  },
  {
   "cell_type": "code",
   "execution_count": 4,
   "metadata": {},
   "outputs": [
    {
     "name": "stdout",
     "output_type": "stream",
     "text": [
      "점수를 입력해주세요, 숫자로100\n",
      "귀하의 학점은 A+ 입니다.\n"
     ]
    }
   ],
   "source": [
    "grade = int(input(\"점수를 입력해주세요, 숫자로\"))\n",
    "\n",
    "if 97 <= grade <= 100:\n",
    "    print(\"귀하의 학점은 A+ 입니다.\")\n",
    "elif 93 <= grade < 97:\n",
    "    print(\"귀하의 학점은 A0 입니다.\")\n",
    "elif 90 <= grade < 97:\n",
    "    print(\"귀하의 학점은 A- 입니다.\")\n",
    "elif 87 <= grade < 90:\n",
    "    print(\"귀하의 학점은 B+ 입니다.\")\n",
    "elif 83 <= grade < 87:\n",
    "    print(\"귀하의 학점은 B0 입니다.\")\n",
    "elif 80 <= grade < 87:\n",
    "    print(\"귀하의 학점은 B- 입니다.\")\n",
    "elif 77 <= grade < 80:\n",
    "    print(\"귀하의 학점은 C+ 입니다.\")\n",
    "elif 73 <= grade < 77:\n",
    "    print(\"귀하의 학점은 C0 입니다.\")\n",
    "elif 70 <= grade < 77:\n",
    "    print(\"귀하의 학점은 C- 입니다.\")\n",
    "elif 50 <= grade < 70:\n",
    "    print(\"귀하의 학점은 D이니 재수강하시기 바랍니다.\")\n",
    "else:\n",
    "    print(\"귀하의 학점은 F이니 재수강하시기 바랍니다.\")"
   ]
  },
  {
   "cell_type": "code",
   "execution_count": 10,
   "metadata": {},
   "outputs": [
    {
     "name": "stdout",
     "output_type": "stream",
     "text": [
      "학점을 입력해주세요. ex. A+A+\n",
      "4.0\n"
     ]
    }
   ],
   "source": [
    "grade_dict = {\"A+\":4.5, \"A0\":4.3, \"A+\":4.0, \"B+\":3.5, \"B0\":3.3, \"B+\":3.0, \"C+\":2.5, \"C0\":2.3, \"C+\":2.0, \"D\":1.0, \"F\":0.0}\n",
    "gradeToScore = str(input(\"학점을 입력해주세요. ex. A+\"))\n",
    "print(grade_dict[gradeToScore])"
   ]
  },
  {
   "cell_type": "code",
   "execution_count": 11,
   "metadata": {},
   "outputs": [
    {
     "name": "stdout",
     "output_type": "stream",
     "text": [
      "점수를 입력해주세요, 숫자로100\n",
      "귀하의 학점은 A+ 입니다.\n",
      "학점을 입력해주세요. ex. A+A+\n",
      "4.0\n"
     ]
    }
   ],
   "source": [
    "grade = int(input(\"점수를 입력해주세요, 숫자로\"))\n",
    "\n",
    "if 97 <= grade <= 100:\n",
    "    print(\"귀하의 학점은 A+ 입니다.\")\n",
    "elif 93 <= grade < 97:\n",
    "    print(\"귀하의 학점은 A0 입니다.\")\n",
    "elif 90 <= grade < 97:\n",
    "    print(\"귀하의 학점은 A- 입니다.\")\n",
    "elif 87 <= grade < 90:\n",
    "    print(\"귀하의 학점은 B+ 입니다.\")\n",
    "elif 83 <= grade < 87:\n",
    "    print(\"귀하의 학점은 B0 입니다.\")\n",
    "elif 80 <= grade < 87:\n",
    "    print(\"귀하의 학점은 B- 입니다.\")\n",
    "elif 77 <= grade < 80:\n",
    "    print(\"귀하의 학점은 C+ 입니다.\")\n",
    "elif 73 <= grade < 77:\n",
    "    print(\"귀하의 학점은 C0 입니다.\")\n",
    "elif 70 <= grade < 77:\n",
    "    print(\"귀하의 학점은 C- 입니다.\")\n",
    "elif 50 <= grade < 70:\n",
    "    print(\"귀하의 학점은 D이니 재수강하시기 바랍니다.\")\n",
    "else:\n",
    "    print(\"귀하의 학점은 F이니 재수강하시기 바랍니다.\")\n",
    "    \n",
    "grade_dict = {\"A+\":4.5, \"A0\":4.3, \"A+\":4.0, \"B+\":3.5, \"B0\":3.3, \"B+\":3.0, \"C+\":2.5, \"C0\":2.3, \"C+\":2.0, \"D\":1.0, \"F\":0.0}\n",
    "gradeToScore = str(input(\"학점을 입력해주세요. ex. A+\"))\n",
    "print(grade_dict[gradeToScore])"
   ]
  },
  {
   "cell_type": "code",
   "execution_count": 17,
   "metadata": {},
   "outputs": [
    {
     "name": "stdout",
     "output_type": "stream",
     "text": [
      "점수를 입력해주세요, 숫자로100\n",
      "귀하의 학점은 A+ 입니다.\n",
      "A+의 점수는 4.5 입니다.\n"
     ]
    }
   ],
   "source": [
    "input_grade = int(input(\"점수를 입력해주세요, 숫자로\"))\n",
    "grade = 0\n",
    "\n",
    "if 97 <= input_grade <= 100:\n",
    "    grade = \"A+\"\n",
    "    print(f\"귀하의 학점은 {grade} 입니다.\")\n",
    "elif 93 <= input_grade < 97:\n",
    "    grade = \"A0\"\n",
    "    print(f\"귀하의 학점은 {grade} 입니다.\")\n",
    "elif 90 <= input_grade < 97:\n",
    "    grade = \"A-\"\n",
    "    print(f\"귀하의 학점은 {grade} 입니다.\")\n",
    "elif 87 <= input_grade < 90:\n",
    "    grade = \"B+\"\n",
    "    print(f\"귀하의 학점은 {grade} 입니다.\")\n",
    "elif 83 <= input_grade < 87:\n",
    "    grade = \"B0\"\n",
    "    print(f\"귀하의 학점은 {grade} 입니다.\")\n",
    "elif 80 <= input_grade < 87:\n",
    "    grade = \"B-\"\n",
    "    print(f\"귀하의 학점은 {grade} 입니다.\")\n",
    "elif 77 <= input_grade < 80:\n",
    "    grade = \"C+\"\n",
    "    print(f\"귀하의 학점은 {grade} 입니다.\")\n",
    "elif 73 <= input_grade < 77:\n",
    "    grade = \"C0\"\n",
    "    print(f\"귀하의 학점은 {grade} 입니다.\")\n",
    "elif 70 <= input_grade < 77:\n",
    "    grade = \"C-\"\n",
    "    print(f\"귀하의 학점은 {grade} 입니다.\")\n",
    "elif 50 <= input_grade < 70:\n",
    "    grade = \"D\"\n",
    "    print(f\"귀하의 학점은 {grade}이니 재수강하시기 바랍니다.\")\n",
    "else:\n",
    "    grade = \"F\"\n",
    "    print(f\"귀하의 학점은 {grade}이니 재수강하시기 바랍니다.\")\n",
    "    \n",
    "grade_dict = {\"A+\":4.5, \"A0\":4.3, \"A-\":4.0, \"B+\":3.5, \"B0\":3.3, \"B+\":3.0, \"C+\":2.5, \"C0\":2.3, \"C+\":2.0, \"D\":1.0, \"F\":0.0}\n",
    "print(f\"{grade}의 점수는 {grade_dict[grade]} 입니다.\")"
   ]
  },
  {
   "cell_type": "code",
   "execution_count": null,
   "metadata": {},
   "outputs": [],
   "source": []
  }
 ],
 "metadata": {
  "kernelspec": {
   "display_name": "Python 3",
   "language": "python",
   "name": "python3"
  },
  "language_info": {
   "codemirror_mode": {
    "name": "ipython",
    "version": 3
   },
   "file_extension": ".py",
   "mimetype": "text/x-python",
   "name": "python",
   "nbconvert_exporter": "python",
   "pygments_lexer": "ipython3",
   "version": "3.8.3"
  }
 },
 "nbformat": 4,
 "nbformat_minor": 4
}
