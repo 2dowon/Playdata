{
 "cells": [
  {
   "cell_type": "code",
   "execution_count": 6,
   "metadata": {},
   "outputs": [
    {
     "name": "stdout",
     "output_type": "stream",
     "text": [
      "아이디를 입력하세요 :dwon424\n",
      "패스워드를 입력하세요 :12314\n",
      "로그인에 실패하셨습니다. 아이디 또는 패스워드를 확인해주세요.\n"
     ]
    }
   ],
   "source": [
    "user_id = \"dwon424\"\n",
    "user_pw = \"1234\"\n",
    "\n",
    "ID = input(\"아이디를 입력하세요 :\")\n",
    "PW = input(\"패스워드를 입력하세요 :\")\n",
    "\n",
    "if ID == user_id and PW == user_pw:\n",
    "    print(f\"안녕하세요. {ID}님 환영합니다.\")\n",
    "else:\n",
    "    print(f\"로그인에 실패하셨습니다. 아이디 또는 패스워드를 확인해주세요.\")"
   ]
  },
  {
   "cell_type": "code",
   "execution_count": 12,
   "metadata": {},
   "outputs": [
    {
     "name": "stdout",
     "output_type": "stream",
     "text": [
      "아이디를 입력하세요 :adfasdf\n",
      "패스워드를 입력하세요 :asdf\n",
      "로그인에 실패하셨습니다. 아이디 또는 패스워드를 확인해주세요.\n",
      "아이디를 입력하세요 :asf\n",
      "패스워드를 입력하세요 :asdf\n",
      "로그인에 실패하셨습니다. 아이디 또는 패스워드를 확인해주세요.\n",
      "아이디를 입력하세요 :das\n",
      "패스워드를 입력하세요 :fas\n",
      "로그인에 실패하셨습니다. 아이디 또는 패스워드를 확인해주세요.\n",
      "아이디를 입력하세요 :f\n",
      "패스워드를 입력하세요 :asd\n",
      "로그인에 실패하셨습니다. 아이디 또는 패스워드를 확인해주세요.\n"
     ]
    },
    {
     "ename": "KeyboardInterrupt",
     "evalue": "Interrupted by user",
     "output_type": "error",
     "traceback": [
      "\u001b[1;31m---------------------------------------------------------------------------\u001b[0m",
      "\u001b[1;31mKeyboardInterrupt\u001b[0m                         Traceback (most recent call last)",
      "\u001b[1;32m<ipython-input-12-35309c96f37f>\u001b[0m in \u001b[0;36m<module>\u001b[1;34m\u001b[0m\n\u001b[0;32m      3\u001b[0m \u001b[1;33m\u001b[0m\u001b[0m\n\u001b[0;32m      4\u001b[0m \u001b[1;32mwhile\u001b[0m \u001b[1;32mTrue\u001b[0m\u001b[1;33m:\u001b[0m\u001b[1;33m\u001b[0m\u001b[1;33m\u001b[0m\u001b[0m\n\u001b[1;32m----> 5\u001b[1;33m     \u001b[0mID\u001b[0m \u001b[1;33m=\u001b[0m \u001b[0minput\u001b[0m\u001b[1;33m(\u001b[0m\u001b[1;34m\"아이디를 입력하세요 :\"\u001b[0m\u001b[1;33m)\u001b[0m\u001b[1;33m\u001b[0m\u001b[1;33m\u001b[0m\u001b[0m\n\u001b[0m\u001b[0;32m      6\u001b[0m     \u001b[0mPW\u001b[0m \u001b[1;33m=\u001b[0m \u001b[0minput\u001b[0m\u001b[1;33m(\u001b[0m\u001b[1;34m\"패스워드를 입력하세요 :\"\u001b[0m\u001b[1;33m)\u001b[0m\u001b[1;33m\u001b[0m\u001b[1;33m\u001b[0m\u001b[0m\n\u001b[0;32m      7\u001b[0m     \u001b[1;32mif\u001b[0m \u001b[0mID\u001b[0m \u001b[1;33m==\u001b[0m \u001b[0muser_id\u001b[0m \u001b[1;32mand\u001b[0m \u001b[0mPW\u001b[0m \u001b[1;33m==\u001b[0m \u001b[0muser_pw\u001b[0m\u001b[1;33m:\u001b[0m\u001b[1;33m\u001b[0m\u001b[1;33m\u001b[0m\u001b[0m\n",
      "\u001b[1;32m~\\anaconda3\\lib\\site-packages\\ipykernel\\kernelbase.py\u001b[0m in \u001b[0;36mraw_input\u001b[1;34m(self, prompt)\u001b[0m\n\u001b[0;32m    858\u001b[0m                 \u001b[1;34m\"raw_input was called, but this frontend does not support input requests.\"\u001b[0m\u001b[1;33m\u001b[0m\u001b[1;33m\u001b[0m\u001b[0m\n\u001b[0;32m    859\u001b[0m             )\n\u001b[1;32m--> 860\u001b[1;33m         return self._input_request(str(prompt),\n\u001b[0m\u001b[0;32m    861\u001b[0m             \u001b[0mself\u001b[0m\u001b[1;33m.\u001b[0m\u001b[0m_parent_ident\u001b[0m\u001b[1;33m,\u001b[0m\u001b[1;33m\u001b[0m\u001b[1;33m\u001b[0m\u001b[0m\n\u001b[0;32m    862\u001b[0m             \u001b[0mself\u001b[0m\u001b[1;33m.\u001b[0m\u001b[0m_parent_header\u001b[0m\u001b[1;33m,\u001b[0m\u001b[1;33m\u001b[0m\u001b[1;33m\u001b[0m\u001b[0m\n",
      "\u001b[1;32m~\\anaconda3\\lib\\site-packages\\ipykernel\\kernelbase.py\u001b[0m in \u001b[0;36m_input_request\u001b[1;34m(self, prompt, ident, parent, password)\u001b[0m\n\u001b[0;32m    902\u001b[0m             \u001b[1;32mexcept\u001b[0m \u001b[0mKeyboardInterrupt\u001b[0m\u001b[1;33m:\u001b[0m\u001b[1;33m\u001b[0m\u001b[1;33m\u001b[0m\u001b[0m\n\u001b[0;32m    903\u001b[0m                 \u001b[1;31m# re-raise KeyboardInterrupt, to truncate traceback\u001b[0m\u001b[1;33m\u001b[0m\u001b[1;33m\u001b[0m\u001b[1;33m\u001b[0m\u001b[0m\n\u001b[1;32m--> 904\u001b[1;33m                 \u001b[1;32mraise\u001b[0m \u001b[0mKeyboardInterrupt\u001b[0m\u001b[1;33m(\u001b[0m\u001b[1;34m\"Interrupted by user\"\u001b[0m\u001b[1;33m)\u001b[0m \u001b[1;32mfrom\u001b[0m \u001b[1;32mNone\u001b[0m\u001b[1;33m\u001b[0m\u001b[1;33m\u001b[0m\u001b[0m\n\u001b[0m\u001b[0;32m    905\u001b[0m             \u001b[1;32mexcept\u001b[0m \u001b[0mException\u001b[0m \u001b[1;32mas\u001b[0m \u001b[0me\u001b[0m\u001b[1;33m:\u001b[0m\u001b[1;33m\u001b[0m\u001b[1;33m\u001b[0m\u001b[0m\n\u001b[0;32m    906\u001b[0m                 \u001b[0mself\u001b[0m\u001b[1;33m.\u001b[0m\u001b[0mlog\u001b[0m\u001b[1;33m.\u001b[0m\u001b[0mwarning\u001b[0m\u001b[1;33m(\u001b[0m\u001b[1;34m\"Invalid Message:\"\u001b[0m\u001b[1;33m,\u001b[0m \u001b[0mexc_info\u001b[0m\u001b[1;33m=\u001b[0m\u001b[1;32mTrue\u001b[0m\u001b[1;33m)\u001b[0m\u001b[1;33m\u001b[0m\u001b[1;33m\u001b[0m\u001b[0m\n",
      "\u001b[1;31mKeyboardInterrupt\u001b[0m: Interrupted by user"
     ]
    }
   ],
   "source": [
    "user_id = \"dwon424\"\n",
    "user_pw = \"1234\"\n",
    "\n",
    "while True:\n",
    "    ID = input(\"아이디를 입력하세요 :\")\n",
    "    PW = input(\"패스워드를 입력하세요 :\")\n",
    "    if ID == user_id and PW == user_pw:\n",
    "        print(f\"안녕하세요. {ID}님 환영합니다.\")\n",
    "        break\n",
    "    else:\n",
    "        print(f\"로그인에 실패하셨습니다. 아이디 또는 패스워드를 확인해주세요.\")\n",
    "        continue"
   ]
  },
  {
   "cell_type": "code",
   "execution_count": 3,
   "metadata": {},
   "outputs": [
    {
     "name": "stdout",
     "output_type": "stream",
     "text": [
      "아이디를 입력하세요 :dwfaswf\n",
      "패스워드를 입력하세요 :afsdf\n",
      "로그인에 실패하셨습니다. 아이디 또는 패스워드를 확인해주세요.\n",
      "다시 로그인하시겠습니까? 비밀번호를 재설정하시겠습니까? 로그인 or 비밀번호비밀번호\n",
      "새로운 비밀번호를 설정하시겠습니까? 네 or 아니오네\n",
      "새로운 비밀번호를 입력해주세요123456\n",
      "비밀번호가 변경되었습니다. 다시 로그인 해주세요.\n",
      "아이디를 입력하세요 :dwon424\n",
      "패스워드를 입력하세요 :123456\n",
      "안녕하세요. dwon424님 환영합니다.\n"
     ]
    }
   ],
   "source": [
    "user_id = \"dwon424\"\n",
    "user_pw = \"1234\"\n",
    "\n",
    "while True:\n",
    "    ID = input(\"아이디를 입력하세요 :\")\n",
    "    PW = input(\"패스워드를 입력하세요 :\")\n",
    "    if ID == user_id and PW == user_pw:\n",
    "        print(f\"안녕하세요. {ID}님 환영합니다.\")\n",
    "        break\n",
    "    else:\n",
    "        print(f\"로그인에 실패하셨습니다. 아이디 또는 패스워드를 확인해주세요.\")\n",
    "        # continue\n",
    "        question = input(\"다시 로그인하시겠습니까? 비밀번호를 재설정하시겠습니까? 로그인 or 비밀번호\")\n",
    "        if question == \"로그인\":\n",
    "            continue\n",
    "        else:\n",
    "            pw_answer = input(\"새로운 비밀번호를 설정하시겠습니까? 네 or 아니오\")\n",
    "            if pw_answer == \"네\":\n",
    "                pw_new = input(\"새로운 비밀번호를 입력해주세요\")\n",
    "                user_pw = pw_new\n",
    "                print(\"비밀번호가 변경되었습니다. 다시 로그인 해주세요.\")\n",
    "                continue\n",
    "            else:\n",
    "                break"
   ]
  },
  {
   "cell_type": "code",
   "execution_count": 8,
   "metadata": {},
   "outputs": [
    {
     "name": "stdout",
     "output_type": "stream",
     "text": [
      "아이디를 입력하세요 :ㅁㄻ\n",
      "패스워드를 입력하세요 :ㅁㅇㄹ\n",
      "로그인에 실패하셨습니다. 아이디 또는 패스워드를 확인해주세요.\n",
      "다시 로그인하시겠습니까? 네 or 아니오네\n",
      "아이디를 입력하세요 :ㅁㅇㄻ\n",
      "패스워드를 입력하세요 :ㅁㄴㅇㄹㄴ\n",
      "로그인에 실패하셨습니다. 아이디 또는 패스워드를 확인해주세요.\n",
      "다시 로그인하시겠습니까? 네 or 아니오네\n",
      "아이디를 입력하세요 :ㅁㅇㄻㄴ\n",
      "패스워드를 입력하세요 :ㅁㅇㄹㄴ\n",
      "로그인에 실패하셨습니다. 아이디 또는 패스워드를 확인해주세요.\n",
      "다시 로그인하시겠습니까? 네 or 아니오네\n",
      "아이디를 입력하세요 :ㅁㄹㅇㄴㅁ\n",
      "패스워드를 입력하세요 :ㅁㅇㄹ\n",
      "로그인에 실패하셨습니다. 아이디 또는 패스워드를 확인해주세요.\n",
      "다시 로그인하시겠습니까? 네 or 아니오네\n",
      "아이디를 입력하세요 :ㅁㅇㄻㄴ\n",
      "패스워드를 입력하세요 :ㅁㄴㅇㄻㄴ\n",
      "로그인에 실패하셨습니다. 아이디 또는 패스워드를 확인해주세요.\n",
      "다시 로그인하시겠습니까? 네 or 아니오네\n",
      "아이디를 입력하세요 :ㅁㅇㄻ\n",
      "패스워드를 입력하세요 :ㅁㅇㄹ\n",
      "로그인에 실패하셨습니다. 아이디 또는 패스워드를 확인해주세요.\n",
      "다시 로그인하시겠습니까? 네 or 아니오네\n"
     ]
    },
    {
     "ename": "KeyboardInterrupt",
     "evalue": "Interrupted by user",
     "output_type": "error",
     "traceback": [
      "\u001b[1;31m---------------------------------------------------------------------------\u001b[0m",
      "\u001b[1;31mKeyboardInterrupt\u001b[0m                         Traceback (most recent call last)",
      "\u001b[1;32m<ipython-input-8-0ba7706406a0>\u001b[0m in \u001b[0;36m<module>\u001b[1;34m\u001b[0m\n\u001b[0;32m      8\u001b[0m         \u001b[0mprint\u001b[0m\u001b[1;33m(\u001b[0m\u001b[1;34m\"은행으로 문의하세요\"\u001b[0m\u001b[1;33m)\u001b[0m\u001b[1;33m\u001b[0m\u001b[1;33m\u001b[0m\u001b[0m\n\u001b[0;32m      9\u001b[0m     \u001b[1;32mwhile\u001b[0m \u001b[1;32mTrue\u001b[0m\u001b[1;33m:\u001b[0m\u001b[1;33m\u001b[0m\u001b[1;33m\u001b[0m\u001b[0m\n\u001b[1;32m---> 10\u001b[1;33m         \u001b[0mID\u001b[0m \u001b[1;33m=\u001b[0m \u001b[0minput\u001b[0m\u001b[1;33m(\u001b[0m\u001b[1;34m\"아이디를 입력하세요 :\"\u001b[0m\u001b[1;33m)\u001b[0m\u001b[1;33m\u001b[0m\u001b[1;33m\u001b[0m\u001b[0m\n\u001b[0m\u001b[0;32m     11\u001b[0m         \u001b[0mPW\u001b[0m \u001b[1;33m=\u001b[0m \u001b[0minput\u001b[0m\u001b[1;33m(\u001b[0m\u001b[1;34m\"패스워드를 입력하세요 :\"\u001b[0m\u001b[1;33m)\u001b[0m\u001b[1;33m\u001b[0m\u001b[1;33m\u001b[0m\u001b[0m\n\u001b[0;32m     12\u001b[0m         \u001b[1;32mif\u001b[0m \u001b[0mID\u001b[0m \u001b[1;33m==\u001b[0m \u001b[0muser_id\u001b[0m \u001b[1;32mand\u001b[0m \u001b[0mPW\u001b[0m \u001b[1;33m==\u001b[0m \u001b[0muser_pw\u001b[0m\u001b[1;33m:\u001b[0m\u001b[1;33m\u001b[0m\u001b[1;33m\u001b[0m\u001b[0m\n",
      "\u001b[1;32m~\\anaconda3\\lib\\site-packages\\ipykernel\\kernelbase.py\u001b[0m in \u001b[0;36mraw_input\u001b[1;34m(self, prompt)\u001b[0m\n\u001b[0;32m    858\u001b[0m                 \u001b[1;34m\"raw_input was called, but this frontend does not support input requests.\"\u001b[0m\u001b[1;33m\u001b[0m\u001b[1;33m\u001b[0m\u001b[0m\n\u001b[0;32m    859\u001b[0m             )\n\u001b[1;32m--> 860\u001b[1;33m         return self._input_request(str(prompt),\n\u001b[0m\u001b[0;32m    861\u001b[0m             \u001b[0mself\u001b[0m\u001b[1;33m.\u001b[0m\u001b[0m_parent_ident\u001b[0m\u001b[1;33m,\u001b[0m\u001b[1;33m\u001b[0m\u001b[1;33m\u001b[0m\u001b[0m\n\u001b[0;32m    862\u001b[0m             \u001b[0mself\u001b[0m\u001b[1;33m.\u001b[0m\u001b[0m_parent_header\u001b[0m\u001b[1;33m,\u001b[0m\u001b[1;33m\u001b[0m\u001b[1;33m\u001b[0m\u001b[0m\n",
      "\u001b[1;32m~\\anaconda3\\lib\\site-packages\\ipykernel\\kernelbase.py\u001b[0m in \u001b[0;36m_input_request\u001b[1;34m(self, prompt, ident, parent, password)\u001b[0m\n\u001b[0;32m    902\u001b[0m             \u001b[1;32mexcept\u001b[0m \u001b[0mKeyboardInterrupt\u001b[0m\u001b[1;33m:\u001b[0m\u001b[1;33m\u001b[0m\u001b[1;33m\u001b[0m\u001b[0m\n\u001b[0;32m    903\u001b[0m                 \u001b[1;31m# re-raise KeyboardInterrupt, to truncate traceback\u001b[0m\u001b[1;33m\u001b[0m\u001b[1;33m\u001b[0m\u001b[1;33m\u001b[0m\u001b[0m\n\u001b[1;32m--> 904\u001b[1;33m                 \u001b[1;32mraise\u001b[0m \u001b[0mKeyboardInterrupt\u001b[0m\u001b[1;33m(\u001b[0m\u001b[1;34m\"Interrupted by user\"\u001b[0m\u001b[1;33m)\u001b[0m \u001b[1;32mfrom\u001b[0m \u001b[1;32mNone\u001b[0m\u001b[1;33m\u001b[0m\u001b[1;33m\u001b[0m\u001b[0m\n\u001b[0m\u001b[0;32m    905\u001b[0m             \u001b[1;32mexcept\u001b[0m \u001b[0mException\u001b[0m \u001b[1;32mas\u001b[0m \u001b[0me\u001b[0m\u001b[1;33m:\u001b[0m\u001b[1;33m\u001b[0m\u001b[1;33m\u001b[0m\u001b[0m\n\u001b[0;32m    906\u001b[0m                 \u001b[0mself\u001b[0m\u001b[1;33m.\u001b[0m\u001b[0mlog\u001b[0m\u001b[1;33m.\u001b[0m\u001b[0mwarning\u001b[0m\u001b[1;33m(\u001b[0m\u001b[1;34m\"Invalid Message:\"\u001b[0m\u001b[1;33m,\u001b[0m \u001b[0mexc_info\u001b[0m\u001b[1;33m=\u001b[0m\u001b[1;32mTrue\u001b[0m\u001b[1;33m)\u001b[0m\u001b[1;33m\u001b[0m\u001b[1;33m\u001b[0m\u001b[0m\n",
      "\u001b[1;31mKeyboardInterrupt\u001b[0m: Interrupted by user"
     ]
    }
   ],
   "source": [
    "user_id = \"dwon424\"\n",
    "user_pw = \"1234\"\n",
    "count = 0\n",
    "\n",
    "while True:\n",
    "    \n",
    "    while True:\n",
    "        count = count + 1\n",
    "        if (count > 5):\n",
    "        print(\"은행으로 문의하세요\")\n",
    "        ID = input(\"아이디를 입력하세요 :\")\n",
    "        PW = input(\"패스워드를 입력하세요 :\")\n",
    "        if ID == user_id and PW == user_pw:\n",
    "            print(f\"안녕하세요. {ID}님 환영합니다.\")\n",
    "            break\n",
    "        else:\n",
    "            print(f\"로그인에 실패하셨습니다. 아이디 또는 패스워드를 확인해주세요.\")\n",
    "            question = input(\"다시 로그인하시겠습니까? 네 or 아니오\")\n",
    "            if question == \"네\":\n",
    "                continue"
   ]
  },
  {
   "cell_type": "code",
   "execution_count": 13,
   "metadata": {},
   "outputs": [
    {
     "name": "stdout",
     "output_type": "stream",
     "text": [
      "아이디를 입력하세요 :adfa\n",
      "패스워드를 입력하세요 :asdfs\n",
      "로그인에 실패하셨습니다. 아이디 또는 패스워드를 확인해주세요.\n",
      "다시 로그인하시겠습니까? 네 or 아니오네\n",
      "아이디를 입력하세요 :ㅁㅇㄻ\n",
      "패스워드를 입력하세요 :ㅁㄴㄹ\n",
      "로그인에 실패하셨습니다. 아이디 또는 패스워드를 확인해주세요.\n",
      "다시 로그인하시겠습니까? 네 or 아니오네\n",
      "아이디를 입력하세요 :ㅁㄴㄻ\n",
      "패스워드를 입력하세요 :ㅁㄴㅇㄹ\n",
      "로그인에 실패하셨습니다. 아이디 또는 패스워드를 확인해주세요.\n",
      "다시 로그인하시겠습니까? 네 or 아니오네\n",
      "은행으로 문의하세요\n"
     ]
    }
   ],
   "source": [
    "user_id = \"dwon424\"\n",
    "user_pw = \"1234\"\n",
    "count = 0\n",
    "\n",
    "while True:\n",
    "    count = count + 1\n",
    "    if (count > 3):\n",
    "        print(\"은행으로 문의하세요\")\n",
    "        break\n",
    "    else:\n",
    "        ID = input(\"아이디를 입력하세요 :\")\n",
    "        PW = input(\"패스워드를 입력하세요 :\")\n",
    "        if ID == user_id and PW == user_pw:\n",
    "            print(f\"안녕하세요. {ID}님 환영합니다.\")\n",
    "            break\n",
    "        else:\n",
    "            print(f\"로그인에 실패하셨습니다. 아이디 또는 패스워드를 확인해주세요.\")\n",
    "            question = input(\"다시 로그인하시겠습니까? 네 or 아니오\")\n",
    "            if question == \"네\":\n",
    "                continue"
   ]
  },
  {
   "cell_type": "code",
   "execution_count": null,
   "metadata": {},
   "outputs": [],
   "source": []
  },
  {
   "cell_type": "code",
   "execution_count": null,
   "metadata": {},
   "outputs": [],
   "source": []
  }
 ],
 "metadata": {
  "kernelspec": {
   "display_name": "Python 3",
   "language": "python",
   "name": "python3"
  },
  "language_info": {
   "codemirror_mode": {
    "name": "ipython",
    "version": 3
   },
   "file_extension": ".py",
   "mimetype": "text/x-python",
   "name": "python",
   "nbconvert_exporter": "python",
   "pygments_lexer": "ipython3",
   "version": "3.8.3"
  }
 },
 "nbformat": 4,
 "nbformat_minor": 4
}
