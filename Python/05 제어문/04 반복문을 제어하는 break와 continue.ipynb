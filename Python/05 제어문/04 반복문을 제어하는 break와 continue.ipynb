{
 "cells": [
  {
   "cell_type": "markdown",
   "metadata": {},
   "source": [
    "### 반복문을 빠져나오는 break"
   ]
  },
  {
   "cell_type": "code",
   "execution_count": 1,
   "metadata": {},
   "outputs": [
    {
     "name": "stdout",
     "output_type": "stream",
     "text": [
      "1\n",
      "2\n",
      "3\n"
     ]
    }
   ],
   "source": [
    "k = 0\n",
    "\n",
    "while True:\n",
    "    k = k + 1 # k는 1씩 증가\n",
    "    if (k > 3): # k가 3보다 크면\n",
    "        break # break로 while문을 빠져나옴\n",
    "    print(k)"
   ]
  },
  {
   "cell_type": "code",
   "execution_count": 7,
   "metadata": {},
   "outputs": [
    {
     "name": "stdout",
     "output_type": "stream",
     "text": [
      "0\n",
      "1\n",
      "2\n"
     ]
    }
   ],
   "source": [
    "for k in range(10): # [0, 1, 2, 3, 4, 5, 6, 7, 8, 9]\n",
    "    if (k > 2): # k가 2라면\n",
    "        break # break로 for문을 빠져나옴\n",
    "    print(k)"
   ]
  },
  {
   "cell_type": "markdown",
   "metadata": {},
   "source": [
    "### 다음 반복을 실행하는 continue"
   ]
  },
  {
   "cell_type": "code",
   "execution_count": 4,
   "metadata": {},
   "outputs": [
    {
     "name": "stdout",
     "output_type": "stream",
     "text": [
      "0\n",
      "1\n",
      "3\n",
      "4\n"
     ]
    }
   ],
   "source": [
    "for k in range(5): # [0, 1, 2, 3, 4]\n",
    "    if (k == 2): # k가 2라면\n",
    "        continue # 가장 가까운 반복문의 처음으로 돌아간다\n",
    "    print(k)"
   ]
  },
  {
   "cell_type": "code",
   "execution_count": 5,
   "metadata": {},
   "outputs": [
    {
     "name": "stdout",
     "output_type": "stream",
     "text": [
      "1\n",
      "Continue next\n",
      "3\n",
      "4\n"
     ]
    }
   ],
   "source": [
    "k = 0\n",
    "\n",
    "while True:\n",
    "    k = k + 1 # k는 1씩 증가\n",
    "    \n",
    "    if (k == 2): # k가 2라면\n",
    "        print(\"Continue next\")\n",
    "        continue # 가장 가까운 반복문의 처음으로 돌아간다\n",
    "        \n",
    "    if (k > 4): # k가 4보다 크면\n",
    "        break # break로 while문을 빠져나옴\n",
    "        \n",
    "    print(k)"
   ]
  },
  {
   "cell_type": "code",
   "execution_count": null,
   "metadata": {},
   "outputs": [],
   "source": []
  }
 ],
 "metadata": {
  "kernelspec": {
   "display_name": "Python 3",
   "language": "python",
   "name": "python3"
  },
  "language_info": {
   "codemirror_mode": {
    "name": "ipython",
    "version": 3
   },
   "file_extension": ".py",
   "mimetype": "text/x-python",
   "name": "python",
   "nbconvert_exporter": "python",
   "pygments_lexer": "ipython3",
   "version": "3.8.3"
  }
 },
 "nbformat": 4,
 "nbformat_minor": 4
}
