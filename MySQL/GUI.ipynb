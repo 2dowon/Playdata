{
 "cells": [
  {
   "cell_type": "code",
   "execution_count": 2,
   "metadata": {},
   "outputs": [],
   "source": [
    "from tkinter import *\n",
    "\n",
    "window = Tk()\n",
    "\n",
    "window.mainloop()"
   ]
  },
  {
   "cell_type": "code",
   "execution_count": 4,
   "metadata": {},
   "outputs": [],
   "source": [
    "from tkinter import *\n",
    "\n",
    "window = Tk()\n",
    "window.title(\"윈도창 연습\")\n",
    "window.geometry(\"400x100\")\n",
    "window.resizable(width=False, height=False)\n",
    "\n",
    "window.mainloop()"
   ]
  },
  {
   "cell_type": "code",
   "execution_count": 5,
   "metadata": {},
   "outputs": [],
   "source": [
    "from tkinter import *\n",
    "window = Tk()\n",
    "\n",
    "label1 = Label(window, text=\"This is MySQL을\")\n",
    "label2 = Label(window, text=\"열심히\", font=(\"궁서체\", 30), fg=\"blue\")\n",
    "label3 = Label(window, text=\"공부 중입니다.\", bg=\"magenta\", width=20, height=5, anchor=SE)\n",
    "\n",
    "label1.pack()\n",
    "label2.pack()\n",
    "label3.pack()\n",
    "\n",
    "window.mainloop()"
   ]
  },
  {
   "cell_type": "code",
   "execution_count": 8,
   "metadata": {},
   "outputs": [],
   "source": [
    "from tkinter import *\n",
    "from tkinter import messagebox\n",
    "\n",
    "def clickButton() :\n",
    "    messagebox.showinfo('버튼 클릭', '버튼을 클릭했습니다.')\n",
    "\n",
    "window = Tk()\n",
    "window.geometry(\"200x200\")\n",
    "\n",
    "button1 = Button(window, text=\"여기 눌러요\", fg=\"red\", bg=\"yellow\", command=clickButton)\n",
    "button1.pack(expand=1)\n",
    "\n",
    "window.mainloop()"
   ]
  },
  {
   "cell_type": "code",
   "execution_count": 9,
   "metadata": {},
   "outputs": [],
   "source": [
    "from tkinter import *\n",
    "window = Tk()\n",
    "\n",
    "button1 = Button(window, text=\"버튼1\")\n",
    "button2 = Button(window, text=\"버튼2\")\n",
    "button3 = Button(window, text=\"버튼3\")\n",
    "\n",
    "button1.pack(side=LEFT)\n",
    "button2.pack(side=LEFT)\n",
    "button3.pack(side=LEFT)\n",
    "\n",
    "window.mainloop()"
   ]
  },
  {
   "cell_type": "code",
   "execution_count": 12,
   "metadata": {},
   "outputs": [],
   "source": [
    "from tkinter import *\n",
    "window = Tk()\n",
    "\n",
    "btnList = [None] * 3\n",
    "\n",
    "for i in range(0,3) :\n",
    "    btnList[i] = Button(window, text=\"버튼\"+str(i+1))\n",
    "    \n",
    "for btn in btnList :\n",
    "    btn.pack(side=RIGHT)\n",
    "    \n",
    "window.mainloop()    "
   ]
  },
  {
   "cell_type": "code",
   "execution_count": 13,
   "metadata": {},
   "outputs": [],
   "source": [
    "from tkinter import *\n",
    "window = Tk()\n",
    "\n",
    "btnList = [None] * 3\n",
    "\n",
    "for i in range(0,3) :\n",
    "    btnList[i] = Button(window, text=\"버튼\"+str(i+1))\n",
    "    \n",
    "for btn in btnList :\n",
    "    btn.pack(side=TOP, fill=X, padx=10, pady=10)\n",
    "    \n",
    "window.mainloop()    "
   ]
  },
  {
   "cell_type": "code",
   "execution_count": 14,
   "metadata": {},
   "outputs": [],
   "source": [
    "from tkinter import *\n",
    "\n",
    "window = Tk()\n",
    "window.geometry(\"200x200\")\n",
    "\n",
    "upFrame = Frame(window)\n",
    "upFrame.pack()\n",
    "\n",
    "downFrame = Frame(window)\n",
    "downFrame.pack()\n",
    "\n",
    "editBox = Entry(upFrame, width = 10, bg = 'green')\n",
    "editBox.pack(padx=20, pady=20)\n",
    "\n",
    "listbox = Listbox(downFrame, bg='yellow')\n",
    "listbox.pack()\n",
    "\n",
    "listbox.insert(END, \"하나\")\n",
    "listbox.insert(END, \"둘\")\n",
    "\n",
    "window.mainloop()"
   ]
  },
  {
   "cell_type": "code",
   "execution_count": 16,
   "metadata": {},
   "outputs": [],
   "source": [
    "from tkinter import *\n",
    "\n",
    "window = Tk()\n",
    "\n",
    "mainMenu = Menu(window)\n",
    "window.config(menu=mainMenu)\n",
    "\n",
    "fileMenu = Menu(mainMenu)\n",
    "mainMenu.add_cascade(label=\"파일\", menu=fileMenu)\n",
    "fileMenu.add_command(label=\"열기\")\n",
    "fileMenu.add_separator()\n",
    "fileMenu.add_command(label=\"종료\")\n",
    "\n",
    "window.mainloop()"
   ]
  },
  {
   "cell_type": "code",
   "execution_count": 21,
   "metadata": {},
   "outputs": [],
   "source": [
    "from tkinter import *\n",
    "from tkinter import messagebox\n",
    "\n",
    "def func_open() :\n",
    "    messagebox.showinfo('메뉴선택', '열기 메뉴를 선택함')\n",
    "    \n",
    "def func_exit() :\n",
    "    window.quit()\n",
    "    window.destroy()\n",
    "\n",
    "window = Tk()\n",
    "\n",
    "mainMenu = Menu(window)\n",
    "window.config(menu=mainMenu)\n",
    "\n",
    "fileMenu = Menu(mainMenu)\n",
    "mainMenu.add_cascade(label=\"파일\", menu=fileMenu)\n",
    "fileMenu.add_command(label=\"열기\", command=func_open)\n",
    "fileMenu.add_separator()\n",
    "fileMenu.add_command(label=\"종료\", command=func_exit)\n",
    "\n",
    "window.mainloop()"
   ]
  },
  {
   "cell_type": "code",
   "execution_count": 27,
   "metadata": {},
   "outputs": [],
   "source": [
    "from tkinter import *\n",
    "from tkinter.simpledialog import *\n",
    "\n",
    "window = Tk()\n",
    "window.geometry(\"400x100\")\n",
    "\n",
    "label1 = Label(window, text=\"입력된 값\")\n",
    "label1.pack()\n",
    "\n",
    "value = askinteger(\"확대배수\", \"주사위 숫자(1~6)을 입력하세요\", minvalue=1, maxvalue=6)\n",
    "\n",
    "label1.configure(text=str(value))\n",
    "\n",
    "window.mainloop()"
   ]
  },
  {
   "cell_type": "code",
   "execution_count": 29,
   "metadata": {},
   "outputs": [],
   "source": [
    "from tkinter import *\n",
    "from tkinter.simpledialog import *\n",
    "\n",
    "window = Tk()\n",
    "\n",
    "canvas = Canvas(window, height=300, width=300)\n",
    "canvas.pack()\n",
    "\n",
    "canvas.create_line([0,0], [70,70], [30,170], fill=\"blue\", width=3)\n",
    "canvas.create_polygon([100,100], [100,150], [150,150], [150,100], fill=\"red\")\n",
    "canvas.create_text([200,200], text=\"이것이 MySQL이다\", font=(\"굴림\", 15))\n",
    "\n",
    "window.mainloop()"
   ]
  },
  {
   "cell_type": "code",
   "execution_count": null,
   "metadata": {},
   "outputs": [],
   "source": []
  }
 ],
 "metadata": {
  "kernelspec": {
   "display_name": "Python 3",
   "language": "python",
   "name": "python3"
  },
  "language_info": {
   "codemirror_mode": {
    "name": "ipython",
    "version": 3
   },
   "file_extension": ".py",
   "mimetype": "text/x-python",
   "name": "python",
   "nbconvert_exporter": "python",
   "pygments_lexer": "ipython3",
   "version": "3.8.3"
  }
 },
 "nbformat": 4,
 "nbformat_minor": 4
}
