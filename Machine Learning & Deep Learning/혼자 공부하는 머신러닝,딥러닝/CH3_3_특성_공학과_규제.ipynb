{
  "nbformat": 4,
  "nbformat_minor": 0,
  "metadata": {
    "colab": {
      "name": "CH3-3 특성 공학과 규제.ipynb",
      "provenance": []
    },
    "kernelspec": {
      "name": "python3",
      "display_name": "Python 3"
    }
  },
  "cells": [
    {
      "cell_type": "markdown",
      "metadata": {
        "id": "fZOD6zqJf56z"
      },
      "source": [
        "# 특성 공학과 규제"
      ]
    },
    {
      "cell_type": "markdown",
      "metadata": {
        "id": "4nLehLeAf_eD"
      },
      "source": [
        "## 데이터 준비"
      ]
    },
    {
      "cell_type": "code",
      "metadata": {
        "colab": {
          "base_uri": "https://localhost:8080/"
        },
        "id": "qdon0t2tgBe8",
        "outputId": "5dc079cf-9daf-4903-d82c-d4975b162ebe"
      },
      "source": [
        "import pandas as pd\r\n",
        "\r\n",
        "df = pd.read_csv('https://bit.ly/perch_csv')\r\n",
        "perch_full = df.to_numpy()\r\n",
        "print(perch_full)"
      ],
      "execution_count": 1,
      "outputs": [
        {
          "output_type": "stream",
          "text": [
            "[[ 8.4   2.11  1.41]\n",
            " [13.7   3.53  2.  ]\n",
            " [15.    3.82  2.43]\n",
            " [16.2   4.59  2.63]\n",
            " [17.4   4.59  2.94]\n",
            " [18.    5.22  3.32]\n",
            " [18.7   5.2   3.12]\n",
            " [19.    5.64  3.05]\n",
            " [19.6   5.14  3.04]\n",
            " [20.    5.08  2.77]\n",
            " [21.    5.69  3.56]\n",
            " [21.    5.92  3.31]\n",
            " [21.    5.69  3.67]\n",
            " [21.3   6.38  3.53]\n",
            " [22.    6.11  3.41]\n",
            " [22.    5.64  3.52]\n",
            " [22.    6.11  3.52]\n",
            " [22.    5.88  3.52]\n",
            " [22.    5.52  4.  ]\n",
            " [22.5   5.86  3.62]\n",
            " [22.5   6.79  3.62]\n",
            " [22.7   5.95  3.63]\n",
            " [23.    5.22  3.63]\n",
            " [23.5   6.28  3.72]\n",
            " [24.    7.29  3.72]\n",
            " [24.    6.38  3.82]\n",
            " [24.6   6.73  4.17]\n",
            " [25.    6.44  3.68]\n",
            " [25.6   6.56  4.24]\n",
            " [26.5   7.17  4.14]\n",
            " [27.3   8.32  5.14]\n",
            " [27.5   7.17  4.34]\n",
            " [27.5   7.05  4.34]\n",
            " [27.5   7.28  4.57]\n",
            " [28.    7.82  4.2 ]\n",
            " [28.7   7.59  4.64]\n",
            " [30.    7.62  4.77]\n",
            " [32.8  10.03  6.02]\n",
            " [34.5  10.26  6.39]\n",
            " [35.   11.49  7.8 ]\n",
            " [36.5  10.88  6.86]\n",
            " [36.   10.61  6.74]\n",
            " [37.   10.84  6.26]\n",
            " [37.   10.57  6.37]\n",
            " [39.   11.14  7.49]\n",
            " [39.   11.14  6.  ]\n",
            " [39.   12.43  7.35]\n",
            " [40.   11.93  7.11]\n",
            " [40.   11.73  7.22]\n",
            " [40.   12.38  7.46]\n",
            " [40.   11.14  6.63]\n",
            " [42.   12.8   6.87]\n",
            " [43.   11.93  7.28]\n",
            " [43.   12.51  7.42]\n",
            " [43.5  12.6   8.14]\n",
            " [44.   12.49  7.6 ]]\n"
          ],
          "name": "stdout"
        }
      ]
    },
    {
      "cell_type": "code",
      "metadata": {
        "id": "ZfOSMUkGgDnv"
      },
      "source": [
        "import numpy as np\r\n",
        "\r\n",
        "perch_weight = np.array(\r\n",
        "    [5.9, 32.0, 40.0, 51.5, 70.0, 100.0, 78.0, 80.0, 85.0, 85.0, \r\n",
        "     110.0, 115.0, 125.0, 130.0, 120.0, 120.0, 130.0, 135.0, 110.0, \r\n",
        "     130.0, 150.0, 145.0, 150.0, 170.0, 225.0, 145.0, 188.0, 180.0, \r\n",
        "     197.0, 218.0, 300.0, 260.0, 265.0, 250.0, 250.0, 300.0, 320.0, \r\n",
        "     514.0, 556.0, 840.0, 685.0, 700.0, 700.0, 690.0, 900.0, 650.0, \r\n",
        "     820.0, 850.0, 900.0, 1015.0, 820.0, 1100.0, 1000.0, 1100.0, \r\n",
        "     1000.0, 1000.0]\r\n",
        "     )"
      ],
      "execution_count": 2,
      "outputs": []
    },
    {
      "cell_type": "code",
      "metadata": {
        "id": "AQCjY8KAgJwd"
      },
      "source": [
        "from sklearn.model_selection import train_test_split\r\n",
        "\r\n",
        "train_input, test_input, train_target, test_target = train_test_split(perch_full, perch_weight, random_state=42)"
      ],
      "execution_count": 3,
      "outputs": []
    },
    {
      "cell_type": "markdown",
      "metadata": {
        "id": "N32If7T7gLiW"
      },
      "source": [
        "## 사이킷런의 변환기"
      ]
    },
    {
      "cell_type": "code",
      "metadata": {
        "id": "co6L5rC7h7X1"
      },
      "source": [
        "from sklearn.preprocessing import PolynomialFeatures"
      ],
      "execution_count": 4,
      "outputs": []
    },
    {
      "cell_type": "code",
      "metadata": {
        "colab": {
          "base_uri": "https://localhost:8080/"
        },
        "id": "NnBT_-B6h8e0",
        "outputId": "676d302b-3267-4773-90b7-2e32d034153c"
      },
      "source": [
        "poly = PolynomialFeatures()\r\n",
        "poly.fit([[2, 3]])\r\n",
        "print(poly.transform([[2, 3]]))"
      ],
      "execution_count": 5,
      "outputs": [
        {
          "output_type": "stream",
          "text": [
            "[[1. 2. 3. 4. 6. 9.]]\n"
          ],
          "name": "stdout"
        }
      ]
    },
    {
      "cell_type": "code",
      "metadata": {
        "colab": {
          "base_uri": "https://localhost:8080/"
        },
        "id": "9aG8DdFeh9_8",
        "outputId": "76f5cdd7-0619-4535-ab22-a0d56434f2e3"
      },
      "source": [
        "poly = PolynomialFeatures(include_bias=False)\r\n",
        "poly.fit([[2, 3]])\r\n",
        "print(poly.transform([[2, 3]]))"
      ],
      "execution_count": 6,
      "outputs": [
        {
          "output_type": "stream",
          "text": [
            "[[2. 3. 4. 6. 9.]]\n"
          ],
          "name": "stdout"
        }
      ]
    },
    {
      "cell_type": "code",
      "metadata": {
        "id": "yAG4ooEJpG4Q"
      },
      "source": [
        "poly = PolynomialFeatures(include_bias=False)\r\n",
        "\r\n",
        "poly.fit(train_input)\r\n",
        "train_poly = poly.transform(train_input)"
      ],
      "execution_count": 7,
      "outputs": []
    },
    {
      "cell_type": "code",
      "metadata": {
        "colab": {
          "base_uri": "https://localhost:8080/"
        },
        "id": "uo0DoH33pR55",
        "outputId": "7a01f992-2a07-4afb-906c-08c7e3c11290"
      },
      "source": [
        "print(train_poly.shape)"
      ],
      "execution_count": 8,
      "outputs": [
        {
          "output_type": "stream",
          "text": [
            "(42, 9)\n"
          ],
          "name": "stdout"
        }
      ]
    },
    {
      "cell_type": "code",
      "metadata": {
        "colab": {
          "base_uri": "https://localhost:8080/"
        },
        "id": "USJ7K8LKpVMT",
        "outputId": "c7834797-4a38-4067-b252-578f0a7171e7"
      },
      "source": [
        "poly.get_feature_names()"
      ],
      "execution_count": 9,
      "outputs": [
        {
          "output_type": "execute_result",
          "data": {
            "text/plain": [
              "['x0', 'x1', 'x2', 'x0^2', 'x0 x1', 'x0 x2', 'x1^2', 'x1 x2', 'x2^2']"
            ]
          },
          "metadata": {
            "tags": []
          },
          "execution_count": 9
        }
      ]
    },
    {
      "cell_type": "code",
      "metadata": {
        "id": "lB2rjdU8pjIY"
      },
      "source": [
        "test_poly = poly.transform(test_input)"
      ],
      "execution_count": 10,
      "outputs": []
    },
    {
      "cell_type": "code",
      "metadata": {
        "id": "TTO3DiFEpvsh"
      },
      "source": [
        "## 다중 회귀 모델 훈련하기"
      ],
      "execution_count": 11,
      "outputs": []
    },
    {
      "cell_type": "code",
      "metadata": {
        "colab": {
          "base_uri": "https://localhost:8080/"
        },
        "id": "t8iEhrugp3JS",
        "outputId": "2adf14f6-9e80-48f8-b52f-edc1ab7076e1"
      },
      "source": [
        "from sklearn.linear_model import LinearRegression\r\n",
        "\r\n",
        "lr = LinearRegression()\r\n",
        "lr.fit(train_poly, train_target)\r\n",
        "print(lr.score(train_poly, train_target))"
      ],
      "execution_count": 12,
      "outputs": [
        {
          "output_type": "stream",
          "text": [
            "0.9903183436982124\n"
          ],
          "name": "stdout"
        }
      ]
    },
    {
      "cell_type": "code",
      "metadata": {
        "colab": {
          "base_uri": "https://localhost:8080/"
        },
        "id": "WzPKdjq8p4Vo",
        "outputId": "a26f07dd-b8c2-4e97-e6a6-ae71aa5ad6d8"
      },
      "source": [
        "print(lr.score(test_poly, test_target))"
      ],
      "execution_count": 13,
      "outputs": [
        {
          "output_type": "stream",
          "text": [
            "0.9714559911594132\n"
          ],
          "name": "stdout"
        }
      ]
    },
    {
      "cell_type": "code",
      "metadata": {
        "id": "0YSxX7OcqEUP"
      },
      "source": [
        "poly = PolynomialFeatures(degree=5, include_bias=False)\r\n",
        "\r\n",
        "poly.fit(train_input)\r\n",
        "train_poly = poly.transform(train_input)\r\n",
        "test_poly = poly.transform(test_input)"
      ],
      "execution_count": 14,
      "outputs": []
    },
    {
      "cell_type": "code",
      "metadata": {
        "colab": {
          "base_uri": "https://localhost:8080/"
        },
        "id": "8R0Tm6Cmrz5X",
        "outputId": "e9f49b63-611c-4cad-f4b8-421b6f6a7950"
      },
      "source": [
        "print(train_poly.shape)"
      ],
      "execution_count": 15,
      "outputs": [
        {
          "output_type": "stream",
          "text": [
            "(42, 55)\n"
          ],
          "name": "stdout"
        }
      ]
    },
    {
      "cell_type": "code",
      "metadata": {
        "colab": {
          "base_uri": "https://localhost:8080/"
        },
        "id": "3bwzQdbpr1-Y",
        "outputId": "3cab8d28-13f0-4432-e41f-7d4c3331cf8a"
      },
      "source": [
        "lr.fit(train_poly, train_target)\r\n",
        "print(lr.score(train_poly, train_target))"
      ],
      "execution_count": 16,
      "outputs": [
        {
          "output_type": "stream",
          "text": [
            "0.9999999999991096\n"
          ],
          "name": "stdout"
        }
      ]
    },
    {
      "cell_type": "code",
      "metadata": {
        "colab": {
          "base_uri": "https://localhost:8080/"
        },
        "id": "25Prvm4Ur6tP",
        "outputId": "108ea8b1-af09-4963-c7ec-56a215fa041f"
      },
      "source": [
        "print(lr.score(test_poly, test_target))"
      ],
      "execution_count": 17,
      "outputs": [
        {
          "output_type": "stream",
          "text": [
            "-144.40579242335605\n"
          ],
          "name": "stdout"
        }
      ]
    },
    {
      "cell_type": "markdown",
      "metadata": {
        "id": "EogutmHqsDou"
      },
      "source": [
        "## 규제"
      ]
    },
    {
      "cell_type": "code",
      "metadata": {
        "id": "XXHquBo6uGZM"
      },
      "source": [
        "from sklearn.preprocessing import StandardScaler\r\n",
        "\r\n",
        "ss = StandardScaler()\r\n",
        "ss.fit(train_poly)\r\n",
        "\r\n",
        "train_scaled = ss.transform(train_poly)\r\n",
        "test_scaled = ss.transform(test_poly)"
      ],
      "execution_count": 18,
      "outputs": []
    },
    {
      "cell_type": "markdown",
      "metadata": {
        "id": "ixagNB88uHKQ"
      },
      "source": [
        "## 릿지"
      ]
    },
    {
      "cell_type": "code",
      "metadata": {
        "colab": {
          "base_uri": "https://localhost:8080/"
        },
        "id": "0blRXkR-uKg2",
        "outputId": "274f9957-2a09-458e-8f0b-bcafcb1051c8"
      },
      "source": [
        "from sklearn.linear_model import Ridge\r\n",
        "\r\n",
        "ridge = Ridge()\r\n",
        "ridge.fit(train_scaled, train_target)\r\n",
        "print(ridge.score(train_scaled, train_target))"
      ],
      "execution_count": 19,
      "outputs": [
        {
          "output_type": "stream",
          "text": [
            "0.9896101671037343\n"
          ],
          "name": "stdout"
        }
      ]
    },
    {
      "cell_type": "code",
      "metadata": {
        "colab": {
          "base_uri": "https://localhost:8080/"
        },
        "id": "MoywSl8euLgH",
        "outputId": "9bf41eb5-c92f-44c3-84b3-22c821a1fa5e"
      },
      "source": [
        "print(ridge.score(test_scaled, test_target))"
      ],
      "execution_count": 20,
      "outputs": [
        {
          "output_type": "stream",
          "text": [
            "0.9790693977615398\n"
          ],
          "name": "stdout"
        }
      ]
    },
    {
      "cell_type": "code",
      "metadata": {
        "colab": {
          "base_uri": "https://localhost:8080/",
          "height": 265
        },
        "id": "gHGVTI7yweal",
        "outputId": "38c354d1-9321-49bf-f172-09809f184b23"
      },
      "source": [
        "import matplotlib.pyplot as plt\r\n",
        "\r\n",
        "train_score = []\r\n",
        "test_score = []\r\n",
        "\r\n",
        "alpha_list = [0.001, 0.01, 0.1, 1, 10, 100]\r\n",
        "for alpha in alpha_list:\r\n",
        "    # 릿지 모델을 만듭니다\r\n",
        "    ridge = Ridge(alpha=alpha)\r\n",
        "    # 릿지 모델을 훈련합니다\r\n",
        "    ridge.fit(train_scaled, train_target)\r\n",
        "    # 훈련 점수와 테스트 점수를 저장합니다\r\n",
        "    train_score.append(ridge.score(train_scaled, train_target))\r\n",
        "    test_score.append(ridge.score(test_scaled, test_target))\r\n",
        "\r\n",
        "plt.plot(np.log10(alpha_list), train_score)\r\n",
        "plt.plot(np.log10(alpha_list), test_score)\r\n",
        "plt.show()"
      ],
      "execution_count": 21,
      "outputs": [
        {
          "output_type": "display_data",
          "data": {
            "image/png": "[encoded data removed]",
            "text/plain": [
              "<Figure size 432x288 with 1 Axes>"
            ]
          },
          "metadata": {
            "tags": [],
            "needs_background": "light"
          }
        }
      ]
    },
    {
      "cell_type": "code",
      "metadata": {
        "colab": {
          "base_uri": "https://localhost:8080/"
        },
        "id": "oa1icTX1xMLs",
        "outputId": "1ca7a105-abca-420b-a58c-9c6d1ec44336"
      },
      "source": [
        "ridge = Ridge(alpha=0.1)\r\n",
        "ridge.fit(train_scaled, train_target)\r\n",
        "\r\n",
        "print(ridge.score(train_scaled, train_target))\r\n",
        "print(ridge.score(test_scaled, test_target))"
      ],
      "execution_count": 22,
      "outputs": [
        {
          "output_type": "stream",
          "text": [
            "0.9903815817570366\n",
            "0.9827976465386927\n"
          ],
          "name": "stdout"
        }
      ]
    },
    {
      "cell_type": "markdown",
      "metadata": {
        "id": "-CckujJYxiW8"
      },
      "source": [
        "## 라쏘"
      ]
    },
    {
      "cell_type": "code",
      "metadata": {
        "colab": {
          "base_uri": "https://localhost:8080/"
        },
        "id": "jb0cnRqcxubv",
        "outputId": "4315843f-3a18-4903-eec5-164b3f513e9a"
      },
      "source": [
        "from sklearn.linear_model import Lasso\r\n",
        "\r\n",
        "lasso = Lasso()\r\n",
        "lasso.fit(train_scaled, train_target)\r\n",
        "print(lasso.score(train_scaled, train_target))"
      ],
      "execution_count": 23,
      "outputs": [
        {
          "output_type": "stream",
          "text": [
            "0.9897898972080961\n"
          ],
          "name": "stdout"
        }
      ]
    },
    {
      "cell_type": "code",
      "metadata": {
        "colab": {
          "base_uri": "https://localhost:8080/"
        },
        "id": "QO7Jac55xvWH",
        "outputId": "08cb132a-cd9c-4d15-da83-5c1674a8e484"
      },
      "source": [
        "print(lasso.score(test_scaled, test_target))"
      ],
      "execution_count": 24,
      "outputs": [
        {
          "output_type": "stream",
          "text": [
            "0.9800593698421883\n"
          ],
          "name": "stdout"
        }
      ]
    },
    {
      "cell_type": "code",
      "metadata": {
        "colab": {
          "base_uri": "https://localhost:8080/",
          "height": 355
        },
        "id": "Lk2exbG5xzE-",
        "outputId": "70d20034-a940-4e43-8380-84418043d040"
      },
      "source": [
        "train_score = []\r\n",
        "test_score = []\r\n",
        "\r\n",
        "alpha_list = [0.001, 0.01, 0.1, 1, 10, 100]\r\n",
        "for alpha in alpha_list:\r\n",
        "    # 라쏘 모델을 만듭니다\r\n",
        "    lasso = Lasso(alpha=alpha, max_iter=10000)\r\n",
        "    # 라쏘 모델을 훈련합니다\r\n",
        "    lasso.fit(train_scaled, train_target)\r\n",
        "    # 훈련 점수와 테스트 점수를 저장합니다\r\n",
        "    train_score.append(lasso.score(train_scaled, train_target))\r\n",
        "    test_score.append(lasso.score(test_scaled, test_target))\r\n",
        "\r\n",
        "plt.plot(np.log10(alpha_list), train_score)\r\n",
        "plt.plot(np.log10(alpha_list), test_score)\r\n",
        "plt.show()"
      ],
      "execution_count": 26,
      "outputs": [
        {
          "output_type": "stream",
          "text": [
            "/usr/local/lib/python3.6/dist-packages/sklearn/linear_model/_coordinate_descent.py:476: ConvergenceWarning: Objective did not converge. You might want to increase the number of iterations. Duality gap: 18778.697957792876, tolerance: 518.2793833333334\n",
            "  positive)\n",
            "/usr/local/lib/python3.6/dist-packages/sklearn/linear_model/_coordinate_descent.py:476: ConvergenceWarning: Objective did not converge. You might want to increase the number of iterations. Duality gap: 12972.821345404844, tolerance: 518.2793833333334\n",
            "  positive)\n"
          ],
          "name": "stderr"
        },
        {
          "output_type": "display_data",
          "data": {
            "image/png": "[encoded data removed]",
            "text/plain": [
              "<Figure size 432x288 with 1 Axes>"
            ]
          },
          "metadata": {
            "tags": [],
            "needs_background": "light"
          }
        }
      ]
    },
    {
      "cell_type": "code",
      "metadata": {
        "colab": {
          "base_uri": "https://localhost:8080/"
        },
        "id": "cTijnqDKx34M",
        "outputId": "ff02979e-f099-4a71-86bf-a2a42e775c13"
      },
      "source": [
        "lasso = Lasso(alpha=10)\r\n",
        "lasso.fit(train_scaled, train_target)\r\n",
        "\r\n",
        "print(lasso.score(train_scaled, train_target))\r\n",
        "print(lasso.score(test_scaled, test_target))"
      ],
      "execution_count": 27,
      "outputs": [
        {
          "output_type": "stream",
          "text": [
            "0.9888067471131867\n",
            "0.9824470598706695\n"
          ],
          "name": "stdout"
        }
      ]
    },
    {
      "cell_type": "code",
      "metadata": {
        "colab": {
          "base_uri": "https://localhost:8080/"
        },
        "id": "t4SR50IcQl4O",
        "outputId": "a4d5df48-a5e4-4e04-c55f-448778f5613b"
      },
      "source": [
        "print(np.sum(lasso.coef_ == 0))"
      ],
      "execution_count": 28,
      "outputs": [
        {
          "output_type": "stream",
          "text": [
            "40\n"
          ],
          "name": "stdout"
        }
      ]
    },
    {
      "cell_type": "code",
      "metadata": {
        "id": "QTcuGSzZQtM9"
      },
      "source": [
        ""
      ],
      "execution_count": null,
      "outputs": []
    }
  ]
}