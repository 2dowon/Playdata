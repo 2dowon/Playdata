{
  "nbformat": 4,
  "nbformat_minor": 0,
  "metadata": {
    "colab": {
      "name": "CH4-1 로지스틱 회귀.ipynb",
      "provenance": []
    },
    "kernelspec": {
      "name": "python3",
      "display_name": "Python 3"
    }
  },
  "cells": [
    {
      "cell_type": "markdown",
      "metadata": {
        "id": "JOFxWG0vRI38"
      },
      "source": [
        "# 로지스틱 회귀"
      ]
    },
    {
      "cell_type": "markdown",
      "metadata": {
        "id": "UvZfCXdcRQsm"
      },
      "source": [
        "## 럭키백의 확률"
      ]
    },
    {
      "cell_type": "markdown",
      "metadata": {
        "id": "tCJwhCQhRS_E"
      },
      "source": [
        "### 데이터 준비하기"
      ]
    },
    {
      "cell_type": "code",
      "metadata": {
        "colab": {
          "base_uri": "https://localhost:8080/",
          "height": 195
        },
        "id": "T646CzdaRWJ4",
        "outputId": "1b05fa3a-7510-472b-e6a8-6604084a53b5"
      },
      "source": [
        "import pandas as pd\r\n",
        "\r\n",
        "fish = pd.read_csv('https://bit.ly/fish_csv')\r\n",
        "fish.head()"
      ],
      "execution_count": 3,
      "outputs": [
        {
          "output_type": "execute_result",
          "data": {
            "text/html": [
              "<div>\n",
              "<style scoped>\n",
              "    .dataframe tbody tr th:only-of-type {\n",
              "        vertical-align: middle;\n",
              "    }\n",
              "\n",
              "    .dataframe tbody tr th {\n",
              "        vertical-align: top;\n",
              "    }\n",
              "\n",
              "    .dataframe thead th {\n",
              "        text-align: right;\n",
              "    }\n",
              "</style>\n",
              "<table border=\"1\" class=\"dataframe\">\n",
              "  <thead>\n",
              "    <tr style=\"text-align: right;\">\n",
              "      <th></th>\n",
              "      <th>Species</th>\n",
              "      <th>Weight</th>\n",
              "      <th>Length</th>\n",
              "      <th>Diagonal</th>\n",
              "      <th>Height</th>\n",
              "      <th>Width</th>\n",
              "    </tr>\n",
              "  </thead>\n",
              "  <tbody>\n",
              "    <tr>\n",
              "      <th>0</th>\n",
              "      <td>Bream</td>\n",
              "      <td>242.0</td>\n",
              "      <td>25.4</td>\n",
              "      <td>30.0</td>\n",
              "      <td>11.5200</td>\n",
              "      <td>4.0200</td>\n",
              "    </tr>\n",
              "    <tr>\n",
              "      <th>1</th>\n",
              "      <td>Bream</td>\n",
              "      <td>290.0</td>\n",
              "      <td>26.3</td>\n",
              "      <td>31.2</td>\n",
              "      <td>12.4800</td>\n",
              "      <td>4.3056</td>\n",
              "    </tr>\n",
              "    <tr>\n",
              "      <th>2</th>\n",
              "      <td>Bream</td>\n",
              "      <td>340.0</td>\n",
              "      <td>26.5</td>\n",
              "      <td>31.1</td>\n",
              "      <td>12.3778</td>\n",
              "      <td>4.6961</td>\n",
              "    </tr>\n",
              "    <tr>\n",
              "      <th>3</th>\n",
              "      <td>Bream</td>\n",
              "      <td>363.0</td>\n",
              "      <td>29.0</td>\n",
              "      <td>33.5</td>\n",
              "      <td>12.7300</td>\n",
              "      <td>4.4555</td>\n",
              "    </tr>\n",
              "    <tr>\n",
              "      <th>4</th>\n",
              "      <td>Bream</td>\n",
              "      <td>430.0</td>\n",
              "      <td>29.0</td>\n",
              "      <td>34.0</td>\n",
              "      <td>12.4440</td>\n",
              "      <td>5.1340</td>\n",
              "    </tr>\n",
              "  </tbody>\n",
              "</table>\n",
              "</div>"
            ],
            "text/plain": [
              "  Species  Weight  Length  Diagonal   Height   Width\n",
              "0   Bream   242.0    25.4      30.0  11.5200  4.0200\n",
              "1   Bream   290.0    26.3      31.2  12.4800  4.3056\n",
              "2   Bream   340.0    26.5      31.1  12.3778  4.6961\n",
              "3   Bream   363.0    29.0      33.5  12.7300  4.4555\n",
              "4   Bream   430.0    29.0      34.0  12.4440  5.1340"
            ]
          },
          "metadata": {
            "tags": []
          },
          "execution_count": 3
        }
      ]
    },
    {
      "cell_type": "code",
      "metadata": {
        "colab": {
          "base_uri": "https://localhost:8080/"
        },
        "id": "RpOtejiXRaV1",
        "outputId": "3dffce98-997e-48ab-88bf-c22e6ade29f3"
      },
      "source": [
        "print(pd.unique(fish['Species']))"
      ],
      "execution_count": 4,
      "outputs": [
        {
          "output_type": "stream",
          "text": [
            "['Bream' 'Roach' 'Whitefish' 'Parkki' 'Perch' 'Pike' 'Smelt']\n"
          ],
          "name": "stdout"
        }
      ]
    },
    {
      "cell_type": "code",
      "metadata": {
        "id": "KHTpa8KSfBaJ"
      },
      "source": [
        "fish_input = fish[['Weight','Length','Diagonal','Height','Width']].to_numpy()"
      ],
      "execution_count": 5,
      "outputs": []
    },
    {
      "cell_type": "code",
      "metadata": {
        "colab": {
          "base_uri": "https://localhost:8080/"
        },
        "id": "y3UDjlbxfRoV",
        "outputId": "14e5d87d-3418-4db3-8e07-b52ccc88a488"
      },
      "source": [
        "print(fish_input[:5])"
      ],
      "execution_count": 6,
      "outputs": [
        {
          "output_type": "stream",
          "text": [
            "[[242.      25.4     30.      11.52     4.02  ]\n",
            " [290.      26.3     31.2     12.48     4.3056]\n",
            " [340.      26.5     31.1     12.3778   4.6961]\n",
            " [363.      29.      33.5     12.73     4.4555]\n",
            " [430.      29.      34.      12.444    5.134 ]]\n"
          ],
          "name": "stdout"
        }
      ]
    },
    {
      "cell_type": "code",
      "metadata": {
        "id": "Ba2ahVjzfUP-"
      },
      "source": [
        "fish_target = fish['Species'].to_numpy()"
      ],
      "execution_count": 7,
      "outputs": []
    },
    {
      "cell_type": "code",
      "metadata": {
        "id": "BggjQKwJfc8-"
      },
      "source": [
        "from sklearn.model_selection import train_test_split\r\n",
        "\r\n",
        "train_input, test_input, train_target, test_target = train_test_split(\r\n",
        "    fish_input, fish_target, random_state=42)"
      ],
      "execution_count": 8,
      "outputs": []
    },
    {
      "cell_type": "code",
      "metadata": {
        "id": "bEbX_0pRfh9O"
      },
      "source": [
        "from sklearn.preprocessing import StandardScaler\r\n",
        "\r\n",
        "ss = StandardScaler()\r\n",
        "ss.fit(train_input)\r\n",
        "train_scaled = ss.transform(train_input)\r\n",
        "test_scaled = ss.transform(test_input)"
      ],
      "execution_count": 9,
      "outputs": []
    },
    {
      "cell_type": "markdown",
      "metadata": {
        "id": "rSaXdUFlfj_2"
      },
      "source": [
        "### k-최근접 이웃 분류기의 확률 예측"
      ]
    },
    {
      "cell_type": "code",
      "metadata": {
        "colab": {
          "base_uri": "https://localhost:8080/"
        },
        "id": "rR6l_iHCfvyz",
        "outputId": "7be0adfb-fd66-4d41-d9a5-b7bcdb890052"
      },
      "source": [
        "from sklearn.neighbors import KNeighborsClassifier\r\n",
        "\r\n",
        "kn = KNeighborsClassifier(n_neighbors=3)\r\n",
        "kn.fit(train_scaled, train_target)\r\n",
        "\r\n",
        "print(kn.score(train_scaled, train_target))\r\n",
        "print(kn.score(test_scaled, test_target))"
      ],
      "execution_count": 10,
      "outputs": [
        {
          "output_type": "stream",
          "text": [
            "0.8907563025210085\n",
            "0.85\n"
          ],
          "name": "stdout"
        }
      ]
    },
    {
      "cell_type": "code",
      "metadata": {
        "colab": {
          "base_uri": "https://localhost:8080/"
        },
        "id": "W2nLMh2yf5A9",
        "outputId": "0ad61acb-e5c2-45df-bcd0-88de8e9ed2ac"
      },
      "source": [
        "print(kn.classes_)"
      ],
      "execution_count": 11,
      "outputs": [
        {
          "output_type": "stream",
          "text": [
            "['Bream' 'Parkki' 'Perch' 'Pike' 'Roach' 'Smelt' 'Whitefish']\n"
          ],
          "name": "stdout"
        }
      ]
    },
    {
      "cell_type": "code",
      "metadata": {
        "colab": {
          "base_uri": "https://localhost:8080/"
        },
        "id": "tjyo2oRIhwfs",
        "outputId": "1a9aca75-c925-4282-e85b-8fd06eef519c"
      },
      "source": [
        "print(kn.predict(test_scaled[:5]))"
      ],
      "execution_count": 12,
      "outputs": [
        {
          "output_type": "stream",
          "text": [
            "['Perch' 'Smelt' 'Pike' 'Perch' 'Perch']\n"
          ],
          "name": "stdout"
        }
      ]
    },
    {
      "cell_type": "code",
      "metadata": {
        "colab": {
          "base_uri": "https://localhost:8080/"
        },
        "id": "Eh-yVS0xh1vu",
        "outputId": "3a606c24-fa5b-46b4-d937-9bee4787bb9e"
      },
      "source": [
        "import numpy as np\r\n",
        "\r\n",
        "proba = kn.predict_proba(test_scaled[:5])\r\n",
        "print(np.round(proba, decimals=4))"
      ],
      "execution_count": 14,
      "outputs": [
        {
          "output_type": "stream",
          "text": [
            "[[0.     0.     1.     0.     0.     0.     0.    ]\n",
            " [0.     0.     0.     0.     0.     1.     0.    ]\n",
            " [0.     0.     0.     1.     0.     0.     0.    ]\n",
            " [0.     0.     0.6667 0.     0.3333 0.     0.    ]\n",
            " [0.     0.     0.6667 0.     0.3333 0.     0.    ]]\n"
          ],
          "name": "stdout"
        }
      ]
    },
    {
      "cell_type": "code",
      "metadata": {
        "colab": {
          "base_uri": "https://localhost:8080/"
        },
        "id": "_K65nFAdi-8L",
        "outputId": "f9e911a7-d759-4647-c429-7af8cea5338a"
      },
      "source": [
        "distances, indexes = kn.kneighbors(test_scaled[3:4])\r\n",
        "print(train_target[indexes])"
      ],
      "execution_count": 15,
      "outputs": [
        {
          "output_type": "stream",
          "text": [
            "[['Roach' 'Perch' 'Perch']]\n"
          ],
          "name": "stdout"
        }
      ]
    },
    {
      "cell_type": "markdown",
      "metadata": {
        "id": "JrMmIRiMkRMb"
      },
      "source": [
        "## 로지스틱 회귀"
      ]
    },
    {
      "cell_type": "code",
      "metadata": {
        "colab": {
          "base_uri": "https://localhost:8080/",
          "height": 265
        },
        "id": "YxMypiUlnnyw",
        "outputId": "71effe17-e7f7-472a-b65a-22408dd568ce"
      },
      "source": [
        "import numpy as np\r\n",
        "import matplotlib.pyplot as plt\r\n",
        "\r\n",
        "z = np.arange(-5, 5, 0.1)\r\n",
        "phi = 1 / (1 + np.exp(-z))\r\n",
        "\r\n",
        "plt.plot(z, phi)\r\n",
        "plt.show()"
      ],
      "execution_count": 16,
      "outputs": [
        {
          "output_type": "display_data",
          "data": {
            "image/png": "[encoded data removed]",
            "text/plain": [
              "<Figure size 432x288 with 1 Axes>"
            ]
          },
          "metadata": {
            "tags": [],
            "needs_background": "light"
          }
        }
      ]
    },
    {
      "cell_type": "markdown",
      "metadata": {
        "id": "TDzlbWUCnouC"
      },
      "source": [
        "### 로지스틱 회귀로 이진 분류 수행하기"
      ]
    },
    {
      "cell_type": "code",
      "metadata": {
        "colab": {
          "base_uri": "https://localhost:8080/"
        },
        "id": "rB02OxQdrhOR",
        "outputId": "7b3f8afa-ebab-45f4-d10d-75c1c799f642"
      },
      "source": [
        "char_arr = np.array(['A', 'B', 'C', 'D', 'E'])\r\n",
        "print(char_arr[[True, False, True, False, False]])"
      ],
      "execution_count": 17,
      "outputs": [
        {
          "output_type": "stream",
          "text": [
            "['A' 'C']\n"
          ],
          "name": "stdout"
        }
      ]
    },
    {
      "cell_type": "code",
      "metadata": {
        "id": "5XbfBDUcriCY"
      },
      "source": [
        "bream_smelt_indexes = (train_target == 'Bream') | (train_target == 'Smelt')\r\n",
        "train_bream_smelt = train_scaled[bream_smelt_indexes]\r\n",
        "target_bream_smelt = train_target[bream_smelt_indexes]"
      ],
      "execution_count": 18,
      "outputs": []
    },
    {
      "cell_type": "code",
      "metadata": {
        "colab": {
          "base_uri": "https://localhost:8080/"
        },
        "id": "MGetItvFrnF4",
        "outputId": "e242ac7a-2fa8-4408-dd34-ae18f04ff700"
      },
      "source": [
        "from sklearn.linear_model import LogisticRegression\r\n",
        "\r\n",
        "lr = LogisticRegression()\r\n",
        "lr.fit(train_bream_smelt, target_bream_smelt)"
      ],
      "execution_count": 19,
      "outputs": [
        {
          "output_type": "execute_result",
          "data": {
            "text/plain": [
              "LogisticRegression(C=1.0, class_weight=None, dual=False, fit_intercept=True,\n",
              "                   intercept_scaling=1, l1_ratio=None, max_iter=100,\n",
              "                   multi_class='auto', n_jobs=None, penalty='l2',\n",
              "                   random_state=None, solver='lbfgs', tol=0.0001, verbose=0,\n",
              "                   warm_start=False)"
            ]
          },
          "metadata": {
            "tags": []
          },
          "execution_count": 19
        }
      ]
    },
    {
      "cell_type": "code",
      "metadata": {
        "colab": {
          "base_uri": "https://localhost:8080/"
        },
        "id": "Fm6_RUr0r2EQ",
        "outputId": "2a76a2bd-28b2-45aa-9792-9ed7edafbb2b"
      },
      "source": [
        "print(lr.predict(train_bream_smelt[:5]))"
      ],
      "execution_count": 20,
      "outputs": [
        {
          "output_type": "stream",
          "text": [
            "['Bream' 'Smelt' 'Bream' 'Bream' 'Bream']\n"
          ],
          "name": "stdout"
        }
      ]
    },
    {
      "cell_type": "code",
      "metadata": {
        "colab": {
          "base_uri": "https://localhost:8080/"
        },
        "id": "4c1jVE36suNJ",
        "outputId": "d0c50fcf-5aa3-4bb6-d363-665edb2a6cec"
      },
      "source": [
        "print(lr.predict_proba(train_bream_smelt[:5]))"
      ],
      "execution_count": 24,
      "outputs": [
        {
          "output_type": "stream",
          "text": [
            "[[0.99759855 0.00240145]\n",
            " [0.02735183 0.97264817]\n",
            " [0.99486072 0.00513928]\n",
            " [0.98584202 0.01415798]\n",
            " [0.99767269 0.00232731]]\n"
          ],
          "name": "stdout"
        }
      ]
    },
    {
      "cell_type": "code",
      "metadata": {
        "colab": {
          "base_uri": "https://localhost:8080/"
        },
        "id": "a_zq6eVJ2oZ1",
        "outputId": "20b7d3bc-2b03-4283-cb8f-c8681c327f16"
      },
      "source": [
        "print(lr.classes_)"
      ],
      "execution_count": 25,
      "outputs": [
        {
          "output_type": "stream",
          "text": [
            "['Bream' 'Smelt']\n"
          ],
          "name": "stdout"
        }
      ]
    },
    {
      "cell_type": "code",
      "metadata": {
        "colab": {
          "base_uri": "https://localhost:8080/"
        },
        "id": "VI2F82jN68GK",
        "outputId": "ab929a8c-c8bd-4cd8-ce85-6936aaff87cf"
      },
      "source": [
        "print(lr.coef_, lr.intercept_)"
      ],
      "execution_count": 26,
      "outputs": [
        {
          "output_type": "stream",
          "text": [
            "[[-0.4037798  -0.57620209 -0.66280298 -1.01290277 -0.73168947]] [-2.16155132]\n"
          ],
          "name": "stdout"
        }
      ]
    },
    {
      "cell_type": "code",
      "metadata": {
        "colab": {
          "base_uri": "https://localhost:8080/"
        },
        "id": "0Ul6XC2169Yh",
        "outputId": "3c76c470-475d-4f0c-a016-dcf107ea09d3"
      },
      "source": [
        "decisions = lr.decision_function(train_bream_smelt[:5])\r\n",
        "print(decisions)"
      ],
      "execution_count": 27,
      "outputs": [
        {
          "output_type": "stream",
          "text": [
            "[-6.02927744  3.57123907 -5.26568906 -4.24321775 -6.0607117 ]\n"
          ],
          "name": "stdout"
        }
      ]
    },
    {
      "cell_type": "code",
      "metadata": {
        "colab": {
          "base_uri": "https://localhost:8080/"
        },
        "id": "FkF8MEvv6-eY",
        "outputId": "aad8e68c-33d1-4ef5-9d30-c6000d5716e2"
      },
      "source": [
        "from scipy.special import expit\r\n",
        "\r\n",
        "print(expit(decisions))"
      ],
      "execution_count": 28,
      "outputs": [
        {
          "output_type": "stream",
          "text": [
            "[0.00240145 0.97264817 0.00513928 0.01415798 0.00232731]\n"
          ],
          "name": "stdout"
        }
      ]
    },
    {
      "cell_type": "markdown",
      "metadata": {
        "id": "-JDYrsUs6_qS"
      },
      "source": [
        "### 로지스틱 회귀로 다중 분류 수행하기"
      ]
    },
    {
      "cell_type": "code",
      "metadata": {
        "colab": {
          "base_uri": "https://localhost:8080/"
        },
        "id": "nGphVUcg7DbQ",
        "outputId": "b543e73c-a8d5-435e-a537-4dd95591141f"
      },
      "source": [
        "lr = LogisticRegression(C=20, max_iter=1000)\r\n",
        "lr.fit(train_scaled, train_target)\r\n",
        "\r\n",
        "print(lr.score(train_scaled, train_target))\r\n",
        "print(lr.score(test_scaled, test_target))"
      ],
      "execution_count": 30,
      "outputs": [
        {
          "output_type": "stream",
          "text": [
            "0.9327731092436975\n",
            "0.925\n"
          ],
          "name": "stdout"
        }
      ]
    },
    {
      "cell_type": "code",
      "metadata": {
        "colab": {
          "base_uri": "https://localhost:8080/"
        },
        "id": "qEFmJnS17EU_",
        "outputId": "0bbf3800-a371-4848-ea6c-8904e09a391f"
      },
      "source": [
        "print(lr.predict(test_scaled[:5]))"
      ],
      "execution_count": 31,
      "outputs": [
        {
          "output_type": "stream",
          "text": [
            "['Perch' 'Smelt' 'Pike' 'Roach' 'Perch']\n"
          ],
          "name": "stdout"
        }
      ]
    },
    {
      "cell_type": "code",
      "metadata": {
        "colab": {
          "base_uri": "https://localhost:8080/"
        },
        "id": "Ovk3isxF7GJo",
        "outputId": "dc931cdc-1e84-4ba1-f836-87e5282173b6"
      },
      "source": [
        "proba = lr.predict_proba(test_scaled[:5])\r\n",
        "print(np.round(proba, decimals=3))"
      ],
      "execution_count": 32,
      "outputs": [
        {
          "output_type": "stream",
          "text": [
            "[[0.    0.014 0.841 0.    0.136 0.007 0.003]\n",
            " [0.    0.003 0.044 0.    0.007 0.946 0.   ]\n",
            " [0.    0.    0.034 0.935 0.015 0.016 0.   ]\n",
            " [0.011 0.034 0.306 0.007 0.567 0.    0.076]\n",
            " [0.    0.    0.904 0.002 0.089 0.002 0.001]]\n"
          ],
          "name": "stdout"
        }
      ]
    },
    {
      "cell_type": "code",
      "metadata": {
        "colab": {
          "base_uri": "https://localhost:8080/"
        },
        "id": "ORH9eO697HEo",
        "outputId": "ad894d51-1787-4c74-e1d1-85f535912fc2"
      },
      "source": [
        "print(lr.classes_)"
      ],
      "execution_count": 33,
      "outputs": [
        {
          "output_type": "stream",
          "text": [
            "['Bream' 'Parkki' 'Perch' 'Pike' 'Roach' 'Smelt' 'Whitefish']\n"
          ],
          "name": "stdout"
        }
      ]
    },
    {
      "cell_type": "code",
      "metadata": {
        "colab": {
          "base_uri": "https://localhost:8080/"
        },
        "id": "mD9nAzjp7IWw",
        "outputId": "97c5712f-71f9-4860-8813-1feb8e5f62fa"
      },
      "source": [
        "print(lr.coef_.shape, lr.intercept_.shape)"
      ],
      "execution_count": 34,
      "outputs": [
        {
          "output_type": "stream",
          "text": [
            "(7, 5) (7,)\n"
          ],
          "name": "stdout"
        }
      ]
    },
    {
      "cell_type": "code",
      "metadata": {
        "colab": {
          "base_uri": "https://localhost:8080/"
        },
        "id": "4VINX4pe7JTI",
        "outputId": "490e788f-963a-422d-ca4a-cab08ccd55ba"
      },
      "source": [
        "decision = lr.decision_function(test_scaled[:5])\r\n",
        "print(np.round(decision, decimals=2))"
      ],
      "execution_count": 35,
      "outputs": [
        {
          "output_type": "stream",
          "text": [
            "[[ -6.5    1.03   5.16  -2.73   3.34   0.33  -0.63]\n",
            " [-10.86   1.93   4.77  -2.4    2.98   7.84  -4.26]\n",
            " [ -4.34  -6.23   3.17   6.49   2.36   2.42  -3.87]\n",
            " [ -0.68   0.45   2.65  -1.19   3.26  -5.75   1.26]\n",
            " [ -6.4   -1.99   5.82  -0.11   3.5   -0.11  -0.71]]\n"
          ],
          "name": "stdout"
        }
      ]
    },
    {
      "cell_type": "code",
      "metadata": {
        "colab": {
          "base_uri": "https://localhost:8080/"
        },
        "id": "uMviHdpR7KLQ",
        "outputId": "50e4871b-613d-455b-cafe-361797a3d1ae"
      },
      "source": [
        "from scipy.special import softmax\r\n",
        "\r\n",
        "proba = softmax(decision, axis=1)\r\n",
        "print(np.round(proba, decimals=3))"
      ],
      "execution_count": 36,
      "outputs": [
        {
          "output_type": "stream",
          "text": [
            "[[0.    0.014 0.841 0.    0.136 0.007 0.003]\n",
            " [0.    0.003 0.044 0.    0.007 0.946 0.   ]\n",
            " [0.    0.    0.034 0.935 0.015 0.016 0.   ]\n",
            " [0.011 0.034 0.306 0.007 0.567 0.    0.076]\n",
            " [0.    0.    0.904 0.002 0.089 0.002 0.001]]\n"
          ],
          "name": "stdout"
        }
      ]
    },
    {
      "cell_type": "code",
      "metadata": {
        "id": "RICeB5Ne7LuP"
      },
      "source": [
        ""
      ],
      "execution_count": null,
      "outputs": []
    }
  ]
}