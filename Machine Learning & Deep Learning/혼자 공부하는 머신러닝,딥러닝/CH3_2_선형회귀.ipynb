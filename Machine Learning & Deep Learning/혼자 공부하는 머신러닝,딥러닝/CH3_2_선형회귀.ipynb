{
  "nbformat": 4,
  "nbformat_minor": 0,
  "metadata": {
    "colab": {
      "name": "CH3-2 선형회귀.ipynb",
      "provenance": []
    },
    "kernelspec": {
      "name": "python3",
      "display_name": "Python 3"
    }
  },
  "cells": [
    {
      "cell_type": "markdown",
      "metadata": {
        "id": "a54gb_kjiMo9"
      },
      "source": [
        "# 선형 회귀"
      ]
    },
    {
      "cell_type": "markdown",
      "metadata": {
        "id": "vY0KTpp3iRQS"
      },
      "source": [
        "## k-최근접 이웃의 한계"
      ]
    },
    {
      "cell_type": "code",
      "metadata": {
        "id": "zXdK9DQ6iSnp"
      },
      "source": [
        "import numpy as np\r\n",
        "\r\n",
        "perch_length = np.array(\r\n",
        "    [8.4, 13.7, 15.0, 16.2, 17.4, 18.0, 18.7, 19.0, 19.6, 20.0, \r\n",
        "     21.0, 21.0, 21.0, 21.3, 22.0, 22.0, 22.0, 22.0, 22.0, 22.5, \r\n",
        "     22.5, 22.7, 23.0, 23.5, 24.0, 24.0, 24.6, 25.0, 25.6, 26.5, \r\n",
        "     27.3, 27.5, 27.5, 27.5, 28.0, 28.7, 30.0, 32.8, 34.5, 35.0, \r\n",
        "     36.5, 36.0, 37.0, 37.0, 39.0, 39.0, 39.0, 40.0, 40.0, 40.0, \r\n",
        "     40.0, 42.0, 43.0, 43.0, 43.5, 44.0]\r\n",
        "     )\r\n",
        "perch_weight = np.array(\r\n",
        "    [5.9, 32.0, 40.0, 51.5, 70.0, 100.0, 78.0, 80.0, 85.0, 85.0, \r\n",
        "     110.0, 115.0, 125.0, 130.0, 120.0, 120.0, 130.0, 135.0, 110.0, \r\n",
        "     130.0, 150.0, 145.0, 150.0, 170.0, 225.0, 145.0, 188.0, 180.0, \r\n",
        "     197.0, 218.0, 300.0, 260.0, 265.0, 250.0, 250.0, 300.0, 320.0, \r\n",
        "     514.0, 556.0, 840.0, 685.0, 700.0, 700.0, 690.0, 900.0, 650.0, \r\n",
        "     820.0, 850.0, 900.0, 1015.0, 820.0, 1100.0, 1000.0, 1100.0, \r\n",
        "     1000.0, 1000.0]\r\n",
        "     )"
      ],
      "execution_count": 1,
      "outputs": []
    },
    {
      "cell_type": "code",
      "metadata": {
        "id": "B-Qw4GmwiZrP"
      },
      "source": [
        "from sklearn.model_selection import train_test_split\r\n",
        "\r\n",
        "# 훈련 세트와 테스트 세트로 나눕니다\r\n",
        "train_input, test_input, train_target, test_target = train_test_split(\r\n",
        "    perch_length, perch_weight, random_state=42)\r\n",
        "# 훈련 세트와 테스트 세트를 2차원 배열로 바꿉니다\r\n",
        "train_input = train_input.reshape(-1, 1)\r\n",
        "test_input = test_input.reshape(-1, 1)"
      ],
      "execution_count": 2,
      "outputs": []
    },
    {
      "cell_type": "code",
      "metadata": {
        "colab": {
          "base_uri": "https://localhost:8080/"
        },
        "id": "Xlmu8vZmiaKr",
        "outputId": "fc7c8f2f-3a90-49b3-ab27-76843738ee47"
      },
      "source": [
        "from sklearn.neighbors import KNeighborsRegressor\r\n",
        "\r\n",
        "knr = KNeighborsRegressor(n_neighbors=3)\r\n",
        "# k-최근접 이웃 회귀 모델을 훈련합니다\r\n",
        "knr.fit(train_input, train_target)"
      ],
      "execution_count": 3,
      "outputs": [
        {
          "output_type": "execute_result",
          "data": {
            "text/plain": [
              "KNeighborsRegressor(algorithm='auto', leaf_size=30, metric='minkowski',\n",
              "                    metric_params=None, n_jobs=None, n_neighbors=3, p=2,\n",
              "                    weights='uniform')"
            ]
          },
          "metadata": {
            "tags": []
          },
          "execution_count": 3
        }
      ]
    },
    {
      "cell_type": "code",
      "metadata": {
        "colab": {
          "base_uri": "https://localhost:8080/"
        },
        "id": "Sgz640jHinr2",
        "outputId": "46613177-0cb5-4d70-fe25-aaac1f960ec5"
      },
      "source": [
        "print(knr.predict([[50]]))"
      ],
      "execution_count": 4,
      "outputs": [
        {
          "output_type": "stream",
          "text": [
            "[1033.33333333]\n"
          ],
          "name": "stdout"
        }
      ]
    },
    {
      "cell_type": "code",
      "metadata": {
        "colab": {
          "base_uri": "https://localhost:8080/",
          "height": 265
        },
        "id": "3BugMgfaiqBn",
        "outputId": "03ef9e2a-a8c8-4864-929e-ac6c46a59631"
      },
      "source": [
        "import matplotlib.pyplot as plt\r\n",
        "\r\n",
        "# 50cm 농어의 이웃을 구합니다\r\n",
        "distances, indexes = knr.kneighbors([[50]])\r\n",
        "\r\n",
        "# 훈련 세트의 산점도를 그립니다\r\n",
        "plt.scatter(train_input, train_target)\r\n",
        "# 훈련 세트 중에서 이웃 샘플만 다시 그립니다\r\n",
        "plt.scatter(train_input[indexes], train_target[indexes], marker='D')\r\n",
        "# 50cm 농어 데이터\r\n",
        "plt.scatter(50, 1033, marker='^')\r\n",
        "plt.show()"
      ],
      "execution_count": 5,
      "outputs": [
        {
          "output_type": "display_data",
          "data": {
            "image/png": "[encoded data removed]",
            "text/plain": [
              "<Figure size 432x288 with 1 Axes>"
            ]
          },
          "metadata": {
            "tags": [],
            "needs_background": "light"
          }
        }
      ]
    },
    {
      "cell_type": "code",
      "metadata": {
        "colab": {
          "base_uri": "https://localhost:8080/",
          "height": 265
        },
        "id": "3peIkiv3iz_O",
        "outputId": "ed543147-d69b-41f1-a759-f65c70f3fdd1"
      },
      "source": [
        "# 100cm 농어의 이웃을 구합니다\r\n",
        "distances, indexes = knr.kneighbors([[100]])\r\n",
        "\r\n",
        "# 훈련 세트의 산점도를 그립니다\u001f\r\n",
        "plt.scatter(train_input, train_target)\r\n",
        "# 훈련 세트 중에서 이웃 샘플만 다시 그립니다\u001f\r\n",
        "plt.scatter(train_input[indexes], train_target[indexes], marker='D')\r\n",
        "# 100cm 농어 데이터\r\n",
        "plt.scatter(100, 1033, marker='^')\r\n",
        "plt.show()"
      ],
      "execution_count": 6,
      "outputs": [
        {
          "output_type": "display_data",
          "data": {
            "image/png": "[encoded data removed]",
            "text/plain": [
              "<Figure size 432x288 with 1 Axes>"
            ]
          },
          "metadata": {
            "tags": [],
            "needs_background": "light"
          }
        }
      ]
    },
    {
      "cell_type": "markdown",
      "metadata": {
        "id": "cFodG7yGjVpQ"
      },
      "source": [
        "## 선형 회귀"
      ]
    },
    {
      "cell_type": "code",
      "metadata": {
        "id": "t4QYhPMprbPJ"
      },
      "source": [
        "from sklearn.linear_model import LinearRegression"
      ],
      "execution_count": 7,
      "outputs": []
    },
    {
      "cell_type": "code",
      "metadata": {
        "colab": {
          "base_uri": "https://localhost:8080/"
        },
        "id": "44pSQXoQrcdc",
        "outputId": "6668cef0-46ec-46b8-c546-0696af0c0a28"
      },
      "source": [
        "lr = LinearRegression()\r\n",
        "# 선형 회귀 모델 훈련\r\n",
        "lr.fit(train_input, train_target)"
      ],
      "execution_count": 8,
      "outputs": [
        {
          "output_type": "execute_result",
          "data": {
            "text/plain": [
              "LinearRegression(copy_X=True, fit_intercept=True, n_jobs=None, normalize=False)"
            ]
          },
          "metadata": {
            "tags": []
          },
          "execution_count": 8
        }
      ]
    },
    {
      "cell_type": "code",
      "metadata": {
        "colab": {
          "base_uri": "https://localhost:8080/"
        },
        "id": "_IlByR_nreCy",
        "outputId": "17734eb3-8539-4774-f9bb-44a76b5f1c2d"
      },
      "source": [
        "# 50cm 농어에 대한 예측\r\n",
        "print(lr.predict([[50]]))"
      ],
      "execution_count": 9,
      "outputs": [
        {
          "output_type": "stream",
          "text": [
            "[1241.83860323]\n"
          ],
          "name": "stdout"
        }
      ]
    },
    {
      "cell_type": "code",
      "metadata": {
        "colab": {
          "base_uri": "https://localhost:8080/"
        },
        "id": "x7OwIW1Vrgbr",
        "outputId": "f3cc51e4-b70d-4476-d53f-a0aab090288a"
      },
      "source": [
        "print(lr.coef_, lr.intercept_)"
      ],
      "execution_count": 10,
      "outputs": [
        {
          "output_type": "stream",
          "text": [
            "[39.01714496] -709.0186449535477\n"
          ],
          "name": "stdout"
        }
      ]
    },
    {
      "cell_type": "code",
      "metadata": {
        "colab": {
          "base_uri": "https://localhost:8080/",
          "height": 265
        },
        "id": "ncXMQNHbrsMi",
        "outputId": "88183ec4-4a23-4354-c629-6ff27f2909da"
      },
      "source": [
        "# 훈련 세트의 산점도를 그립니다\u001f\r\n",
        "plt.scatter(train_input, train_target)\r\n",
        "# 15에서 50까지 1차 방정식 그래프를 그립니다\r\n",
        "plt.plot([15, 50], [15*lr.coef_+lr.intercept_, 50*lr.coef_+lr.intercept_])\r\n",
        "# 50cm 농어 데이터\r\n",
        "plt.scatter(50, 1241.8, marker='^')\r\n",
        "plt.show()"
      ],
      "execution_count": 11,
      "outputs": [
        {
          "output_type": "display_data",
          "data": {
            "image/png": "[encoded data removed]",
            "text/plain": [
              "<Figure size 432x288 with 1 Axes>"
            ]
          },
          "metadata": {
            "tags": [],
            "needs_background": "light"
          }
        }
      ]
    },
    {
      "cell_type": "code",
      "metadata": {
        "colab": {
          "base_uri": "https://localhost:8080/"
        },
        "id": "jPjQQYrSsJRF",
        "outputId": "aa306428-edc7-4d51-aaaa-d890dfb3fd41"
      },
      "source": [
        "print(lr.score(train_input, train_target))\r\n",
        "print(lr.score(test_input, test_target))"
      ],
      "execution_count": 12,
      "outputs": [
        {
          "output_type": "stream",
          "text": [
            "0.9398463339976039\n",
            "0.8247503123313558\n"
          ],
          "name": "stdout"
        }
      ]
    },
    {
      "cell_type": "code",
      "metadata": {
        "id": "YEH81UJMsWdL"
      },
      "source": [
        ""
      ],
      "execution_count": null,
      "outputs": []
    }
  ]
}