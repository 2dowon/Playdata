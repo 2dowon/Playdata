{
 "cells": [
  {
   "cell_type": "code",
   "execution_count": 1,
   "metadata": {},
   "outputs": [
    {
     "name": "stdout",
     "output_type": "stream",
     "text": [
      "{'영국': '런던', '프랑스': '파리', '스위스': '베른', '호주': '멜버른', '대한민국': '서울'}\n"
     ]
    }
   ],
   "source": [
    "country_capital = {\"영국\":\"런던\", \"프랑스\":\"파리\", \"스위스\":\"베른\", \"호주\":\"멜버른\", \"대한민국\":\"서울\"}\n",
    "print(country_capital)"
   ]
  },
  {
   "cell_type": "code",
   "execution_count": 4,
   "metadata": {},
   "outputs": [
    {
     "data": {
      "text/plain": [
       "'런던'"
      ]
     },
     "execution_count": 4,
     "metadata": {},
     "output_type": "execute_result"
    }
   ],
   "source": [
    "country_capital[\"영국\"]"
   ]
  },
  {
   "cell_type": "code",
   "execution_count": 5,
   "metadata": {},
   "outputs": [
    {
     "name": "stdout",
     "output_type": "stream",
     "text": [
      "{1: '버스', 3: '비행기', 4: '택시', 5: '자전거'}\n"
     ]
    }
   ],
   "source": [
    "dict_data1 = {1:\"버스\", 3:\"비행기\", 4:\"택시\", 5:\"자전거\"}\n",
    "print(dict_data1)"
   ]
  },
  {
   "cell_type": "code",
   "execution_count": 6,
   "metadata": {},
   "outputs": [
    {
     "data": {
      "text/plain": [
       "'비행기'"
      ]
     },
     "execution_count": 6,
     "metadata": {},
     "output_type": "execute_result"
    }
   ],
   "source": [
    "dict_data1[3]"
   ]
  },
  {
   "cell_type": "code",
   "execution_count": 8,
   "metadata": {},
   "outputs": [
    {
     "name": "stdout",
     "output_type": "stream",
     "text": [
      "{'신동욱': '동작구', '이도원': '강동구', '오창환': '구리시', '편효범': '하남시', '신준호': '노원구'}\n"
     ]
    }
   ],
   "source": [
    "play_data1 = {\"신동욱\":\"동작구\", \"이도원\":\"강동구\", \"오창환\":\"구리시\", \"편효범\":\"하남시\", \"신준호\":\"노원구\"}\n",
    "print(play_data1)"
   ]
  },
  {
   "cell_type": "code",
   "execution_count": 11,
   "metadata": {},
   "outputs": [
    {
     "data": {
      "text/plain": [
       "'강동구'"
      ]
     },
     "execution_count": 11,
     "metadata": {},
     "output_type": "execute_result"
    }
   ],
   "source": [
    "play_data1[\"이도원\"]"
   ]
  },
  {
   "cell_type": "code",
   "execution_count": 14,
   "metadata": {},
   "outputs": [
    {
     "name": "stdout",
     "output_type": "stream",
     "text": [
      "{1: 10, 2: 20, 3: 30, 4: 40, 5: 50}\n",
      "40\n"
     ]
    }
   ],
   "source": [
    "dict_data2 = {1:10, 2:20, 3:30, 4:40, 5:50}\n",
    "print(dict_data2)\n",
    "print(dict_data2[4])"
   ]
  },
  {
   "cell_type": "code",
   "execution_count": 15,
   "metadata": {},
   "outputs": [
    {
     "name": "stdout",
     "output_type": "stream",
     "text": [
      "{'list_data1': [11, 12, 13], 'list_data2': [21, 22, 23]}\n",
      "[21, 22, 23]\n"
     ]
    }
   ],
   "source": [
    "dict_data3 = {\"list_data1\":[11, 12, 13], \"list_data2\":[21,22,23]}\n",
    "print(dict_data3)\n",
    "print(dict_data3[\"list_data2\"])"
   ]
  },
  {
   "cell_type": "code",
   "execution_count": 17,
   "metadata": {},
   "outputs": [
    {
     "name": "stdout",
     "output_type": "stream",
     "text": [
      "{1: 10, 'dict_num': {1: 10, 2: 20}, 'dict_list_tuple': {'A': [11, 12, 13], 'B': [21, 22, 23]}, 'dict_string': '이것은 책입니다'}\n"
     ]
    }
   ],
   "source": [
    "mixed_dict = {1:10, \"dict_num\":{1:10, 2:20}, \"dict_list_tuple\":{\"A\":[11,12,13], \"B\":[21,22,23]}, \"dict_string\":\"이것은 책입니다\"}\n",
    "print(mixed_dict)"
   ]
  },
  {
   "cell_type": "markdown",
   "metadata": {},
   "source": [
    "### 딕셔너리 다루기"
   ]
  },
  {
   "cell_type": "markdown",
   "metadata": {},
   "source": [
    "#### 딕셔너리에 데이터 추가하고 변경하기"
   ]
  },
  {
   "cell_type": "code",
   "execution_count": 18,
   "metadata": {},
   "outputs": [
    {
     "name": "stdout",
     "output_type": "stream",
     "text": [
      "{'영국': '런던', '프랑스': '파리', '스위스': '베른', '호주': '멜버른', '대한민국': '서울'}\n"
     ]
    }
   ],
   "source": [
    "country_capital = {\"영국\":\"런던\", \"프랑스\":\"파리\", \"스위스\":\"베른\", \"호주\":\"멜버른\", \"대한민국\":\"서울\"}\n",
    "print(country_capital)"
   ]
  },
  {
   "cell_type": "code",
   "execution_count": 19,
   "metadata": {},
   "outputs": [
    {
     "name": "stdout",
     "output_type": "stream",
     "text": [
      "{'영국': '런던', '프랑스': '파리', '스위스': '베른', '호주': '멜버른', '대한민국': '서울', '독일': '베를린'}\n"
     ]
    }
   ],
   "source": [
    "country_capital[\"독일\"] = \"베를린\"\n",
    "print(country_capital)"
   ]
  },
  {
   "cell_type": "code",
   "execution_count": 20,
   "metadata": {},
   "outputs": [
    {
     "name": "stdout",
     "output_type": "stream",
     "text": [
      "{'영국': '런던', '프랑스': '파리', '스위스': '베른', '호주': '캔버라', '대한민국': '서울', '독일': '베를린'}\n"
     ]
    }
   ],
   "source": [
    "country_capital[\"호주\"] = \"캔버라\"\n",
    "print(country_capital)"
   ]
  },
  {
   "cell_type": "markdown",
   "metadata": {},
   "source": [
    "#### 딕셔너리에서 데이터 삭제하기"
   ]
  },
  {
   "cell_type": "code",
   "execution_count": 22,
   "metadata": {},
   "outputs": [
    {
     "name": "stdout",
     "output_type": "stream",
     "text": [
      "{'영국': '런던', '스위스': '베른', '호주': '캔버라', '대한민국': '서울', '독일': '베를린'}\n"
     ]
    }
   ],
   "source": [
    "del country_capital[\"프랑스\"]\n",
    "print(country_capital)"
   ]
  },
  {
   "cell_type": "markdown",
   "metadata": {},
   "source": [
    "#### 딕셔너리 메서드 활용하기"
   ]
  },
  {
   "cell_type": "code",
   "execution_count": 24,
   "metadata": {},
   "outputs": [
    {
     "name": "stdout",
     "output_type": "stream",
     "text": [
      "{'사과': 101, '배': 102, '딸기': 103, '바나나': 105}\n"
     ]
    }
   ],
   "source": [
    "fruit_code = {\"사과\":101, \"배\":102, \"딸기\":103, \"바나나\":105}\n",
    "print(fruit_code)"
   ]
  },
  {
   "cell_type": "code",
   "execution_count": 27,
   "metadata": {},
   "outputs": [
    {
     "name": "stdout",
     "output_type": "stream",
     "text": [
      "dict_keys(['사과', '배', '딸기', '바나나'])\n"
     ]
    }
   ],
   "source": [
    "print(fruit_code.keys())"
   ]
  },
  {
   "cell_type": "code",
   "execution_count": 28,
   "metadata": {},
   "outputs": [
    {
     "name": "stdout",
     "output_type": "stream",
     "text": [
      "dict_values([101, 102, 103, 105])\n"
     ]
    }
   ],
   "source": [
    "print(fruit_code.values())"
   ]
  },
  {
   "cell_type": "code",
   "execution_count": 29,
   "metadata": {},
   "outputs": [
    {
     "name": "stdout",
     "output_type": "stream",
     "text": [
      "dict_items([('사과', 101), ('배', 102), ('딸기', 103), ('바나나', 105)])\n"
     ]
    }
   ],
   "source": [
    "print(fruit_code.items())"
   ]
  },
  {
   "cell_type": "code",
   "execution_count": 30,
   "metadata": {},
   "outputs": [
    {
     "data": {
      "text/plain": [
       "list"
      ]
     },
     "execution_count": 30,
     "metadata": {},
     "output_type": "execute_result"
    }
   ],
   "source": [
    "list_keys = list(fruit_code.keys())\n",
    "type(list_keys)"
   ]
  },
  {
   "cell_type": "code",
   "execution_count": 31,
   "metadata": {},
   "outputs": [
    {
     "data": {
      "text/plain": [
       "list"
      ]
     },
     "execution_count": 31,
     "metadata": {},
     "output_type": "execute_result"
    }
   ],
   "source": [
    "list_items = list(fruit_code.items())\n",
    "type(list_items)"
   ]
  },
  {
   "cell_type": "code",
   "execution_count": 32,
   "metadata": {},
   "outputs": [
    {
     "data": {
      "text/plain": [
       "list"
      ]
     },
     "execution_count": 32,
     "metadata": {},
     "output_type": "execute_result"
    }
   ],
   "source": [
    "list_values = list(fruit_code.values())\n",
    "type(list_values)"
   ]
  },
  {
   "cell_type": "code",
   "execution_count": 33,
   "metadata": {},
   "outputs": [
    {
     "name": "stdout",
     "output_type": "stream",
     "text": [
      "{'오렌지': 106, '수박': 107}\n"
     ]
    }
   ],
   "source": [
    "fruit_code2 = {\"오렌지\":106, \"수박\":107}\n",
    "print(fruit_code2)"
   ]
  },
  {
   "cell_type": "code",
   "execution_count": 34,
   "metadata": {},
   "outputs": [
    {
     "name": "stdout",
     "output_type": "stream",
     "text": [
      "{'사과': 101, '배': 102, '딸기': 103, '바나나': 105, '오렌지': 106, '수박': 107}\n"
     ]
    }
   ],
   "source": [
    "fruit_code.update(fruit_code2)\n",
    "print(fruit_code)"
   ]
  },
  {
   "cell_type": "code",
   "execution_count": 35,
   "metadata": {},
   "outputs": [
    {
     "name": "stdout",
     "output_type": "stream",
     "text": [
      "{'수박': 108}\n"
     ]
    }
   ],
   "source": [
    "fruit_code3 = {\"수박\":108}\n",
    "print(fruit_code3)"
   ]
  },
  {
   "cell_type": "code",
   "execution_count": 36,
   "metadata": {},
   "outputs": [
    {
     "name": "stdout",
     "output_type": "stream",
     "text": [
      "{'사과': 101, '배': 102, '딸기': 103, '바나나': 105, '오렌지': 106, '수박': 108}\n"
     ]
    }
   ],
   "source": [
    "fruit_code.update(fruit_code3)\n",
    "print(fruit_code)\n",
    "\n",
    "# 수박이 107에서 108로 업데이트(덮어쓰기) 되었다"
   ]
  },
  {
   "cell_type": "code",
   "execution_count": 38,
   "metadata": {},
   "outputs": [
    {
     "name": "stdout",
     "output_type": "stream",
     "text": [
      "{}\n"
     ]
    },
    {
     "data": {
      "text/plain": [
       "dict"
      ]
     },
     "execution_count": 38,
     "metadata": {},
     "output_type": "execute_result"
    }
   ],
   "source": [
    "fruit_code2.clear()\n",
    "print(fruit_code2)\n",
    "type(fruit_code2)"
   ]
  },
  {
   "cell_type": "code",
   "execution_count": null,
   "metadata": {},
   "outputs": [],
   "source": []
  }
 ],
 "metadata": {
  "kernelspec": {
   "display_name": "Python 3",
   "language": "python",
   "name": "python3"
  },
  "language_info": {
   "codemirror_mode": {
    "name": "ipython",
    "version": 3
   },
   "file_extension": ".py",
   "mimetype": "text/x-python",
   "name": "python",
   "nbconvert_exporter": "python",
   "pygments_lexer": "ipython3",
   "version": "3.8.3"
  }
 },
 "nbformat": 4,
 "nbformat_minor": 4
}
